{
 "cells": [
  {
   "cell_type": "markdown",
   "metadata": {
    "cell_style": "center",
    "slideshow": {
     "slide_type": "slide"
    }
   },
   "source": [
    "# Reconstruction and analysis of B-cell lineage trees from single cell data using Immcantation\n",
    "\n",
    "\n",
    "![](assets/dowser-tutorial-cover.png)\n",
    "\n"
   ]
  },
  {
   "cell_type": "markdown",
   "metadata": {
    "slideshow": {
     "slide_type": "subslide"
    }
   },
   "source": [
    "Human B cells play a fundamental role in the adaptive immune response to infection and vaccination, as well as the pathology of allergies and many autoimmune diseases. Central to all of these processes is the fact that B cells are an evolutionary system, and undergo rapid somatic hypermutation and antigen-driven selection as part of the adaptive immune response. The similarities between this B cell response and evolution by natural selection have made phylogenetic methods a powerful means of characterizing important processes, such as immunological memory formation. Recent methodological work has led to the development of phylogenetic methods that adjust for the unique features of B cell evolution. Further, advances in single cell sequencing can now provide an unprecedented resolution of information, including linked heavy and light chain data, as well as the associated transcriptional states of individual B cells. In this tutorial, we show how single cell information can be integrated into B cell phylogenetic analysis using the Immcantation suite (Immcantation.org)."
   ]
  },
  {
   "cell_type": "markdown",
   "metadata": {
    "slideshow": {
     "slide_type": "slide"
    }
   },
   "source": [
    "**This tutorial covers:**\n",
    "\n",
    "Beginning with processed single cell RNA-seq (scRNA-seq) + BCR data from 10X Genomics, we will show:\n",
    "\n",
    "- how cell type annotations can be associated with BCR sequences,\n",
    "- how clonal clusters can be identified, and \n",
    "- how B cell phylogenetic trees can be built and visualized using these data sources."
   ]
  },
  {
   "cell_type": "markdown",
   "metadata": {
    "cell_style": "center",
    "slideshow": {
     "slide_type": "slide"
    }
   },
   "source": [
    "## Resources\n",
    "\n",
    "- You can email [immcantation@googlegroups.com](mailto:immcantation@googlegroups.com) with any questions or issues.\n",
    "- Documentation: http://immcantation.org\n",
    "- Source code and bug reports: https://bitbucket.org/kleinstein/immcantation\n",
    "- Docker/Singularity container for this lab: https://hub.docker.com/r/immcantation/lab"
   ]
  },
  {
   "cell_type": "markdown",
   "metadata": {},
   "source": [
    "## How to use the notebook\n",
    "\n",
    "Jupyter Notebook documentation: https://jupyter-notebook.readthedocs.io/en/stable/\n",
    "\n",
    "**Ctrl+Enter** will run the code in the selected cell and **Shift+Enter** will run the code and move to the following cell."
   ]
  },
  {
   "cell_type": "markdown",
   "metadata": {
    "slideshow": {
     "slide_type": "slide"
    }
   },
   "source": [
    "## Inside this container\n",
    "\n",
    "This container comes with software and example data that is ready to use. The commands `versions report` and `builds report` show the versions and dates respectively of the tools and data."
   ]
  },
  {
   "cell_type": "markdown",
   "metadata": {},
   "source": [
    "### Software versions\n",
    "Use this command to list the software versions"
   ]
  },
  {
   "cell_type": "code",
   "execution_count": null,
   "metadata": {
    "cell_style": "center",
    "execution": {
     "iopub.execute_input": "2021-09-07T20:48:58.935921Z",
     "iopub.status.busy": "2021-09-07T20:48:58.935174Z",
     "iopub.status.idle": "2021-09-07T20:49:05.384273Z",
     "shell.execute_reply": "2021-09-07T20:49:05.383734Z"
    },
    "scrolled": true,
    "slideshow": {
     "slide_type": "-"
    }
   },
   "outputs": [],
   "source": [
    "%%bash\n",
    "versions report"
   ]
  },
  {
   "cell_type": "markdown",
   "metadata": {
    "cell_style": "center",
    "slideshow": {
     "slide_type": "subslide"
    }
   },
   "source": [
    "### Build versions\n",
    "Use this command to list the date and changesets used during the image build."
   ]
  },
  {
   "cell_type": "code",
   "execution_count": null,
   "metadata": {
    "cell_style": "center",
    "execution": {
     "iopub.execute_input": "2021-09-07T20:49:05.389569Z",
     "iopub.status.busy": "2021-09-07T20:49:05.388228Z",
     "iopub.status.idle": "2021-09-07T20:49:05.446113Z",
     "shell.execute_reply": "2021-09-07T20:49:05.446661Z"
    },
    "slideshow": {
     "slide_type": "-"
    }
   },
   "outputs": [],
   "source": [
    "%%bash\n",
    "builds report"
   ]
  },
  {
   "cell_type": "markdown",
   "metadata": {
    "cell_style": "center",
    "slideshow": {
     "slide_type": "subslide"
    }
   },
   "source": [
    "### Example data used in the tutorial\n",
    "\n",
    "- `../data/BCR.data.tsv`: B-Cell Receptor Data. Adaptive Immune Receptor Repertoire (AIRR) tsv BCRs already aligned to IMGT V, D, and J genes. To learn more visit  https://immcantation.readthedocs.io/en/stable/tutorials/tutorials.html\n",
    "\n",
    "\n",
    "- `../data/GEX.data.rds`: Gene Expression Data. This file contains a Seurat object with RNA-seq data already processed and annotated. For examples visit https://satijalab.org/seurat/articles/pbmc3k_tutorial.html\n"
   ]
  },
  {
   "cell_type": "markdown",
   "metadata": {
    "cell_style": "center",
    "slideshow": {
     "slide_type": "subslide"
    }
   },
   "source": [
    "## Outline of tutorial\n",
    "\n",
    "1. B cell phylogenetics background.\n",
    "\n",
    "1. Combining gene expression and BCR sequences.\n",
    "\n",
    "1. Identifying clonal clusters, reconstruct germlines.\n",
    "\n",
    "1. Building and visualizing trees.\n",
    "\n",
    "1. Tree analysis, detecting ongoing evolution.\n",
    "\n",
    "\n"
   ]
  },
  {
   "cell_type": "markdown",
   "metadata": {
    "slideshow": {
     "slide_type": "slide"
    }
   },
   "source": [
    "## B cells underlie both immune function and pathology\n",
    "\n",
    "![](assets/dowser-tutorial/dowser-tutorial-bcells.png)"
   ]
  },
  {
   "cell_type": "markdown",
   "metadata": {
    "slideshow": {
     "slide_type": "slide"
    }
   },
   "source": [
    "## BCRs are first produced by random recombination\n"
   ]
  },
  {
   "cell_type": "markdown",
   "metadata": {
    "slideshow": {
     "slide_type": "slide"
    }
   },
   "source": [
    "## Each B cell has a single type of receptor\n"
   ]
  },
  {
   "cell_type": "markdown",
   "metadata": {
    "slideshow": {
     "slide_type": "slide"
    }
   },
   "source": [
    "## B cell affinity maturation\n",
    "\n"
   ]
  },
  {
   "cell_type": "markdown",
   "metadata": {
    "slideshow": {
     "slide_type": "slide"
    }
   },
   "source": [
    "## Adaptive Immune Receptor Repertoire (AIRR) sequencing\n",
    "\n"
   ]
  },
  {
   "cell_type": "markdown",
   "metadata": {
    "slideshow": {
     "slide_type": "slide"
    }
   },
   "source": [
    "## B cell phylogenetic inference\n"
   ]
  },
  {
   "cell_type": "markdown",
   "metadata": {
    "slideshow": {
     "slide_type": "slide"
    }
   },
   "source": [
    "## Trees link sources of B cell diversity\n"
   ]
  },
  {
   "cell_type": "markdown",
   "metadata": {
    "slideshow": {
     "slide_type": "slide"
    }
   },
   "source": [
    "## Read in data to R session\n"
   ]
  },
  {
   "cell_type": "markdown",
   "metadata": {
    "slideshow": {
     "slide_type": "slide"
    }
   },
   "source": [
    "## What’s in the box?\n",
    "\n"
   ]
  },
  {
   "cell_type": "markdown",
   "metadata": {
    "slideshow": {
     "slide_type": "slide"
    }
   },
   "source": [
    "## Add BCR data to Seurat object\n"
   ]
  },
  {
   "cell_type": "markdown",
   "metadata": {
    "slideshow": {
     "slide_type": "slide"
    }
   },
   "source": [
    "## Add BCR data to Seurat object\n",
    "\n"
   ]
  },
  {
   "cell_type": "markdown",
   "metadata": {
    "slideshow": {
     "slide_type": "slide"
    }
   },
   "source": [
    "## Add GEX data to BCR object\n"
   ]
  },
  {
   "cell_type": "markdown",
   "metadata": {
    "slideshow": {
     "slide_type": "slide"
    }
   },
   "source": [
    "## Add GEX data to BCR object\n",
    "\n"
   ]
  },
  {
   "cell_type": "markdown",
   "metadata": {
    "slideshow": {
     "slide_type": "slide"
    }
   },
   "source": [
    "## Add GEX data to BCR object\n",
    "\n"
   ]
  },
  {
   "cell_type": "markdown",
   "metadata": {
    "slideshow": {
     "slide_type": "slide"
    }
   },
   "source": [
    "## Identifying clonal clusters\n",
    "\n",
    "\n"
   ]
  },
  {
   "cell_type": "markdown",
   "metadata": {
    "slideshow": {
     "slide_type": "slide"
    }
   },
   "source": [
    "## Picking a threshold using shazam\n",
    "\n",
    "\n"
   ]
  },
  {
   "cell_type": "markdown",
   "metadata": {
    "slideshow": {
     "slide_type": "slide"
    }
   },
   "source": [
    "## Performing clustering using scoper\n",
    "\n",
    "\n"
   ]
  },
  {
   "cell_type": "markdown",
   "metadata": {
    "slideshow": {
     "slide_type": "slide"
    }
   },
   "source": [
    "## Reconstruct germlines using dowser\n",
    "\n",
    "\n"
   ]
  },
  {
   "cell_type": "markdown",
   "metadata": {
    "slideshow": {
     "slide_type": "slide"
    }
   },
   "source": [
    "## Formatting clones with dowser\n",
    "\n"
   ]
  },
  {
   "cell_type": "markdown",
   "metadata": {
    "slideshow": {
     "slide_type": "slide"
    }
   },
   "source": [
    "## Constructing trees\n",
    "\n"
   ]
  },
  {
   "cell_type": "markdown",
   "metadata": {
    "slideshow": {
     "slide_type": "slide"
    }
   },
   "source": [
    "## Tree building with dowser\n",
    "\n",
    "\n"
   ]
  },
  {
   "cell_type": "markdown",
   "metadata": {
    "slideshow": {
     "slide_type": "slide"
    }
   },
   "source": [
    "## Plotting trees with dowser and ggtree\n",
    "\n",
    "\n"
   ]
  },
  {
   "cell_type": "markdown",
   "metadata": {
    "slideshow": {
     "slide_type": "slide"
    }
   },
   "source": [
    "## More elaborate tree plots\n",
    "\n",
    "\n"
   ]
  },
  {
   "cell_type": "markdown",
   "metadata": {
    "slideshow": {
     "slide_type": "slide"
    }
   },
   "source": [
    "## Reconstruct intermediate sequences\n",
    "\n",
    "\n"
   ]
  },
  {
   "cell_type": "markdown",
   "metadata": {
    "slideshow": {
     "slide_type": "slide"
    }
   },
   "source": [
    "## Are lineages measurably evolving?\n",
    "\n",
    "\n"
   ]
  },
  {
   "cell_type": "markdown",
   "metadata": {
    "slideshow": {
     "slide_type": "slide"
    }
   },
   "source": [
    "## Detecting measurable evolution\n",
    "\n",
    "\n"
   ]
  },
  {
   "cell_type": "markdown",
   "metadata": {
    "slideshow": {
     "slide_type": "slide"
    }
   },
   "source": [
    "## Correlation tests with dowser\n",
    "\n",
    "\n"
   ]
  },
  {
   "cell_type": "markdown",
   "metadata": {
    "cell_style": "center",
    "slideshow": {
     "slide_type": "slide"
    }
   },
   "source": [
    "# References\n",
    "\n",
    "## B cell phylo \n",
    "\n",
    "Hoehn, K. B. et al. (2016) The diversity and molecular evolution of B-cell receptors during infection. MBE. https://doi.org/10.1093/molbev/msw015\n",
    "\n",
    "Hoehn, K. B. et al. (2019) Repertoire-wide phylogenetic models of B cell molecular evolution reveal evolutionary signatures of aging and vaccination. PNAS 201906020.\n",
    "\n",
    "Hoehn, K. B. et al. (2020) Phylogenetic analysis of migration, differentiation, and class switching in B cells.\n",
    "bioRxiv. https://doi.org/10.1101/2020.05.30.124446\n",
    "\n",
    "Hoehn, K. B. et al. (2021) Human B cell lineages engaged by germinal centers following influenza vaccination are measurably evolving. bioRxiv. https://doi.org/10.1101/2021.01.06.425648\n"
   ]
  },
  {
   "cell_type": "markdown",
   "metadata": {
    "cell_style": "center",
    "slideshow": {
     "slide_type": "subslide"
    }
   },
   "source": [
    "## BCR analysis\n",
    "\n",
    "Gupta,N.T. et al. (2017) Hierarchical clustering can identify b cell clones\n",
    "with high confidence in ig repertoire sequencing data. The Journal of\n",
    "Immunology, 1601850.\n",
    "\n",
    "Gupta,N.T. et al. (2015) Change-o: A toolkit for analyzing large-scale b cell\n",
    "immunoglobulin repertoire sequencing data. Bioinformatics, 31, 3356–3358.\n",
    "\n",
    "Nouri,N. and Kleinstein,S.H. (2018a) A spectral clustering-based method\n",
    "for identifying clones from high-throughput b cell repertoire sequencing data.\n",
    "Bioinformatics, 34, i341–i349.\n",
    "\n",
    "Nouri,N. and Kleinstein,S.H. (2018b) Optimized threshold inference for\n",
    "partitioning of clones from high-throughput b cell repertoire sequencing\n",
    "data. Frontiers in immunology, 9.\n",
    "\n",
    "Stern,J.N. et al. (2014) B cells populating the multiple sclerosis brain\n",
    "mature in the draining cervical lymph nodes. Science translational medicine,\n",
    "6, 248ra107–248ra107.\n"
   ]
  },
  {
   "cell_type": "markdown",
   "metadata": {
    "cell_style": "center",
    "slideshow": {
     "slide_type": "subslide"
    }
   },
   "source": [
    "Vander Heiden,J.A. et al. (2017) Dysregulation of b cell repertoire\n",
    "formation in myasthenia gravis patients revealed through deep sequencing.\n",
    "The Journal of Immunology, 1601415.\n",
    "\n",
    "Yaari,G. et al. (2012) Quantifying selection in high-throughput\n",
    "immunoglobulin sequencing data sets. Nucleic acids research, 40,\n",
    "e134–e134.\n",
    "\n",
    "Yaari,G. et al. (2013) Models of somatic hypermutation targeting and\n",
    "substitution based on synonymous mutations from high-throughput\n",
    "immunoglobulin sequencing data. Frontiers in immunology, 4, 358.\n"
   ]
  }
 ],
 "metadata": {
  "celltoolbar": "Slideshow",
  "kernelspec": {
   "display_name": "Python 3 (ipykernel)",
   "language": "python",
   "name": "python3"
  },
  "language_info": {
   "codemirror_mode": {
    "name": "ipython",
    "version": 3
   },
   "file_extension": ".py",
   "mimetype": "text/x-python",
   "name": "python",
   "nbconvert_exporter": "python",
   "pygments_lexer": "ipython3",
   "version": "3.9.7"
  }
 },
 "nbformat": 4,
 "nbformat_minor": 4
}
