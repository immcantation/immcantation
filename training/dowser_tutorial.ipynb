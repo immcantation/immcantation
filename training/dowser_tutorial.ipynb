{
 "cells": [
  {
   "cell_type": "markdown",
   "metadata": {
    "cell_style": "center",
    "slideshow": {
     "slide_type": "slide"
    }
   },
   "source": [
    "# Reconstruction and analysis of B-cell lineage trees from single cell data using Immcantation\n",
    "\n",
    "\n",
    "![](assets/dowser-tutorial-cover.png)\n",
    "\n"
   ]
  },
  {
   "cell_type": "markdown",
   "metadata": {
    "slideshow": {
     "slide_type": "subslide"
    }
   },
   "source": [
    "Human B cells play a fundamental role in the adaptive immune response to infection and vaccination, as well as the pathology of allergies and many autoimmune diseases. Central to all of these processes is the fact that B cells are an evolutionary system, and undergo rapid somatic hypermutation and antigen-driven selection as part of the adaptive immune response. The similarities between this B cell response and evolution by natural selection have made phylogenetic methods a powerful means of characterizing important processes, such as immunological memory formation. Recent methodological work has led to the development of phylogenetic methods that adjust for the unique features of B cell evolution. Further, advances in single cell sequencing can now provide an unprecedented resolution of information, including linked heavy and light chain data, as well as the associated transcriptional states of individual B cells. In this tutorial, we show how single cell information can be integrated into B cell phylogenetic analysis using the Immcantation suite (Immcantation.org)."
   ]
  },
  {
   "cell_type": "markdown",
   "metadata": {
    "slideshow": {
     "slide_type": "slide"
    }
   },
   "source": [
    "**This tutorial covers:**\n",
    "\n",
    "Beginning with processed single cell RNA-seq (scRNA-seq) + BCR data from 10X Genomics, we will show:\n",
    "\n",
    "- how cell type annotations can be associated with BCR sequences,\n",
    "- how clonal clusters can be identified, and \n",
    "- how B cell phylogenetic trees can be built and visualized using these data sources."
   ]
  },
  {
   "cell_type": "markdown",
   "metadata": {
    "cell_style": "center",
    "slideshow": {
     "slide_type": "slide"
    }
   },
   "source": [
    "## Resources\n",
    "\n",
    "- You can email [immcantation@googlegroups.com](mailto:immcantation@googlegroups.com) with any questions or issues.\n",
    "- Documentation: http://immcantation.org\n",
    "- Source code and bug reports: https://bitbucket.org/kleinstein/immcantation\n",
    "- Docker/Singularity container for this lab: https://hub.docker.com/r/immcantation/lab"
   ]
  },
  {
   "cell_type": "markdown",
   "metadata": {},
   "source": [
    "## How to use the notebook\n",
    "\n",
    "Jupyter Notebook documentation: https://jupyter-notebook.readthedocs.io/en/stable/\n",
    "\n",
    "**Ctrl+Enter** will run the code in the selected cell and **Shift+Enter** will run the code and move to the following cell."
   ]
  },
  {
   "cell_type": "markdown",
   "metadata": {
    "slideshow": {
     "slide_type": "slide"
    }
   },
   "source": [
    "## Inside this container\n",
    "\n",
    "This container comes with software and example data that is ready to use. The commands `versions report` and `builds report` show the versions and dates respectively of the tools and data."
   ]
  },
  {
   "cell_type": "markdown",
   "metadata": {},
   "source": [
    "### Software versions\n",
    "Use this command to list the software versions"
   ]
  },
  {
   "cell_type": "code",
   "execution_count": null,
   "metadata": {
    "cell_style": "center",
    "execution": {
     "iopub.execute_input": "2021-09-07T20:48:58.935921Z",
     "iopub.status.busy": "2021-09-07T20:48:58.935174Z",
     "iopub.status.idle": "2021-09-07T20:49:05.384273Z",
     "shell.execute_reply": "2021-09-07T20:49:05.383734Z"
    },
    "scrolled": true,
    "slideshow": {
     "slide_type": "-"
    }
   },
   "outputs": [],
   "source": [
    "%%bash\n",
    "versions report"
   ]
  },
  {
   "cell_type": "markdown",
   "metadata": {
    "cell_style": "center",
    "slideshow": {
     "slide_type": "subslide"
    }
   },
   "source": [
    "### Build versions\n",
    "Use this command to list the date and changesets used during the image build."
   ]
  },
  {
   "cell_type": "code",
   "execution_count": null,
   "metadata": {
    "cell_style": "center",
    "execution": {
     "iopub.execute_input": "2021-09-07T20:49:05.389569Z",
     "iopub.status.busy": "2021-09-07T20:49:05.388228Z",
     "iopub.status.idle": "2021-09-07T20:49:05.446113Z",
     "shell.execute_reply": "2021-09-07T20:49:05.446661Z"
    },
    "slideshow": {
     "slide_type": "-"
    }
   },
   "outputs": [],
   "source": [
    "%%bash\n",
    "builds report"
   ]
  },
  {
   "cell_type": "markdown",
   "metadata": {
    "cell_style": "center",
    "slideshow": {
     "slide_type": "subslide"
    }
   },
   "source": [
    "### Example data used in the tutorial\n",
    "\n",
    "- `../data/BCR.data.tsv`: B-Cell Receptor Data. Adaptive Immune Receptor Repertoire (AIRR) tsv BCRs already aligned to IMGT V, D, and J genes. To learn more visit  https://immcantation.readthedocs.io/en/stable/tutorials/tutorials.html\n",
    "\n",
    "\n",
    "- `../data/GEX.data.rds`: Gene Expression Data. This file contains a Seurat object with RNA-seq data already processed and annotated. For examples visit https://satijalab.org/seurat/articles/pbmc3k_tutorial.html\n"
   ]
  },
  {
   "cell_type": "markdown",
   "metadata": {
    "cell_style": "center",
    "slideshow": {
     "slide_type": "subslide"
    }
   },
   "source": [
    "## Outline of tutorial\n",
    "\n",
    "1. B cell phylogenetics background.\n",
    "\n",
    "1. Combining gene expression and BCR sequences.\n",
    "\n",
    "1. Identifying clonal clusters, reconstruct germlines.\n",
    "\n",
    "1. Building and visualizing trees.\n",
    "\n",
    "1. Tree analysis, detecting ongoing evolution.\n",
    "\n",
    "\n"
   ]
  },
  {
   "cell_type": "markdown",
   "metadata": {
    "slideshow": {
     "slide_type": "slide"
    }
   },
   "source": [
    "## B cells underlie both immune function and pathology\n",
    "\n",
    "![](assets/dowser-tutorial/bcells.png)"
   ]
  },
  {
   "cell_type": "markdown",
   "metadata": {
    "slideshow": {
     "slide_type": "slide"
    }
   },
   "source": [
    "## BCRs are first produced by random recombination\n"
   ]
  },
  {
   "cell_type": "markdown",
   "metadata": {
    "slideshow": {
     "slide_type": "slide"
    }
   },
   "source": [
    "## Each B cell has a single type of receptor\n"
   ]
  },
  {
   "cell_type": "markdown",
   "metadata": {
    "slideshow": {
     "slide_type": "slide"
    }
   },
   "source": [
    "## B cell affinity maturation\n",
    "\n"
   ]
  },
  {
   "cell_type": "markdown",
   "metadata": {
    "slideshow": {
     "slide_type": "slide"
    }
   },
   "source": [
    "## Adaptive Immune Receptor Repertoire (AIRR) sequencing\n",
    "\n"
   ]
  },
  {
   "cell_type": "markdown",
   "metadata": {
    "slideshow": {
     "slide_type": "slide"
    }
   },
   "source": [
    "## B cell phylogenetic inference\n"
   ]
  },
  {
   "cell_type": "markdown",
   "metadata": {
    "slideshow": {
     "slide_type": "slide"
    }
   },
   "source": [
    "## Trees link sources of B cell diversity\n"
   ]
  },
  {
   "cell_type": "markdown",
   "metadata": {
    "slideshow": {
     "slide_type": "slide"
    }
   },
   "source": [
    "## Read in data to R session\n"
   ]
  },
  {
   "cell_type": "code",
   "execution_count": null,
   "metadata": {
    "slideshow": {
     "slide_type": "-"
    }
   },
   "outputs": [],
   "source": [
    "# R for Python\n",
    "# Enable use of R magic to run R code\n",
    "import rpy2.rinterface\n",
    "%load_ext rpy2.ipython"
   ]
  },
  {
   "cell_type": "code",
   "execution_count": null,
   "metadata": {
    "slideshow": {
     "slide_type": "-"
    }
   },
   "outputs": [],
   "source": [
    "%%R\n",
    "suppressPackageStartupMessages(library(alakazam))\n",
    "suppressPackageStartupMessages(library(Seurat))\n",
    "\n",
    "# Read BCR data\n",
    "bcr_db <- readChangeoDb(\"../data/BCR.data.tsv\")\n",
    "\n",
    "# Read GEX data\n",
    "gex_db <- readRDS(\"../data/GEX.data.rds\")\n"
   ]
  },
  {
   "cell_type": "markdown",
   "metadata": {
    "slideshow": {
     "slide_type": "slide"
    }
   },
   "source": [
    "## What’s in the box?\n",
    "\n"
   ]
  },
  {
   "cell_type": "code",
   "execution_count": null,
   "metadata": {
    "slideshow": {
     "slide_type": "-"
    }
   },
   "outputs": [],
   "source": [
    "%%R\n",
    "library(Seurat)\n",
    "# Object summary\n",
    "print(gex_db)"
   ]
  },
  {
   "cell_type": "code",
   "execution_count": null,
   "metadata": {
    "slideshow": {
     "slide_type": "-"
    }
   },
   "outputs": [],
   "source": [
    "%%R\n",
    "# Cell type annotations\n",
    "head(Idents(gex_db),1)"
   ]
  },
  {
   "cell_type": "code",
   "execution_count": null,
   "metadata": {
    "slideshow": {
     "slide_type": "-"
    }
   },
   "outputs": [],
   "source": [
    "%%R\n",
    "suppressPackageStartupMessages(library(dplyr))\n",
    "# Object summary\n",
    "head(bcr_db,1)"
   ]
  },
  {
   "cell_type": "code",
   "execution_count": null,
   "metadata": {
    "slideshow": {
     "slide_type": "-"
    }
   },
   "outputs": [],
   "source": [
    "%%R\n",
    "# check out select columns\n",
    "head(select(bcr_db, cell_id, v_call, j_call, sample, day),1)"
   ]
  },
  {
   "cell_type": "markdown",
   "metadata": {
    "slideshow": {
     "slide_type": "slide"
    }
   },
   "source": [
    "## Add BCR data to Seurat object\n"
   ]
  },
  {
   "cell_type": "code",
   "execution_count": null,
   "metadata": {
    "slideshow": {
     "slide_type": "-"
    }
   },
   "outputs": [],
   "source": [
    "%%R\n",
    "# Make cell IDs in BCR match those in Seurat Object\n",
    "bcr_db$cell_id_unique = paste0(bcr_db$sample, \"_\", bcr_db$cell_id)\n",
    "bcr_db$cell_id_unique = gsub(\"-1\",\"\", bcr_db$cell_id_unique)\n",
    "bcr_db$cell_id_unique[1]"
   ]
  },
  {
   "cell_type": "code",
   "execution_count": null,
   "metadata": {
    "slideshow": {
     "slide_type": "-"
    }
   },
   "outputs": [],
   "source": [
    "%%R\n",
    "Cells(gex_db)[1]"
   ]
  },
  {
   "cell_type": "code",
   "execution_count": null,
   "metadata": {
    "slideshow": {
     "slide_type": "-"
    }
   },
   "outputs": [],
   "source": [
    "%%R\n",
    "# match index from BCR to GEX information\n",
    "match.index = match(Cells(gex_db), bcr_db$cell_id_unique)\n",
    "# What proportion of cells don’t have BCRs?\n",
    "mean(is.na(match.index))"
   ]
  },
  {
   "cell_type": "code",
   "execution_count": null,
   "metadata": {
    "slideshow": {
     "slide_type": "-"
    }
   },
   "outputs": [],
   "source": [
    "%%R\n",
    "# Just to double check..\n",
    "mean(Cells(gex_db) == bcr_db$cell_id_unique[match.index],na.rm=TRUE)\n"
   ]
  },
  {
   "cell_type": "markdown",
   "metadata": {
    "slideshow": {
     "slide_type": "subslide"
    }
   },
   "source": [
    "### Do cells annotated as B cells actually have BCRs? Do non-B cells express BCRs?"
   ]
  },
  {
   "cell_type": "code",
   "execution_count": null,
   "metadata": {
    "slideshow": {
     "slide_type": "-"
    }
   },
   "outputs": [],
   "source": [
    "%%R\n",
    "# label whether BCR found in cell\n",
    "gex_db$contains_bcr = !is.na(match.index)\n",
    "# List of cells with BCRs\n",
    "highlighted.cells = Cells(gex_db)[which(gex_db$contains_bcr)]\n",
    "# Plot UMAP with BCR-containing cells\n",
    "DimPlot(object = gex_db, reduction = \"umap\",\n",
    "   cells.highlight = highlighted.cells, label =\n",
    "   TRUE, cols=\"gray\", pt.size = 1.0, label.size=8,\n",
    "   label.box=TRUE) + NoLegend()\n",
    "\n"
   ]
  },
  {
   "cell_type": "markdown",
   "metadata": {
    "slideshow": {
     "slide_type": "slide"
    }
   },
   "source": [
    "## Add GEX data to BCR object\n"
   ]
  },
  {
   "cell_type": "code",
   "execution_count": null,
   "metadata": {
    "slideshow": {
     "slide_type": "-"
    }
   },
   "outputs": [],
   "source": [
    "%%R\n",
    "# Match indexes from GEX to BCR data\n",
    "# Different from BCR to GEX!\n",
    "match.index = match(bcr_db$cell_id_unique, Cells(gex_db))\n",
    "# What proportion of BCRs don’t have GEX information?\n",
    "mean(is.na(match.index))"
   ]
  },
  {
   "cell_type": "code",
   "execution_count": null,
   "metadata": {
    "slideshow": {
     "slide_type": "-"
    }
   },
   "outputs": [],
   "source": [
    "%%R\n",
    "# Add annotations to BCR data\n",
    "cell.annotation = as.character(Idents(gex_db))\n",
    "bcr_db$gex_annotation= unlist(lapply(match.index,\n",
    "function(x){ifelse(is.na(x),NA, cell.annotation[x])}))"
   ]
  },
  {
   "cell_type": "code",
   "execution_count": null,
   "metadata": {
    "slideshow": {
     "slide_type": "-"
    }
   },
   "outputs": [],
   "source": [
    "%%R\n",
    "# Add UMAP coordinates to BCR data\n",
    "umap1 = gex_db@reductions$umap@cell.embeddings[,1]\n",
    "umap2 = gex_db@reductions$umap@cell.embeddings[,2]\n",
    "bcr_db$gex_umap1= unlist(lapply(match.index,\n",
    "function(x){ifelse(is.na(x),NA, umap1[x])}))\n",
    "bcr_db$gex_umap2= unlist(lapply(match.index,\n",
    "function(x){ifelse(is.na(x),NA, umap2[x])}))"
   ]
  },
  {
   "cell_type": "code",
   "execution_count": null,
   "metadata": {
    "slideshow": {
     "slide_type": "-"
    }
   },
   "outputs": [],
   "source": [
    "%%R\n",
    "# Remove cells that didn’t match\n",
    "bcr_db = filter(bcr_db, !is.na(gex_annotation))"
   ]
  },
  {
   "cell_type": "markdown",
   "metadata": {
    "slideshow": {
     "slide_type": "slide"
    }
   },
   "source": [
    "### Ensure information transferred from Seurat object"
   ]
  },
  {
   "cell_type": "code",
   "execution_count": null,
   "metadata": {
    "slideshow": {
     "slide_type": "-"
    }
   },
   "outputs": [],
   "source": [
    "%%R\n",
    "suppressPackageStartupMessages(library(ggplot2))\n",
    "# Set up color palette for annotations\n",
    "col_anno = c(\n",
    "\"GC B\"=\"dodgerblue2\",\n",
    "\"PB\"=\"firebrick2\",\n",
    "\"ABC\"=\"seagreen\",\n",
    "\"Naive B\"=\"darkgoldenrod2\",\n",
    "\"RMB\"=\"plum2\",\n",
    "\"Germline\"=\"black\")\n",
    "# Plot UMAP from bcr_db\n",
    "ggplot(bcr_db) +\n",
    "geom_point(aes(x = gex_umap1, y = gex_umap2,\n",
    "color = gex_annotation)) +\n",
    "scale_colour_manual(values=col_anno) +\n",
    "theme_bw()\n"
   ]
  },
  {
   "cell_type": "markdown",
   "metadata": {
    "slideshow": {
     "slide_type": "slide"
    }
   },
   "source": [
    "## Add GEX data to BCR object\n",
    "\n"
   ]
  },
  {
   "cell_type": "code",
   "execution_count": null,
   "metadata": {
    "slideshow": {
     "slide_type": "-"
    }
   },
   "outputs": [],
   "source": [
    "%%R\n",
    "# Plot isotype on UMAP\n",
    "ggplot(bcr_db) +\n",
    "geom_point(aes(x=gex_umap1,\n",
    "y = gex_umap2,\n",
    "color = isotype)) +\n",
    "theme_bw()"
   ]
  },
  {
   "cell_type": "markdown",
   "metadata": {
    "slideshow": {
     "slide_type": "slide"
    }
   },
   "source": [
    "## Identifying clonal clusters\n",
    "\n",
    "\n"
   ]
  },
  {
   "cell_type": "markdown",
   "metadata": {
    "slideshow": {
     "slide_type": "slide"
    }
   },
   "source": [
    "## Picking a threshold using shazam\n",
    "\n",
    "\n"
   ]
  },
  {
   "cell_type": "code",
   "execution_count": null,
   "metadata": {
    "slideshow": {
     "slide_type": "-"
    }
   },
   "outputs": [],
   "source": [
    "%%R\n",
    "suppressPackageStartupMessages(library(shazam))\n",
    "# Find threshold using heavy chains\n",
    "dist_ham <- distToNearest(filter(bcr_db,\n",
    "locus==\"IGH\"))\n",
    "output <- findThreshold(dist_ham$dist_nearest)\n",
    "threshold <- output@threshold\n",
    "# Plot distance to each nearest neighbor\n",
    "plotDensityThreshold(output)\n"
   ]
  },
  {
   "cell_type": "markdown",
   "metadata": {
    "slideshow": {
     "slide_type": "slide"
    }
   },
   "source": [
    "## Performing clustering using scoper\n",
    "\n",
    "\n"
   ]
  },
  {
   "cell_type": "code",
   "execution_count": null,
   "metadata": {
    "slideshow": {
     "slide_type": "-"
    }
   },
   "outputs": [],
   "source": [
    "%%R\n",
    "suppressPackageStartupMessages(library(scoper))\n",
    "# Assign clonal clusters\n",
    "results <- hierarchicalClones(dist_ham,\n",
    "threshold=threshold)\n",
    "results_db <- as.data.frame(results)\n",
    "# get clone sizes using dplyr functions\n",
    "clone_sizes <- countClones(results_db)\n",
    "# Plot cells per clone\n",
    "ggplot(clone_sizes, aes(x=seq_count))+\n",
    "geom_bar() + theme_bw() +\n",
    "xlab(\"Sequences per clone\")\n",
    "\n"
   ]
  },
  {
   "cell_type": "markdown",
   "metadata": {
    "slideshow": {
     "slide_type": "slide"
    }
   },
   "source": [
    "## Reconstruct germlines using dowser\n",
    "\n",
    "Note: If you opted for the native installation, you can obtain reference germlines from IMGT with:\n",
    "\n",
    "```\n",
    "git clone https://bitbucket.org/kleinstein/immcantation\n",
    "immcantation/scripts/fetch_imgtdb.sh\n",
    "```\n",
    " \n",
    "\n"
   ]
  },
  {
   "cell_type": "code",
   "execution_count": null,
   "metadata": {
    "slideshow": {
     "slide_type": "-"
    }
   },
   "outputs": [],
   "source": [
    "%%R\n",
    "suppressPackageStartupMessages(library(dowser))\n",
    "\n",
    "# read in IMGT data if downloaded on your own (above)\n",
    "# and update `dir` to use the path to your `human/vdj` folder\n",
    "# references = readIMGT(dir = \"human/vdj/\")\n",
    "\n",
    "# read in IMGT data if using in Docker image\n",
    "references = readIMGT(dir = \"/usr/local/share/germlines/imgt/human/vdj\")\n",
    "# Reconstruct germlines\n",
    "results_db = createGermlines(results_db, references)\n",
    "# Check output column\n",
    "results_db$germline_alignment_d_mask[1]\n"
   ]
  },
  {
   "cell_type": "markdown",
   "metadata": {
    "slideshow": {
     "slide_type": "slide"
    }
   },
   "source": [
    "## Formatting clones with dowser\n",
    "\n"
   ]
  },
  {
   "cell_type": "code",
   "execution_count": null,
   "metadata": {
    "slideshow": {
     "slide_type": "-"
    }
   },
   "outputs": [],
   "source": [
    "%%R\n",
    "# Make clone objects with aligned, processed sequences\n",
    "# collapse identical sequences unless differ by trait\n",
    "# add up duplicate_count column for collapsed sequences\n",
    "# store day, isotype, gex_annotation\n",
    "# discard clones with < 5 distinct sequences\n",
    "clones = formatClones(results_db,\n",
    "   traits = c(\"day\", \"isotype\", \"gex_annotation\"),\n",
    "   num_fields=c(\"duplicate_count\"), minseq=5)\n",
    "clones\n"
   ]
  },
  {
   "cell_type": "markdown",
   "metadata": {
    "slideshow": {
     "slide_type": "slide"
    }
   },
   "source": [
    "## Constructing trees\n",
    "\n"
   ]
  },
  {
   "cell_type": "markdown",
   "metadata": {
    "slideshow": {
     "slide_type": "slide"
    }
   },
   "source": [
    "## Tree building with dowser\n",
    "\n",
    "\n"
   ]
  },
  {
   "cell_type": "code",
   "execution_count": null,
   "metadata": {
    "slideshow": {
     "slide_type": "-"
    }
   },
   "outputs": [],
   "source": [
    "%%R\n",
    "# Two options for maximum parsimony trees\n",
    "trees = getTrees(clones)\n",
    "trees = getTrees(clones, build=\"dnapars\",\n",
    "exec=\"/usr/local/bin/dnapars\")\n",
    "# Two options for standard maximum likelihood trees\n",
    "trees = getTrees(clones, build=\"pml\", sub_model=\"GTR\")\n",
    "trees = getTrees(clones, build=\"dnaml\",\n",
    "exec=\"/usr/local/bin/dnaml\")\n",
    "# B cell specific maximum likelihood with IgPhyML\n",
    "trees = getTrees(clones, build=\"igphyml\",\n",
    "exec=\"/usr/local/share/igphyml/src/igphyml\", nproc=2)\n",
    "trees\n"
   ]
  },
  {
   "cell_type": "markdown",
   "metadata": {
    "slideshow": {
     "slide_type": "slide"
    }
   },
   "source": [
    "## Plotting trees with dowser and ggtree\n",
    "\n",
    "All tree building methods are plotted using the same method in dowser.\n",
    "\n"
   ]
  },
  {
   "cell_type": "code",
   "execution_count": null,
   "metadata": {
    "slideshow": {
     "slide_type": "-"
    }
   },
   "outputs": [],
   "source": [
    "%%R\n",
    "# Plot all trees\n",
    "plots = plotTrees(trees, tips=\"isotype\", tipsize=2)"
   ]
  },
  {
   "cell_type": "code",
   "execution_count": null,
   "metadata": {
    "slideshow": {
     "slide_type": "-"
    }
   },
   "outputs": [],
   "source": [
    "%%R\n",
    "# Plot the largest tree\n",
    "plots[[1]]"
   ]
  },
  {
   "cell_type": "code",
   "execution_count": null,
   "metadata": {
    "slideshow": {
     "slide_type": "-"
    }
   },
   "outputs": [],
   "source": [
    "%%R\n",
    "# Save PDF of all trees\n",
    "treesToPDF(plots, file=\"results/final_data_trees.pdf\", nrow=2, ncol=2)"
   ]
  },
  {
   "cell_type": "markdown",
   "metadata": {
    "slideshow": {
     "slide_type": "slide"
    }
   },
   "source": [
    "## More elaborate tree plots\n",
    "\n",
    "\n"
   ]
  },
  {
   "cell_type": "code",
   "execution_count": null,
   "metadata": {
    "slideshow": {
     "slide_type": "-"
    }
   },
   "outputs": [],
   "source": [
    "%%R\n",
    "suppressPackageStartupMessages(library(ggtree))\n",
    "# Scale branches to mutations rather than mutations/site\n",
    "trees = scaleBranches(trees)\n",
    "# Make fancy tree plot of second largest tree\n",
    "plotTrees(trees, scale=5)[[2]] +\n",
    "geom_tippoint(aes(colour=gex_annotation, size=day)) +\n",
    "geom_tiplab(aes(label=isotype), offset=0.002) +\n",
    "scale_colour_manual(values = col_anno)"
   ]
  },
  {
   "cell_type": "markdown",
   "metadata": {
    "slideshow": {
     "slide_type": "slide"
    }
   },
   "source": [
    "## Reconstruct intermediate sequences\n",
    "\n",
    "\n"
   ]
  },
  {
   "cell_type": "code",
   "execution_count": null,
   "metadata": {
    "slideshow": {
     "slide_type": "-"
    }
   },
   "outputs": [],
   "source": [
    "%%R\n",
    "suppressPackageStartupMessages(library(ggtree))\n",
    "# Collapse nodes with identical sequences\n",
    "trees = collapseNodes(trees)\n",
    "# node_nums=TRUE labels each internal node\n",
    "p = plotTrees(trees, node_nums=TRUE, labelsize=6, scale=5)[[2]] +\n",
    "   geom_tippoint(aes(colour=gex_annotation, size=day)) + \n",
    "   geom_tiplab(aes(label=isotype), offset=0.002) + \n",
    "   scale_colour_manual(values = col_anno)\n",
    "# Get sequence at node 26\n",
    "getSeq(trees, clone=1018, node=26)"
   ]
  },
  {
   "cell_type": "markdown",
   "metadata": {
    "slideshow": {
     "slide_type": "slide"
    }
   },
   "source": [
    "## Are lineages measurably evolving?\n",
    "\n",
    "\n"
   ]
  },
  {
   "cell_type": "markdown",
   "metadata": {
    "slideshow": {
     "slide_type": "slide"
    }
   },
   "source": [
    "## Detecting measurable evolution\n",
    "\n",
    "\n"
   ]
  },
  {
   "cell_type": "markdown",
   "metadata": {
    "slideshow": {
     "slide_type": "slide"
    }
   },
   "source": [
    "## Correlation tests with dowser\n",
    "\n",
    "\n"
   ]
  },
  {
   "cell_type": "code",
   "execution_count": null,
   "metadata": {
    "slideshow": {
     "slide_type": "-"
    }
   },
   "outputs": [],
   "source": [
    "%%R\n",
    "# Correlation test\n",
    "trees = correlationTest(trees, time=\"day\")\n",
    "# remove trees with one timepoint, order by p value\n",
    "trees = filter(trees, !is.na(p))\n",
    "trees = trees[order(trees$p),]\n",
    "# Fancy tree plots\n",
    "p = plotTrees(trees)\n",
    "p = lapply(p, function(x)\n",
    "   x + \n",
    "  geom_tippoint(aes(fill=day),shape=21, size=3)+\n",
    "  scale_fill_distiller(palette=\"RdYlBu\"))\n",
    "\n",
    "# Save\n",
    "treesToPDF(p,file=\"results/time_data_trees.pdf\")\n",
    "\n",
    "select(trees, clone_id, slope, correlation, p)"
   ]
  },
  {
   "cell_type": "markdown",
   "metadata": {
    "cell_style": "center",
    "slideshow": {
     "slide_type": "slide"
    }
   },
   "source": [
    "# References\n",
    "\n",
    "## B cell phylo \n",
    "\n",
    "Hoehn, K. B. et al. (2016) The diversity and molecular evolution of B-cell receptors during infection. MBE. https://doi.org/10.1093/molbev/msw015\n",
    "\n",
    "Hoehn, K. B. et al. (2019) Repertoire-wide phylogenetic models of B cell molecular evolution reveal evolutionary signatures of aging and vaccination. PNAS 201906020.\n",
    "\n",
    "Hoehn, K. B. et al. (2020) Phylogenetic analysis of migration, differentiation, and class switching in B cells.\n",
    "bioRxiv. https://doi.org/10.1101/2020.05.30.124446\n",
    "\n",
    "Hoehn, K. B. et al. (2021) Human B cell lineages engaged by germinal centers following influenza vaccination are measurably evolving. bioRxiv. https://doi.org/10.1101/2021.01.06.425648\n"
   ]
  },
  {
   "cell_type": "markdown",
   "metadata": {
    "cell_style": "center",
    "slideshow": {
     "slide_type": "subslide"
    }
   },
   "source": [
    "## BCR analysis\n",
    "\n",
    "Gupta,N.T. et al. (2017) Hierarchical clustering can identify b cell clones\n",
    "with high confidence in ig repertoire sequencing data. The Journal of\n",
    "Immunology, 1601850.\n",
    "\n",
    "Gupta,N.T. et al. (2015) Change-o: A toolkit for analyzing large-scale b cell\n",
    "immunoglobulin repertoire sequencing data. Bioinformatics, 31, 3356–3358.\n",
    "\n",
    "Nouri,N. and Kleinstein,S.H. (2018a) A spectral clustering-based method\n",
    "for identifying clones from high-throughput b cell repertoire sequencing data.\n",
    "Bioinformatics, 34, i341–i349.\n",
    "\n",
    "Nouri,N. and Kleinstein,S.H. (2018b) Optimized threshold inference for\n",
    "partitioning of clones from high-throughput b cell repertoire sequencing\n",
    "data. Frontiers in immunology, 9.\n",
    "\n",
    "Stern,J.N. et al. (2014) B cells populating the multiple sclerosis brain\n",
    "mature in the draining cervical lymph nodes. Science translational medicine,\n",
    "6, 248ra107–248ra107.\n"
   ]
  },
  {
   "cell_type": "markdown",
   "metadata": {
    "cell_style": "center",
    "slideshow": {
     "slide_type": "subslide"
    }
   },
   "source": [
    "Vander Heiden,J.A. et al. (2017) Dysregulation of b cell repertoire\n",
    "formation in myasthenia gravis patients revealed through deep sequencing.\n",
    "The Journal of Immunology, 1601415.\n",
    "\n",
    "Yaari,G. et al. (2012) Quantifying selection in high-throughput\n",
    "immunoglobulin sequencing data sets. Nucleic acids research, 40,\n",
    "e134–e134.\n",
    "\n",
    "Yaari,G. et al. (2013) Models of somatic hypermutation targeting and\n",
    "substitution based on synonymous mutations from high-throughput\n",
    "immunoglobulin sequencing data. Frontiers in immunology, 4, 358.\n"
   ]
  }
 ],
 "metadata": {
  "celltoolbar": "Slideshow",
  "kernelspec": {
   "display_name": "Python 3 (ipykernel)",
   "language": "python",
   "name": "python3"
  },
  "language_info": {
   "codemirror_mode": {
    "name": "ipython",
    "version": 3
   },
   "file_extension": ".py",
   "mimetype": "text/x-python",
   "name": "python",
   "nbconvert_exporter": "python",
   "pygments_lexer": "ipython3",
   "version": "3.9.7"
  }
 },
 "nbformat": 4,
 "nbformat_minor": 4
}
