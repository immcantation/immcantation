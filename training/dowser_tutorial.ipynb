{
 "cells": [
  {
   "cell_type": "markdown",
   "metadata": {
    "cell_style": "center",
    "slideshow": {
     "slide_type": "slide"
    }
   },
   "source": [
    "# Reconstruction and analysis of B-cell lineage trees from single cell data using Immcantation\n",
    "\n",
    "\n",
    "![](assets/dowser-tutorial-cover.png)\n",
    "\n"
   ]
  },
  {
   "cell_type": "markdown",
   "metadata": {
    "slideshow": {
     "slide_type": "subslide"
    }
   },
   "source": [
    "Human B cells play a fundamental role in the adaptive immune response to infection and vaccination, as well as the pathology of allergies and many autoimmune diseases. Central to all of these processes is the fact that B cells are an evolutionary system, and undergo rapid somatic hypermutation and antigen-driven selection as part of the adaptive immune response. The similarities between this B cell response and evolution by natural selection have made phylogenetic methods a powerful means of characterizing important processes, such as immunological memory formation. Recent methodological work has led to the development of phylogenetic methods that adjust for the unique features of B cell evolution. Further, advances in single cell sequencing can now provide an unprecedented resolution of information, including linked heavy and light chain data, as well as the associated transcriptional states of individual B cells. In this tutorial, we show how single cell information can be integrated into B cell phylogenetic analysis using the Immcantation suite (Immcantation.org)."
   ]
  },
  {
   "cell_type": "markdown",
   "metadata": {
    "slideshow": {
     "slide_type": "slide"
    }
   },
   "source": [
    "**This tutorial covers:**\n",
    "\n",
    "Beginning with processed single cell RNA-seq (scRNA-seq) + BCR data from 10X Genomics, we will show:\n",
    "\n",
    "- how cell type annotations can be associated with BCR sequences,\n",
    "- how clonal clusters can be identified, and \n",
    "- how B cell phylogenetic trees can be built and visualized using these data sources."
   ]
  },
  {
   "cell_type": "markdown",
   "metadata": {
    "cell_style": "center",
    "slideshow": {
     "slide_type": "slide"
    }
   },
   "source": [
    "## Resources\n",
    "\n",
    "- You can email [immcantation@googlegroups.com](mailto:immcantation@googlegroups.com) with any questions or issues.\n",
    "- Documentation: http://immcantation.org\n",
    "- Source code and bug reports: https://bitbucket.org/kleinstein/immcantation\n",
    "- Docker/Singularity container for this lab: https://hub.docker.com/r/immcantation/lab"
   ]
  },
  {
   "cell_type": "markdown",
   "metadata": {},
   "source": [
    "## How to use the notebook\n",
    "\n",
    "Jupyter Notebook documentation: https://jupyter-notebook.readthedocs.io/en/stable/\n",
    "\n",
    "**Ctrl+Enter** will run the code in the selected cell and **Shift+Enter** will run the code and move to the following cell."
   ]
  },
  {
   "cell_type": "markdown",
   "metadata": {
    "slideshow": {
     "slide_type": "slide"
    }
   },
   "source": [
    "## Inside this container\n",
    "\n",
    "This container comes with software and example data that is ready to use. The commands `versions report` and `builds report` show the versions and dates respectively of the tools and data."
   ]
  },
  {
   "cell_type": "markdown",
   "metadata": {},
   "source": [
    "### Software versions\n",
    "Use this command to list the software versions"
   ]
  },
  {
   "cell_type": "code",
   "execution_count": 42,
   "metadata": {
    "cell_style": "center",
    "execution": {
     "iopub.execute_input": "2021-09-07T20:48:58.935921Z",
     "iopub.status.busy": "2021-09-07T20:48:58.935174Z",
     "iopub.status.idle": "2021-09-07T20:49:05.384273Z",
     "shell.execute_reply": "2021-09-07T20:49:05.383734Z"
    },
    "scrolled": true,
    "slideshow": {
     "slide_type": "-"
    }
   },
   "outputs": [
    {
     "name": "stdout",
     "output_type": "stream",
     "text": [
      "immcantation: devel\n",
      "date: 2021.11.01\n",
      "\n",
      "presto: 0.7.0\n",
      "changeo: 1.2.0\n",
      "alakazam: 1.2.0\n",
      "shazam: 1.1.0.999\n",
      "tigger: 1.0.0.999\n",
      "scoper: 1.2.0\n",
      "dowser: 0.1.0\n",
      "enchantr: 0.0.0\n",
      "prestor: 0.0.7\n",
      "rabhit: 0.1.5\n",
      "rdi: 1.0.0\n",
      "igphyml: 1.1.3\n",
      "\n",
      "airr-py: 1.3.1\n",
      "airr-r: 1.3.0\n",
      "blast: 2.9.0\n",
      "cd-hit: 4.8.1\n",
      "igblast: 1.17.1\n",
      "muscle: 3.8.425\n",
      "phylip: 3.697\n",
      "vsearch: 2.13.6\n"
     ]
    }
   ],
   "source": [
    "%%bash\n",
    "versions report"
   ]
  },
  {
   "cell_type": "markdown",
   "metadata": {
    "cell_style": "center",
    "slideshow": {
     "slide_type": "subslide"
    }
   },
   "source": [
    "### Build versions\n",
    "Use this command to list the date and changesets used during the image build."
   ]
  },
  {
   "cell_type": "code",
   "execution_count": 43,
   "metadata": {
    "cell_style": "center",
    "execution": {
     "iopub.execute_input": "2021-09-07T20:49:05.389569Z",
     "iopub.status.busy": "2021-09-07T20:49:05.388228Z",
     "iopub.status.idle": "2021-09-07T20:49:05.446113Z",
     "shell.execute_reply": "2021-09-07T20:49:05.446661Z"
    },
    "slideshow": {
     "slide_type": "-"
    }
   },
   "outputs": [
    {
     "name": "stdout",
     "output_type": "stream",
     "text": [
      "date: 2021-11-03 00:36:13 UTC\n",
      "immcantation: 4.2.0-48-gea6b5b4dcfd4+\n",
      "presto: 0.7.0-1-gb503b521e246\n",
      "changeo: 1.2.0\n",
      "alakazam: 1.2.0\n",
      "shazam: 1.1.0-15-g02106e891749\n",
      "tigger: 6c31d6a59167+\n",
      "rdi: d27b9067cab6+\n",
      "scoper: 1.2.0\n",
      "prestor: 0.0.7\n"
     ]
    }
   ],
   "source": [
    "%%bash\n",
    "builds report"
   ]
  },
  {
   "cell_type": "markdown",
   "metadata": {
    "cell_style": "center",
    "slideshow": {
     "slide_type": "subslide"
    }
   },
   "source": [
    "### Example data used in the tutorial\n",
    "\n",
    "\n",
    "- `../data/bcr_phylo_tutorial/BCR.data.tsv`: B-Cell Receptor Data. Adaptive Immune Receptor Repertoire (AIRR) tsv BCRs already aligned to IMGT V, D, and J genes. This process is not covered in this tutorial. To learn more visit  https://immcantation.readthedocs.io/en/stable/tutorials/tutorials.html\n",
    "\n",
    "\n",
    "- `../data/bcr_phylo_tutorial/GEX.data.rds`: Gene Expression Data. This file contains a Seurat object with RNA-seq data already processed and annotated. Processing and annotation are not covered in this tutorial. You can learn more on these topics in Seurat's documentation and tutorials: https://satijalab.org/seurat/articles/pbmc3k_tutorial.html\n",
    "\n",
    "These two files are subsamples of the original 10x scRNA-seq and BCR sequencing data from Turner et al. (2020) *Human germinal centres engage memory and naive B cells after influenza vaccination* Nature. 586, 127–132 [link](https://www.nature.com/articles/s41586-020-2711-0) The study consists of blood and limph node samples taken from a single patient at mulitple time points following influenza vaccination.\n",
    "\n",
    "Note: The example files are available for download [here](https://yale.box.com/shared/static/96y1rlu4ujerprxr53qxw87g7ybc1y99)."
   ]
  },
  {
   "cell_type": "markdown",
   "metadata": {
    "cell_style": "center",
    "slideshow": {
     "slide_type": "subslide"
    }
   },
   "source": [
    "## Outline of tutorial\n",
    "\n",
    "1. Combining gene expression and BCR sequences.\n",
    "\n",
    "1. Identifying clonal clusters, reconstruct germlines.\n",
    "\n",
    "1. Building and visualizing trees.\n",
    "\n",
    "1. Tree analysis, detecting ongoing evolution.\n",
    "\n",
    "\n"
   ]
  },
  {
   "cell_type": "markdown",
   "metadata": {
    "slideshow": {
     "slide_type": "slide"
    }
   },
   "source": [
    "## The R session\n"
   ]
  },
  {
   "cell_type": "markdown",
   "metadata": {
    "slideshow": {
     "slide_type": "-"
    }
   },
   "source": [
    "The next two lines of code are required to be able to use R magic and run R code in this Jupyter notebook."
   ]
  },
  {
   "cell_type": "code",
   "execution_count": 44,
   "metadata": {
    "slideshow": {
     "slide_type": "-"
    }
   },
   "outputs": [
    {
     "name": "stdout",
     "output_type": "stream",
     "text": [
      "The rpy2.ipython extension is already loaded. To reload it, use:\n",
      "  %reload_ext rpy2.ipython\n"
     ]
    }
   ],
   "source": [
    "# R for Python\n",
    "# Enable use of R magic to run R code\n",
    "import rpy2.rinterface\n",
    "%load_ext rpy2.ipython"
   ]
  },
  {
   "cell_type": "markdown",
   "metadata": {
    "slideshow": {
     "slide_type": "-"
    }
   },
   "source": [
    "The is the working directory:"
   ]
  },
  {
   "cell_type": "code",
   "execution_count": 45,
   "metadata": {
    "slideshow": {
     "slide_type": "-"
    }
   },
   "outputs": [
    {
     "name": "stdout",
     "output_type": "stream",
     "text": [
      "[1] \"/home/magus/notebooks\"\n"
     ]
    }
   ],
   "source": [
    "%%R\n",
    "getwd()"
   ]
  },
  {
   "cell_type": "markdown",
   "metadata": {
    "slideshow": {
     "slide_type": "-"
    }
   },
   "source": [
    "The example files are expected to be in `../data/bcr_phylo_tutorial`."
   ]
  },
  {
   "cell_type": "code",
   "execution_count": 46,
   "metadata": {
    "slideshow": {
     "slide_type": "-"
    }
   },
   "outputs": [
    {
     "name": "stdout",
     "output_type": "stream",
     "text": [
      "[1] \"BCR.data.final.tsv\" \"BCR.data.tsv\"       \"GEX.data.rds\"      \n"
     ]
    }
   ],
   "source": [
    "%%R\n",
    "list.files(\"../data/bcr_phylo_tutorial\")"
   ]
  },
  {
   "cell_type": "markdown",
   "metadata": {
    "slideshow": {
     "slide_type": "slide"
    }
   },
   "source": [
    "## Read in data\n",
    "\n",
    "The example files are expected to be in `../data/bcr_phylo_tutorial`. If you are using a different path, update the code in the cell bellow accordingly."
   ]
  },
  {
   "cell_type": "code",
   "execution_count": 47,
   "metadata": {
    "slideshow": {
     "slide_type": "-"
    }
   },
   "outputs": [],
   "source": [
    "%%R\n",
    "suppressPackageStartupMessages(library(alakazam))\n",
    "suppressPackageStartupMessages(library(Seurat))\n",
    "\n",
    "# Read BCR data\n",
    "bcr_db <- readChangeoDb(\"../data/bcr_phylo_tutorial/BCR.data.tsv\")\n",
    "\n",
    "# Read GEX data\n",
    "gex_db <- readRDS(\"../data/bcr_phylo_tutorial/GEX.data.rds\")\n"
   ]
  },
  {
   "cell_type": "markdown",
   "metadata": {
    "slideshow": {
     "slide_type": "slide"
    }
   },
   "source": [
    "## Inspect the data objects\n",
    "\n"
   ]
  },
  {
   "cell_type": "markdown",
   "metadata": {
    "slideshow": {
     "slide_type": "subslide"
    }
   },
   "source": [
    "## The gene expression Seurat object\n",
    "\n",
    "`print` can be used to obtain a general overview of the Seurat object (number of features, number of samples...)."
   ]
  },
  {
   "cell_type": "code",
   "execution_count": 48,
   "metadata": {
    "slideshow": {
     "slide_type": "-"
    }
   },
   "outputs": [
    {
     "name": "stdout",
     "output_type": "stream",
     "text": [
      "An object of class Seurat \n",
      "18989 features across 3865 samples within 1 assay \n",
      "Active assay: RNA (18989 features, 1726 variable features)\n",
      " 2 dimensional reductions calculated: pca, umap\n"
     ]
    }
   ],
   "source": [
    "%%R\n",
    "library(Seurat)\n",
    "# Object summary\n",
    "print(gex_db)"
   ]
  },
  {
   "cell_type": "markdown",
   "metadata": {
    "slideshow": {
     "slide_type": "subslide"
    }
   },
   "source": [
    "`Idents` reports the cell ID and identities. The first annotation in this blood sample is a TCR."
   ]
  },
  {
   "cell_type": "code",
   "execution_count": 49,
   "metadata": {
    "slideshow": {
     "slide_type": "-"
    }
   },
   "outputs": [
    {
     "name": "stdout",
     "output_type": "stream",
     "text": [
      "P05_FNA_12_Y1_TCACAAGTCAAACAAG \n",
      "                         CD4 T \n",
      "Levels: CD4 T Naive B CD8 T DC/Monocyte GC B NK RMB PB\n"
     ]
    }
   ],
   "source": [
    "%%R\n",
    "# Cell type annotations\n",
    "head(Idents(gex_db),1)"
   ]
  },
  {
   "cell_type": "markdown",
   "metadata": {
    "slideshow": {
     "slide_type": "subslide"
    }
   },
   "source": [
    "## The immune repertoire data\n",
    "\n",
    "The default file format for all functions in Immcantation is the AIRR-C format as of release 4.0.0. The rearrangement data is stored in a table where each row is a sequence, and each column an annotation fields. To learn more about this format (including the valid field names and their expected values), visit the [AIRR-C Rearrangement Schema documentation](https://docs.airr-community.org/en/stable/datarep/rearrangements.html#fields)."
   ]
  },
  {
   "cell_type": "code",
   "execution_count": 50,
   "metadata": {
    "slideshow": {
     "slide_type": "-"
    }
   },
   "outputs": [
    {
     "name": "stdout",
     "output_type": "stream",
     "text": [
      "# A tibble: 1 × 71\n",
      "  sequence_id sequence rev_comp productive v_call d_call j_call sequence_alignm…\n",
      "  <chr>       <chr>    <lgl>    <lgl>      <chr>  <chr>  <chr>  <chr>           \n",
      "1 CCACTACCAG… ATACTCT… NA       TRUE       IGHV4… IGHD3… IGHJ3… CAGGTGCAGCTGCAG…\n",
      "# … with 63 more variables: germline_alignment <lgl>, junction <chr>,\n",
      "#   junction_aa <lgl>, v_cigar <lgl>, d_cigar <lgl>, j_cigar <lgl>,\n",
      "#   vj_in_frame <lgl>, stop_codon <lgl>, v_sequence_start <dbl>,\n",
      "#   v_sequence_end <dbl>, v_germline_start <dbl>, v_germline_end <dbl>,\n",
      "#   np1_length <dbl>, d_sequence_start <dbl>, d_sequence_end <dbl>,\n",
      "#   d_germline_start <dbl>, d_germline_end <dbl>, np2_length <dbl>,\n",
      "#   j_sequence_start <dbl>, j_sequence_end <dbl>, j_germline_start <dbl>, …\n"
     ]
    }
   ],
   "source": [
    "%%R\n",
    "suppressPackageStartupMessages(library(dplyr))\n",
    "# Object summary\n",
    "head(bcr_db,1)"
   ]
  },
  {
   "cell_type": "markdown",
   "metadata": {
    "slideshow": {
     "slide_type": "subslide"
    }
   },
   "source": [
    "It is possible to subset columns using regular `R` functions. The cell below shows how to subset some fields of interest for the first sequence in the table."
   ]
  },
  {
   "cell_type": "code",
   "execution_count": 51,
   "metadata": {
    "slideshow": {
     "slide_type": "-"
    }
   },
   "outputs": [
    {
     "name": "stdout",
     "output_type": "stream",
     "text": [
      "# A tibble: 1 × 5\n",
      "  cell_id            v_call      j_call   sample            day\n",
      "  <chr>              <chr>       <chr>    <chr>           <dbl>\n",
      "1 CCACTACCAGTATCTG-1 IGHV4-59*01 IGHJ3*02 P05_FNA_3_12_Y1    12\n"
     ]
    }
   ],
   "source": [
    "%%R\n",
    "# check out select columns\n",
    "head(select(bcr_db, cell_id, v_call, j_call, sample, day),1)"
   ]
  },
  {
   "cell_type": "markdown",
   "metadata": {
    "slideshow": {
     "slide_type": "slide"
    }
   },
   "source": [
    "## Standardize cell IDs\n",
    "\n",
    "Both of the example datasets have been processed separately, and use slighty different cell identifiers. To consolidate the data into one object, we need to standardize the cell identifiers. This step could be different, or not necessary at all, with other datasets."
   ]
  },
  {
   "cell_type": "code",
   "execution_count": 52,
   "metadata": {
    "slideshow": {
     "slide_type": "-"
    }
   },
   "outputs": [
    {
     "name": "stdout",
     "output_type": "stream",
     "text": [
      "[1] \"P05_FNA_3_12_Y1_CCACTACCAGTATCTG\"\n"
     ]
    }
   ],
   "source": [
    "%%R\n",
    "# Make cell IDs in BCR match those in Seurat Object\n",
    "bcr_db$cell_id_unique = paste0(bcr_db$sample, \"_\", bcr_db$cell_id)\n",
    "bcr_db$cell_id_unique = gsub(\"-1\",\"\", bcr_db$cell_id_unique)\n",
    "bcr_db$cell_id_unique[1]"
   ]
  },
  {
   "cell_type": "markdown",
   "metadata": {
    "slideshow": {
     "slide_type": "slide"
    }
   },
   "source": [
    "## Different order\n",
    "\n",
    "In addition, the cells in both datasets are not presented in the same order."
   ]
  },
  {
   "cell_type": "code",
   "execution_count": 53,
   "metadata": {
    "cell_style": "center",
    "slideshow": {
     "slide_type": "-"
    }
   },
   "outputs": [
    {
     "name": "stdout",
     "output_type": "stream",
     "text": [
      "[1] \"P05_FNA_3_12_Y1_CCACTACCAGTATCTG\"\n"
     ]
    }
   ],
   "source": [
    "%%R\n",
    "# First id in the BCR data\n",
    "bcr_db$cell_id_unique[1]"
   ]
  },
  {
   "cell_type": "code",
   "execution_count": 54,
   "metadata": {
    "cell_style": "center",
    "slideshow": {
     "slide_type": "-"
    }
   },
   "outputs": [
    {
     "name": "stdout",
     "output_type": "stream",
     "text": [
      "[1] \"P05_FNA_12_Y1_TCACAAGTCAAACAAG\"\n"
     ]
    }
   ],
   "source": [
    "%%R\n",
    "# First id in the GEX data\n",
    "Cells(gex_db)[1]"
   ]
  },
  {
   "cell_type": "markdown",
   "metadata": {
    "slideshow": {
     "slide_type": "-"
    }
   },
   "source": [
    "Having common cell identifiers, we will be able to bring BCR data into the Seurat object, or the gene expression and annotation data from the Seurat object into the BCR table, by matching `cell_id_unique`."
   ]
  },
  {
   "cell_type": "markdown",
   "metadata": {
    "slideshow": {
     "slide_type": "slide"
    }
   },
   "source": [
    "## Add BCR data to Seurat object\n",
    "\n",
    "1. Find the GEX cells in the BCR data\n",
    "\n",
    "1. Label GEX data with BCR data availability\n",
    "\n",
    "1. Plot UMAP"
   ]
  },
  {
   "cell_type": "markdown",
   "metadata": {
    "slideshow": {
     "slide_type": "subslide"
    }
   },
   "source": [
    "### Find the GEX cells in the BCR data\n",
    "\n",
    "The vector `match.index` contains the position of the GEX cells in the BCR data. If there is not match, the value will be `NA`."
   ]
  },
  {
   "cell_type": "code",
   "execution_count": 55,
   "metadata": {
    "slideshow": {
     "slide_type": "-"
    }
   },
   "outputs": [
    {
     "name": "stdout",
     "output_type": "stream",
     "text": [
      "[1] 0.2455369\n"
     ]
    }
   ],
   "source": [
    "%%R\n",
    "# match index to find the position of the GEX cells in the BCR data\n",
    "match.index = match(Cells(gex_db), bcr_db$cell_id_unique)\n",
    "\n",
    "# In this data, not all cells are B cells. \n",
    "# What proportion of cells don’t have BCRs?\n",
    "mean(is.na(match.index))"
   ]
  },
  {
   "cell_type": "code",
   "execution_count": 56,
   "metadata": {
    "slideshow": {
     "slide_type": "-"
    }
   },
   "outputs": [
    {
     "name": "stdout",
     "output_type": "stream",
     "text": [
      "[1] 1\n"
     ]
    }
   ],
   "source": [
    "%%R\n",
    "# Just to double check cell ids in the GEX match cells ids in BCR data\n",
    "# Should be 1\n",
    "mean(Cells(gex_db) == bcr_db$cell_id_unique[match.index],na.rm=TRUE)\n"
   ]
  },
  {
   "cell_type": "markdown",
   "metadata": {
    "slideshow": {
     "slide_type": "subslide"
    }
   },
   "source": [
    "### Label GEX data with BCR data availability\n",
    "\n",
    "\n",
    "With the matching indices, it is possible to label the GEX cells with `TRUE` or `FALSE` to indicate whether there is BCR information available for the cell, and visualize this information in the UMAP plot."
   ]
  },
  {
   "cell_type": "code",
   "execution_count": 57,
   "metadata": {
    "slideshow": {
     "slide_type": "-"
    }
   },
   "outputs": [],
   "source": [
    "%%R\n",
    "\n",
    "# label whether BCR found in cell\n",
    "gex_db$contains_bcr = !is.na(match.index)\n",
    "\n"
   ]
  },
  {
   "cell_type": "markdown",
   "metadata": {
    "slideshow": {
     "slide_type": "subslide"
    }
   },
   "source": [
    "### plot UMAP\n",
    "\n",
    "We expect that for a large proportion of cells labelled as BCR, there will be BCR sequencing data available, and these cells will be highlighted in the UMAP plot."
   ]
  },
  {
   "cell_type": "code",
   "execution_count": 58,
   "metadata": {
    "slideshow": {
     "slide_type": "-"
    }
   },
   "outputs": [
    {
     "data": {
      "image/png": "[encoded data removed]"
     },
     "metadata": {},
     "output_type": "display_data"
    }
   ],
   "source": [
    "%%R\n",
    "\n",
    "# List of cells with BCRs\n",
    "highlighted.cells = Cells(gex_db)[which(gex_db$contains_bcr)]\n",
    "\n",
    "# Plot UMAP with BCR-containing cells\n",
    "DimPlot(object = gex_db, reduction = \"umap\", cells.highlight = highlighted.cells, label =\n",
    "   TRUE, cols=\"gray\", pt.size = 1.0, label.size=8, label.box=TRUE) + NoLegend()\n",
    "\n"
   ]
  },
  {
   "cell_type": "markdown",
   "metadata": {
    "slideshow": {
     "slide_type": "slide"
    }
   },
   "source": [
    "## Add GEX data to BCR object\n",
    "\n",
    "1. Find the BCR cells in the GEX data\n",
    "\n",
    "1. Transfer GEX annotations into the BCR data\n",
    "\n",
    "1. Add UMAP coordinates to the BCR data\n",
    "\n",
    "1. Remove cells without GEX data\n",
    "\n",
    "1. Ensure information transferred from Seurat object"
   ]
  },
  {
   "cell_type": "markdown",
   "metadata": {
    "slideshow": {
     "slide_type": "subslide"
    }
   },
   "source": [
    "### Find the BCR cells in the GEX data\n",
    "\n",
    "We repeat the `match` step, reversing the order. The vector `match.index` will now contain the positions of the BCR sequences in the GEX data.\n"
   ]
  },
  {
   "cell_type": "code",
   "execution_count": 59,
   "metadata": {
    "slideshow": {
     "slide_type": "-"
    }
   },
   "outputs": [],
   "source": [
    "%%R\n",
    "\n",
    "# Match indices to find the position of the BCR cells in the GEX data\n",
    "# Different from finding the position of the GEX cells in the BCR data!\n",
    "match.index = match(bcr_db$cell_id_unique, Cells(gex_db))"
   ]
  },
  {
   "cell_type": "markdown",
   "metadata": {},
   "source": [
    "Some BCRs don't have GEX information. This can happen, for example, if the cell for which BCR's are covered didn't pass the GEX processing and quality controls thresholds."
   ]
  },
  {
   "cell_type": "code",
   "execution_count": 60,
   "metadata": {
    "slideshow": {
     "slide_type": "-"
    }
   },
   "outputs": [
    {
     "name": "stdout",
     "output_type": "stream",
     "text": [
      "[1] 0.09243697\n"
     ]
    }
   ],
   "source": [
    "%%R\n",
    "# What proportion of BCRs don’t have GEX information?\n",
    "mean(is.na(match.index))"
   ]
  },
  {
   "cell_type": "markdown",
   "metadata": {
    "slideshow": {
     "slide_type": "subslide"
    }
   },
   "source": [
    "### Transfer GEX annotations into the BCR data\n",
    "\n",
    "The GEX cell annotations can be added as additional columns in the BCR table."
   ]
  },
  {
   "cell_type": "code",
   "execution_count": 61,
   "metadata": {
    "slideshow": {
     "slide_type": "-"
    }
   },
   "outputs": [
    {
     "name": "stdout",
     "output_type": "stream",
     "text": [
      "[1] NA        \"Naive B\" \"Naive B\" NA        \"GC B\"   \n"
     ]
    }
   ],
   "source": [
    "%%R\n",
    "\n",
    "# Add annotations to BCR data\n",
    "cell.annotation = as.character(Idents(gex_db))\n",
    "bcr_db$gex_annotation= unlist(lapply(match.index,function(x){ifelse(is.na(x),NA, cell.annotation[x])}))\n",
    "bcr_db$gex_annotation[1:5]"
   ]
  },
  {
   "cell_type": "markdown",
   "metadata": {
    "slideshow": {
     "slide_type": "subslide"
    }
   },
   "source": [
    "### Add UMAP coordinates to BCR data\n",
    "\n",
    "The UMAP coordinates can be added as additional columns in the BCR table as well."
   ]
  },
  {
   "cell_type": "code",
   "execution_count": 62,
   "metadata": {
    "slideshow": {
     "slide_type": "-"
    }
   },
   "outputs": [
    {
     "name": "stdout",
     "output_type": "stream",
     "text": [
      "# A tibble: 5 × 4\n",
      "  cell_id_unique                   gex_umap1 gex_umap2 gex_annotation\n",
      "  <chr>                                <dbl>     <dbl> <chr>         \n",
      "1 P05_FNA_3_12_Y1_CCACTACCAGTATCTG     NA        NA    <NA>          \n",
      "2 P05_FNA_5_Y1_GACTGCGCAAGCCTAT         7.96     -5.60 Naive B       \n",
      "3 P05_FNA_60_Y1_GGCAATTAGACAGAGA        8.65     -4.55 Naive B       \n",
      "4 P05_FNA_2_5_Y1_CGCGTTTCAGATGGGT      NA        NA    <NA>          \n",
      "5 P05_FNA_2_60_Y1_AGTGTCACACTGTTAG      6.15      8.44 GC B          \n"
     ]
    }
   ],
   "source": [
    "%%R\n",
    "# Add UMAP coordinates to BCR data\n",
    "umap1 = gex_db@reductions$umap@cell.embeddings[,1]\n",
    "umap2 = gex_db@reductions$umap@cell.embeddings[,2]\n",
    "bcr_db$gex_umap1= unlist(lapply(match.index, function(x){ifelse(is.na(x),NA, umap1[x])}))\n",
    "bcr_db$gex_umap2= unlist(lapply(match.index, function(x){ifelse(is.na(x),NA, umap2[x])}))\n",
    "bcr_db[1:5,] %>%\n",
    "select(cell_id_unique,gex_umap1,gex_umap2,gex_annotation)"
   ]
  },
  {
   "cell_type": "markdown",
   "metadata": {
    "slideshow": {
     "slide_type": "subslide"
    }
   },
   "source": [
    "### Remove cells without GEX data"
   ]
  },
  {
   "cell_type": "code",
   "execution_count": 63,
   "metadata": {
    "slideshow": {
     "slide_type": "-"
    }
   },
   "outputs": [],
   "source": [
    "%%R\n",
    "# Remove cells that didn’t match\n",
    "bcr_db = filter(bcr_db, !is.na(gex_annotation))"
   ]
  },
  {
   "cell_type": "markdown",
   "metadata": {
    "slideshow": {
     "slide_type": "subslide"
    }
   },
   "source": [
    "### Ensure information transferred from Seurat object\n",
    "\n",
    "The BCR data table now has the UMAP coordinates. We can reproduce **part** of the UMAP plot with standard `ggplot` commands. This plot will have a similar shape to the GEX UMAP, but will only show points for which both GEX and BCR data is available."
   ]
  },
  {
   "cell_type": "code",
   "execution_count": 64,
   "metadata": {
    "cell_style": "center",
    "slideshow": {
     "slide_type": "-"
    }
   },
   "outputs": [
    {
     "data": {
      "image/png": "[encoded data removed]"
     },
     "metadata": {},
     "output_type": "display_data"
    }
   ],
   "source": [
    "%%R\n",
    "suppressPackageStartupMessages(library(ggplot2))\n",
    "# Set up color palette for annotations\n",
    "col_anno = c(\n",
    "   \"GC B\"=\"dodgerblue2\", \"PB\"=\"firebrick2\", \"ABC\"=\"seagreen\",\n",
    "   \"Naive B\"=\"darkgoldenrod2\", \"RMB\"=\"plum2\", \"Germline\"=\"black\")\n",
    "# Plot UMAP from bcr_db\n",
    "bcr_umap <- ggplot(bcr_db) +\n",
    "   geom_point(aes(x = gex_umap1, y = gex_umap2, color = gex_annotation)) +\n",
    "   scale_colour_manual(values=col_anno) +\n",
    "   theme_bw()\n",
    "bcr_umap"
   ]
  },
  {
   "cell_type": "markdown",
   "metadata": {
    "slideshow": {
     "slide_type": "subslide"
    }
   },
   "source": [
    "### Color the UMAP by isotype\n",
    "\n",
    "The BCR data frame contains additional annotation fields, such us the isotype, that can also be visualized on the UMAP. We expect that naive cell express IgM. The germinal center and plasmablast cells, primarily express IgG and IgA."
   ]
  },
  {
   "cell_type": "code",
   "execution_count": 65,
   "metadata": {
    "slideshow": {
     "slide_type": "subslide"
    }
   },
   "outputs": [
    {
     "data": {
      "image/png": "[encoded data removed]"
     },
     "metadata": {},
     "output_type": "display_data"
    }
   ],
   "source": [
    "%%R\n",
    "# Plot isotype on UMAP\n",
    "ggplot(bcr_db) +\n",
    "   geom_point(aes(x=gex_umap1,y = gex_umap2,color = isotype)) +\n",
    "   theme_bw()"
   ]
  },
  {
   "cell_type": "markdown",
   "metadata": {
    "slideshow": {
     "slide_type": "slide"
    }
   },
   "source": [
    "## Identifying clonal clusters\n",
    "\n",
    "\n",
    "**Goal:** Partition (cluster) sequences into clonally related lineages. Each lineage is a group of sequences that came from the same original naive cell.\n",
    "\n",
    "Summary of the key steps:\n",
    "- *Determine clonal clustering threshold:* sequences which are under this cut-off are clonally related.\n",
    "- *Assign clonal groups:* add an annotation (`clone_id`) that can be used to identify a group of sequences that came from the same original naive cell.\n",
    "- *Reconstruct germline sequences:* figure out the germline sequence of the common ancestor, before mutations are introduced during clonal expansion and SMH.\n",
    "\n",
    "![](assets/clonalexpansion.png)\n"
   ]
  },
  {
   "cell_type": "markdown",
   "metadata": {
    "slideshow": {
     "slide_type": "subslide"
    }
   },
   "source": [
    "### Picking a threshold using shazam\n",
    "\n",
    "*Gupta et al. (2015)*\n",
    "\n",
    "<img src=\"assets/hclust.png\" width=\"35%\" align=\"left\"><img src=\"assets/distNearest.png\" width=\"30%\" align=\"left\">\n",
    "\n",
    "We first split sequences into groups that share the same V and J gene assignments and that have the same junction (or equivalently CDR3) length. This is based on the assumption that members of a clone will share all of these properties. `distToNearest` performs this grouping step, then counts the number of mismatches in the junction region between all pairs of sequences in eaach group and returns the smallest non-zero value for each sequence. At the end of this step, a new column (`dist_nearest`) which contains the distances to the closest non-identical sequence in each group will be added to the BCR table. `findThreshold` uses the distribution of distances calculated in the previous step to determine an appropriate threshold for the dataset. This can be done using either a `density` or `mixture` based method. "
   ]
  },
  {
   "cell_type": "markdown",
   "metadata": {
    "slideshow": {
     "slide_type": "subslide"
    }
   },
   "source": [
    "### distToNearest"
   ]
  },
  {
   "cell_type": "code",
   "execution_count": 66,
   "metadata": {
    "slideshow": {
     "slide_type": "-"
    }
   },
   "outputs": [
    {
     "name": "stdout",
     "output_type": "stream",
     "text": [
      "# A tibble: 6 × 2\n",
      "  cell_id_unique                   dist_nearest\n",
      "  <chr>                                   <dbl>\n",
      "1 P05_FNA_5_Y1_GACTGCGCAAGCCTAT          0.0667\n",
      "2 P05_FNA_60_Y1_GGCAATTAGACAGAGA         0.0667\n",
      "3 P05_FNA_2_60_Y1_AGTGTCACACTGTTAG       0.0196\n",
      "4 P05_FNA_2_60_Y1_CGGGTCAGTCTGGAGA       0.0196\n",
      "5 P05_FNA_60_Y1_ACTGATGTCCTAGAAC         0.0196\n",
      "6 P05_FNA_60_Y1_CTGAAACAGTGAAGTT         0.0196\n"
     ]
    }
   ],
   "source": [
    "%%R\n",
    "suppressPackageStartupMessages(library(shazam))\n",
    "# Find threshold using heavy chains\n",
    "dist_ham <- distToNearest(filter(bcr_db, locus==\"IGH\"))\n",
    "head(dist_ham) %>%\n",
    "select(cell_id_unique, dist_nearest)\n"
   ]
  },
  {
   "cell_type": "markdown",
   "metadata": {
    "slideshow": {
     "slide_type": "subslide"
    }
   },
   "source": [
    "### findThreshold\n",
    "\n",
    "The figure shows the distance-to-nearest distribution for the repertoire. Typically, the distribution is bimodal. The first mode (on the left) represents sequences that have at least one clonal relative in the dataset, while the second mode (on the right) is representative of the sequences that do not have any clonal relatives in the data (sometimes called \"singletons\"). A reasonable threshold will separate these two modes of the distribution."
   ]
  },
  {
   "cell_type": "code",
   "execution_count": 67,
   "metadata": {
    "slideshow": {
     "slide_type": "-"
    }
   },
   "outputs": [
    {
     "data": {
      "image/png": "[encoded data removed]"
     },
     "metadata": {},
     "output_type": "display_data"
    }
   ],
   "source": [
    "%%R\n",
    "output <- findThreshold(dist_ham$dist_nearest)\n",
    "threshold <- output@threshold\n",
    "# Visualize the distance-to-nearest distribution and threshold\n",
    "plotDensityThreshold(output)\n"
   ]
  },
  {
   "cell_type": "markdown",
   "metadata": {
    "slideshow": {
     "slide_type": "subslide"
    }
   },
   "source": [
    "### Performing clustering using scoper\n",
    "\n",
    "Once a threshold is decided, we perform the clonal assignment. At the end of this step, the BCR table will have an additional column (`clone_id`) that provides an identifier for each sequence to indicate which clone it belongs to (i.e., sequences that have the same identifier are clonally-related). *Note that these identifiers are only unique to the dataset used to carry out the clonal assignments.*\n",
    "\n",
    "Note: will print out “running in bulk mode” because the subsampled example data has only heavy chains. [Other options](https://scoper.readthedocs.io/en/stable/topics/hierarchicalClones/#single-cell-data) available if light chains are included.\n"
   ]
  },
  {
   "cell_type": "code",
   "execution_count": 68,
   "metadata": {
    "scrolled": true,
    "slideshow": {
     "slide_type": "-"
    }
   },
   "outputs": [
    {
     "name": "stderr",
     "output_type": "stream",
     "text": [
      "R[write to console]: Running defineClonesScoper in bulk mode\n",
      "\n"
     ]
    },
    {
     "name": "stdout",
     "output_type": "stream",
     "text": [
      "                    cell_id_unique clone_id\n",
      "1 P05_FNA_3_28_Y1_ATGCGATCAACTGCTA        1\n",
      "2 P05_FNA_2_60_Y1_GCATGTAGTTATGTGC        1\n",
      "3 P05_FNA_2_60_Y1_TACAGTGAGGCGACAT        1\n",
      "4 P05_FNA_2_60_Y1_ACGGCCAGTCGCATAT        2\n",
      "5   P05_FNA_12_Y1_CACACCTTCTACCAGA        2\n",
      "6 P05_FNA_2_60_Y1_TTGGCAAAGAGTAAGG        3\n"
     ]
    }
   ],
   "source": [
    "%%R\n",
    "suppressPackageStartupMessages(library(scoper))\n",
    "# Assign clonal clusters\n",
    "results <- hierarchicalClones(dist_ham,threshold=threshold)\n",
    "results_db <- as.data.frame(results)\n",
    "head(results_db) %>%\n",
    "select(cell_id_unique, clone_id)"
   ]
  },
  {
   "cell_type": "markdown",
   "metadata": {
    "slideshow": {
     "slide_type": "subslide"
    }
   },
   "source": [
    "### Visualize clone size distribution\n",
    "\n",
    "Most real datasets, will have most clones of size 1 (one sequence). In this tutorial, we processed data to remove most of singleton clone and we don't see the much higher peak at 1 that we would normally expect."
   ]
  },
  {
   "cell_type": "code",
   "execution_count": 69,
   "metadata": {
    "slideshow": {
     "slide_type": "-"
    }
   },
   "outputs": [
    {
     "data": {
      "image/png": "[encoded data removed]"
     },
     "metadata": {},
     "output_type": "display_data"
    }
   ],
   "source": [
    "%%R\n",
    "# get clone sizes using dplyr functions\n",
    "clone_sizes <- countClones(results_db)\n",
    "# Plot cells per clone\n",
    "ggplot(clone_sizes, aes(x=seq_count))+\n",
    "geom_bar() + theme_bw() +\n",
    "xlab(\"Sequences per clone\")\n",
    "\n"
   ]
  },
  {
   "cell_type": "markdown",
   "metadata": {
    "slideshow": {
     "slide_type": "subslide"
    }
   },
   "source": [
    "## Reconstruct clonal germlines using dowser\n",
    "\n",
    "The goal is to reconstruct the sequence of the unmutated ancestor of each clone. We use a reference database of known alleles ([IMGT](http://www.imgt.org)). Because it is very difficult to ccurately infer the D region and the junction region for BCR sequences, we mask this region with `N`. \n",
    "\n",
    "Note: If you opted for a native installation to run this tutorial, you can obtain reference germlines from IMGT with:\n",
    "```\n",
    "    git clone https://bitbucket.org/kleinstein/immcantation\n",
    "    immcantation/scripts/fetch_imgtdb.sh\n",
    "```"
   ]
  },
  {
   "cell_type": "code",
   "execution_count": 70,
   "metadata": {
    "scrolled": true,
    "slideshow": {
     "slide_type": "-"
    }
   },
   "outputs": [
    {
     "name": "stdout",
     "output_type": "stream",
     "text": [
      "[1] \"Read in 1115 from 17 fasta files\"\n",
      "<simpleError in rep(\"V\", nchar(v_seq)): invalid 'times' argument>\n",
      "<simpleError in rep(\"V\", nchar(v_seq)): invalid 'times' argument>\n",
      "[1] \"CAGGTGCAGCTGCAGGAGTCGGGCCCA...GGACTGGTGAAGCCTTCGGAGACCCTGTCCCTCACCTGCGCTGTCTCTGGTTACTCCATCAGC.........AGTGGTTACTACTGGGGCTGGATCCGGCAGCCCCCAGGGAAGGGGCTGGAGTGGATTGGGAGTATCTATCATAGT.........GGGAGCACCTACTACAACCCGTCCCTCAAG...AGTCGAGTCACCATATCAGTAGACACGTCCAAGAACCAGTTCTCCCTGAAGCTGAGCTCTGTGACCGCCGCAGACACGGCCGTGTATTACTGTGCGAGANNNNNNNNNNNNNNNNNNNNNNNNTTTGACTACTGGGGCCAGGGAACCCTGGTCACCGTCTCCTCAG\"\n"
     ]
    }
   ],
   "source": [
    "%%R\n",
    "suppressPackageStartupMessages(library(dowser))\n",
    "\n",
    "# read in IMGT data if downloaded on your own (above)\n",
    "# and update `dir` to use the path to your `human/vdj` folder\n",
    "# references = readIMGT(dir = \"human/vdj/\")\n",
    "\n",
    "# read in IMGT data if using in Docker image\n",
    "references = readIMGT(dir = \"/usr/local/share/germlines/imgt/human/vdj\")\n",
    "# Reconstruct germlines\n",
    "results_db = createGermlines(results_db, references)\n",
    "# Check output column\n",
    "results_db$germline_alignment_d_mask[1]\n"
   ]
  },
  {
   "cell_type": "markdown",
   "metadata": {
    "slideshow": {
     "slide_type": "slide"
    }
   },
   "source": [
    "# Building and visualizing trees\n",
    "\n",
    "1. Formatting clones\n",
    "\n",
    "1. Tree building\n",
    "\n",
    "1. Visualize trees\n",
    "\n",
    "1.  Reconstruct intermediate sequences"
   ]
  },
  {
   "cell_type": "markdown",
   "metadata": {
    "slideshow": {
     "slide_type": "subslide"
    }
   },
   "source": [
    "## Formatting clones with dowser\n",
    "\n",
    "In the rearrrangemnt table, each row corresponds to a sequence, and each column is information about that sequence. We will create a new data structure, where each row is a clonal cluster, and each column is information about that clonal cluster. The function `formatClones` performs this processing and has options that are relevant to determine how the trees can be built and visualized. For example, `traits` determines the columns from the rearrangement data that will be included in the `clones` object, and will also be used to determine the uniqueness of the sequences, so they are not collapsed.\n"
   ]
  },
  {
   "cell_type": "code",
   "execution_count": 71,
   "metadata": {
    "slideshow": {
     "slide_type": "-"
    }
   },
   "outputs": [
    {
     "name": "stdout",
     "output_type": "stream",
     "text": [
      "|======================================================|100% ~0 s remaining                                                                                                                   # A tibble: 66 × 4\n",
      "   clone_id data       locus  seqs\n",
      "   <chr>    <list>     <chr> <int>\n",
      " 1 403      <airrClon> IGH      16\n",
      " 2 457      <airrClon> IGH      15\n",
      " 3 512      <airrClon> IGH      15\n",
      " 4 823      <airrClon> IGH      15\n",
      " 5 12       <airrClon> IGH      13\n",
      " 6 539      <airrClon> IGH      13\n",
      " 7 446      <airrClon> IGH      12\n",
      " 8 1006     <airrClon> IGH       9\n",
      " 9 1125     <airrClon> IGH       9\n",
      "10 442      <airrClon> IGH       9\n",
      "# … with 56 more rows\n"
     ]
    }
   ],
   "source": [
    "%%R\n",
    "# Make clone objects with aligned, processed sequences\n",
    "# collapse identical sequences unless differ by trait\n",
    "# add up duplicate_count column for collapsed sequences\n",
    "# store day, isotype, gex_annotation\n",
    "# discard clones with < 5 distinct sequences\n",
    "clones = formatClones(results_db,\n",
    "   traits = c(\"day\", \"isotype\", \"gex_annotation\"),\n",
    "   num_fields=c(\"duplicate_count\"), minseq=5)\n",
    "clones"
   ]
  },
  {
   "cell_type": "markdown",
   "metadata": {
    "slideshow": {
     "slide_type": "subslide"
    }
   },
   "source": [
    "## Tree building with dowser\n",
    "\n",
    "Dowser offers multiple ways to build B cell phylogenetic trees. These differ by the method used to estimate tree topology and branch lengths (e.g. maximum parsimony and maximum likelihood) and implementation (IgPhyML, PHYLIP, or R packages ape and phangorn). Each method has pros and cons."
   ]
  },
  {
   "cell_type": "markdown",
   "metadata": {
    "slideshow": {
     "slide_type": "subslide"
    }
   },
   "source": [
    "### Maximum parsimony\n",
    "\n",
    "This is the oldest method and very popular. It tries to minimize the number of mutations from the germline to each of the tips. It can produce misleading results when parallel mutations are present."
   ]
  },
  {
   "cell_type": "code",
   "execution_count": 72,
   "metadata": {
    "slideshow": {
     "slide_type": "-"
    }
   },
   "outputs": [],
   "source": [
    "%%R\n",
    "# Two options for maximum parsimony trees\n",
    "# 1. phangorn\n",
    "trees = getTrees(clones)"
   ]
  },
  {
   "cell_type": "code",
   "execution_count": 73,
   "metadata": {
    "slideshow": {
     "slide_type": "-"
    }
   },
   "outputs": [
    {
     "name": "stdout",
     "output_type": "stream",
     "text": [
      "# A tibble: 6 × 5\n",
      "  clone_id data       locus  seqs trees  \n",
      "  <chr>    <list>     <chr> <int> <list> \n",
      "1 403      <airrClon> IGH      16 <phylo>\n",
      "2 457      <airrClon> IGH      15 <phylo>\n",
      "3 512      <airrClon> IGH      15 <phylo>\n",
      "4 823      <airrClon> IGH      15 <phylo>\n",
      "5 12       <airrClon> IGH      13 <phylo>\n",
      "6 539      <airrClon> IGH      13 <phylo>\n"
     ]
    }
   ],
   "source": [
    "%%R\n",
    "# 2. dnapars (PHYLIP)\n",
    "trees = getTrees(clones, build=\"dnapars\", exec=\"/usr/local/bin/dnapars\")\n",
    "head(trees)"
   ]
  },
  {
   "cell_type": "markdown",
   "metadata": {
    "slideshow": {
     "slide_type": "subslide"
    }
   },
   "source": [
    "### Standard maximum likelihood\n",
    "\n",
    "These methods model each sequence separately. Use a markov model of the mutation process and try to find the tree, not the branch lengths, that maximizes the likehood of seen data."
   ]
  },
  {
   "cell_type": "code",
   "execution_count": 74,
   "metadata": {
    "slideshow": {
     "slide_type": "subslide"
    }
   },
   "outputs": [
    {
     "name": "stdout",
     "output_type": "stream",
     "text": [
      "[1] \"sub_model GTR\"\n",
      "optimize edge weights:  -1558.412 --> -1549.357 \n",
      "optimize base frequencies:  -1549.357 --> -1545.877 \n",
      "optimize rate matrix:  -1545.877 --> -1532.272 \n",
      "optimize edge weights:  -1532.272 --> -1532.212 \n",
      "optimize topology:  -1532.212 --> -1532.212 \n",
      "0 \n",
      "optimize base frequencies:  -1532.212 --> -1531.64 \n",
      "optimize rate matrix:  -1531.64 --> -1531.575 \n",
      "optimize edge weights:  -1531.575 --> -1531.568 \n",
      "optimize base frequencies:  -1531.568 --> -1531.56 \n",
      "optimize rate matrix:  -1531.56 --> -1531.559 \n",
      "optimize edge weights:  -1531.559 --> -1531.559 \n",
      "optimize base frequencies:  -1531.559 --> -1531.558 \n",
      "optimize rate matrix:  -1531.558 --> -1531.558 \n",
      "optimize edge weights:  -1531.558 --> -1531.558 \n",
      "optimize base frequencies:  -1531.558 --> -1531.558 \n",
      "optimize rate matrix:  -1531.558 --> -1531.558 \n",
      "optimize edge weights:  -1531.558 --> -1531.558 \n",
      "[1] \"sub_model GTR\"\n",
      "optimize edge weights:  -1157.811 --> -1155.287 \n",
      "optimize base frequencies:  -1155.287 --> -1152.879 \n",
      "optimize rate matrix:  -1152.879 --> -1138.8 \n",
      "optimize edge weights:  -1138.8 --> -1138.786 \n",
      "optimize topology:  -1138.786 --> -1137.469 \n",
      "optimize topology:  -1137.469 --> -1136.243 \n",
      "optimize topology:  -1136.243 --> -1136.243 \n",
      "2 \n",
      "optimize base frequencies:  -1136.243 --> -1136.175 \n",
      "optimize rate matrix:  -1136.175 --> -1136.105 \n",
      "optimize edge weights:  -1136.105 --> -1136.105 \n",
      "optimize topology:  -1136.105 --> -1136.105 \n",
      "0 \n",
      "optimize base frequencies:  -1136.105 --> -1136.101 \n",
      "optimize rate matrix:  -1136.101 --> -1136.101 \n",
      "optimize edge weights:  -1136.101 --> -1136.101 \n",
      "optimize base frequencies:  -1136.101 --> -1136.101 \n",
      "optimize rate matrix:  -1136.101 --> -1136.101 \n",
      "optimize edge weights:  -1136.101 --> -1136.101 \n",
      "[1] \"sub_model GTR\"\n",
      "optimize edge weights:  -1124.14 --> -1122.753 \n",
      "optimize base frequencies:  -1122.753 --> -1118.078 \n",
      "optimize rate matrix:  -1118.078 --> -1103.031 \n",
      "optimize edge weights:  -1103.031 --> -1103.018 \n",
      "optimize topology:  -1103.018 --> -1103.018 \n",
      "0 \n",
      "optimize base frequencies:  -1103.018 --> -1102.86 \n",
      "optimize rate matrix:  -1102.86 --> -1102.852 \n",
      "optimize edge weights:  -1102.852 --> -1102.851 \n",
      "optimize base frequencies:  -1102.851 --> -1102.85 \n",
      "optimize rate matrix:  -1102.85 --> -1102.85 \n",
      "optimize edge weights:  -1102.85 --> -1102.85 \n",
      "optimize base frequencies:  -1102.85 --> -1102.85 \n",
      "optimize rate matrix:  -1102.85 --> -1102.85 \n",
      "optimize edge weights:  -1102.85 --> -1102.85 \n",
      "[1] \"sub_model GTR\"\n",
      "optimize edge weights:  -2252.365 --> -2241.291 \n",
      "optimize base frequencies:  -2241.291 --> -2235.463 \n",
      "optimize rate matrix:  -2235.463 --> -2170.443 \n",
      "optimize edge weights:  -2170.443 --> -2169.929 \n",
      "optimize topology:  -2169.929 --> -2168.433 \n",
      "optimize topology:  -2168.433 --> -2167.202 \n",
      "optimize topology:  -2167.202 --> -2167.202 \n",
      "2 \n",
      "optimize base frequencies:  -2167.202 --> -2166.973 \n",
      "optimize rate matrix:  -2166.973 --> -2166.921 \n",
      "optimize edge weights:  -2166.921 --> -2166.92 \n",
      "optimize topology:  -2166.92 --> -2166.92 \n",
      "0 \n",
      "optimize base frequencies:  -2166.92 --> -2166.914 \n",
      "optimize rate matrix:  -2166.914 --> -2166.913 \n",
      "optimize edge weights:  -2166.913 --> -2166.913 \n",
      "optimize base frequencies:  -2166.913 --> -2166.913 \n",
      "optimize rate matrix:  -2166.913 --> -2166.913 \n",
      "optimize edge weights:  -2166.913 --> -2166.913 \n",
      "[1] \"sub_model GTR\"\n",
      "optimize edge weights:  -971.2384 --> -970.6339 \n",
      "optimize base frequencies:  -970.6339 --> -965.8974 \n",
      "optimize rate matrix:  -965.8974 --> -945.719 \n",
      "optimize edge weights:  -945.719 --> -945.6777 \n",
      "optimize topology:  -945.6777 --> -945.6777 \n",
      "0 \n",
      "optimize base frequencies:  -945.6777 --> -945.6535 \n",
      "optimize rate matrix:  -945.6535 --> -945.652 \n",
      "optimize edge weights:  -945.652 --> -945.6519 \n",
      "optimize base frequencies:  -945.6519 --> -945.6518 \n",
      "optimize rate matrix:  -945.6518 --> -945.6518 \n",
      "optimize edge weights:  -945.6518 --> -945.6518 \n",
      "optimize base frequencies:  -945.6518 --> -945.6518 \n",
      "optimize rate matrix:  -945.6518 --> -945.6518 \n",
      "optimize edge weights:  -945.6518 --> -945.6518 \n",
      "[1] \"sub_model GTR\"\n",
      "optimize edge weights:  -843.7519 --> -841.3869 \n",
      "optimize base frequencies:  -841.3869 --> -838.6959 \n",
      "optimize rate matrix:  -838.6959 --> -826.6336 \n",
      "optimize edge weights:  -826.6336 --> -826.5899 \n",
      "optimize topology:  -826.5899 --> -822.8095 \n",
      "optimize topology:  -822.8095 --> -822.8095 \n",
      "1 \n",
      "optimize base frequencies:  -822.8095 --> -822.7441 \n",
      "optimize rate matrix:  -822.7441 --> -822.7285 \n",
      "optimize edge weights:  -822.7285 --> -822.7283 \n",
      "optimize topology:  -822.7283 --> -822.7283 \n",
      "0 \n",
      "optimize base frequencies:  -822.7283 --> -822.7278 \n",
      "optimize rate matrix:  -822.7278 --> -822.7277 \n",
      "optimize edge weights:  -822.7277 --> -822.7277 \n",
      "optimize base frequencies:  -822.7277 --> -822.7277 \n",
      "optimize rate matrix:  -822.7277 --> -822.7277 \n",
      "optimize edge weights:  -822.7277 --> -822.7277 \n",
      "[1] \"sub_model GTR\"\n",
      "optimize edge weights:  -1339.962 --> -1337.395 \n",
      "optimize base frequencies:  -1337.395 --> -1334.439 \n",
      "optimize rate matrix:  -1334.439 --> -1314.297 \n",
      "optimize edge weights:  -1314.297 --> -1313.749 \n",
      "optimize topology:  -1313.749 --> -1313.749 \n",
      "0 \n",
      "optimize base frequencies:  -1313.749 --> -1313.426 \n",
      "optimize rate matrix:  -1313.426 --> -1313.335 \n",
      "optimize edge weights:  -1313.335 --> -1313.333 \n",
      "optimize base frequencies:  -1313.333 --> -1313.325 \n",
      "optimize rate matrix:  -1313.325 --> -1313.324 \n",
      "optimize edge weights:  -1313.324 --> -1313.324 \n",
      "optimize base frequencies:  -1313.324 --> -1313.324 \n",
      "optimize rate matrix:  -1313.324 --> -1313.324 \n",
      "optimize edge weights:  -1313.324 --> -1313.324 \n",
      "optimize base frequencies:  -1313.324 --> -1313.324 \n",
      "optimize rate matrix:  -1313.324 --> -1313.324 \n",
      "optimize edge weights:  -1313.324 --> -1313.324 \n",
      "[1] \"sub_model GTR\"\n",
      "optimize edge weights:  -1046.739 --> -1044.009 \n",
      "optimize base frequencies:  -1044.009 --> -1038.422 \n",
      "optimize rate matrix:  -1038.422 --> -1022.011 \n",
      "optimize edge weights:  -1022.011 --> -1021.994 \n",
      "optimize topology:  -1021.994 --> -1021.342 \n",
      "optimize topology:  -1021.342 --> -1021.342 \n",
      "1 \n",
      "optimize base frequencies:  -1021.342 --> -1021.326 \n",
      "optimize rate matrix:  -1021.326 --> -1021.172 \n",
      "optimize edge weights:  -1021.172 --> -1021.172 \n",
      "optimize topology:  -1021.172 --> -1021.172 \n",
      "0 \n",
      "optimize base frequencies:  -1021.172 --> -1021.165 \n",
      "optimize rate matrix:  -1021.165 --> -1021.164 \n",
      "optimize edge weights:  -1021.164 --> -1021.164 \n",
      "optimize base frequencies:  -1021.164 --> -1021.164 \n",
      "optimize rate matrix:  -1021.164 --> -1021.164 \n",
      "optimize edge weights:  -1021.164 --> -1021.164 \n",
      "[1] \"sub_model GTR\"\n",
      "optimize edge weights:  -862.1409 --> -860.9789 \n",
      "optimize base frequencies:  -860.9789 --> -856.6256 \n",
      "optimize rate matrix:  -856.6256 --> -852.2203 \n",
      "optimize edge weights:  -852.2203 --> -852.2026 \n",
      "optimize topology:  -852.2026 --> -852.2026 \n",
      "0 \n",
      "optimize base frequencies:  -852.2026 --> -852.0758 \n",
      "optimize rate matrix:  -852.0758 --> -852.0714 \n",
      "optimize edge weights:  -852.0714 --> -852.0705 \n",
      "optimize base frequencies:  -852.0705 --> -852.0702 \n",
      "optimize rate matrix:  -852.0702 --> -852.0702 \n",
      "optimize edge weights:  -852.0702 --> -852.0702 \n",
      "optimize base frequencies:  -852.0702 --> -852.0702 \n",
      "optimize rate matrix:  -852.0702 --> -852.0702 \n",
      "optimize edge weights:  -852.0702 --> -852.0702 \n",
      "[1] \"sub_model GTR\"\n",
      "optimize edge weights:  -1139.491 --> -1134.474 \n",
      "optimize base frequencies:  -1134.474 --> -1131.6 \n",
      "optimize rate matrix:  -1131.6 --> -1109.982 \n",
      "optimize edge weights:  -1109.982 --> -1109.849 \n",
      "optimize topology:  -1109.849 --> -1109.658 \n",
      "optimize topology:  -1109.658 --> -1109.658 \n",
      "1 \n",
      "optimize base frequencies:  -1109.658 --> -1109.502 \n",
      "optimize rate matrix:  -1109.502 --> -1109.451 \n",
      "optimize edge weights:  -1109.451 --> -1109.449 \n",
      "optimize topology:  -1109.449 --> -1109.449 \n",
      "0 \n",
      "optimize base frequencies:  -1109.449 --> -1109.447 \n",
      "optimize rate matrix:  -1109.447 --> -1109.446 \n",
      "optimize edge weights:  -1109.446 --> -1109.446 \n",
      "optimize base frequencies:  -1109.446 --> -1109.446 \n",
      "optimize rate matrix:  -1109.446 --> -1109.446 \n",
      "optimize edge weights:  -1109.446 --> -1109.446 \n",
      "[1] \"sub_model GTR\"\n",
      "optimize edge weights:  -1121.889 --> -1118.747 \n",
      "optimize base frequencies:  -1118.747 --> -1114.247 \n",
      "optimize rate matrix:  -1114.247 --> -1094.582 \n"
     ]
    },
    {
     "name": "stdout",
     "output_type": "stream",
     "text": [
      "optimize edge weights:  -1094.582 --> -1094.562 \n",
      "optimize topology:  -1094.562 --> -1093.304 \n",
      "optimize topology:  -1093.304 --> -1093.304 \n",
      "1 \n",
      "optimize base frequencies:  -1093.304 --> -1093.129 \n",
      "optimize rate matrix:  -1093.129 --> -1092.931 \n",
      "optimize edge weights:  -1092.931 --> -1092.928 \n",
      "optimize topology:  -1092.928 --> -1092.928 \n",
      "0 \n",
      "optimize base frequencies:  -1092.928 --> -1092.912 \n",
      "optimize rate matrix:  -1092.912 --> -1092.911 \n",
      "optimize edge weights:  -1092.911 --> -1092.91 \n",
      "optimize base frequencies:  -1092.91 --> -1092.91 \n",
      "optimize rate matrix:  -1092.91 --> -1092.91 \n",
      "optimize edge weights:  -1092.91 --> -1092.91 \n",
      "optimize base frequencies:  -1092.91 --> -1092.91 \n",
      "optimize rate matrix:  -1092.91 --> -1092.91 \n",
      "optimize edge weights:  -1092.91 --> -1092.91 \n",
      "[1] \"sub_model GTR\"\n",
      "optimize edge weights:  -1172.259 --> -1168.87 \n",
      "optimize base frequencies:  -1168.87 --> -1164.813 \n",
      "optimize rate matrix:  -1164.813 --> -1144.233 \n",
      "optimize edge weights:  -1144.233 --> -1144.22 \n",
      "optimize topology:  -1144.22 --> -1144.22 \n",
      "0 \n",
      "optimize base frequencies:  -1144.22 --> -1144.217 \n",
      "optimize rate matrix:  -1144.217 --> -1144.217 \n",
      "optimize edge weights:  -1144.217 --> -1144.217 \n",
      "optimize base frequencies:  -1144.217 --> -1144.217 \n",
      "optimize rate matrix:  -1144.217 --> -1144.217 \n",
      "optimize edge weights:  -1144.217 --> -1144.217 \n",
      "[1] \"sub_model GTR\"\n",
      "optimize edge weights:  -778.3492 --> -777.8064 \n",
      "optimize base frequencies:  -777.8064 --> -771.7434 \n",
      "optimize rate matrix:  -771.7434 --> -762.4949 \n",
      "optimize edge weights:  -762.4949 --> -762.4846 \n",
      "optimize topology:  -762.4846 --> -762.4846 \n",
      "0 \n",
      "optimize base frequencies:  -762.4846 --> -762.4753 \n",
      "optimize rate matrix:  -762.4753 --> -762.4747 \n",
      "optimize edge weights:  -762.4747 --> -762.4747 \n",
      "optimize base frequencies:  -762.4747 --> -762.4746 \n",
      "optimize rate matrix:  -762.4746 --> -762.4746 \n",
      "optimize edge weights:  -762.4746 --> -762.4746 \n",
      "[1] \"sub_model GTR\"\n",
      "optimize edge weights:  -931.6056 --> -929.6719 \n",
      "optimize base frequencies:  -929.6719 --> -923.9832 \n",
      "optimize rate matrix:  -923.9832 --> -913.2704 \n",
      "optimize edge weights:  -913.2704 --> -913.2231 \n",
      "optimize topology:  -913.2231 --> -913.2231 \n",
      "0 \n",
      "optimize base frequencies:  -913.2231 --> -912.9069 \n",
      "optimize rate matrix:  -912.9069 --> -912.8876 \n",
      "optimize edge weights:  -912.8876 --> -912.8834 \n",
      "optimize base frequencies:  -912.8834 --> -912.8819 \n",
      "optimize rate matrix:  -912.8819 --> -912.8819 \n",
      "optimize edge weights:  -912.8819 --> -912.8818 \n",
      "optimize base frequencies:  -912.8818 --> -912.8818 \n",
      "optimize rate matrix:  -912.8818 --> -912.8818 \n",
      "optimize edge weights:  -912.8818 --> -912.8818 \n",
      "[1] \"sub_model GTR\"\n",
      "optimize edge weights:  -808.6845 --> -807.5678 \n",
      "optimize base frequencies:  -807.5678 --> -801.0117 \n",
      "optimize rate matrix:  -801.0117 --> -790.7412 \n",
      "optimize edge weights:  -790.7412 --> -790.7173 \n",
      "optimize topology:  -790.7173 --> -790.7173 \n",
      "0 \n",
      "optimize base frequencies:  -790.7173 --> -790.7078 \n",
      "optimize rate matrix:  -790.7078 --> -790.7074 \n",
      "optimize edge weights:  -790.7074 --> -790.7073 \n",
      "optimize base frequencies:  -790.7073 --> -790.7073 \n",
      "optimize rate matrix:  -790.7073 --> -790.7073 \n",
      "optimize edge weights:  -790.7073 --> -790.7073 \n",
      "[1] \"sub_model GTR\"\n",
      "optimize edge weights:  -1109.235 --> -1105.463 \n",
      "optimize base frequencies:  -1105.463 --> -1103.673 \n",
      "optimize rate matrix:  -1103.673 --> -1086.468 \n",
      "optimize edge weights:  -1086.468 --> -1086.438 \n",
      "optimize topology:  -1086.438 --> -1085.954 \n",
      "optimize topology:  -1085.954 --> -1085.954 \n",
      "1 \n",
      "optimize base frequencies:  -1085.954 --> -1085.75 \n",
      "optimize rate matrix:  -1085.75 --> -1085.74 \n",
      "optimize edge weights:  -1085.74 --> -1085.74 \n",
      "optimize topology:  -1085.74 --> -1085.74 \n",
      "0 \n",
      "optimize base frequencies:  -1085.74 --> -1085.739 \n",
      "optimize rate matrix:  -1085.739 --> -1085.739 \n",
      "optimize edge weights:  -1085.739 --> -1085.739 \n",
      "optimize base frequencies:  -1085.739 --> -1085.739 \n",
      "optimize rate matrix:  -1085.739 --> -1085.739 \n",
      "optimize edge weights:  -1085.739 --> -1085.739 \n",
      "[1] \"sub_model GTR\"\n",
      "optimize edge weights:  -862.4224 --> -861.7556 \n",
      "optimize base frequencies:  -861.7556 --> -856.3424 \n",
      "optimize rate matrix:  -856.3424 --> -842.3668 \n",
      "optimize edge weights:  -842.3668 --> -842.3568 \n",
      "optimize topology:  -842.3568 --> -840.2135 \n",
      "optimize topology:  -840.2135 --> -840.2135 \n",
      "1 \n",
      "optimize base frequencies:  -840.2135 --> -840.1203 \n",
      "optimize rate matrix:  -840.1203 --> -839.8703 \n",
      "optimize edge weights:  -839.8703 --> -839.8698 \n",
      "optimize topology:  -839.8698 --> -839.8698 \n",
      "0 \n",
      "optimize base frequencies:  -839.8698 --> -839.8587 \n",
      "optimize rate matrix:  -839.8587 --> -839.8579 \n",
      "optimize edge weights:  -839.8579 --> -839.8578 \n",
      "optimize base frequencies:  -839.8578 --> -839.8578 \n",
      "optimize rate matrix:  -839.8578 --> -839.8578 \n",
      "optimize edge weights:  -839.8578 --> -839.8578 \n",
      "[1] \"sub_model GTR\"\n",
      "optimize edge weights:  -1182.516 --> -1180.48 \n",
      "optimize base frequencies:  -1180.48 --> -1174.334 \n",
      "optimize rate matrix:  -1174.334 --> -1159.427 \n",
      "optimize edge weights:  -1159.427 --> -1159.368 \n",
      "optimize topology:  -1159.368 --> -1159.368 \n",
      "0 \n",
      "optimize base frequencies:  -1159.368 --> -1159.012 \n",
      "optimize rate matrix:  -1159.012 --> -1158.98 \n",
      "optimize edge weights:  -1158.98 --> -1158.975 \n",
      "optimize base frequencies:  -1158.975 --> -1158.971 \n",
      "optimize rate matrix:  -1158.971 --> -1158.97 \n",
      "optimize edge weights:  -1158.97 --> -1158.97 \n",
      "optimize base frequencies:  -1158.97 --> -1158.97 \n",
      "optimize rate matrix:  -1158.97 --> -1158.97 \n",
      "optimize edge weights:  -1158.97 --> -1158.97 \n",
      "[1] \"sub_model GTR\"\n",
      "optimize edge weights:  -793.0461 --> -792.4335 \n",
      "optimize base frequencies:  -792.4335 --> -788.1255 \n",
      "optimize rate matrix:  -788.1255 --> -784.851 \n",
      "optimize edge weights:  -784.851 --> -784.8486 \n",
      "optimize topology:  -784.8486 --> -784.8486 \n",
      "0 \n",
      "optimize base frequencies:  -784.8486 --> -784.8118 \n",
      "optimize rate matrix:  -784.8118 --> -784.8092 \n",
      "optimize edge weights:  -784.8092 --> -784.809 \n",
      "optimize base frequencies:  -784.809 --> -784.8089 \n",
      "optimize rate matrix:  -784.8089 --> -784.8089 \n",
      "optimize edge weights:  -784.8089 --> -784.8089 \n",
      "optimize base frequencies:  -784.8089 --> -784.8089 \n",
      "optimize rate matrix:  -784.8089 --> -784.8089 \n",
      "optimize edge weights:  -784.8089 --> -784.8089 \n",
      "[1] \"sub_model GTR\"\n",
      "optimize edge weights:  -930.4676 --> -929.0737 \n",
      "optimize base frequencies:  -929.0737 --> -926.4292 \n",
      "optimize rate matrix:  -926.4292 --> -916.1289 \n",
      "optimize edge weights:  -916.1289 --> -916.0835 \n",
      "optimize topology:  -916.0835 --> -916.0835 \n",
      "0 \n",
      "optimize base frequencies:  -916.0835 --> -916.0303 \n",
      "optimize rate matrix:  -916.0303 --> -916.0245 \n",
      "optimize edge weights:  -916.0245 --> -916.0245 \n",
      "optimize base frequencies:  -916.0245 --> -916.024 \n",
      "optimize rate matrix:  -916.024 --> -916.024 \n",
      "optimize edge weights:  -916.024 --> -916.0239 \n",
      "optimize base frequencies:  -916.0239 --> -916.0239 \n",
      "optimize rate matrix:  -916.0239 --> -916.0239 \n",
      "optimize edge weights:  -916.0239 --> -916.0239 \n",
      "[1] \"sub_model GTR\"\n",
      "optimize edge weights:  -719.1863 --> -718.8886 \n",
      "optimize base frequencies:  -718.8886 --> -716.4136 \n",
      "optimize rate matrix:  -716.4136 --> -710.3488 \n",
      "optimize edge weights:  -710.3488 --> -710.3483 \n",
      "optimize topology:  -710.3483 --> -710.3483 \n",
      "0 \n",
      "optimize base frequencies:  -710.3483 --> -710.3409 \n",
      "optimize rate matrix:  -710.3409 --> -710.3406 \n",
      "optimize edge weights:  -710.3406 --> -710.3406 \n",
      "optimize base frequencies:  -710.3406 --> -710.3406 \n",
      "optimize rate matrix:  -710.3406 --> -710.3406 \n",
      "optimize edge weights:  -710.3406 --> -710.3406 \n",
      "[1] \"sub_model GTR\"\n",
      "optimize edge weights:  -1312.342 --> -1309.776 \n",
      "optimize base frequencies:  -1309.776 --> -1303.341 \n",
      "optimize rate matrix:  -1303.341 --> -1282.287 \n",
      "optimize edge weights:  -1282.287 --> -1282.226 \n",
      "optimize topology:  -1282.226 --> -1282.226 \n",
      "0 \n",
      "optimize base frequencies:  -1282.226 --> -1282.071 \n",
      "optimize rate matrix:  -1282.071 --> -1282.054 \n",
      "optimize edge weights:  -1282.054 --> -1282.053 \n",
      "optimize base frequencies:  -1282.053 --> -1282.051 \n",
      "optimize rate matrix:  -1282.051 --> -1282.051 \n",
      "optimize edge weights:  -1282.051 --> -1282.051 \n",
      "optimize base frequencies:  -1282.051 --> -1282.05 \n",
      "optimize rate matrix:  -1282.05 --> -1282.05 \n"
     ]
    },
    {
     "name": "stdout",
     "output_type": "stream",
     "text": [
      "optimize edge weights:  -1282.05 --> -1282.05 \n",
      "[1] \"sub_model GTR\"\n",
      "optimize edge weights:  -750.7938 --> -749.5818 \n",
      "optimize base frequencies:  -749.5818 --> -746.8864 \n",
      "optimize rate matrix:  -746.8864 --> -742.9538 \n",
      "optimize edge weights:  -742.9538 --> -742.9323 \n",
      "optimize topology:  -742.9323 --> -742.9323 \n",
      "optimize topology:  -742.9323 --> -742.9323 \n",
      "1 \n",
      "optimize base frequencies:  -742.9323 --> -742.924 \n",
      "optimize rate matrix:  -742.924 --> -742.9195 \n",
      "optimize edge weights:  -742.9195 --> -742.9189 \n",
      "optimize topology:  -742.9189 --> -742.9188 \n",
      "0 \n",
      "optimize base frequencies:  -742.9188 --> -742.9186 \n",
      "optimize rate matrix:  -742.9186 --> -742.9185 \n",
      "optimize edge weights:  -742.9185 --> -742.9185 \n",
      "optimize base frequencies:  -742.9185 --> -742.9184 \n",
      "optimize rate matrix:  -742.9184 --> -742.9184 \n",
      "optimize edge weights:  -742.9184 --> -742.9184 \n",
      "optimize base frequencies:  -742.9184 --> -742.9184 \n",
      "optimize rate matrix:  -742.9184 --> -742.9184 \n",
      "optimize edge weights:  -742.9184 --> -742.9183 \n",
      "[1] \"sub_model GTR\"\n",
      "optimize edge weights:  -1077.026 --> -1075.395 \n",
      "optimize base frequencies:  -1075.395 --> -1066.306 \n",
      "optimize rate matrix:  -1066.306 --> -1060.855 \n",
      "optimize edge weights:  -1060.855 --> -1060.839 \n",
      "optimize topology:  -1060.839 --> -1060.006 \n",
      "optimize topology:  -1060.006 --> -1058.021 \n",
      "optimize topology:  -1058.021 --> -1058.021 \n",
      "2 \n",
      "optimize base frequencies:  -1058.021 --> -1057.814 \n",
      "optimize rate matrix:  -1057.814 --> -1057.614 \n",
      "optimize edge weights:  -1057.614 --> -1057.613 \n",
      "optimize topology:  -1057.613 --> -1057.613 \n",
      "0 \n",
      "optimize base frequencies:  -1057.613 --> -1057.611 \n",
      "optimize rate matrix:  -1057.611 --> -1057.611 \n",
      "optimize edge weights:  -1057.611 --> -1057.611 \n",
      "optimize base frequencies:  -1057.611 --> -1057.611 \n",
      "optimize rate matrix:  -1057.611 --> -1057.611 \n",
      "optimize edge weights:  -1057.611 --> -1057.611 \n",
      "[1] \"sub_model GTR\"\n",
      "optimize edge weights:  -930.7511 --> -928.4865 \n",
      "optimize base frequencies:  -928.4865 --> -923.4373 \n",
      "optimize rate matrix:  -923.4373 --> -908.0581 \n",
      "optimize edge weights:  -908.0581 --> -908.0377 \n",
      "optimize topology:  -908.0377 --> -908.0377 \n",
      "0 \n",
      "optimize base frequencies:  -908.0377 --> -908.0036 \n",
      "optimize rate matrix:  -908.0036 --> -908.0021 \n",
      "optimize edge weights:  -908.0021 --> -908.002 \n",
      "optimize base frequencies:  -908.002 --> -908.0019 \n",
      "optimize rate matrix:  -908.0019 --> -908.0019 \n",
      "optimize edge weights:  -908.0019 --> -908.0018 \n",
      "optimize base frequencies:  -908.0018 --> -908.0018 \n",
      "optimize rate matrix:  -908.0018 --> -908.0018 \n",
      "optimize edge weights:  -908.0018 --> -908.0018 \n",
      "[1] \"sub_model GTR\"\n",
      "optimize edge weights:  -650.1305 --> -649.3927 \n",
      "optimize base frequencies:  -649.3927 --> -644.7637 \n",
      "optimize rate matrix:  -644.7637 --> -637.9499 \n",
      "optimize edge weights:  -637.9499 --> -637.9494 \n",
      "optimize topology:  -637.9494 --> -637.9494 \n",
      "optimize topology:  -637.9494 --> -637.9494 \n",
      "1 \n",
      "optimize base frequencies:  -637.9494 --> -637.9101 \n",
      "optimize rate matrix:  -637.9101 --> -637.9097 \n",
      "optimize edge weights:  -637.9097 --> -637.9095 \n",
      "optimize topology:  -637.9095 --> -637.9095 \n",
      "0 \n",
      "optimize base frequencies:  -637.9095 --> -637.9095 \n",
      "optimize rate matrix:  -637.9095 --> -637.9095 \n",
      "optimize edge weights:  -637.9095 --> -637.9095 \n",
      "[1] \"sub_model GTR\"\n",
      "optimize edge weights:  -757.8828 --> -756.9621 \n",
      "optimize base frequencies:  -756.9621 --> -753.6252 \n",
      "optimize rate matrix:  -753.6252 --> -752.1129 \n",
      "optimize edge weights:  -752.1129 --> -752.1127 \n",
      "optimize topology:  -752.1127 --> -749.1617 \n",
      "optimize topology:  -749.1617 --> -749.1617 \n",
      "1 \n",
      "optimize base frequencies:  -749.1617 --> -749.1353 \n",
      "optimize rate matrix:  -749.1353 --> -749.0672 \n",
      "optimize edge weights:  -749.0672 --> -749.0671 \n",
      "optimize topology:  -749.0671 --> -749.0671 \n",
      "0 \n",
      "optimize base frequencies:  -749.0671 --> -749.0663 \n",
      "optimize rate matrix:  -749.0663 --> -749.0663 \n",
      "optimize edge weights:  -749.0663 --> -749.0663 \n",
      "optimize base frequencies:  -749.0663 --> -749.0663 \n",
      "optimize rate matrix:  -749.0663 --> -749.0663 \n",
      "optimize edge weights:  -749.0663 --> -749.0663 \n",
      "[1] \"sub_model GTR\"\n",
      "optimize edge weights:  -883.9328 --> -882.1435 \n",
      "optimize base frequencies:  -882.1435 --> -876.7777 \n",
      "optimize rate matrix:  -876.7777 --> -863.856 \n",
      "optimize edge weights:  -863.856 --> -863.815 \n",
      "optimize topology:  -863.815 --> -862.2341 \n",
      "optimize topology:  -862.2341 --> -862.2299 \n",
      "optimize topology:  -862.2299 --> -862.2299 \n",
      "3 \n",
      "optimize base frequencies:  -862.2299 --> -862.0093 \n",
      "optimize rate matrix:  -862.0093 --> -861.838 \n",
      "optimize edge weights:  -861.838 --> -861.8327 \n",
      "optimize topology:  -861.8327 --> -861.8327 \n",
      "0 \n",
      "optimize base frequencies:  -861.8327 --> -861.8325 \n",
      "optimize rate matrix:  -861.8325 --> -861.8322 \n",
      "optimize edge weights:  -861.8322 --> -861.8322 \n",
      "optimize base frequencies:  -861.8322 --> -861.8322 \n",
      "optimize rate matrix:  -861.8322 --> -861.8322 \n",
      "optimize edge weights:  -861.8322 --> -861.8322 \n",
      "[1] \"sub_model GTR\"\n",
      "optimize edge weights:  -1227.876 --> -1226.456 \n",
      "optimize base frequencies:  -1226.456 --> -1221.869 \n",
      "optimize rate matrix:  -1221.869 --> -1210.76 \n",
      "optimize edge weights:  -1210.76 --> -1210.733 \n",
      "optimize topology:  -1210.733 --> -1210.733 \n",
      "0 \n",
      "optimize base frequencies:  -1210.733 --> -1210.659 \n",
      "optimize rate matrix:  -1210.659 --> -1210.648 \n",
      "optimize edge weights:  -1210.648 --> -1210.648 \n",
      "optimize base frequencies:  -1210.648 --> -1210.646 \n",
      "optimize rate matrix:  -1210.646 --> -1210.646 \n",
      "optimize edge weights:  -1210.646 --> -1210.646 \n",
      "optimize base frequencies:  -1210.646 --> -1210.646 \n",
      "optimize rate matrix:  -1210.646 --> -1210.646 \n",
      "optimize edge weights:  -1210.646 --> -1210.646 \n",
      "[1] \"sub_model GTR\"\n",
      "optimize edge weights:  -915.6611 --> -915.1312 \n",
      "optimize base frequencies:  -915.1312 --> -911.2892 \n",
      "optimize rate matrix:  -911.2892 --> -904.0217 \n",
      "optimize edge weights:  -904.0217 --> -903.9966 \n",
      "optimize topology:  -903.9966 --> -903.9966 \n",
      "0 \n",
      "optimize base frequencies:  -903.9966 --> -903.9489 \n",
      "optimize rate matrix:  -903.9489 --> -903.9439 \n",
      "optimize edge weights:  -903.9439 --> -903.9438 \n",
      "optimize base frequencies:  -903.9438 --> -903.9434 \n",
      "optimize rate matrix:  -903.9434 --> -903.9433 \n",
      "optimize edge weights:  -903.9433 --> -903.9433 \n",
      "optimize base frequencies:  -903.9433 --> -903.9433 \n",
      "optimize rate matrix:  -903.9433 --> -903.9433 \n",
      "optimize edge weights:  -903.9433 --> -903.9433 \n",
      "[1] \"sub_model GTR\"\n",
      "optimize edge weights:  -929.2796 --> -928.6693 \n",
      "optimize base frequencies:  -928.6693 --> -926.193 \n",
      "optimize rate matrix:  -926.193 --> -915.1386 \n",
      "optimize edge weights:  -915.1386 --> -915.13 \n",
      "optimize topology:  -915.13 --> -915.13 \n",
      "0 \n",
      "optimize base frequencies:  -915.13 --> -915.0776 \n",
      "optimize rate matrix:  -915.0776 --> -915.0747 \n",
      "optimize edge weights:  -915.0747 --> -915.0746 \n",
      "optimize base frequencies:  -915.0746 --> -915.0744 \n",
      "optimize rate matrix:  -915.0744 --> -915.0744 \n",
      "optimize edge weights:  -915.0744 --> -915.0744 \n",
      "optimize base frequencies:  -915.0744 --> -915.0744 \n",
      "optimize rate matrix:  -915.0744 --> -915.0744 \n",
      "optimize edge weights:  -915.0744 --> -915.0744 \n",
      "[1] \"sub_model GTR\"\n",
      "optimize edge weights:  -914.8597 --> -912.6928 \n",
      "optimize base frequencies:  -912.6928 --> -909.3413 \n",
      "optimize rate matrix:  -909.3413 --> -893.5016 \n",
      "optimize edge weights:  -893.5016 --> -893.4927 \n",
      "optimize topology:  -893.4927 --> -893.4927 \n",
      "0 \n",
      "optimize base frequencies:  -893.4927 --> -893.3239 \n",
      "optimize rate matrix:  -893.3239 --> -893.3182 \n",
      "optimize edge weights:  -893.3182 --> -893.3175 \n",
      "optimize base frequencies:  -893.3175 --> -893.3173 \n",
      "optimize rate matrix:  -893.3173 --> -893.3173 \n",
      "optimize edge weights:  -893.3173 --> -893.3173 \n",
      "optimize base frequencies:  -893.3173 --> -893.3173 \n",
      "optimize rate matrix:  -893.3173 --> -893.3173 \n",
      "optimize edge weights:  -893.3173 --> -893.3173 \n",
      "[1] \"sub_model GTR\"\n",
      "optimize edge weights:  -744.5104 --> -743.7868 \n",
      "optimize base frequencies:  -743.7868 --> -735.3346 \n",
      "optimize rate matrix:  -735.3346 --> -721.2623 \n",
      "optimize edge weights:  -721.2623 --> -721.225 \n",
      "optimize topology:  -721.225 --> -721.225 \n",
      "0 \n",
      "optimize base frequencies:  -721.225 --> -721.1035 \n",
      "optimize rate matrix:  -721.1035 --> -721.0969 \n",
      "optimize edge weights:  -721.0969 --> -721.0962 \n"
     ]
    },
    {
     "name": "stdout",
     "output_type": "stream",
     "text": [
      "optimize base frequencies:  -721.0962 --> -721.0957 \n",
      "optimize rate matrix:  -721.0957 --> -721.0957 \n",
      "optimize edge weights:  -721.0957 --> -721.0957 \n",
      "optimize base frequencies:  -721.0957 --> -721.0957 \n",
      "optimize rate matrix:  -721.0957 --> -721.0957 \n",
      "optimize edge weights:  -721.0957 --> -721.0957 \n",
      "[1] \"sub_model GTR\"\n",
      "optimize edge weights:  -848.7337 --> -843.0931 \n",
      "optimize base frequencies:  -843.0931 --> -837.834 \n",
      "optimize rate matrix:  -837.834 --> -822.9134 \n",
      "optimize edge weights:  -822.9134 --> -822.8732 \n",
      "optimize topology:  -822.8732 --> -822.8732 \n",
      "0 \n",
      "optimize base frequencies:  -822.8732 --> -822.6507 \n",
      "optimize rate matrix:  -822.6507 --> -822.6313 \n",
      "optimize edge weights:  -822.6313 --> -822.6295 \n",
      "optimize base frequencies:  -822.6295 --> -822.6279 \n",
      "optimize rate matrix:  -822.6279 --> -822.6278 \n",
      "optimize edge weights:  -822.6278 --> -822.6278 \n",
      "optimize base frequencies:  -822.6278 --> -822.6277 \n",
      "optimize rate matrix:  -822.6277 --> -822.6277 \n",
      "optimize edge weights:  -822.6277 --> -822.6277 \n",
      "[1] \"sub_model GTR\"\n",
      "optimize edge weights:  -1130.18 --> -1128.581 \n",
      "optimize base frequencies:  -1128.581 --> -1125.451 \n",
      "optimize rate matrix:  -1125.451 --> -1105.472 \n",
      "optimize edge weights:  -1105.472 --> -1105.456 \n",
      "optimize topology:  -1105.456 --> -1105.456 \n",
      "0 \n",
      "optimize base frequencies:  -1105.456 --> -1105.373 \n",
      "optimize rate matrix:  -1105.373 --> -1105.364 \n",
      "optimize edge weights:  -1105.364 --> -1105.364 \n",
      "optimize base frequencies:  -1105.364 --> -1105.363 \n",
      "optimize rate matrix:  -1105.363 --> -1105.363 \n",
      "optimize edge weights:  -1105.363 --> -1105.363 \n",
      "optimize base frequencies:  -1105.363 --> -1105.363 \n",
      "optimize rate matrix:  -1105.363 --> -1105.363 \n",
      "optimize edge weights:  -1105.363 --> -1105.363 \n",
      "[1] \"sub_model GTR\"\n",
      "optimize edge weights:  -862.0215 --> -857.3387 \n",
      "optimize base frequencies:  -857.3387 --> -853.5502 \n",
      "optimize rate matrix:  -853.5502 --> -843.4395 \n",
      "optimize edge weights:  -843.4395 --> -843.4169 \n",
      "optimize topology:  -843.4169 --> -842.8927 \n",
      "optimize topology:  -842.8927 --> -842.6393 \n",
      "optimize topology:  -842.6393 --> -840.257 \n",
      "3 \n",
      "optimize base frequencies:  -840.257 --> -840.2031 \n",
      "optimize rate matrix:  -840.2031 --> -839.8439 \n",
      "optimize edge weights:  -839.8439 --> -839.8431 \n",
      "optimize topology:  -839.8431 --> -837.7141 \n",
      "optimize topology:  -837.7141 --> -837.7141 \n",
      "1 \n",
      "optimize base frequencies:  -837.7141 --> -837.706 \n",
      "optimize rate matrix:  -837.706 --> -837.6392 \n",
      "optimize edge weights:  -837.6392 --> -837.639 \n",
      "optimize topology:  -837.639 --> -837.639 \n",
      "0 \n",
      "optimize base frequencies:  -837.639 --> -837.6384 \n",
      "optimize rate matrix:  -837.6384 --> -837.6384 \n",
      "optimize edge weights:  -837.6384 --> -837.6384 \n",
      "optimize base frequencies:  -837.6384 --> -837.6384 \n",
      "optimize rate matrix:  -837.6384 --> -837.6384 \n",
      "optimize edge weights:  -837.6384 --> -837.6384 \n",
      "[1] \"sub_model GTR\"\n",
      "optimize edge weights:  -1181.882 --> -1181.166 \n",
      "optimize base frequencies:  -1181.166 --> -1175.343 \n",
      "optimize rate matrix:  -1175.343 --> -1155.691 \n",
      "optimize edge weights:  -1155.691 --> -1155.633 \n",
      "optimize topology:  -1155.633 --> -1155.633 \n",
      "0 \n",
      "optimize base frequencies:  -1155.633 --> -1155.43 \n",
      "optimize rate matrix:  -1155.43 --> -1155.416 \n",
      "optimize edge weights:  -1155.416 --> -1155.414 \n",
      "optimize base frequencies:  -1155.414 --> -1155.413 \n",
      "optimize rate matrix:  -1155.413 --> -1155.413 \n",
      "optimize edge weights:  -1155.413 --> -1155.413 \n",
      "optimize base frequencies:  -1155.413 --> -1155.413 \n",
      "optimize rate matrix:  -1155.413 --> -1155.413 \n",
      "optimize edge weights:  -1155.413 --> -1155.413 \n",
      "[1] \"sub_model GTR\"\n",
      "optimize edge weights:  -1037.961 --> -1036.059 \n",
      "optimize base frequencies:  -1036.059 --> -1028.378 \n",
      "optimize rate matrix:  -1028.378 --> -1012.852 \n",
      "optimize edge weights:  -1012.852 --> -1012.765 \n",
      "optimize topology:  -1012.765 --> -1012.346 \n",
      "optimize topology:  -1012.346 --> -1012.346 \n",
      "1 \n",
      "optimize base frequencies:  -1012.346 --> -1012.297 \n",
      "optimize rate matrix:  -1012.297 --> -1012.287 \n",
      "optimize edge weights:  -1012.287 --> -1012.287 \n",
      "optimize topology:  -1012.287 --> -1012.287 \n",
      "0 \n",
      "optimize base frequencies:  -1012.287 --> -1012.286 \n",
      "optimize rate matrix:  -1012.286 --> -1012.286 \n",
      "optimize edge weights:  -1012.286 --> -1012.286 \n",
      "optimize base frequencies:  -1012.286 --> -1012.286 \n",
      "optimize rate matrix:  -1012.286 --> -1012.286 \n",
      "optimize edge weights:  -1012.286 --> -1012.286 \n",
      "[1] \"sub_model GTR\"\n",
      "optimize edge weights:  -876.3011 --> -876.0379 \n",
      "optimize base frequencies:  -876.0379 --> -871.8532 \n",
      "optimize rate matrix:  -871.8532 --> -861.7046 \n",
      "optimize edge weights:  -861.7046 --> -861.6547 \n",
      "optimize topology:  -861.6547 --> -861.6547 \n",
      "0 \n",
      "optimize base frequencies:  -861.6547 --> -861.5272 \n",
      "optimize rate matrix:  -861.5272 --> -861.5156 \n",
      "optimize edge weights:  -861.5156 --> -861.5151 \n",
      "optimize base frequencies:  -861.5151 --> -861.5142 \n",
      "optimize rate matrix:  -861.5142 --> -861.5141 \n",
      "optimize edge weights:  -861.5141 --> -861.5141 \n",
      "optimize base frequencies:  -861.5141 --> -861.5141 \n",
      "optimize rate matrix:  -861.5141 --> -861.5141 \n",
      "optimize edge weights:  -861.5141 --> -861.5141 \n",
      "[1] \"sub_model GTR\"\n",
      "[1] \"sub_model GTR\"\n",
      "optimize edge weights:  -1006.065 --> -1005.05 \n",
      "optimize base frequencies:  -1005.05 --> -998.3802 \n",
      "optimize rate matrix:  -998.3802 --> -984.8526 \n",
      "optimize edge weights:  -984.8526 --> -984.832 \n",
      "optimize topology:  -984.832 --> -984.832 \n",
      "0 \n",
      "optimize base frequencies:  -984.832 --> -984.6976 \n",
      "optimize rate matrix:  -984.6976 --> -984.6906 \n",
      "optimize edge weights:  -984.6906 --> -984.6894 \n",
      "optimize base frequencies:  -984.6894 --> -984.6889 \n",
      "optimize rate matrix:  -984.6889 --> -984.6889 \n",
      "optimize edge weights:  -984.6889 --> -984.6889 \n",
      "optimize base frequencies:  -984.6889 --> -984.6889 \n",
      "optimize rate matrix:  -984.6889 --> -984.6889 \n",
      "optimize edge weights:  -984.6889 --> -984.6889 \n",
      "[1] \"sub_model GTR\"\n",
      "optimize edge weights:  -727.1945 --> -727.1024 \n",
      "optimize base frequencies:  -727.1024 --> -722.6572 \n",
      "optimize rate matrix:  -722.6572 --> -717.7868 \n",
      "optimize edge weights:  -717.7868 --> -717.7776 \n",
      "optimize topology:  -717.7776 --> -717.7776 \n",
      "0 \n",
      "optimize base frequencies:  -717.7776 --> -717.7145 \n",
      "optimize rate matrix:  -717.7145 --> -717.7128 \n",
      "optimize edge weights:  -717.7128 --> -717.7126 \n",
      "optimize base frequencies:  -717.7126 --> -717.7125 \n",
      "optimize rate matrix:  -717.7125 --> -717.7125 \n",
      "optimize edge weights:  -717.7125 --> -717.7125 \n",
      "[1] \"sub_model GTR\"\n",
      "optimize edge weights:  -868.1197 --> -867.2931 \n",
      "optimize base frequencies:  -867.2931 --> -861.1442 \n",
      "optimize rate matrix:  -861.1442 --> -845.2083 \n",
      "optimize edge weights:  -845.2083 --> -845.1231 \n",
      "optimize topology:  -845.1231 --> -841.7682 \n",
      "optimize topology:  -841.7682 --> -841.7682 \n",
      "1 \n",
      "optimize base frequencies:  -841.7682 --> -841.6499 \n",
      "optimize rate matrix:  -841.6499 --> -841.5286 \n",
      "optimize edge weights:  -841.5286 --> -841.5268 \n",
      "optimize topology:  -841.5268 --> -841.5268 \n",
      "0 \n",
      "optimize base frequencies:  -841.5268 --> -841.5219 \n",
      "optimize rate matrix:  -841.5219 --> -841.5215 \n",
      "optimize edge weights:  -841.5215 --> -841.5214 \n",
      "optimize base frequencies:  -841.5214 --> -841.5214 \n",
      "optimize rate matrix:  -841.5214 --> -841.5214 \n",
      "optimize edge weights:  -841.5214 --> -841.5214 \n",
      "[1] \"sub_model GTR\"\n",
      "optimize edge weights:  -889.8999 --> -888.8117 \n",
      "optimize base frequencies:  -888.8117 --> -886.447 \n",
      "optimize rate matrix:  -886.447 --> -872.0807 \n",
      "optimize edge weights:  -872.0807 --> -872.063 \n",
      "optimize topology:  -872.063 --> -871.7815 \n",
      "optimize topology:  -871.7815 --> -871.7815 \n",
      "1 \n",
      "optimize base frequencies:  -871.7815 --> -871.4969 \n",
      "optimize rate matrix:  -871.4969 --> -871.4657 \n",
      "optimize edge weights:  -871.4657 --> -871.4626 \n",
      "optimize topology:  -871.4626 --> -871.4626 \n",
      "0 \n",
      "optimize base frequencies:  -871.4626 --> -871.4622 \n",
      "optimize rate matrix:  -871.4622 --> -871.4622 \n",
      "optimize edge weights:  -871.4622 --> -871.4622 \n",
      "optimize base frequencies:  -871.4622 --> -871.4622 \n",
      "optimize rate matrix:  -871.4622 --> -871.4622 \n",
      "optimize edge weights:  -871.4622 --> -871.4622 \n",
      "[1] \"sub_model GTR\"\n",
      "optimize edge weights:  -808.8607 --> -806.3782 \n",
      "optimize base frequencies:  -806.3782 --> -800.6581 \n",
      "optimize rate matrix:  -800.6581 --> -797.2174 \n"
     ]
    },
    {
     "name": "stdout",
     "output_type": "stream",
     "text": [
      "optimize edge weights:  -797.2174 --> -797.1622 \n",
      "optimize topology:  -797.1622 --> -794.0407 \n",
      "optimize topology:  -794.0407 --> -793.6859 \n",
      "optimize topology:  -793.6859 --> -793.6859 \n",
      "2 \n",
      "optimize base frequencies:  -793.6859 --> -793.615 \n",
      "optimize rate matrix:  -793.615 --> -793.4969 \n",
      "optimize edge weights:  -793.4969 --> -793.4883 \n",
      "optimize topology:  -793.4883 --> -793.4883 \n",
      "0 \n",
      "optimize base frequencies:  -793.4883 --> -793.4844 \n",
      "optimize rate matrix:  -793.4844 --> -793.4825 \n",
      "optimize edge weights:  -793.4825 --> -793.4823 \n",
      "optimize base frequencies:  -793.4823 --> -793.4822 \n",
      "optimize rate matrix:  -793.4822 --> -793.4822 \n",
      "optimize edge weights:  -793.4822 --> -793.4821 \n",
      "optimize base frequencies:  -793.4821 --> -793.4821 \n",
      "optimize rate matrix:  -793.4821 --> -793.4821 \n",
      "optimize edge weights:  -793.4821 --> -793.4821 \n",
      "[1] \"sub_model GTR\"\n",
      "optimize edge weights:  -764.6919 --> -762.3552 \n",
      "optimize base frequencies:  -762.3552 --> -758.0296 \n",
      "optimize rate matrix:  -758.0296 --> -747.8792 \n",
      "optimize edge weights:  -747.8792 --> -747.8727 \n",
      "optimize topology:  -747.8727 --> -747.8727 \n",
      "0 \n",
      "optimize base frequencies:  -747.8727 --> -747.7721 \n",
      "optimize rate matrix:  -747.7721 --> -747.7686 \n",
      "optimize edge weights:  -747.7686 --> -747.768 \n",
      "optimize base frequencies:  -747.768 --> -747.7678 \n",
      "optimize rate matrix:  -747.7678 --> -747.7678 \n",
      "optimize edge weights:  -747.7678 --> -747.7678 \n",
      "optimize base frequencies:  -747.7678 --> -747.7678 \n",
      "optimize rate matrix:  -747.7678 --> -747.7678 \n",
      "optimize edge weights:  -747.7678 --> -747.7678 \n",
      "[1] \"sub_model GTR\"\n",
      "optimize edge weights:  -840.4665 --> -838.8067 \n",
      "optimize base frequencies:  -838.8067 --> -834.257 \n",
      "optimize rate matrix:  -834.257 --> -826.4678 \n",
      "optimize edge weights:  -826.4678 --> -826.4634 \n",
      "optimize topology:  -826.4634 --> -826.4634 \n",
      "0 \n",
      "optimize base frequencies:  -826.4634 --> -826.4146 \n",
      "optimize rate matrix:  -826.4146 --> -826.4111 \n",
      "optimize edge weights:  -826.4111 --> -826.411 \n",
      "optimize base frequencies:  -826.411 --> -826.4107 \n",
      "optimize rate matrix:  -826.4107 --> -826.4106 \n",
      "optimize edge weights:  -826.4106 --> -826.4106 \n",
      "optimize base frequencies:  -826.4106 --> -826.4106 \n",
      "optimize rate matrix:  -826.4106 --> -826.4106 \n",
      "optimize edge weights:  -826.4106 --> -826.4106 \n",
      "[1] \"sub_model GTR\"\n",
      "optimize edge weights:  -816.317 --> -814.0092 \n",
      "optimize base frequencies:  -814.0092 --> -809.4777 \n",
      "optimize rate matrix:  -809.4777 --> -798.8394 \n",
      "optimize edge weights:  -798.8394 --> -798.8313 \n",
      "optimize topology:  -798.8313 --> -798.8313 \n",
      "0 \n",
      "optimize base frequencies:  -798.8313 --> -798.7256 \n",
      "optimize rate matrix:  -798.7256 --> -798.7207 \n",
      "optimize edge weights:  -798.7207 --> -798.7202 \n",
      "optimize base frequencies:  -798.7202 --> -798.7199 \n",
      "optimize rate matrix:  -798.7199 --> -798.7199 \n",
      "optimize edge weights:  -798.7199 --> -798.7199 \n",
      "optimize base frequencies:  -798.7199 --> -798.7199 \n",
      "optimize rate matrix:  -798.7199 --> -798.7199 \n",
      "optimize edge weights:  -798.7199 --> -798.7199 \n",
      "[1] \"sub_model GTR\"\n",
      "optimize edge weights:  -813.665 --> -813.1335 \n",
      "optimize base frequencies:  -813.1335 --> -809.774 \n",
      "optimize rate matrix:  -809.774 --> -806.2995 \n",
      "optimize edge weights:  -806.2995 --> -806.2732 \n",
      "optimize topology:  -806.2732 --> -805.6865 \n",
      "optimize topology:  -805.6865 --> -805.6865 \n",
      "1 \n",
      "optimize base frequencies:  -805.6865 --> -805.6691 \n",
      "optimize rate matrix:  -805.6691 --> -805.5491 \n",
      "optimize edge weights:  -805.5491 --> -805.5447 \n",
      "optimize topology:  -805.5447 --> -805.5447 \n",
      "0 \n",
      "optimize base frequencies:  -805.5447 --> -805.542 \n",
      "optimize rate matrix:  -805.542 --> -805.5411 \n",
      "optimize edge weights:  -805.5411 --> -805.541 \n",
      "optimize base frequencies:  -805.541 --> -805.541 \n",
      "optimize rate matrix:  -805.541 --> -805.541 \n",
      "optimize edge weights:  -805.541 --> -805.541 \n",
      "[1] \"sub_model GTR\"\n",
      "optimize edge weights:  -1289.87 --> -1286.504 \n",
      "optimize base frequencies:  -1286.504 --> -1283.336 \n",
      "optimize rate matrix:  -1283.336 --> -1266.519 \n",
      "optimize edge weights:  -1266.519 --> -1266.491 \n",
      "optimize topology:  -1266.491 --> -1266.491 \n",
      "0 \n",
      "optimize base frequencies:  -1266.491 --> -1266.335 \n",
      "optimize rate matrix:  -1266.335 --> -1266.315 \n",
      "optimize edge weights:  -1266.315 --> -1266.315 \n",
      "optimize base frequencies:  -1266.315 --> -1266.312 \n",
      "optimize rate matrix:  -1266.312 --> -1266.311 \n",
      "optimize edge weights:  -1266.311 --> -1266.311 \n",
      "optimize base frequencies:  -1266.311 --> -1266.311 \n",
      "optimize rate matrix:  -1266.311 --> -1266.311 \n",
      "optimize edge weights:  -1266.311 --> -1266.311 \n",
      "[1] \"sub_model GTR\"\n",
      "optimize edge weights:  -1185.397 --> -1184.098 \n",
      "optimize base frequencies:  -1184.098 --> -1178.07 \n",
      "optimize rate matrix:  -1178.07 --> -1169.605 \n",
      "optimize edge weights:  -1169.605 --> -1169.549 \n",
      "optimize topology:  -1169.549 --> -1168.844 \n",
      "optimize topology:  -1168.844 --> -1168.844 \n",
      "1 \n",
      "optimize base frequencies:  -1168.844 --> -1168.556 \n",
      "optimize rate matrix:  -1168.556 --> -1168.53 \n",
      "optimize edge weights:  -1168.53 --> -1168.528 \n",
      "optimize topology:  -1168.528 --> -1168.528 \n",
      "0 \n",
      "optimize base frequencies:  -1168.528 --> -1168.527 \n",
      "optimize rate matrix:  -1168.527 --> -1168.527 \n",
      "optimize edge weights:  -1168.527 --> -1168.527 \n",
      "optimize base frequencies:  -1168.527 --> -1168.527 \n",
      "optimize rate matrix:  -1168.527 --> -1168.527 \n",
      "optimize edge weights:  -1168.527 --> -1168.527 \n",
      "[1] \"sub_model GTR\"\n",
      "optimize edge weights:  -971.4658 --> -966.8364 \n",
      "optimize base frequencies:  -966.8364 --> -965.2647 \n",
      "optimize rate matrix:  -965.2647 --> -952.6224 \n",
      "optimize edge weights:  -952.6224 --> -952.6055 \n",
      "optimize topology:  -952.6055 --> -952.6055 \n",
      "0 \n",
      "optimize base frequencies:  -952.6055 --> -952.4826 \n",
      "optimize rate matrix:  -952.4826 --> -952.4698 \n",
      "optimize edge weights:  -952.4698 --> -952.4692 \n",
      "optimize base frequencies:  -952.4692 --> -952.4677 \n",
      "optimize rate matrix:  -952.4677 --> -952.4676 \n",
      "optimize edge weights:  -952.4676 --> -952.4676 \n",
      "optimize base frequencies:  -952.4676 --> -952.4675 \n",
      "optimize rate matrix:  -952.4675 --> -952.4675 \n",
      "optimize edge weights:  -952.4675 --> -952.4675 \n",
      "[1] \"sub_model GTR\"\n",
      "optimize edge weights:  -931.0534 --> -930.06 \n",
      "optimize base frequencies:  -930.06 --> -924.8994 \n",
      "optimize rate matrix:  -924.8994 --> -917.1702 \n",
      "optimize edge weights:  -917.1702 --> -917.1563 \n",
      "optimize topology:  -917.1563 --> -917.1563 \n",
      "0 \n",
      "optimize base frequencies:  -917.1563 --> -917.0771 \n",
      "optimize rate matrix:  -917.0771 --> -917.0715 \n",
      "optimize edge weights:  -917.0715 --> -917.0713 \n",
      "optimize base frequencies:  -917.0713 --> -917.0709 \n",
      "optimize rate matrix:  -917.0709 --> -917.0709 \n",
      "optimize edge weights:  -917.0709 --> -917.0709 \n",
      "optimize base frequencies:  -917.0709 --> -917.0709 \n",
      "optimize rate matrix:  -917.0709 --> -917.0709 \n",
      "optimize edge weights:  -917.0709 --> -917.0709 \n",
      "[1] \"sub_model GTR\"\n",
      "optimize edge weights:  -824.4506 --> -823.7298 \n",
      "optimize base frequencies:  -823.7298 --> -819.395 \n",
      "optimize rate matrix:  -819.395 --> -810.8729 \n",
      "optimize edge weights:  -810.8729 --> -810.852 \n",
      "optimize topology:  -810.852 --> -810.852 \n",
      "0 \n",
      "optimize base frequencies:  -810.852 --> -810.8072 \n",
      "optimize rate matrix:  -810.8072 --> -810.8048 \n",
      "optimize edge weights:  -810.8048 --> -810.8046 \n",
      "optimize base frequencies:  -810.8046 --> -810.8045 \n",
      "optimize rate matrix:  -810.8045 --> -810.8045 \n",
      "optimize edge weights:  -810.8045 --> -810.8045 \n",
      "optimize base frequencies:  -810.8045 --> -810.8045 \n",
      "optimize rate matrix:  -810.8045 --> -810.8045 \n",
      "optimize edge weights:  -810.8045 --> -810.8045 \n",
      "[1] \"sub_model GTR\"\n",
      "optimize edge weights:  -616.5551 --> -615.274 \n",
      "optimize base frequencies:  -615.274 --> -613.5591 \n",
      "optimize rate matrix:  -613.5591 --> -608.6523 \n",
      "optimize edge weights:  -608.6523 --> -608.6519 \n",
      "optimize topology:  -608.6519 --> -606.872 \n",
      "optimize topology:  -606.872 --> -606.872 \n",
      "1 \n",
      "optimize base frequencies:  -606.872 --> -606.8589 \n",
      "optimize rate matrix:  -606.8589 --> -605.7662 \n",
      "optimize edge weights:  -605.7662 --> -605.7662 \n",
      "optimize topology:  -605.7662 --> -605.7662 \n",
      "0 \n",
      "optimize base frequencies:  -605.7662 --> -605.7638 \n",
      "optimize rate matrix:  -605.7638 --> -605.7638 \n",
      "optimize edge weights:  -605.7638 --> -605.7638 \n",
      "optimize base frequencies:  -605.7638 --> -605.7638 \n",
      "optimize rate matrix:  -605.7638 --> -605.7638 \n"
     ]
    },
    {
     "name": "stdout",
     "output_type": "stream",
     "text": [
      "optimize edge weights:  -605.7638 --> -605.7638 \n",
      "[1] \"sub_model GTR\"\n",
      "optimize edge weights:  -622.2222 --> -622.013 \n",
      "optimize base frequencies:  -622.013 --> -617.1457 \n",
      "optimize rate matrix:  -617.1457 --> -609.3772 \n",
      "optimize edge weights:  -609.3772 --> -609.3771 \n",
      "optimize topology:  -609.3771 --> -609.3771 \n",
      "0 \n",
      "optimize base frequencies:  -609.3771 --> -609.3619 \n",
      "optimize rate matrix:  -609.3619 --> -609.3615 \n",
      "optimize edge weights:  -609.3615 --> -609.3615 \n",
      "optimize base frequencies:  -609.3615 --> -609.3615 \n",
      "optimize rate matrix:  -609.3615 --> -609.3615 \n",
      "optimize edge weights:  -609.3615 --> -609.3615 \n",
      "[1] \"sub_model GTR\"\n",
      "optimize edge weights:  -898.7092 --> -898.5373 \n",
      "optimize base frequencies:  -898.5373 --> -892.8802 \n",
      "optimize rate matrix:  -892.8802 --> -877.7483 \n",
      "optimize edge weights:  -877.7483 --> -877.6948 \n",
      "optimize topology:  -877.6948 --> -877.6948 \n",
      "0 \n",
      "optimize base frequencies:  -877.6948 --> -877.6396 \n",
      "optimize rate matrix:  -877.6396 --> -877.6362 \n",
      "optimize edge weights:  -877.6362 --> -877.6361 \n",
      "optimize base frequencies:  -877.6361 --> -877.6359 \n",
      "optimize rate matrix:  -877.6359 --> -877.6359 \n",
      "optimize edge weights:  -877.6359 --> -877.6359 \n",
      "optimize base frequencies:  -877.6359 --> -877.6359 \n",
      "optimize rate matrix:  -877.6359 --> -877.6359 \n",
      "optimize edge weights:  -877.6359 --> -877.6359 \n",
      "[1] \"sub_model GTR\"\n",
      "optimize edge weights:  -953.9167 --> -953.5184 \n",
      "optimize base frequencies:  -953.5184 --> -949.1936 \n",
      "optimize rate matrix:  -949.1936 --> -935.5753 \n",
      "optimize edge weights:  -935.5753 --> -935.5461 \n",
      "optimize topology:  -935.5461 --> -935.5461 \n",
      "0 \n",
      "optimize base frequencies:  -935.5461 --> -935.3772 \n",
      "optimize rate matrix:  -935.3772 --> -935.3573 \n",
      "optimize edge weights:  -935.3573 --> -935.3563 \n",
      "optimize base frequencies:  -935.3563 --> -935.3537 \n",
      "optimize rate matrix:  -935.3537 --> -935.3535 \n",
      "optimize edge weights:  -935.3535 --> -935.3534 \n",
      "optimize base frequencies:  -935.3534 --> -935.3534 \n",
      "optimize rate matrix:  -935.3534 --> -935.3534 \n",
      "optimize edge weights:  -935.3534 --> -935.3534 \n",
      "[1] \"sub_model GTR\"\n",
      "optimize edge weights:  -866.7622 --> -866.4882 \n",
      "optimize base frequencies:  -866.4882 --> -861.574 \n",
      "optimize rate matrix:  -861.574 --> -847.102 \n",
      "optimize edge weights:  -847.102 --> -847.0477 \n",
      "optimize topology:  -847.0477 --> -847.0477 \n",
      "0 \n",
      "optimize base frequencies:  -847.0477 --> -847.0258 \n",
      "optimize rate matrix:  -847.0258 --> -847.0233 \n",
      "optimize edge weights:  -847.0233 --> -847.0233 \n",
      "optimize base frequencies:  -847.0233 --> -847.0231 \n",
      "optimize rate matrix:  -847.0231 --> -847.0231 \n",
      "optimize edge weights:  -847.0231 --> -847.0231 \n",
      "optimize base frequencies:  -847.0231 --> -847.0231 \n",
      "optimize rate matrix:  -847.0231 --> -847.0231 \n",
      "optimize edge weights:  -847.0231 --> -847.0231 \n",
      "[1] \"sub_model GTR\"\n",
      "optimize edge weights:  -774.9113 --> -773.7393 \n",
      "optimize base frequencies:  -773.7393 --> -767.9306 \n",
      "optimize rate matrix:  -767.9306 --> -763.4395 \n",
      "optimize edge weights:  -763.4395 --> -763.3946 \n",
      "optimize topology:  -763.3946 --> -763.3946 \n",
      "0 \n",
      "optimize base frequencies:  -763.3946 --> -763.3476 \n",
      "optimize rate matrix:  -763.3476 --> -763.3212 \n",
      "optimize edge weights:  -763.3212 --> -763.3119 \n",
      "optimize base frequencies:  -763.3119 --> -763.3112 \n",
      "optimize rate matrix:  -763.3112 --> -763.3073 \n",
      "optimize edge weights:  -763.3073 --> -763.306 \n",
      "optimize base frequencies:  -763.306 --> -763.3059 \n",
      "optimize rate matrix:  -763.3059 --> -763.3054 \n",
      "optimize edge weights:  -763.3054 --> -763.3053 \n",
      "optimize base frequencies:  -763.3053 --> -763.3052 \n",
      "optimize rate matrix:  -763.3052 --> -763.3052 \n",
      "optimize edge weights:  -763.3052 --> -763.3052 \n",
      "optimize base frequencies:  -763.3052 --> -763.3052 \n",
      "optimize rate matrix:  -763.3052 --> -763.3052 \n",
      "optimize edge weights:  -763.3052 --> -763.3052 \n",
      "[1] \"sub_model GTR\"\n",
      "optimize edge weights:  -884.2822 --> -882.9506 \n",
      "optimize base frequencies:  -882.9506 --> -879.6027 \n",
      "optimize rate matrix:  -879.6027 --> -875.9166 \n",
      "optimize edge weights:  -875.9166 --> -875.9091 \n",
      "optimize topology:  -875.9091 --> -875.2574 \n",
      "optimize topology:  -875.2574 --> -875.2574 \n",
      "1 \n",
      "optimize base frequencies:  -875.2574 --> -875.1805 \n",
      "optimize rate matrix:  -875.1805 --> -875.0634 \n",
      "optimize edge weights:  -875.0634 --> -875.0616 \n",
      "optimize topology:  -875.0616 --> -875.0616 \n",
      "0 \n",
      "optimize base frequencies:  -875.0616 --> -875.0579 \n",
      "optimize rate matrix:  -875.0579 --> -875.0576 \n",
      "optimize edge weights:  -875.0576 --> -875.0576 \n",
      "optimize base frequencies:  -875.0576 --> -875.0575 \n",
      "optimize rate matrix:  -875.0575 --> -875.0575 \n",
      "optimize edge weights:  -875.0575 --> -875.0575 \n",
      "[1] \"sub_model GTR\"\n",
      "optimize edge weights:  -1035.762 --> -1033.697 \n",
      "optimize base frequencies:  -1033.697 --> -1031.17 \n",
      "optimize rate matrix:  -1031.17 --> -1015.474 \n",
      "optimize edge weights:  -1015.474 --> -1015.448 \n",
      "optimize topology:  -1015.448 --> -1014.008 \n",
      "optimize topology:  -1014.008 --> -1014.008 \n",
      "1 \n",
      "optimize base frequencies:  -1014.008 --> -1013.744 \n",
      "optimize rate matrix:  -1013.744 --> -1013.712 \n",
      "optimize edge weights:  -1013.712 --> -1013.711 \n",
      "optimize topology:  -1013.711 --> -1013.711 \n",
      "0 \n",
      "optimize base frequencies:  -1013.711 --> -1013.71 \n",
      "optimize rate matrix:  -1013.71 --> -1013.71 \n",
      "optimize edge weights:  -1013.71 --> -1013.71 \n",
      "optimize base frequencies:  -1013.71 --> -1013.71 \n",
      "optimize rate matrix:  -1013.71 --> -1013.71 \n",
      "optimize edge weights:  -1013.71 --> -1013.71 \n",
      "[1] \"sub_model GTR\"\n",
      "optimize edge weights:  -946.1304 --> -945.3756 \n",
      "optimize base frequencies:  -945.3756 --> -942.4571 \n",
      "optimize rate matrix:  -942.4571 --> -925.0691 \n",
      "optimize edge weights:  -925.0691 --> -924.9927 \n",
      "optimize topology:  -924.9927 --> -924.9927 \n",
      "0 \n",
      "optimize base frequencies:  -924.9927 --> -924.7193 \n",
      "optimize rate matrix:  -924.7193 --> -924.6927 \n",
      "optimize edge weights:  -924.6927 --> -924.69 \n",
      "optimize base frequencies:  -924.69 --> -924.687 \n",
      "optimize rate matrix:  -924.687 --> -924.6868 \n",
      "optimize edge weights:  -924.6868 --> -924.6867 \n",
      "optimize base frequencies:  -924.6867 --> -924.6867 \n",
      "optimize rate matrix:  -924.6867 --> -924.6867 \n",
      "optimize edge weights:  -924.6867 --> -924.6867 \n",
      "[1] \"sub_model GTR\"\n",
      "optimize edge weights:  -816.9819 --> -816.7575 \n",
      "optimize base frequencies:  -816.7575 --> -814.0411 \n",
      "optimize rate matrix:  -814.0411 --> -803.4241 \n",
      "optimize edge weights:  -803.4241 --> -803.405 \n",
      "optimize topology:  -803.405 --> -803.405 \n",
      "0 \n",
      "optimize base frequencies:  -803.405 --> -803.2971 \n",
      "optimize rate matrix:  -803.2971 --> -803.2921 \n",
      "optimize edge weights:  -803.2921 --> -803.2917 \n",
      "optimize base frequencies:  -803.2917 --> -803.2915 \n",
      "optimize rate matrix:  -803.2915 --> -803.2915 \n",
      "optimize edge weights:  -803.2915 --> -803.2915 \n",
      "optimize base frequencies:  -803.2915 --> -803.2915 \n",
      "optimize rate matrix:  -803.2915 --> -803.2915 \n",
      "optimize edge weights:  -803.2915 --> -803.2915 \n",
      "[1] \"sub_model GTR\"\n",
      "optimize edge weights:  -833.4596 --> -833.3169 \n",
      "optimize base frequencies:  -833.3169 --> -832.0025 \n",
      "optimize rate matrix:  -832.0025 --> -823.0832 \n",
      "optimize edge weights:  -823.0832 --> -822.8647 \n",
      "optimize topology:  -822.8647 --> -822.8647 \n",
      "0 \n",
      "optimize base frequencies:  -822.8647 --> -822.81 \n",
      "optimize rate matrix:  -822.81 --> -822.8037 \n",
      "optimize edge weights:  -822.8037 --> -822.8035 \n",
      "optimize base frequencies:  -822.8035 --> -822.8033 \n",
      "optimize rate matrix:  -822.8033 --> -822.8033 \n",
      "optimize edge weights:  -822.8033 --> -822.8033 \n",
      "optimize base frequencies:  -822.8033 --> -822.8033 \n",
      "optimize rate matrix:  -822.8033 --> -822.8033 \n",
      "optimize edge weights:  -822.8033 --> -822.8033 \n",
      "[1] \"sub_model GTR\"\n",
      "optimize edge weights:  -757.2555 --> -755.9444 \n",
      "optimize base frequencies:  -755.9444 --> -749.8576 \n",
      "optimize rate matrix:  -749.8576 --> -741.6193 \n",
      "optimize edge weights:  -741.6193 --> -741.6148 \n",
      "optimize topology:  -741.6148 --> -741.6148 \n",
      "0 \n",
      "optimize base frequencies:  -741.6148 --> -741.5435 \n",
      "optimize rate matrix:  -741.5435 --> -741.5421 \n",
      "optimize edge weights:  -741.5421 --> -741.5419 \n",
      "optimize base frequencies:  -741.5419 --> -741.5418 \n",
      "optimize rate matrix:  -741.5418 --> -741.5418 \n",
      "optimize edge weights:  -741.5418 --> -741.5418 \n",
      "optimize base frequencies:  -741.5418 --> -741.5418 \n",
      "optimize rate matrix:  -741.5418 --> -741.5418 \n"
     ]
    },
    {
     "name": "stdout",
     "output_type": "stream",
     "text": [
      "optimize edge weights:  -741.5418 --> -741.5418 \n",
      "# A tibble: 6 × 5\n",
      "  clone_id data       locus  seqs trees  \n",
      "  <chr>    <list>     <chr> <int> <list> \n",
      "1 403      <airrClon> IGH      16 <phylo>\n",
      "2 457      <airrClon> IGH      15 <phylo>\n",
      "3 512      <airrClon> IGH      15 <phylo>\n",
      "4 823      <airrClon> IGH      15 <phylo>\n",
      "5 12       <airrClon> IGH      13 <phylo>\n",
      "6 539      <airrClon> IGH      13 <phylo>\n"
     ]
    }
   ],
   "source": [
    "%%R\n",
    "# Two options for standard maximum likelihood trees\n",
    "# 1. pml (phangorn)\n",
    "trees = getTrees(clones, build=\"pml\", sub_model=\"GTR\")\n",
    "head(trees)"
   ]
  },
  {
   "cell_type": "code",
   "execution_count": 75,
   "metadata": {
    "slideshow": {
     "slide_type": "subslide"
    }
   },
   "outputs": [
    {
     "name": "stdout",
     "output_type": "stream",
     "text": [
      "# A tibble: 6 × 5\n",
      "  clone_id data       locus  seqs trees  \n",
      "  <chr>    <list>     <chr> <int> <list> \n",
      "1 403      <airrClon> IGH      16 <phylo>\n",
      "2 457      <airrClon> IGH      15 <phylo>\n",
      "3 512      <airrClon> IGH      15 <phylo>\n",
      "4 823      <airrClon> IGH      15 <phylo>\n",
      "5 12       <airrClon> IGH      13 <phylo>\n",
      "6 539      <airrClon> IGH      13 <phylo>\n"
     ]
    }
   ],
   "source": [
    "%%R\n",
    "# 2. dnaml (PHYLIP)\n",
    "trees = getTrees(clones, build=\"dnaml\", exec=\"/usr/local/bin/dnaml\")\n",
    "head(trees)"
   ]
  },
  {
   "cell_type": "markdown",
   "metadata": {
    "slideshow": {
     "slide_type": "subslide"
    }
   },
   "source": [
    "### Bcell specific maximum likelihood\n",
    "\n",
    "Similar to the standard maximum likelihood, but incorporating SHM specific mutation biases into the tree building."
   ]
  },
  {
   "cell_type": "code",
   "execution_count": 76,
   "metadata": {
    "slideshow": {
     "slide_type": "subslide"
    }
   },
   "outputs": [
    {
     "name": "stdout",
     "output_type": "stream",
     "text": [
      "NULL\n"
     ]
    }
   ],
   "source": [
    "%%R\n",
    "# B cell specific maximum likelihood with IgPhyML\n",
    "# This code is commented out because of long running time\n",
    "# trees = getTrees(clones, build=\"igphyml\", exec=\"/usr/local/share/igphyml/src/igphyml\", nproc=2)\n",
    "# head(trees)"
   ]
  },
  {
   "cell_type": "markdown",
   "metadata": {
    "slideshow": {
     "slide_type": "subslide"
    }
   },
   "source": [
    "## Plotting trees with dowser and ggtree\n",
    "\n",
    "All tree building methods are plotted using the same method in dowser, `plotTrees`."
   ]
  },
  {
   "cell_type": "code",
   "execution_count": 77,
   "metadata": {
    "slideshow": {
     "slide_type": "-"
    }
   },
   "outputs": [],
   "source": [
    "%%R\n",
    "# Plot all trees\n",
    "plots = plotTrees(trees, tips=\"isotype\", tipsize=2)"
   ]
  },
  {
   "cell_type": "code",
   "execution_count": 78,
   "metadata": {
    "slideshow": {
     "slide_type": "-"
    }
   },
   "outputs": [
    {
     "data": {
      "image/png": "[encoded data removed]"
     },
     "metadata": {},
     "output_type": "display_data"
    }
   ],
   "source": [
    "%%R\n",
    "# Plot the largest tree\n",
    "plots[[1]]"
   ]
  },
  {
   "cell_type": "code",
   "execution_count": 79,
   "metadata": {
    "slideshow": {
     "slide_type": "-"
    }
   },
   "outputs": [
    {
     "name": "stdout",
     "output_type": "stream",
     "text": [
      "png \n",
      "  2 \n"
     ]
    }
   ],
   "source": [
    "%%R\n",
    "# Save PDF of all trees\n",
    "treesToPDF(plots, file=\"results/final_data_trees.pdf\", nrow=2, ncol=2)"
   ]
  },
  {
   "cell_type": "markdown",
   "metadata": {
    "slideshow": {
     "slide_type": "subslide"
    }
   },
   "source": [
    "## More elaborate tree plots\n",
    "\n",
    "\n"
   ]
  },
  {
   "cell_type": "code",
   "execution_count": 80,
   "metadata": {
    "slideshow": {
     "slide_type": "-"
    }
   },
   "outputs": [
    {
     "data": {
      "image/png": "[encoded data removed]"
     },
     "metadata": {},
     "output_type": "display_data"
    }
   ],
   "source": [
    "%%R\n",
    "suppressPackageStartupMessages(library(ggtree))\n",
    "# Scale branches to mutations rather than mutations/site\n",
    "trees = scaleBranches(trees)\n",
    "# Make fancy tree plot of second largest tree\n",
    "plotTrees(trees, scale=5)[[2]] +\n",
    "geom_tippoint(aes(colour=gex_annotation, size=day)) +\n",
    "geom_tiplab(aes(label=isotype), offset=0.002) +\n",
    "scale_colour_manual(values = col_anno)"
   ]
  },
  {
   "cell_type": "markdown",
   "metadata": {
    "slideshow": {
     "slide_type": "subslide"
    }
   },
   "source": [
    "## Reconstruct intermediate sequences\n",
    "\n",
    "\n"
   ]
  },
  {
   "cell_type": "code",
   "execution_count": 81,
   "metadata": {
    "slideshow": {
     "slide_type": "-"
    }
   },
   "outputs": [
    {
     "name": "stdout",
     "output_type": "stream",
     "text": [
      "                                                                                                                                                                                                                                                                                                                                                                                                                          IGH \n",
      "\"CAGGTCCAGCTGGTGCAGTCTGGGGCT...GAAGTGAAGAAGCCTGGGTCCTCGGTGAAGGTCTCCTGCAAGGCCTCTGGAGGGACCTTC............AGCAGCTATGCAATCAGCTGGGTGCGACAGGCCCCTGGACAAGGTCTTGAGTGGATGGGAGGGGTCATCCCTATC......TATGGTACAGCACAGTATGCACAGAGGTTCCAG...GGCAGAGTCACGATTACCGCGGACGGATCCACGGGCACAGCCTACATGGAGCTGAGCAGCCTGACATCTGAGGACACGGCCGTGTATTACTGTGCGAGAAGTCCTGACTATGGTTCGGGGACTTACCTTAACTACTTCTACTACTACTTGGCCTTCTGGGGCAAAGGGACCACGGTCACCGTCTCCTCASSS\" \n"
     ]
    },
    {
     "data": {
      "image/png": "[encoded data removed]"
     },
     "metadata": {},
     "output_type": "display_data"
    }
   ],
   "source": [
    "%%R\n",
    "suppressPackageStartupMessages(library(ggtree))\n",
    "# Collapse nodes with identical sequences\n",
    "trees = collapseNodes(trees)\n",
    "# node_nums=TRUE labels each internal node\n",
    "p = plotTrees(trees, node_nums=TRUE, labelsize=6, scale=5)[[2]] +\n",
    "   geom_tippoint(aes(colour=gex_annotation, size=day)) + \n",
    "   geom_tiplab(aes(label=isotype), offset=0.002) + \n",
    "   scale_colour_manual(values = col_anno)\n",
    "print(p)\n",
    "# Get sequence at node 26 for the second clone_id in trees\n",
    "getSeq(trees, clone=trees$clone_id[2], node=26)"
   ]
  },
  {
   "cell_type": "code",
   "execution_count": 82,
   "metadata": {
    "slideshow": {
     "slide_type": "subslide"
    }
   },
   "outputs": [
    {
     "data": {
      "image/png": "[encoded data removed]"
     },
     "metadata": {},
     "output_type": "display_data"
    }
   ],
   "source": [
    "%%R\n",
    "# Correlation test\n",
    "trees = correlationTest(trees, time=\"day\")\n",
    "# remove trees with one timepoint, order by p value\n",
    "trees = filter(trees, !is.na(p))\n",
    "trees = trees[order(trees$p),]\n",
    "# Fancy tree plots\n",
    "p = plotTrees(trees)\n",
    "p = lapply(p, function(x)\n",
    "   x + \n",
    "  geom_tippoint(aes(fill=day),shape=21, size=3)+\n",
    "  scale_fill_distiller(palette=\"RdYlBu\"))\n",
    "# Save\n",
    "treesToPDF(p,file=\"results/time_data_trees.pdf\")\n",
    "\n",
    "select(trees, clone_id, slope, correlation, p)\n",
    "print(p[[1]])"
   ]
  },
  {
   "cell_type": "markdown",
   "metadata": {
    "cell_style": "center",
    "slideshow": {
     "slide_type": "slide"
    }
   },
   "source": [
    "# References\n",
    "\n",
    "## B cell phylo \n",
    "\n",
    "Hoehn, K. B. et al. (2016) The diversity and molecular evolution of B-cell receptors during infection. MBE. https://doi.org/10.1093/molbev/msw015\n",
    "\n",
    "Hoehn, K. B. et al. (2019) Repertoire-wide phylogenetic models of B cell molecular evolution reveal evolutionary signatures of aging and vaccination. PNAS 201906020.\n",
    "\n",
    "Hoehn, K. B. et al. (2020) Phylogenetic analysis of migration, differentiation, and class switching in B cells.\n",
    "bioRxiv. https://doi.org/10.1101/2020.05.30.124446\n",
    "\n",
    "Hoehn, K. B. et al. (2021) Human B cell lineages engaged by germinal centers following influenza vaccination are measurably evolving. bioRxiv. https://doi.org/10.1101/2021.01.06.425648\n"
   ]
  },
  {
   "cell_type": "markdown",
   "metadata": {
    "cell_style": "center",
    "slideshow": {
     "slide_type": "subslide"
    }
   },
   "source": [
    "## BCR analysis\n",
    "\n",
    "Gupta,N.T. et al. (2017) Hierarchical clustering can identify b cell clones\n",
    "with high confidence in ig repertoire sequencing data. The Journal of\n",
    "Immunology, 1601850.\n",
    "\n",
    "Gupta,N.T. et al. (2015) Change-o: A toolkit for analyzing large-scale b cell\n",
    "immunoglobulin repertoire sequencing data. Bioinformatics, 31, 3356–3358.\n",
    "\n",
    "Nouri,N. and Kleinstein,S.H. (2018a) A spectral clustering-based method\n",
    "for identifying clones from high-throughput b cell repertoire sequencing data.\n",
    "Bioinformatics, 34, i341–i349.\n",
    "\n",
    "Nouri,N. and Kleinstein,S.H. (2018b) Optimized threshold inference for\n",
    "partitioning of clones from high-throughput b cell repertoire sequencing\n",
    "data. Frontiers in immunology, 9.\n",
    "\n",
    "Stern,J.N. et al. (2014) B cells populating the multiple sclerosis brain\n",
    "mature in the draining cervical lymph nodes. Science translational medicine,\n",
    "6, 248ra107–248ra107.\n"
   ]
  },
  {
   "cell_type": "markdown",
   "metadata": {
    "cell_style": "center",
    "slideshow": {
     "slide_type": "subslide"
    }
   },
   "source": [
    "Vander Heiden,J.A. et al. (2017) Dysregulation of b cell repertoire\n",
    "formation in myasthenia gravis patients revealed through deep sequencing.\n",
    "The Journal of Immunology, 1601415.\n",
    "\n",
    "Yaari,G. et al. (2012) Quantifying selection in high-throughput\n",
    "immunoglobulin sequencing data sets. Nucleic acids research, 40,\n",
    "e134–e134.\n",
    "\n",
    "Yaari,G. et al. (2013) Models of somatic hypermutation targeting and\n",
    "substitution based on synonymous mutations from high-throughput\n",
    "immunoglobulin sequencing data. Frontiers in immunology, 4, 358.\n"
   ]
  }
 ],
 "metadata": {
  "celltoolbar": "Slideshow",
  "interpreter": {
   "hash": "767d51c1340bd893661ea55ea3124f6de3c7a262a8b4abca0554b478b1e2ff90"
  },
  "kernelspec": {
   "display_name": "Python 3 (ipykernel)",
   "language": "python",
   "name": "python3"
  },
  "language_info": {
   "codemirror_mode": {
    "name": "ipython",
    "version": 3
   },
   "file_extension": ".py",
   "mimetype": "text/x-python",
   "name": "python",
   "nbconvert_exporter": "python",
   "pygments_lexer": "ipython3",
   "version": "3.9.7"
  }
 },
 "nbformat": 4,
 "nbformat_minor": 4
}
