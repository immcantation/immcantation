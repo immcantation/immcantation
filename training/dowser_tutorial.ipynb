{
 "cells": [
  {
   "cell_type": "markdown",
   "metadata": {
    "cell_style": "center",
    "slideshow": {
     "slide_type": "slide"
    }
   },
   "source": [
    "# Reconstruction and analysis of B-cell lineage trees from single cell data using Immcantation\n",
    "\n",
    "\n",
    "![](assets/dowser-tutorial-cover.png)\n",
    "\n"
   ]
  },
  {
   "cell_type": "markdown",
   "metadata": {
    "slideshow": {
     "slide_type": "subslide"
    }
   },
   "source": [
    "Human B cells play a fundamental role in the adaptive immune response to infection and vaccination, as well as the pathology of allergies and many autoimmune diseases. Central to all of these processes is the fact that B cells are an evolutionary system, and undergo rapid somatic hypermutation and antigen-driven selection as part of the adaptive immune response. The similarities between this B cell response and evolution by natural selection have made phylogenetic methods a powerful means of characterizing important processes, such as immunological memory formation. Recent methodological work has led to the development of phylogenetic methods that adjust for the unique features of B cell evolution. Further, advances in single cell sequencing can now provide an unprecedented resolution of information, including linked heavy and light chain data, as well as the associated transcriptional states of individual B cells. In this tutorial, we show how single cell information can be integrated into B cell phylogenetic analysis using the Immcantation suite (Immcantation.org)."
   ]
  },
  {
   "cell_type": "markdown",
   "metadata": {
    "slideshow": {
     "slide_type": "slide"
    }
   },
   "source": [
    "**This tutorial covers:**\n",
    "\n",
    "Beginning with processed single cell RNA-seq (scRNA-seq) + BCR data from 10X Genomics, we will show:\n",
    "\n",
    "- how cell type annotations can be associated with BCR sequences,\n",
    "- how clonal clusters can be identified, and \n",
    "- how B cell phylogenetic trees can be built and visualized using these data sources.\n",
    "\n",
    "[Watch on YouTube](https://youtu.be/ZNOSQGh22X4) a recorded version of this tutorial, that was presented at the [Adaptive Immune Receptor Repertoires Webinar Series](https://www.antibodysociety.org/learningcenter/adaptive-immune-receptor-repertoires-webinar-series/) organized by the [AIRR Community](http://airr-community.org/) and [The Antibody Society](https://www.antibodysociety.org/) (November 9, 2021)."
   ]
  },
  {
   "cell_type": "markdown",
   "metadata": {
    "cell_style": "center",
    "slideshow": {
     "slide_type": "slide"
    }
   },
   "source": [
    "## Resources\n",
    "\n",
    "- You can email [immcantation@googlegroups.com](mailto:immcantation@googlegroups.com) with any questions or issues.\n",
    "- Documentation: http://immcantation.org\n",
    "- Source code and bug reports: https://bitbucket.org/kleinstein/immcantation\n",
    "- Docker/Singularity container for this lab: https://hub.docker.com/r/immcantation/lab"
   ]
  },
  {
   "cell_type": "markdown",
   "metadata": {},
   "source": [
    "## How to use the notebook\n",
    "\n",
    "Jupyter Notebook documentation: https://jupyter-notebook.readthedocs.io/en/stable/\n",
    "\n",
    "**Ctrl+Enter** will run the code in the selected cell and **Shift+Enter** will run the code and move to the following cell."
   ]
  },
  {
   "cell_type": "markdown",
   "metadata": {
    "slideshow": {
     "slide_type": "slide"
    }
   },
   "source": [
    "## Inside this container\n",
    "\n",
    "This container comes with software and example data that is ready to use. The commands `versions report` and `builds report` show the versions and dates respectively of the tools and data."
   ]
  },
  {
   "cell_type": "markdown",
   "metadata": {},
   "source": [
    "### Software versions\n",
    "Use this command to list the software versions"
   ]
  },
  {
   "cell_type": "code",
   "execution_count": 1,
   "metadata": {
    "cell_style": "center",
    "execution": {
     "iopub.execute_input": "2021-11-11T13:01:01.789635Z",
     "iopub.status.busy": "2021-11-11T13:01:01.788673Z",
     "iopub.status.idle": "2021-11-11T13:01:13.826504Z",
     "shell.execute_reply": "2021-11-11T13:01:13.828006Z"
    },
    "scrolled": true,
    "slideshow": {
     "slide_type": "-"
    }
   },
   "outputs": [
    {
     "name": "stdout",
     "output_type": "stream",
     "text": [
      "immcantation: devel\n",
      "date: 2022.04.11\n",
      "\n",
      "presto: 0.7.0\n",
      "changeo: 1.2.0\n",
      "alakazam: 1.2.0\n",
      "shazam: 1.1.0.999\n",
      "tigger: 1.0.0.999\n",
      "scoper: 1.2.0.999\n",
      "dowser: 0.1.0\n",
      "enchantr: 0.0.0\n",
      "prestor: 0.0.7\n",
      "rabhit: 0.1.5\n",
      "rdi: 1.0.0\n",
      "igphyml: 1.1.3\n",
      "\n",
      "airr-py: 1.3.1\n",
      "airr-r: 1.3.0\n",
      "blast: 2.9.0\n",
      "cd-hit: 4.8.1\n",
      "igblast: 1.18.0\n",
      "muscle: 3.8.425\n",
      "phylip: 3.697\n",
      "vsearch: 2.13.6\n"
     ]
    }
   ],
   "source": [
    "%%bash\n",
    "versions report"
   ]
  },
  {
   "cell_type": "markdown",
   "metadata": {
    "cell_style": "center",
    "slideshow": {
     "slide_type": "subslide"
    }
   },
   "source": [
    "### Build versions\n",
    "Use this command to list the date and changesets used during the image build."
   ]
  },
  {
   "cell_type": "code",
   "execution_count": 2,
   "metadata": {
    "cell_style": "center",
    "execution": {
     "iopub.execute_input": "2021-11-11T13:01:13.846742Z",
     "iopub.status.busy": "2021-11-11T13:01:13.839632Z",
     "iopub.status.idle": "2021-11-11T13:01:13.988765Z",
     "shell.execute_reply": "2021-11-11T13:01:13.989377Z"
    },
    "slideshow": {
     "slide_type": "-"
    }
   },
   "outputs": [
    {
     "name": "stdout",
     "output_type": "stream",
     "text": [
      "date: 2022-05-17 11:13:04 UTC\n",
      "immcantation: 4.3.0-61-g03e1c6f03a44+\n",
      "presto: 0.7.0-7-gb3ce9f8670ac\n",
      "changeo: 1.2.0-7-g2cc7614f6c0a\n",
      "alakazam: 1.2.0+\n",
      "shazam: 1.1.0-25-g95a7cdaec293+\n",
      "tigger: 6c31d6a59167+\n",
      "rdi: d27b9067cab6+\n",
      "scoper: 1.2.0-7-g88cc058cc11d+\n",
      "prestor: 0.0.7+\n"
     ]
    }
   ],
   "source": [
    "%%bash\n",
    "builds report"
   ]
  },
  {
   "cell_type": "markdown",
   "metadata": {
    "cell_style": "center",
    "slideshow": {
     "slide_type": "subslide"
    }
   },
   "source": [
    "### Example data used in the tutorial\n",
    "\n",
    "\n",
    "- `../data/bcr_phylo_tutorial/BCR.data.tsv`: B-Cell Receptor Data. Adaptive Immune Receptor Repertoire (AIRR) tsv BCRs already aligned to IMGT V, D, and J genes. This process is not covered in this tutorial. To learn more visit  https://immcantation.readthedocs.io/en/stable/tutorials/tutorials.html\n",
    "\n",
    "\n",
    "- `../data/bcr_phylo_tutorial/GEX.data.rds`: Gene Expression Data. This file contains a Seurat object with RNA-seq data already processed and annotated. Processing and annotation are not covered in this tutorial. You can learn more on these topics in Seurat's documentation and tutorials: https://satijalab.org/seurat/articles/pbmc3k_tutorial.html\n",
    "\n",
    "These two files are subsamples of the original 10x scRNA-seq and BCR sequencing data from Turner et al. (2020) *Human germinal centres engage memory and naive B cells after influenza vaccination* Nature. 586, 127–132 [link](https://www.nature.com/articles/s41586-020-2711-0) The study consists of blood and limph node samples taken from a single patient at mulitple time points following influenza vaccination.\n",
    "\n",
    "Note: The example files are available for download [here](https://yale.box.com/shared/static/96y1rlu4ujerprxr53qxw87g7ybc1y99)."
   ]
  },
  {
   "cell_type": "markdown",
   "metadata": {
    "cell_style": "center",
    "slideshow": {
     "slide_type": "subslide"
    }
   },
   "source": [
    "## Outline of tutorial\n",
    "\n",
    "1. Combining gene expression and BCR sequences.\n",
    "\n",
    "1. Identifying clonal clusters, reconstruct germlines.\n",
    "\n",
    "1. Building and visualizing trees.\n",
    "\n",
    "1. Tree analysis, detecting ongoing evolution.\n",
    "\n",
    "\n"
   ]
  },
  {
   "cell_type": "markdown",
   "metadata": {
    "slideshow": {
     "slide_type": "slide"
    }
   },
   "source": [
    "## The R session\n"
   ]
  },
  {
   "cell_type": "markdown",
   "metadata": {
    "slideshow": {
     "slide_type": "-"
    }
   },
   "source": [
    "The next two lines of code are required to be able to use R magic and run R code in this Jupyter notebook."
   ]
  },
  {
   "cell_type": "code",
   "execution_count": 3,
   "metadata": {
    "execution": {
     "iopub.execute_input": "2021-11-11T13:01:13.997422Z",
     "iopub.status.busy": "2021-11-11T13:01:13.996065Z",
     "iopub.status.idle": "2021-11-11T13:01:15.391100Z",
     "shell.execute_reply": "2021-11-11T13:01:15.392676Z"
    },
    "slideshow": {
     "slide_type": "-"
    }
   },
   "outputs": [],
   "source": [
    "# R for Python\n",
    "# Enable use of R magic to run R code\n",
    "import rpy2.rinterface\n",
    "%load_ext rpy2.ipython"
   ]
  },
  {
   "cell_type": "markdown",
   "metadata": {
    "slideshow": {
     "slide_type": "-"
    }
   },
   "source": [
    "The is the working directory:"
   ]
  },
  {
   "cell_type": "code",
   "execution_count": 4,
   "metadata": {
    "execution": {
     "iopub.execute_input": "2021-11-11T13:01:15.400638Z",
     "iopub.status.busy": "2021-11-11T13:01:15.399541Z",
     "iopub.status.idle": "2021-11-11T13:01:15.465618Z",
     "shell.execute_reply": "2021-11-11T13:01:15.464948Z"
    },
    "slideshow": {
     "slide_type": "-"
    }
   },
   "outputs": [
    {
     "name": "stdout",
     "output_type": "stream",
     "text": [
      "[1] \"/home/magus/notebooks\"\n"
     ]
    }
   ],
   "source": [
    "%%R\n",
    "getwd()"
   ]
  },
  {
   "cell_type": "markdown",
   "metadata": {
    "slideshow": {
     "slide_type": "-"
    }
   },
   "source": [
    "The example files are expected to be in `../data/bcr_phylo_tutorial`."
   ]
  },
  {
   "cell_type": "code",
   "execution_count": 5,
   "metadata": {
    "execution": {
     "iopub.execute_input": "2021-11-11T13:01:15.473005Z",
     "iopub.status.busy": "2021-11-11T13:01:15.472098Z",
     "iopub.status.idle": "2021-11-11T13:01:15.489096Z",
     "shell.execute_reply": "2021-11-11T13:01:15.488135Z"
    },
    "slideshow": {
     "slide_type": "-"
    }
   },
   "outputs": [
    {
     "name": "stdout",
     "output_type": "stream",
     "text": [
      "[1] \"BCR.data.final.tsv\" \"BCR.data.tsv\"       \"GEX.data.rds\"      \n"
     ]
    }
   ],
   "source": [
    "%%R\n",
    "list.files(\"../data/bcr_phylo_tutorial\")"
   ]
  },
  {
   "cell_type": "markdown",
   "metadata": {
    "slideshow": {
     "slide_type": "slide"
    }
   },
   "source": [
    "## Read in data\n",
    "\n",
    "The example files are expected to be in `../data/bcr_phylo_tutorial`. If you are using a different path, update the code in the cell bellow accordingly."
   ]
  },
  {
   "cell_type": "code",
   "execution_count": 6,
   "metadata": {
    "execution": {
     "iopub.execute_input": "2021-11-11T13:01:15.495261Z",
     "iopub.status.busy": "2021-11-11T13:01:15.494376Z",
     "iopub.status.idle": "2021-11-11T13:01:31.417242Z",
     "shell.execute_reply": "2021-11-11T13:01:31.416519Z"
    },
    "slideshow": {
     "slide_type": "-"
    }
   },
   "outputs": [
    {
     "name": "stdout",
     "output_type": "stream",
     "text": [
      "\n",
      "    WARNING: The R package \"reticulate\" does not\n",
      "    consider that it could be called from a Python process. This\n",
      "    results in a quasi-obligatory segfault when rpy2 is evaluating\n",
      "    R code using it. On the hand, rpy2 is accounting for the\n",
      "    fact that it might already be running embedded in a Python\n",
      "    process. This is why:\n",
      "    - Python -> rpy2 -> R -> reticulate: crashes\n",
      "    - R -> reticulate -> Python -> rpy2: works\n",
      "\n",
      "    The issue with reticulate is tracked here:\n",
      "    https://github.com/rstudio/reticulate/issues/208\n",
      "    "
     ]
    }
   ],
   "source": [
    "%%R\n",
    "suppressPackageStartupMessages(library(alakazam))\n",
    "suppressPackageStartupMessages(library(Seurat))\n",
    "\n",
    "# Read BCR data\n",
    "bcr_db <- readChangeoDb(\"../data/bcr_phylo_tutorial/BCR.data.tsv\")\n",
    "\n",
    "# Read GEX data\n",
    "gex_db <- readRDS(\"../data/bcr_phylo_tutorial/GEX.data.rds\")\n"
   ]
  },
  {
   "cell_type": "markdown",
   "metadata": {
    "slideshow": {
     "slide_type": "slide"
    }
   },
   "source": [
    "## Inspect the data objects\n",
    "\n"
   ]
  },
  {
   "cell_type": "markdown",
   "metadata": {
    "slideshow": {
     "slide_type": "subslide"
    }
   },
   "source": [
    "## The gene expression Seurat object\n",
    "\n",
    "`print` can be used to obtain a general overview of the Seurat object (number of features, number of samples...)."
   ]
  },
  {
   "cell_type": "code",
   "execution_count": 7,
   "metadata": {
    "execution": {
     "iopub.execute_input": "2021-11-11T13:01:31.424553Z",
     "iopub.status.busy": "2021-11-11T13:01:31.422619Z",
     "iopub.status.idle": "2021-11-11T13:01:31.546205Z",
     "shell.execute_reply": "2021-11-11T13:01:31.545547Z"
    },
    "slideshow": {
     "slide_type": "-"
    }
   },
   "outputs": [
    {
     "name": "stdout",
     "output_type": "stream",
     "text": [
      "An object of class Seurat \n",
      "18989 features across 3865 samples within 1 assay \n",
      "Active assay: RNA (18989 features, 1726 variable features)\n",
      " 2 dimensional reductions calculated: pca, umap\n"
     ]
    }
   ],
   "source": [
    "%%R\n",
    "library(Seurat)\n",
    "# Object summary\n",
    "print(gex_db)"
   ]
  },
  {
   "cell_type": "markdown",
   "metadata": {
    "slideshow": {
     "slide_type": "subslide"
    }
   },
   "source": [
    "`Idents` reports the cell ID and identities. The first annotation in this blood sample is a TCR."
   ]
  },
  {
   "cell_type": "code",
   "execution_count": 8,
   "metadata": {
    "execution": {
     "iopub.execute_input": "2021-11-11T13:01:31.553007Z",
     "iopub.status.busy": "2021-11-11T13:01:31.551718Z",
     "iopub.status.idle": "2021-11-11T13:01:31.575067Z",
     "shell.execute_reply": "2021-11-11T13:01:31.574212Z"
    },
    "slideshow": {
     "slide_type": "-"
    }
   },
   "outputs": [
    {
     "name": "stdout",
     "output_type": "stream",
     "text": [
      "P05_FNA_12_Y1_TCACAAGTCAAACAAG \n",
      "                         CD4 T \n",
      "Levels: CD4 T Naive B CD8 T DC/Monocyte GC B NK RMB PB\n"
     ]
    }
   ],
   "source": [
    "%%R\n",
    "# Cell type annotations\n",
    "head(Idents(gex_db),1)"
   ]
  },
  {
   "cell_type": "markdown",
   "metadata": {
    "slideshow": {
     "slide_type": "subslide"
    }
   },
   "source": [
    "## The immune repertoire data\n",
    "\n",
    "The default file format for all functions in Immcantation is the AIRR-C format as of release 4.0.0. The rearrangement data is stored in a table where each row is a sequence, and each column an annotation fields. To learn more about this format (including the valid field names and their expected values), visit the [AIRR-C Rearrangement Schema documentation](https://docs.airr-community.org/en/stable/datarep/rearrangements.html#fields)."
   ]
  },
  {
   "cell_type": "code",
   "execution_count": 9,
   "metadata": {
    "execution": {
     "iopub.execute_input": "2021-11-11T13:01:31.581189Z",
     "iopub.status.busy": "2021-11-11T13:01:31.579065Z",
     "iopub.status.idle": "2021-11-11T13:01:31.692732Z",
     "shell.execute_reply": "2021-11-11T13:01:31.686448Z"
    },
    "slideshow": {
     "slide_type": "-"
    }
   },
   "outputs": [
    {
     "name": "stdout",
     "output_type": "stream",
     "text": [
      "# A tibble: 1 × 71\n",
      "  sequence_id sequence rev_comp productive v_call d_call j_call sequence_alignm…\n",
      "  <chr>       <chr>    <lgl>    <lgl>      <chr>  <chr>  <chr>  <chr>           \n",
      "1 CCACTACCAG… ATACTCT… NA       TRUE       IGHV4… IGHD3… IGHJ3… CAGGTGCAGCTGCAG…\n",
      "# … with 63 more variables: germline_alignment <lgl>, junction <chr>,\n",
      "#   junction_aa <lgl>, v_cigar <lgl>, d_cigar <lgl>, j_cigar <lgl>,\n",
      "#   vj_in_frame <lgl>, stop_codon <lgl>, v_sequence_start <dbl>,\n",
      "#   v_sequence_end <dbl>, v_germline_start <dbl>, v_germline_end <dbl>,\n",
      "#   np1_length <dbl>, d_sequence_start <dbl>, d_sequence_end <dbl>,\n",
      "#   d_germline_start <dbl>, d_germline_end <dbl>, np2_length <dbl>,\n",
      "#   j_sequence_start <dbl>, j_sequence_end <dbl>, j_germline_start <dbl>, …\n"
     ]
    }
   ],
   "source": [
    "%%R\n",
    "suppressPackageStartupMessages(library(dplyr))\n",
    "# Object summary\n",
    "head(bcr_db,1)"
   ]
  },
  {
   "cell_type": "markdown",
   "metadata": {
    "slideshow": {
     "slide_type": "subslide"
    }
   },
   "source": [
    "It is possible to subset columns using regular `R` functions. The cell below shows how to subset some fields of interest for the first sequence in the table."
   ]
  },
  {
   "cell_type": "code",
   "execution_count": 10,
   "metadata": {
    "execution": {
     "iopub.execute_input": "2021-11-11T13:01:31.700145Z",
     "iopub.status.busy": "2021-11-11T13:01:31.699071Z",
     "iopub.status.idle": "2021-11-11T13:01:31.737333Z",
     "shell.execute_reply": "2021-11-11T13:01:31.737905Z"
    },
    "slideshow": {
     "slide_type": "-"
    }
   },
   "outputs": [
    {
     "name": "stdout",
     "output_type": "stream",
     "text": [
      "# A tibble: 1 × 5\n",
      "  cell_id            v_call      j_call   sample            day\n",
      "  <chr>              <chr>       <chr>    <chr>           <dbl>\n",
      "1 CCACTACCAGTATCTG-1 IGHV4-59*01 IGHJ3*02 P05_FNA_3_12_Y1    12\n"
     ]
    }
   ],
   "source": [
    "%%R\n",
    "# check out select columns\n",
    "head(select(bcr_db, cell_id, v_call, j_call, sample, day),1)"
   ]
  },
  {
   "cell_type": "markdown",
   "metadata": {
    "slideshow": {
     "slide_type": "slide"
    }
   },
   "source": [
    "## Standardize cell IDs\n",
    "\n",
    "Both of the example datasets have been processed separately, and use slighty different cell identifiers. To consolidate the data into one object, we need to standardize the cell identifiers. This step could be different, or not necessary at all, with other datasets."
   ]
  },
  {
   "cell_type": "code",
   "execution_count": 11,
   "metadata": {
    "execution": {
     "iopub.execute_input": "2021-11-11T13:01:31.744754Z",
     "iopub.status.busy": "2021-11-11T13:01:31.743187Z",
     "iopub.status.idle": "2021-11-11T13:01:31.776341Z",
     "shell.execute_reply": "2021-11-11T13:01:31.777334Z"
    },
    "slideshow": {
     "slide_type": "-"
    }
   },
   "outputs": [
    {
     "name": "stdout",
     "output_type": "stream",
     "text": [
      "[1] \"P05_FNA_3_12_Y1_CCACTACCAGTATCTG\"\n"
     ]
    }
   ],
   "source": [
    "%%R\n",
    "# Make cell IDs in BCR match those in Seurat Object\n",
    "bcr_db$cell_id_unique = paste0(bcr_db$sample, \"_\", bcr_db$cell_id)\n",
    "bcr_db$cell_id_unique = gsub(\"-1\",\"\", bcr_db$cell_id_unique)\n",
    "bcr_db$cell_id_unique[1]"
   ]
  },
  {
   "cell_type": "markdown",
   "metadata": {
    "slideshow": {
     "slide_type": "slide"
    }
   },
   "source": [
    "## Different order\n",
    "\n",
    "In addition, the cells in both datasets are not presented in the same order."
   ]
  },
  {
   "cell_type": "code",
   "execution_count": 12,
   "metadata": {
    "cell_style": "center",
    "execution": {
     "iopub.execute_input": "2021-11-11T13:01:31.783704Z",
     "iopub.status.busy": "2021-11-11T13:01:31.782585Z",
     "iopub.status.idle": "2021-11-11T13:01:31.792714Z",
     "shell.execute_reply": "2021-11-11T13:01:31.793663Z"
    },
    "slideshow": {
     "slide_type": "-"
    }
   },
   "outputs": [
    {
     "name": "stdout",
     "output_type": "stream",
     "text": [
      "[1] \"P05_FNA_3_12_Y1_CCACTACCAGTATCTG\"\n"
     ]
    }
   ],
   "source": [
    "%%R\n",
    "# First id in the BCR data\n",
    "bcr_db$cell_id_unique[1]"
   ]
  },
  {
   "cell_type": "code",
   "execution_count": 13,
   "metadata": {
    "cell_style": "center",
    "execution": {
     "iopub.execute_input": "2021-11-11T13:01:31.800294Z",
     "iopub.status.busy": "2021-11-11T13:01:31.799172Z",
     "iopub.status.idle": "2021-11-11T13:01:31.814577Z",
     "shell.execute_reply": "2021-11-11T13:01:31.813619Z"
    },
    "slideshow": {
     "slide_type": "-"
    }
   },
   "outputs": [
    {
     "name": "stdout",
     "output_type": "stream",
     "text": [
      "[1] \"P05_FNA_12_Y1_TCACAAGTCAAACAAG\"\n"
     ]
    }
   ],
   "source": [
    "%%R\n",
    "# First id in the GEX data\n",
    "Cells(gex_db)[1]"
   ]
  },
  {
   "cell_type": "markdown",
   "metadata": {
    "slideshow": {
     "slide_type": "-"
    }
   },
   "source": [
    "Having common cell identifiers, we will be able to bring BCR data into the Seurat object, or the gene expression and annotation data from the Seurat object into the BCR table, by matching `cell_id_unique`."
   ]
  },
  {
   "cell_type": "markdown",
   "metadata": {
    "slideshow": {
     "slide_type": "slide"
    }
   },
   "source": [
    "## Add BCR data to Seurat object\n",
    "\n",
    "1. Find the GEX cells in the BCR data\n",
    "\n",
    "1. Label GEX data with BCR data availability\n",
    "\n",
    "1. Plot UMAP"
   ]
  },
  {
   "cell_type": "markdown",
   "metadata": {
    "slideshow": {
     "slide_type": "subslide"
    }
   },
   "source": [
    "### Find the GEX cells in the BCR data\n",
    "\n",
    "The vector `match.index` contains the position of the GEX cells in the BCR data. If there is not match, the value will be `NA`."
   ]
  },
  {
   "cell_type": "code",
   "execution_count": 14,
   "metadata": {
    "execution": {
     "iopub.execute_input": "2021-11-11T13:01:31.820846Z",
     "iopub.status.busy": "2021-11-11T13:01:31.819665Z",
     "iopub.status.idle": "2021-11-11T13:01:31.836266Z",
     "shell.execute_reply": "2021-11-11T13:01:31.836808Z"
    },
    "slideshow": {
     "slide_type": "-"
    }
   },
   "outputs": [
    {
     "name": "stdout",
     "output_type": "stream",
     "text": [
      "[1] 0.2455369\n"
     ]
    }
   ],
   "source": [
    "%%R\n",
    "# match index to find the position of the GEX cells in the BCR data\n",
    "match.index = match(Cells(gex_db), bcr_db$cell_id_unique)\n",
    "\n",
    "# In this data, not all cells are B cells. \n",
    "# What proportion of cells don’t have BCRs?\n",
    "mean(is.na(match.index))"
   ]
  },
  {
   "cell_type": "code",
   "execution_count": 15,
   "metadata": {
    "execution": {
     "iopub.execute_input": "2021-11-11T13:01:31.842393Z",
     "iopub.status.busy": "2021-11-11T13:01:31.841628Z",
     "iopub.status.idle": "2021-11-11T13:01:31.857299Z",
     "shell.execute_reply": "2021-11-11T13:01:31.858137Z"
    },
    "slideshow": {
     "slide_type": "-"
    }
   },
   "outputs": [
    {
     "name": "stdout",
     "output_type": "stream",
     "text": [
      "[1] 1\n"
     ]
    }
   ],
   "source": [
    "%%R\n",
    "# Just to double check cell ids in the GEX match cells ids in BCR data\n",
    "# Should be 1\n",
    "mean(Cells(gex_db) == bcr_db$cell_id_unique[match.index],na.rm=TRUE)\n"
   ]
  },
  {
   "cell_type": "markdown",
   "metadata": {
    "slideshow": {
     "slide_type": "subslide"
    }
   },
   "source": [
    "### Label GEX data with BCR data availability\n",
    "\n",
    "\n",
    "With the matching indices, it is possible to label the GEX cells with `TRUE` or `FALSE` to indicate whether there is BCR information available for the cell, and visualize this information in the UMAP plot."
   ]
  },
  {
   "cell_type": "code",
   "execution_count": 16,
   "metadata": {
    "execution": {
     "iopub.execute_input": "2021-11-11T13:01:31.865144Z",
     "iopub.status.busy": "2021-11-11T13:01:31.864049Z",
     "iopub.status.idle": "2021-11-11T13:01:31.883706Z",
     "shell.execute_reply": "2021-11-11T13:01:31.884265Z"
    },
    "slideshow": {
     "slide_type": "-"
    }
   },
   "outputs": [],
   "source": [
    "%%R\n",
    "\n",
    "# label whether BCR found in cell\n",
    "gex_db$contains_bcr = !is.na(match.index)\n",
    "\n"
   ]
  },
  {
   "cell_type": "markdown",
   "metadata": {
    "slideshow": {
     "slide_type": "subslide"
    }
   },
   "source": [
    "### plot UMAP\n",
    "\n",
    "We expect that for a large proportion of cells labelled as BCR, there will be BCR sequencing data available, and these cells will be highlighted in the UMAP plot."
   ]
  },
  {
   "cell_type": "code",
   "execution_count": 17,
   "metadata": {
    "execution": {
     "iopub.execute_input": "2021-11-11T13:01:31.890892Z",
     "iopub.status.busy": "2021-11-11T13:01:31.889228Z",
     "iopub.status.idle": "2021-11-11T13:01:32.730904Z",
     "shell.execute_reply": "2021-11-11T13:01:32.731763Z"
    },
    "slideshow": {
     "slide_type": "-"
    }
   },
   "outputs": [
    {
     "data": {
      "image/png": "[encoded data removed]"
     },
     "metadata": {},
     "output_type": "display_data"
    }
   ],
   "source": [
    "%%R\n",
    "\n",
    "# List of cells with BCRs\n",
    "highlighted.cells = Cells(gex_db)[which(gex_db$contains_bcr)]\n",
    "\n",
    "# Plot UMAP with BCR-containing cells\n",
    "DimPlot(object = gex_db, reduction = \"umap\", cells.highlight = highlighted.cells, label =\n",
    "   TRUE, cols=\"gray\", pt.size = 1.0, label.size=8, label.box=TRUE) + NoLegend()\n",
    "\n"
   ]
  },
  {
   "cell_type": "markdown",
   "metadata": {
    "slideshow": {
     "slide_type": "slide"
    }
   },
   "source": [
    "## Add GEX data to BCR object\n",
    "\n",
    "1. Find the BCR cells in the GEX data\n",
    "\n",
    "1. Transfer GEX annotations into the BCR data\n",
    "\n",
    "1. Add UMAP coordinates to the BCR data\n",
    "\n",
    "1. Remove cells without GEX data\n",
    "\n",
    "1. Ensure information transferred from Seurat object"
   ]
  },
  {
   "cell_type": "markdown",
   "metadata": {
    "slideshow": {
     "slide_type": "subslide"
    }
   },
   "source": [
    "### Find the BCR cells in the GEX data\n",
    "\n",
    "We repeat the `match` step, reversing the order. The vector `match.index` will now contain the positions of the BCR sequences in the GEX data.\n"
   ]
  },
  {
   "cell_type": "code",
   "execution_count": 18,
   "metadata": {
    "execution": {
     "iopub.execute_input": "2021-11-11T13:01:32.739312Z",
     "iopub.status.busy": "2021-11-11T13:01:32.738205Z",
     "iopub.status.idle": "2021-11-11T13:01:32.748263Z",
     "shell.execute_reply": "2021-11-11T13:01:32.749202Z"
    },
    "slideshow": {
     "slide_type": "-"
    }
   },
   "outputs": [],
   "source": [
    "%%R\n",
    "\n",
    "# Match indices to find the position of the BCR cells in the GEX data\n",
    "# Different from finding the position of the GEX cells in the BCR data!\n",
    "match.index = match(bcr_db$cell_id_unique, Cells(gex_db))"
   ]
  },
  {
   "cell_type": "markdown",
   "metadata": {},
   "source": [
    "Some BCRs don't have GEX information. This can happen, for example, if the cell for which BCR's are covered didn't pass the GEX processing and quality controls thresholds."
   ]
  },
  {
   "cell_type": "code",
   "execution_count": 19,
   "metadata": {
    "execution": {
     "iopub.execute_input": "2021-11-11T13:01:32.755548Z",
     "iopub.status.busy": "2021-11-11T13:01:32.754402Z",
     "iopub.status.idle": "2021-11-11T13:01:32.765503Z",
     "shell.execute_reply": "2021-11-11T13:01:32.766791Z"
    },
    "slideshow": {
     "slide_type": "-"
    }
   },
   "outputs": [
    {
     "name": "stdout",
     "output_type": "stream",
     "text": [
      "[1] 0.09243697\n"
     ]
    }
   ],
   "source": [
    "%%R\n",
    "# What proportion of BCRs don’t have GEX information?\n",
    "mean(is.na(match.index))"
   ]
  },
  {
   "cell_type": "markdown",
   "metadata": {
    "slideshow": {
     "slide_type": "subslide"
    }
   },
   "source": [
    "### Transfer GEX annotations into the BCR data\n",
    "\n",
    "The GEX cell annotations can be added as additional columns in the BCR table."
   ]
  },
  {
   "cell_type": "code",
   "execution_count": 20,
   "metadata": {
    "execution": {
     "iopub.execute_input": "2021-11-11T13:01:32.772561Z",
     "iopub.status.busy": "2021-11-11T13:01:32.771602Z",
     "iopub.status.idle": "2021-11-11T13:01:32.812777Z",
     "shell.execute_reply": "2021-11-11T13:01:32.813644Z"
    },
    "slideshow": {
     "slide_type": "-"
    }
   },
   "outputs": [
    {
     "name": "stdout",
     "output_type": "stream",
     "text": [
      "[1] NA        \"Naive B\" \"Naive B\" NA        \"GC B\"   \n"
     ]
    }
   ],
   "source": [
    "%%R\n",
    "\n",
    "# Add annotations to BCR data\n",
    "cell.annotation = as.character(Idents(gex_db))\n",
    "bcr_db$gex_annotation= unlist(lapply(match.index,function(x){ifelse(is.na(x),NA, cell.annotation[x])}))\n",
    "bcr_db$gex_annotation[1:5]"
   ]
  },
  {
   "cell_type": "markdown",
   "metadata": {
    "slideshow": {
     "slide_type": "subslide"
    }
   },
   "source": [
    "### Add UMAP coordinates to BCR data\n",
    "\n",
    "The UMAP coordinates can be added as additional columns in the BCR table as well."
   ]
  },
  {
   "cell_type": "code",
   "execution_count": 21,
   "metadata": {
    "execution": {
     "iopub.execute_input": "2021-11-11T13:01:32.819921Z",
     "iopub.status.busy": "2021-11-11T13:01:32.817158Z",
     "iopub.status.idle": "2021-11-11T13:01:32.938617Z",
     "shell.execute_reply": "2021-11-11T13:01:32.937498Z"
    },
    "slideshow": {
     "slide_type": "-"
    }
   },
   "outputs": [
    {
     "name": "stdout",
     "output_type": "stream",
     "text": [
      "# A tibble: 5 × 4\n",
      "  cell_id_unique                   gex_umap1 gex_umap2 gex_annotation\n",
      "  <chr>                                <dbl>     <dbl> <chr>         \n",
      "1 P05_FNA_3_12_Y1_CCACTACCAGTATCTG     NA        NA    <NA>          \n",
      "2 P05_FNA_5_Y1_GACTGCGCAAGCCTAT         7.96     -5.60 Naive B       \n",
      "3 P05_FNA_60_Y1_GGCAATTAGACAGAGA        8.65     -4.55 Naive B       \n",
      "4 P05_FNA_2_5_Y1_CGCGTTTCAGATGGGT      NA        NA    <NA>          \n",
      "5 P05_FNA_2_60_Y1_AGTGTCACACTGTTAG      6.15      8.44 GC B          \n"
     ]
    }
   ],
   "source": [
    "%%R\n",
    "# Add UMAP coordinates to BCR data\n",
    "umap1 = gex_db@reductions$umap@cell.embeddings[,1]\n",
    "umap2 = gex_db@reductions$umap@cell.embeddings[,2]\n",
    "bcr_db$gex_umap1= unlist(lapply(match.index, function(x){ifelse(is.na(x),NA, umap1[x])}))\n",
    "bcr_db$gex_umap2= unlist(lapply(match.index, function(x){ifelse(is.na(x),NA, umap2[x])}))\n",
    "bcr_db[1:5,] %>%\n",
    "select(cell_id_unique,gex_umap1,gex_umap2,gex_annotation)"
   ]
  },
  {
   "cell_type": "markdown",
   "metadata": {
    "slideshow": {
     "slide_type": "subslide"
    }
   },
   "source": [
    "### Remove cells without GEX data"
   ]
  },
  {
   "cell_type": "code",
   "execution_count": 22,
   "metadata": {
    "execution": {
     "iopub.execute_input": "2021-11-11T13:01:32.946779Z",
     "iopub.status.busy": "2021-11-11T13:01:32.942799Z",
     "iopub.status.idle": "2021-11-11T13:01:32.964454Z",
     "shell.execute_reply": "2021-11-11T13:01:32.965382Z"
    },
    "slideshow": {
     "slide_type": "-"
    }
   },
   "outputs": [],
   "source": [
    "%%R\n",
    "# Remove cells that didn’t match\n",
    "bcr_db = filter(bcr_db, !is.na(gex_annotation))"
   ]
  },
  {
   "cell_type": "markdown",
   "metadata": {
    "slideshow": {
     "slide_type": "subslide"
    }
   },
   "source": [
    "### Ensure information transferred from Seurat object\n",
    "\n",
    "The BCR data table now has the UMAP coordinates. We can reproduce **part** of the UMAP plot with standard `ggplot` commands. This plot will have a similar shape to the GEX UMAP, but will only show points for which both GEX and BCR data is available."
   ]
  },
  {
   "cell_type": "code",
   "execution_count": 23,
   "metadata": {
    "cell_style": "center",
    "execution": {
     "iopub.execute_input": "2021-11-11T13:01:32.973393Z",
     "iopub.status.busy": "2021-11-11T13:01:32.972185Z",
     "iopub.status.idle": "2021-11-11T13:01:33.326492Z",
     "shell.execute_reply": "2021-11-11T13:01:33.327369Z"
    },
    "slideshow": {
     "slide_type": "-"
    }
   },
   "outputs": [
    {
     "data": {
      "image/png": "[encoded data removed]"
     },
     "metadata": {},
     "output_type": "display_data"
    }
   ],
   "source": [
    "%%R\n",
    "suppressPackageStartupMessages(library(ggplot2))\n",
    "# Set up color palette for annotations\n",
    "col_anno = c(\n",
    "   \"GC B\"=\"dodgerblue2\", \"PB\"=\"firebrick2\", \"ABC\"=\"seagreen\",\n",
    "   \"Naive B\"=\"darkgoldenrod2\", \"RMB\"=\"plum2\", \"Germline\"=\"black\")\n",
    "# Plot UMAP from bcr_db\n",
    "bcr_umap <- ggplot(bcr_db) +\n",
    "   geom_point(aes(x = gex_umap1, y = gex_umap2, color = gex_annotation)) +\n",
    "   scale_colour_manual(values=col_anno) +\n",
    "   theme_bw()\n",
    "bcr_umap"
   ]
  },
  {
   "cell_type": "markdown",
   "metadata": {
    "slideshow": {
     "slide_type": "subslide"
    }
   },
   "source": [
    "### Color the UMAP by isotype\n",
    "\n",
    "The BCR data frame contains additional annotation fields, such us the isotype, that can also be visualized on the UMAP. We expect that naive cell express IgM. The germinal center and plasmablast cells, primarily express IgG and IgA."
   ]
  },
  {
   "cell_type": "code",
   "execution_count": 24,
   "metadata": {
    "execution": {
     "iopub.execute_input": "2021-11-11T13:01:33.334819Z",
     "iopub.status.busy": "2021-11-11T13:01:33.333568Z",
     "iopub.status.idle": "2021-11-11T13:01:33.701542Z",
     "shell.execute_reply": "2021-11-11T13:01:33.700698Z"
    },
    "slideshow": {
     "slide_type": "subslide"
    }
   },
   "outputs": [
    {
     "data": {
      "image/png": "[encoded data removed]"
     },
     "metadata": {},
     "output_type": "display_data"
    }
   ],
   "source": [
    "%%R\n",
    "# Plot isotype on UMAP\n",
    "ggplot(bcr_db) +\n",
    "   geom_point(aes(x=gex_umap1,y = gex_umap2,color = isotype)) +\n",
    "   theme_bw()"
   ]
  },
  {
   "cell_type": "markdown",
   "metadata": {
    "slideshow": {
     "slide_type": "slide"
    }
   },
   "source": [
    "## Identifying clonal clusters\n",
    "\n",
    "\n",
    "**Goal:** Partition (cluster) sequences into clonally related lineages. Each lineage is a group of sequences that came from the same original naive cell.\n",
    "\n",
    "Summary of the key steps:\n",
    "- *Determine clonal clustering threshold:* sequences which are under this cut-off are clonally related.\n",
    "- *Assign clonal groups:* add an annotation (`clone_id`) that can be used to identify a group of sequences that came from the same original naive cell.\n",
    "- *Reconstruct germline sequences:* figure out the germline sequence of the common ancestor, before mutations are introduced during clonal expansion and SMH.\n",
    "\n",
    "![](assets/clonalexpansion.png)\n"
   ]
  },
  {
   "cell_type": "markdown",
   "metadata": {
    "slideshow": {
     "slide_type": "subslide"
    }
   },
   "source": [
    "### Picking a threshold using shazam\n",
    "\n",
    "*Gupta et al. (2015)*\n",
    "\n",
    "<img src=\"assets/hclust.png\" width=\"35%\" align=\"left\"><img src=\"assets/distNearest.png\" width=\"30%\" align=\"left\">\n",
    "\n",
    "We first split sequences into groups that share the same V and J gene assignments and that have the same junction (or equivalently CDR3) length. This is based on the assumption that members of a clone will share all of these properties. `distToNearest` performs this grouping step, then counts the number of mismatches in the junction region between all pairs of sequences in eaach group and returns the smallest non-zero value for each sequence. At the end of this step, a new column (`dist_nearest`) which contains the distances to the closest non-identical sequence in each group will be added to the BCR table. `findThreshold` uses the distribution of distances calculated in the previous step to determine an appropriate threshold for the dataset. This can be done using either a `density` or `mixture` based method. "
   ]
  },
  {
   "cell_type": "markdown",
   "metadata": {
    "slideshow": {
     "slide_type": "subslide"
    }
   },
   "source": [
    "### distToNearest"
   ]
  },
  {
   "cell_type": "code",
   "execution_count": 25,
   "metadata": {
    "execution": {
     "iopub.execute_input": "2021-11-11T13:01:33.717290Z",
     "iopub.status.busy": "2021-11-11T13:01:33.716311Z",
     "iopub.status.idle": "2021-11-11T13:01:38.310245Z",
     "shell.execute_reply": "2021-11-11T13:01:38.309105Z"
    },
    "slideshow": {
     "slide_type": "-"
    }
   },
   "outputs": [
    {
     "name": "stdout",
     "output_type": "stream",
     "text": [
      "# A tibble: 6 × 2\n",
      "  cell_id_unique                   dist_nearest\n",
      "  <chr>                                   <dbl>\n",
      "1 P05_FNA_5_Y1_GACTGCGCAAGCCTAT          0.0667\n",
      "2 P05_FNA_60_Y1_GGCAATTAGACAGAGA         0.0667\n",
      "3 P05_FNA_2_60_Y1_AGTGTCACACTGTTAG       0.0196\n",
      "4 P05_FNA_2_60_Y1_CGGGTCAGTCTGGAGA       0.0196\n",
      "5 P05_FNA_60_Y1_ACTGATGTCCTAGAAC         0.0196\n",
      "6 P05_FNA_60_Y1_CTGAAACAGTGAAGTT         0.0196\n"
     ]
    }
   ],
   "source": [
    "%%R\n",
    "suppressPackageStartupMessages(library(shazam))\n",
    "# Find threshold using heavy chains\n",
    "dist_ham <- distToNearest(filter(bcr_db, locus==\"IGH\"))\n",
    "head(dist_ham) %>%\n",
    "select(cell_id_unique, dist_nearest)\n"
   ]
  },
  {
   "cell_type": "markdown",
   "metadata": {
    "slideshow": {
     "slide_type": "subslide"
    }
   },
   "source": [
    "### findThreshold\n",
    "\n",
    "The figure shows the distance-to-nearest distribution for the repertoire. Typically, the distribution is bimodal. The first mode (on the left) represents sequences that have at least one clonal relative in the dataset, while the second mode (on the right) is representative of the sequences that do not have any clonal relatives in the data (sometimes called \"singletons\"). A reasonable threshold will separate these two modes of the distribution."
   ]
  },
  {
   "cell_type": "code",
   "execution_count": 26,
   "metadata": {
    "execution": {
     "iopub.execute_input": "2021-11-11T13:01:38.321938Z",
     "iopub.status.busy": "2021-11-11T13:01:38.320473Z",
     "iopub.status.idle": "2021-11-11T13:01:38.913032Z",
     "shell.execute_reply": "2021-11-11T13:01:38.912151Z"
    },
    "slideshow": {
     "slide_type": "-"
    }
   },
   "outputs": [
    {
     "data": {
      "image/png": "[encoded data removed]"
     },
     "metadata": {},
     "output_type": "display_data"
    }
   ],
   "source": [
    "%%R\n",
    "output <- findThreshold(dist_ham$dist_nearest)\n",
    "threshold <- output@threshold\n",
    "# Visualize the distance-to-nearest distribution and threshold\n",
    "plotDensityThreshold(output)\n"
   ]
  },
  {
   "cell_type": "markdown",
   "metadata": {
    "slideshow": {
     "slide_type": "subslide"
    }
   },
   "source": [
    "### Performing clustering using scoper\n",
    "\n",
    "Once a threshold is decided, we perform the clonal assignment. At the end of this step, the BCR table will have an additional column (`clone_id`) that provides an identifier for each sequence to indicate which clone it belongs to (i.e., sequences that have the same identifier are clonally-related). *Note that these identifiers are only unique to the dataset used to carry out the clonal assignments.*\n",
    "\n",
    "Note: will print out “running in bulk mode” because the subsampled example data has only heavy chains. [Other options](https://scoper.readthedocs.io/en/stable/topics/hierarchicalClones/#single-cell-data) available if light chains are included.\n"
   ]
  },
  {
   "cell_type": "code",
   "execution_count": 27,
   "metadata": {
    "execution": {
     "iopub.execute_input": "2021-11-11T13:01:38.922336Z",
     "iopub.status.busy": "2021-11-11T13:01:38.920960Z",
     "iopub.status.idle": "2021-11-11T13:01:51.339065Z",
     "shell.execute_reply": "2021-11-11T13:01:51.325122Z"
    },
    "scrolled": true,
    "slideshow": {
     "slide_type": "-"
    }
   },
   "outputs": [
    {
     "name": "stderr",
     "output_type": "stream",
     "text": [
      "R[write to console]: Running defineClonesScoper in bulk mode and only keep heavy chains\n",
      "\n"
     ]
    },
    {
     "name": "stdout",
     "output_type": "stream",
     "text": [
      "                    cell_id_unique clone_id\n",
      "1 P05_FNA_3_28_Y1_ATGCGATCAACTGCTA        1\n",
      "2 P05_FNA_2_60_Y1_GCATGTAGTTATGTGC        1\n",
      "3 P05_FNA_2_60_Y1_TACAGTGAGGCGACAT        1\n",
      "4 P05_FNA_2_60_Y1_ACGGCCAGTCGCATAT        2\n",
      "5   P05_FNA_12_Y1_CACACCTTCTACCAGA        2\n",
      "6 P05_FNA_2_60_Y1_TTGGCAAAGAGTAAGG        3\n"
     ]
    }
   ],
   "source": [
    "%%R\n",
    "suppressPackageStartupMessages(library(scoper))\n",
    "# Assign clonal clusters\n",
    "results <- hierarchicalClones(dist_ham,threshold=threshold)\n",
    "results_db <- as.data.frame(results)\n",
    "head(results_db) %>%\n",
    "select(cell_id_unique, clone_id)"
   ]
  },
  {
   "cell_type": "markdown",
   "metadata": {
    "slideshow": {
     "slide_type": "subslide"
    }
   },
   "source": [
    "### Visualize clone size distribution\n",
    "\n",
    "Most real datasets, will have most clones of size 1 (one sequence). In this tutorial, we processed data to remove most of singleton clone and we don't see the much higher peak at 1 that we would normally expect."
   ]
  },
  {
   "cell_type": "code",
   "execution_count": 28,
   "metadata": {
    "execution": {
     "iopub.execute_input": "2021-11-11T13:01:51.348044Z",
     "iopub.status.busy": "2021-11-11T13:01:51.346956Z",
     "iopub.status.idle": "2021-11-11T13:01:51.580259Z",
     "shell.execute_reply": "2021-11-11T13:01:51.581137Z"
    },
    "slideshow": {
     "slide_type": "-"
    }
   },
   "outputs": [
    {
     "data": {
      "image/png": "[encoded data removed]"
     },
     "metadata": {},
     "output_type": "display_data"
    }
   ],
   "source": [
    "%%R\n",
    "# get clone sizes using dplyr functions\n",
    "clone_sizes <- countClones(results_db)\n",
    "# Plot cells per clone\n",
    "ggplot(clone_sizes, aes(x=seq_count))+\n",
    "geom_bar() + theme_bw() +\n",
    "xlab(\"Sequences per clone\")\n",
    "\n"
   ]
  },
  {
   "cell_type": "markdown",
   "metadata": {
    "slideshow": {
     "slide_type": "subslide"
    }
   },
   "source": [
    "## Reconstruct clonal germlines using dowser\n",
    "\n",
    "The goal is to reconstruct the sequence of the unmutated ancestor of each clone. We use a reference database of known alleles ([IMGT](http://www.imgt.org)). Because it is very difficult to ccurately infer the D region and the junction region for BCR sequences, we mask this region with `N`. \n",
    "\n",
    "Note: If you opted for a native installation to run this tutorial, you can obtain reference germlines from IMGT with:\n",
    "```\n",
    "    git clone https://bitbucket.org/kleinstein/immcantation\n",
    "    immcantation/scripts/fetch_imgtdb.sh\n",
    "```"
   ]
  },
  {
   "cell_type": "code",
   "execution_count": 29,
   "metadata": {
    "execution": {
     "iopub.execute_input": "2021-11-11T13:01:51.587967Z",
     "iopub.status.busy": "2021-11-11T13:01:51.586698Z",
     "iopub.status.idle": "2021-11-11T13:02:00.495998Z",
     "shell.execute_reply": "2021-11-11T13:02:00.495355Z"
    },
    "scrolled": true,
    "slideshow": {
     "slide_type": "-"
    }
   },
   "outputs": [
    {
     "name": "stdout",
     "output_type": "stream",
     "text": [
      "[1] \"Read in 1147 from 17 fasta files\"\n",
      "[1] \"CAGGTGCAGCTGCAGGAGTCGGGCCCA...GGACTGGTGAAGCCTTCGGAGACCCTGTCCCTCACCTGCGCTGTCTCTGGTTACTCCATCAGC.........AGTGGTTACTACTGGGGCTGGATCCGGCAGCCCCCAGGGAAGGGGCTGGAGTGGATTGGGAGTATCTATCATAGT.........GGGAGCACCTACTACAACCCGTCCCTCAAG...AGTCGAGTCACCATATCAGTAGACACGTCCAAGAACCAGTTCTCCCTGAAGCTGAGCTCTGTGACCGCCGCAGACACGGCCGTGTATTACTGTGCGAGANNNNNNNNNNNNNNNNNNNNNNNNTTTGACTACTGGGGCCAGGGAACCCTGGTCACCGTCTCCTCAG\"\n"
     ]
    }
   ],
   "source": [
    "%%R\n",
    "suppressPackageStartupMessages(library(dowser))\n",
    "\n",
    "# read in IMGT data if downloaded on your own (above)\n",
    "# and update `dir` to use the path to your `human/vdj` folder\n",
    "# references = readIMGT(dir = \"human/vdj/\")\n",
    "\n",
    "# read in IMGT data if using in Docker image\n",
    "references = readIMGT(dir = \"/usr/local/share/germlines/imgt/human/vdj\")\n",
    "# Reconstruct germlines\n",
    "results_db = createGermlines(results_db, references)\n",
    "# Check output column\n",
    "results_db$germline_alignment_d_mask[1]\n"
   ]
  },
  {
   "cell_type": "markdown",
   "metadata": {
    "slideshow": {
     "slide_type": "slide"
    }
   },
   "source": [
    "# Building and visualizing trees\n",
    "\n",
    "1. Formatting clones\n",
    "\n",
    "1. Tree building\n",
    "\n",
    "1. Visualize trees\n",
    "\n",
    "1.  Reconstruct intermediate sequences"
   ]
  },
  {
   "cell_type": "markdown",
   "metadata": {
    "slideshow": {
     "slide_type": "subslide"
    }
   },
   "source": [
    "## Formatting clones with dowser\n",
    "\n",
    "In the rearrrangemnt table, each row corresponds to a sequence, and each column is information about that sequence. We will create a new data structure, where each row is a clonal cluster, and each column is information about that clonal cluster. The function `formatClones` performs this processing and has options that are relevant to determine how the trees can be built and visualized. For example, `traits` determines the columns from the rearrangement data that will be included in the `clones` object, and will also be used to determine the uniqueness of the sequences, so they are not collapsed.\n"
   ]
  },
  {
   "cell_type": "code",
   "execution_count": 30,
   "metadata": {
    "execution": {
     "iopub.execute_input": "2021-11-11T13:02:00.502690Z",
     "iopub.status.busy": "2021-11-11T13:02:00.501630Z",
     "iopub.status.idle": "2021-11-11T13:02:04.818698Z",
     "shell.execute_reply": "2021-11-11T13:02:04.816726Z"
    },
    "slideshow": {
     "slide_type": "-"
    }
   },
   "outputs": [
    {
     "name": "stdout",
     "output_type": "stream",
     "text": [
      "|===================================================== | 99% ~0 s remaining     # A tibble: 66 × 4\n",
      "   clone_id data       locus  seqs\n",
      "   <chr>    <list>     <chr> <int>\n",
      " 1 403      <airrClon> IGH      16\n",
      " 2 457      <airrClon> IGH      15\n",
      " 3 512      <airrClon> IGH      15\n",
      " 4 823      <airrClon> IGH      15\n",
      " 5 12       <airrClon> IGH      13\n",
      " 6 539      <airrClon> IGH      13\n",
      " 7 446      <airrClon> IGH      12\n",
      " 8 1006     <airrClon> IGH       9\n",
      " 9 1125     <airrClon> IGH       9\n",
      "10 442      <airrClon> IGH       9\n",
      "# … with 56 more rows\n"
     ]
    }
   ],
   "source": [
    "%%R\n",
    "# Make clone objects with aligned, processed sequences\n",
    "# collapse identical sequences unless differ by trait\n",
    "# add up duplicate_count column for collapsed sequences\n",
    "# store day, isotype, gex_annotation\n",
    "# discard clones with < 5 distinct sequences\n",
    "clones = formatClones(results_db,\n",
    "   traits = c(\"day\", \"isotype\", \"gex_annotation\"),\n",
    "   num_fields=c(\"duplicate_count\"), minseq=5)\n",
    "clones"
   ]
  },
  {
   "cell_type": "markdown",
   "metadata": {
    "slideshow": {
     "slide_type": "subslide"
    }
   },
   "source": [
    "## Tree building with dowser\n",
    "\n",
    "Dowser offers multiple ways to build B cell phylogenetic trees. These differ by the method used to estimate tree topology and branch lengths (e.g. maximum parsimony and maximum likelihood) and implementation (IgPhyML, PHYLIP, or R packages ape and phangorn). Each method has pros and cons."
   ]
  },
  {
   "cell_type": "markdown",
   "metadata": {
    "slideshow": {
     "slide_type": "subslide"
    }
   },
   "source": [
    "### Maximum parsimony\n",
    "\n",
    "This is the oldest method and very popular. It tries to minimize the number of mutations from the germline to each of the tips. It can produce misleading results when parallel mutations are present."
   ]
  },
  {
   "cell_type": "code",
   "execution_count": 31,
   "metadata": {
    "execution": {
     "iopub.execute_input": "2021-11-11T13:02:04.825621Z",
     "iopub.status.busy": "2021-11-11T13:02:04.824805Z",
     "iopub.status.idle": "2021-11-11T13:02:41.363490Z",
     "shell.execute_reply": "2021-11-11T13:02:41.364269Z"
    },
    "slideshow": {
     "slide_type": "-"
    }
   },
   "outputs": [],
   "source": [
    "%%R\n",
    "# Two options for maximum parsimony trees\n",
    "# 1. phangorn\n",
    "trees = getTrees(clones)"
   ]
  },
  {
   "cell_type": "code",
   "execution_count": 32,
   "metadata": {
    "execution": {
     "iopub.execute_input": "2021-11-11T13:02:41.371160Z",
     "iopub.status.busy": "2021-11-11T13:02:41.369897Z",
     "iopub.status.idle": "2021-11-11T13:02:43.808226Z",
     "shell.execute_reply": "2021-11-11T13:02:43.801838Z"
    },
    "slideshow": {
     "slide_type": "-"
    }
   },
   "outputs": [
    {
     "name": "stdout",
     "output_type": "stream",
     "text": [
      "# A tibble: 6 × 5\n",
      "  clone_id data       locus  seqs trees  \n",
      "  <chr>    <list>     <chr> <int> <list> \n",
      "1 403      <airrClon> IGH      16 <phylo>\n",
      "2 457      <airrClon> IGH      15 <phylo>\n",
      "3 512      <airrClon> IGH      15 <phylo>\n",
      "4 823      <airrClon> IGH      15 <phylo>\n",
      "5 12       <airrClon> IGH      13 <phylo>\n",
      "6 539      <airrClon> IGH      13 <phylo>\n"
     ]
    }
   ],
   "source": [
    "%%R\n",
    "# 2. dnapars (PHYLIP)\n",
    "trees = getTrees(clones, build=\"dnapars\", exec=\"/usr/local/bin/dnapars\")\n",
    "head(trees)"
   ]
  },
  {
   "cell_type": "markdown",
   "metadata": {
    "slideshow": {
     "slide_type": "subslide"
    }
   },
   "source": [
    "### Standard maximum likelihood\n",
    "\n",
    "These methods model each sequence separately. Use a markov model of the mutation process and try to find the tree, not the branch lengths, that maximizes the likehood of seen data."
   ]
  },
  {
   "cell_type": "code",
   "execution_count": 33,
   "metadata": {
    "execution": {
     "iopub.execute_input": "2021-11-11T13:02:43.814978Z",
     "iopub.status.busy": "2021-11-11T13:02:43.813735Z",
     "iopub.status.idle": "2021-11-11T13:06:13.023264Z",
     "shell.execute_reply": "2021-11-11T13:06:13.023834Z"
    },
    "slideshow": {
     "slide_type": "subslide"
    }
   },
   "outputs": [
    {
     "name": "stdout",
     "output_type": "stream",
     "text": [
      "# A tibble: 6 × 5\n",
      "  clone_id data       locus  seqs trees  \n",
      "  <chr>    <list>     <chr> <int> <list> \n",
      "1 403      <airrClon> IGH      16 <phylo>\n",
      "2 457      <airrClon> IGH      15 <phylo>\n",
      "3 512      <airrClon> IGH      15 <phylo>\n",
      "4 823      <airrClon> IGH      15 <phylo>\n",
      "5 12       <airrClon> IGH      13 <phylo>\n",
      "6 539      <airrClon> IGH      13 <phylo>\n"
     ]
    }
   ],
   "source": [
    "%%R\n",
    "# Two options for standard maximum likelihood trees\n",
    "# 1. pml (phangorn)\n",
    "trees = getTrees(clones, build=\"pml\", sub_model=\"GTR\")\n",
    "head(trees)"
   ]
  },
  {
   "cell_type": "code",
   "execution_count": 34,
   "metadata": {
    "execution": {
     "iopub.execute_input": "2021-11-11T13:06:13.030499Z",
     "iopub.status.busy": "2021-11-11T13:06:13.029384Z",
     "iopub.status.idle": "2021-11-11T13:06:34.650466Z",
     "shell.execute_reply": "2021-11-11T13:06:34.651519Z"
    },
    "slideshow": {
     "slide_type": "subslide"
    }
   },
   "outputs": [
    {
     "name": "stdout",
     "output_type": "stream",
     "text": [
      "# A tibble: 6 × 5\n",
      "  clone_id data       locus  seqs trees  \n",
      "  <chr>    <list>     <chr> <int> <list> \n",
      "1 403      <airrClon> IGH      16 <phylo>\n",
      "2 457      <airrClon> IGH      15 <phylo>\n",
      "3 512      <airrClon> IGH      15 <phylo>\n",
      "4 823      <airrClon> IGH      15 <phylo>\n",
      "5 12       <airrClon> IGH      13 <phylo>\n",
      "6 539      <airrClon> IGH      13 <phylo>\n"
     ]
    }
   ],
   "source": [
    "%%R\n",
    "# 2. dnaml (PHYLIP)\n",
    "trees = getTrees(clones, build=\"dnaml\", exec=\"/usr/local/bin/dnaml\")\n",
    "head(trees)"
   ]
  },
  {
   "cell_type": "markdown",
   "metadata": {
    "slideshow": {
     "slide_type": "subslide"
    }
   },
   "source": [
    "### Bcell specific maximum likelihood\n",
    "\n",
    "Similar to the standard maximum likelihood, but incorporating SHM specific mutation biases into the tree building."
   ]
  },
  {
   "cell_type": "code",
   "execution_count": 35,
   "metadata": {
    "execution": {
     "iopub.execute_input": "2021-11-11T13:06:34.660463Z",
     "iopub.status.busy": "2021-11-11T13:06:34.659245Z",
     "iopub.status.idle": "2021-11-11T13:06:34.675385Z",
     "shell.execute_reply": "2021-11-11T13:06:34.676542Z"
    },
    "slideshow": {
     "slide_type": "subslide"
    }
   },
   "outputs": [
    {
     "name": "stdout",
     "output_type": "stream",
     "text": [
      "NULL\n"
     ]
    }
   ],
   "source": [
    "%%R\n",
    "# B cell specific maximum likelihood with IgPhyML\n",
    "# This code is commented out because of long running time\n",
    "# trees = getTrees(clones, build=\"igphyml\", exec=\"/usr/local/share/igphyml/src/igphyml\", nproc=2)\n",
    "# head(trees)"
   ]
  },
  {
   "cell_type": "markdown",
   "metadata": {
    "slideshow": {
     "slide_type": "subslide"
    }
   },
   "source": [
    "## Plotting trees with dowser and ggtree\n",
    "\n",
    "All tree building methods are plotted using the same method in dowser, `plotTrees`."
   ]
  },
  {
   "cell_type": "code",
   "execution_count": 36,
   "metadata": {
    "execution": {
     "iopub.execute_input": "2021-11-11T13:06:34.686956Z",
     "iopub.status.busy": "2021-11-11T13:06:34.685715Z",
     "iopub.status.idle": "2021-11-11T13:06:40.004640Z",
     "shell.execute_reply": "2021-11-11T13:06:40.005166Z"
    },
    "slideshow": {
     "slide_type": "-"
    }
   },
   "outputs": [],
   "source": [
    "%%R\n",
    "# Plot all trees\n",
    "plots = plotTrees(trees, tips=\"isotype\", tipsize=2)"
   ]
  },
  {
   "cell_type": "code",
   "execution_count": 37,
   "metadata": {
    "execution": {
     "iopub.execute_input": "2021-11-11T13:06:40.010919Z",
     "iopub.status.busy": "2021-11-11T13:06:40.009827Z",
     "iopub.status.idle": "2021-11-11T13:06:40.360043Z",
     "shell.execute_reply": "2021-11-11T13:06:40.360890Z"
    },
    "slideshow": {
     "slide_type": "-"
    }
   },
   "outputs": [
    {
     "data": {
      "image/png": "[encoded data removed]"
     },
     "metadata": {},
     "output_type": "display_data"
    }
   ],
   "source": [
    "%%R\n",
    "# Plot the largest tree\n",
    "plots[[1]]"
   ]
  },
  {
   "cell_type": "code",
   "execution_count": 38,
   "metadata": {
    "execution": {
     "iopub.execute_input": "2021-11-11T13:06:40.367153Z",
     "iopub.status.busy": "2021-11-11T13:06:40.365800Z",
     "iopub.status.idle": "2021-11-11T13:06:59.668081Z",
     "shell.execute_reply": "2021-11-11T13:06:59.669113Z"
    },
    "slideshow": {
     "slide_type": "-"
    }
   },
   "outputs": [
    {
     "name": "stdout",
     "output_type": "stream",
     "text": [
      "png \n",
      "  2 \n"
     ]
    }
   ],
   "source": [
    "%%R\n",
    "# Save PDF of all trees\n",
    "dir.create(\"../results/dowser_tutorial\", recursive=TRUE)\n",
    "treesToPDF(plots, file=\"../results/dowser_tutorial/final_data_trees.pdf\", nrow=2, ncol=2)"
   ]
  },
  {
   "cell_type": "markdown",
   "metadata": {
    "slideshow": {
     "slide_type": "subslide"
    }
   },
   "source": [
    "## More elaborate tree plots\n",
    "\n",
    "Plot trees so that tips are colored by cell type, scaled by sample day, and labelled by isotype.\n"
   ]
  },
  {
   "cell_type": "code",
   "execution_count": 39,
   "metadata": {
    "execution": {
     "iopub.execute_input": "2021-11-11T13:06:59.680696Z",
     "iopub.status.busy": "2021-11-11T13:06:59.679081Z",
     "iopub.status.idle": "2021-11-11T13:07:03.389008Z",
     "shell.execute_reply": "2021-11-11T13:07:03.387724Z"
    },
    "slideshow": {
     "slide_type": "-"
    }
   },
   "outputs": [
    {
     "data": {
      "image/png": "[encoded data removed]"
     },
     "metadata": {},
     "output_type": "display_data"
    }
   ],
   "source": [
    "%%R\n",
    "suppressPackageStartupMessages(library(ggtree))\n",
    "# Scale branches to mutations rather than mutations/site\n",
    "trees = scaleBranches(trees)\n",
    "# Make fancy tree plot of second largest tree\n",
    "plotTrees(trees, scale=5)[[2]] +\n",
    "geom_tippoint(aes(colour=gex_annotation, size=day)) +\n",
    "geom_tiplab(aes(label=isotype), offset=0.002) +\n",
    "scale_colour_manual(values = col_anno)"
   ]
  },
  {
   "cell_type": "markdown",
   "metadata": {
    "slideshow": {
     "slide_type": "subslide"
    }
   },
   "source": [
    "## Reconstruct intermediate sequences\n",
    "\n",
    "Get the predicted intermediate sequence at an internal node in the second largest tree. Dots represent IMGT gaps.\n"
   ]
  },
  {
   "cell_type": "code",
   "execution_count": 40,
   "metadata": {
    "execution": {
     "iopub.execute_input": "2021-11-11T13:07:03.400746Z",
     "iopub.status.busy": "2021-11-11T13:07:03.399331Z",
     "iopub.status.idle": "2021-11-11T13:07:08.647339Z",
     "shell.execute_reply": "2021-11-11T13:07:08.648605Z"
    },
    "slideshow": {
     "slide_type": "-"
    }
   },
   "outputs": [
    {
     "name": "stdout",
     "output_type": "stream",
     "text": [
      "                                                                                                                                                                                                                                                                                                                                                                                                                          IGH \n",
      "\"CAGGTCCTGCTGGAGCAGTCTGGGGCT...GAAGTGAAGAAGCCTGGGTCCTCGGTGAAGGTCTCCTGCAAGGCCTCTGGAGGGACCATC............AGCAGCTATGCAATCAGCTGGGTGCGACAGGCCCCTGGACAAGGTCTTGAGTGGATGGGAGGGGTCATCCCTATC......TATGGCACAGCACAGTATGCACAGAGTTTCCAA...GGCAGAGTCACCATTACCGCGGACGGATCCACGGGCACAGCCTACATGGAGCTGAGCAGCCTGACATCTGAGGACACGGCCGTGTATTACTGTGCGAGAAGTCCTGACTATGGTTCGGGGACTTACCTTAACTACTTCAACTACTACTTGGCCTTCTGGGGCAAAGGGACCACGGTCACCGTCTCCTCASSS\" \n"
     ]
    },
    {
     "data": {
      "image/png": "[encoded data removed]"
     },
     "metadata": {},
     "output_type": "display_data"
    }
   ],
   "source": [
    "%%R\n",
    "suppressPackageStartupMessages(library(ggtree))\n",
    "# Collapse nodes with identical sequences\n",
    "trees = collapseNodes(trees)\n",
    "# node_nums=TRUE labels each internal node\n",
    "p = plotTrees(trees, node_nums=TRUE, labelsize=6, scale=5)[[2]] +\n",
    "   geom_tippoint(aes(colour=gex_annotation, size=day)) + \n",
    "   geom_tiplab(aes(label=isotype), offset=0.002) + \n",
    "   scale_colour_manual(values = col_anno)\n",
    "print(p)\n",
    "# Get sequence at node 26 for the second clone_id in trees\n",
    "getSeq(trees, clone=trees$clone_id[2], node=26)"
   ]
  },
  {
   "cell_type": "markdown",
   "metadata": {},
   "source": [
    "## Test for measurable evolution\n",
    "\n",
    "Perform root-to-tip regression on each tree to detect if later-sampled timepoints are more diverged from the germline. See this reference for more detail:\n",
    "\n",
    "Hoehn, K. B. et al. (2021) Human B cell lineages engaged by germinal centers following influenza vaccination are measurably evolving. bioRxiv. https://doi.org/10.1101/2021.01.06.425648\n"
   ]
  },
  {
   "cell_type": "code",
   "execution_count": 41,
   "metadata": {
    "execution": {
     "iopub.execute_input": "2021-11-11T13:07:08.665708Z",
     "iopub.status.busy": "2021-11-11T13:07:08.658375Z",
     "iopub.status.idle": "2021-11-11T13:07:31.330308Z",
     "shell.execute_reply": "2021-11-11T13:07:31.329630Z"
    },
    "slideshow": {
     "slide_type": "subslide"
    }
   },
   "outputs": [
    {
     "data": {
      "image/png": "[encoded data removed]"
     },
     "metadata": {},
     "output_type": "display_data"
    }
   ],
   "source": [
    "%%R\n",
    "# Correlation test\n",
    "trees = correlationTest(trees, time=\"day\")\n",
    "\n",
    "# remove trees with one timepoint, order by p value\n",
    "trees = filter(trees, !is.na(p))\n",
    "trees = trees[order(trees$p),]\n",
    "\n",
    "# Fancy tree plots coloring tips by sample day\n",
    "p = plotTrees(trees)\n",
    "p = lapply(p, function(x)\n",
    "   x + \n",
    "  geom_tippoint(aes(fill=day),shape=21, size=3)+\n",
    "  scale_fill_distiller(palette=\"RdYlBu\"))\n",
    "\n",
    "# Save all trees to a pdf file\n",
    "treesToPDF(p,file=\"../results/dowser_tutorial/time_data_trees.pdf\")\n",
    "\n",
    "select(trees, clone_id, slope, correlation, p)\n",
    "print(p[[1]])"
   ]
  },
  {
   "cell_type": "markdown",
   "metadata": {
    "cell_style": "center",
    "slideshow": {
     "slide_type": "slide"
    }
   },
   "source": [
    "# References\n",
    "\n",
    "## B cell phylo \n",
    "\n",
    "Hoehn, K. B. et al. (2016) The diversity and molecular evolution of B-cell receptors during infection. MBE. https://doi.org/10.1093/molbev/msw015\n",
    "\n",
    "Hoehn, K. B. et al. (2019) Repertoire-wide phylogenetic models of B cell molecular evolution reveal evolutionary signatures of aging and vaccination. PNAS 201906020.\n",
    "\n",
    "Hoehn, K. B. et al. (2020) Phylogenetic analysis of migration, differentiation, and class switching in B cells.\n",
    "bioRxiv. https://doi.org/10.1101/2020.05.30.124446\n",
    "\n",
    "Hoehn, K. B. et al. (2021) Human B cell lineages engaged by germinal centers following influenza vaccination are measurably evolving. bioRxiv. https://doi.org/10.1101/2021.01.06.425648\n"
   ]
  },
  {
   "cell_type": "markdown",
   "metadata": {
    "cell_style": "center",
    "slideshow": {
     "slide_type": "subslide"
    }
   },
   "source": [
    "## BCR analysis\n",
    "\n",
    "Gupta,N.T. et al. (2017) Hierarchical clustering can identify b cell clones\n",
    "with high confidence in ig repertoire sequencing data. The Journal of\n",
    "Immunology, 1601850.\n",
    "\n",
    "Gupta,N.T. et al. (2015) Change-o: A toolkit for analyzing large-scale b cell\n",
    "immunoglobulin repertoire sequencing data. Bioinformatics, 31, 3356–3358.\n",
    "\n",
    "Nouri,N. and Kleinstein,S.H. (2018a) A spectral clustering-based method\n",
    "for identifying clones from high-throughput b cell repertoire sequencing data.\n",
    "Bioinformatics, 34, i341–i349.\n",
    "\n",
    "Nouri,N. and Kleinstein,S.H. (2018b) Optimized threshold inference for\n",
    "partitioning of clones from high-throughput b cell repertoire sequencing\n",
    "data. Frontiers in immunology, 9.\n",
    "\n",
    "Stern,J.N. et al. (2014) B cells populating the multiple sclerosis brain\n",
    "mature in the draining cervical lymph nodes. Science translational medicine,\n",
    "6, 248ra107–248ra107.\n"
   ]
  },
  {
   "cell_type": "markdown",
   "metadata": {
    "cell_style": "center",
    "slideshow": {
     "slide_type": "subslide"
    }
   },
   "source": [
    "Vander Heiden,J.A. et al. (2017) Dysregulation of b cell repertoire\n",
    "formation in myasthenia gravis patients revealed through deep sequencing.\n",
    "The Journal of Immunology, 1601415.\n",
    "\n",
    "Yaari,G. et al. (2012) Quantifying selection in high-throughput\n",
    "immunoglobulin sequencing data sets. Nucleic acids research, 40,\n",
    "e134–e134.\n",
    "\n",
    "Yaari,G. et al. (2013) Models of somatic hypermutation targeting and\n",
    "substitution based on synonymous mutations from high-throughput\n",
    "immunoglobulin sequencing data. Frontiers in immunology, 4, 358.\n"
   ]
  }
 ],
 "metadata": {
  "celltoolbar": "Slideshow",
  "interpreter": {
   "hash": "767d51c1340bd893661ea55ea3124f6de3c7a262a8b4abca0554b478b1e2ff90"
  },
  "kernelspec": {
   "display_name": "Python 3 (ipykernel)",
   "language": "python",
   "name": "python3"
  },
  "language_info": {
   "codemirror_mode": {
    "name": "ipython",
    "version": 3
   },
   "file_extension": ".py",
   "mimetype": "text/x-python",
   "name": "python",
   "nbconvert_exporter": "python",
   "pygments_lexer": "ipython3",
   "version": "3.10.4"
  }
 },
 "nbformat": 4,
 "nbformat_minor": 4
}
