{
 "cells": [
  {
   "cell_type": "markdown",
   "metadata": {},
   "source": [
    "# 10x Genomics V(D)J Sequence Analysis with Immcantation Tutorial"
   ]
  },
  {
   "cell_type": "markdown",
   "metadata": {
    "tags": []
   },
   "source": [
    "## Overview\n",
    "This tutorial is a basic walkthrough for defining B cell clonal families and building B cell lineage trees using [10x Genomics](https://www.10xgenomics.com/products/single-cell-immune-profiling) BCR sequencing data. \n",
    "\n",
    "Knowledge of basic command line usage is assumed. Please check out the individual documentation sites for the functions detailed in this tutorial before using them on your own data. \n",
    "\n",
    "* For simplicity, this tutorial will use the [Immcantation Lab Docker image](https://hub.docker.com/repository/docker/immcantation/lab) which contains Jupyter notebook and all necessary software to run this code.\n",
    "  * You can install the current Docker image with `docker pull immcantation/lab:devel`\n",
    "  * For some operating systems, it may be necessary to use super-user privileges (sudo), and/or to have [Docker Desktop](https://hub.docker.com/editions/community/docker-ce-desktop-windows) running before entering the previous command.\n",
    "* It is also possible to install the packages being used separately (see [pRESTO](https://presto.readthedocs.io/en/stable/install.html#installation), [Change-O](https://changeo.readthedocs.io/en/stable/install.html#installation), and [Alakazam](https://alakazam.readthedocs.io/en/stable/install/)).\n",
    "\n",
    "The primary steps of processing 10x single cell BCR data include:\n",
    "\n",
    "* Assigning V, D, and J genes using IgBLAST\n",
    "* Filtering records\n",
    "* Finding thresholds for cloning (automatically or manually)\n",
    "* Defining clonal groups\n",
    "* Running `CreateGermlines`\n",
    "* Calculating SHM frequency in the heavy chain V genes\n",
    "\n",
    "You may also reference [this page](https://immcantation.readthedocs.io/en/stable/docker/pipelines.html) for a template pipeline script to process 10x data with Immcantation's [changeo-10x](https://bitbucket.org/kleinstein/immcantation/src/master/pipelines/changeo-10x.sh) template script.\n",
    "\n",
    "If you have any questions about this tutorial or our software, you can email us at [immcantation@googlegroups.com](mailto:immcantation@googlegroups.com)."
   ]
  },
  {
   "cell_type": "markdown",
   "metadata": {},
   "source": [
    "## Getting started\n",
    "\n",
    "The example data is already in the container (`/home/magus/data/10x_data_2subj/`). If you want to, you can download it from [example data](http://clip.med.yale.edu/immcantation/examples/10x_data_2subj.zip) and unzip it.\n",
    "\n",
    "* It represents the Ig V(D)J sequences from CD19+ B cells isolated from PBMCs of two healthy human donors provided by 10x Genomics under a [Creative Commons Attribute license](https://creativecommons.org/licenses/by/4.0/), and processed with their [Cell Ranger pipeline](https://support.10xgenomics.com/single-cell-gene-expression/software/pipelines/latest/what-is-cell-ranger).\n",
    "* You will find two files called **filtered_contig.fasta** and **filtered_contig_annotations.csv** in the unzipped directory (*10x_data_2subj* unless you rename it). They are the direct Cell Ranger output files for donor 1. We are going to use the Ig V(D)J sequences from donor 1 to show how to process V(D)J data using Immcantation.\n",
    "* You will also find a file called **sc5p_v2_hs_B_1k_multi_5gex_b_Multiplex_vdj_b_all_contig_igblast_db-pass.tsv**. This file contains processed Ig V(D)J sequences for donor 2, with assigned V, D, and J genes using AssignGenes.py and MakeDb.py. In the section of \"Find the distance threshold for cloning automatically\", those Ig V(D)J sequences together with the sequences from donor 1, were used to calculate the nearest neighbor distances across subjects.\n",
    "\n",
    "The jupyter notebook with the code is also available in the container (`/home/magus/notebooks/10x_tutorial.ipynb`). "
   ]
  },
  {
   "cell_type": "code",
   "execution_count": 1,
   "metadata": {
    "ExecuteTime": {
     "end_time": "2022-05-13T19:30:34.282212Z",
     "start_time": "2022-05-13T19:30:34.261Z"
    },
    "execution": {
     "iopub.execute_input": "2023-02-09T16:05:25.249726Z",
     "iopub.status.busy": "2023-02-09T16:05:25.249286Z",
     "iopub.status.idle": "2023-02-09T16:05:25.277910Z",
     "shell.execute_reply": "2023-02-09T16:05:25.277149Z"
    }
   },
   "outputs": [
    {
     "name": "stdout",
     "output_type": "stream",
     "text": [
      "filtered_contig.fasta\n",
      "filtered_contig_annotations.csv\n",
      "sc5p_v2_hs_B_1k_multi_5gex_b_Multiplex_vdj_b_all_contig_igblast_db-pass.tsv\n"
     ]
    }
   ],
   "source": [
    "%%bash\n",
    "cd /home/magus/notebooks/\n",
    "ls ../data/10x_data_2subj"
   ]
  },
  {
   "cell_type": "markdown",
   "metadata": {},
   "source": [
    "Use the command `versions report` to list the versions of the of the Immcantation tools installed in  the container:"
   ]
  },
  {
   "cell_type": "code",
   "execution_count": 2,
   "metadata": {
    "execution": {
     "iopub.execute_input": "2023-02-09T16:05:25.320053Z",
     "iopub.status.busy": "2023-02-09T16:05:25.319453Z",
     "iopub.status.idle": "2023-02-09T16:05:41.615323Z",
     "shell.execute_reply": "2023-02-09T16:05:41.614591Z"
    }
   },
   "outputs": [
    {
     "name": "stdout",
     "output_type": "stream",
     "text": [
      "immcantation: 4.4.0\n",
      "date: 2022.12.15\n",
      "\n",
      "presto: 0.7.1\n",
      "changeo: 1.3.0\n",
      "alakazam: 1.2.1\n",
      "shazam: 1.1.2\n",
      "tigger: 1.0.1\n",
      "scoper: 1.2.1\n",
      "dowser: 1.1.1\n",
      "enchantr: 0.0.6\n",
      "prestor: 0.0.7\n",
      "rabhit: 0.1.5\n",
      "rdi: 1.0.0\n",
      "igphyml: 1.1.5\n",
      "seurat: 4.3.0\n",
      "\n",
      "airr-py: 1.4.1\n",
      "airr-r: 1.4.1\n",
      "blast: 2.13.0\n",
      "cd-hit: 4.8.1\n",
      "igblast: 1.20.0\n",
      "muscle: 3.8.425\n",
      "phylip: 3.697\n",
      "vsearch: 2.13.6\n"
     ]
    }
   ],
   "source": [
    "%%bash\n",
    "versions report"
   ]
  },
  {
   "cell_type": "markdown",
   "metadata": {},
   "source": [
    "## Assign V, D, and J genes using IgBLAST\n",
    "\n",
    "To process 10x V(D)J data, a combination of `AssignGenes.py` and `MakeDb.py` can be used to generate a TSV file compliant with the [AIRR Community Rearrangement schema](https://immcantation.readthedocs.io/en/stable/datastandards.html) that incorporates annotation information provided by the Cell Ranger pipeline. The files of **filtered_contig.fasta** and **filtered_contig_annotations.csv**, generated by `cellranger vdj`, can be found in the *outs* directory.\n",
    "\n",
    "Generate AIRR Rearrangement data from the 10x V(D)J FASTA files using the steps below (the `\\` just indicates a new line for visual clarity):"
   ]
  },
  {
   "cell_type": "code",
   "execution_count": 3,
   "metadata": {
    "execution": {
     "iopub.execute_input": "2023-02-09T16:05:41.618570Z",
     "iopub.status.busy": "2023-02-09T16:05:41.618263Z",
     "iopub.status.idle": "2023-02-09T16:15:29.337303Z",
     "shell.execute_reply": "2023-02-09T16:15:29.336529Z"
    }
   },
   "outputs": [
    {
     "name": "stdout",
     "output_type": "stream",
     "text": [
      "   START> AssignGenes\n",
      " COMMAND> igblast\n",
      " VERSION> 1.20.0\n",
      "    FILE> filtered_contig.fasta\n",
      "ORGANISM> human\n",
      "    LOCI> ig\n",
      "   NPROC> 4\n",
      "\n",
      "PROGRESS> 16:15:29 |Done                     | 9.8 min\n",
      "\n",
      "  PASS> 33338\n",
      "OUTPUT> filtered_contig_igblast.fmt7\n",
      "   END> AssignGenes\n",
      "\n"
     ]
    }
   ],
   "source": [
    "%%bash\n",
    "# assign V, D, and J genes using IgBLAST\n",
    "AssignGenes.py igblast -s ../data/10x_data_2subj/filtered_contig.fasta -b /usr/local/share/igblast \\\n",
    "   --organism human --loci ig --format blast --outdir results"
   ]
  },
  {
   "cell_type": "code",
   "execution_count": 4,
   "metadata": {
    "execution": {
     "iopub.execute_input": "2023-02-09T16:15:29.340548Z",
     "iopub.status.busy": "2023-02-09T16:15:29.340235Z",
     "iopub.status.idle": "2023-02-09T16:16:05.850763Z",
     "shell.execute_reply": "2023-02-09T16:16:05.850049Z"
    }
   },
   "outputs": [
    {
     "name": "stdout",
     "output_type": "stream",
     "text": [
      "         START> MakeDB\n",
      "       COMMAND> igblast\n",
      "  ALIGNER_FILE> filtered_contig_igblast.fmt7\n",
      "      SEQ_FILE> filtered_contig.fasta\n",
      "       ASIS_ID> False\n",
      "    ASIS_CALLS> False\n",
      "      VALIDATE> strict\n",
      "      EXTENDED> True\n",
      "INFER_JUNCTION> False\n",
      "\n",
      "PROGRESS> 16:15:30 |Done                | 0.0 min\n",
      "\n",
      "PROGRESS> 16:16:05 |####################| 100% (33,338) 0.6 min\n",
      "\n",
      "OUTPUT> filtered_contig_igblast_db-pass.tsv\n",
      "  PASS> 21956\n",
      "  FAIL> 11382\n",
      "   END> MakeDb\n",
      "\n"
     ]
    }
   ],
   "source": [
    "%%bash\n",
    "# convert IgBLAST output to AIRR format\n",
    "MakeDb.py igblast -i results/filtered_contig_igblast.fmt7 -s ../data/10x_data_2subj/filtered_contig.fasta \\\n",
    "   -r /usr/local/share/germlines/imgt/human/vdj/imgt_human_*.fasta \\\n",
    "   --10x ../data/10x_data_2subj/filtered_contig_annotations.csv --extended"
   ]
  },
  {
   "cell_type": "code",
   "execution_count": 5,
   "metadata": {
    "execution": {
     "iopub.execute_input": "2023-02-09T16:16:05.854300Z",
     "iopub.status.busy": "2023-02-09T16:16:05.853665Z",
     "iopub.status.idle": "2023-02-09T16:16:06.190116Z",
     "shell.execute_reply": "2023-02-09T16:16:06.189145Z"
    }
   },
   "outputs": [
    {
     "name": "stdout",
     "output_type": "stream",
     "text": [
      "alltrees.pdf\n",
      "changeo\n",
      "filtered_contig_igblast.fmt7\n",
      "filtered_contig_igblast_db-pass.tsv\n",
      "igblast\n",
      "input_sample1-n200.fasta\n",
      "tigger\n"
     ]
    }
   ],
   "source": [
    "%%bash\n",
    "ls results"
   ]
  },
  {
   "cell_type": "markdown",
   "metadata": {},
   "source": [
    "After running these commands, you should now have **filtered_contig_igblast_db-pass.tsv** and **filtered_contig_igblast.fmt7** in your `results` directory. \n",
    "\n",
    "* For a full listing of what the flags mean, see the commandline usage for [AssignGenes.py igblast](https://changeo.readthedocs.io/en/stable/tools/AssignGenes.html#assigngenes-py-igblast) and [MakeDb.py igblast](https://changeo.readthedocs.io/en/stable/tools/MakeDb.html#makedb-py-igblast). You can also read our [\"Using IgBLAST\"](https://changeo.readthedocs.io/en/stable/examples/igblast.html) which contains both commands.\n",
    "* The `--10x filtered_contig_annotations.csv` specifies the path of the contig annotations file generated by `cellranger vdj`, which can be found in the *outs* directory.\n",
    "\n",
    "Please note that:\n",
    "\n",
    "* **all_contig.fasta** can be exchanged for **filtered_contig.fasta**, and **all_contig_annotations.csv** can be exchanged for **filtered_contig_annotations.csv**.\n",
    "* The resulting tab-delimited table overwrites the V, D and J gene assignments generated by Cell Ranger and uses those generated by [IgBLAST](https://ncbi.github.io/igblast/) or [IMGT/HighV-QUEST](https://www.imgt.org/IMGTindex/IMGTHighV-QUEST.php) instead.\n",
    "* To process mouse data and/or TCR data, alter the `--organism` and `--loci` arguments to `AssignGenes.py` accordingly (e.g., `--organism mouse`, `--loci tcr`) and use the appropriate V(D)J IMGT reference database (e.g., **IMGT_Mouse_TR*.fasta**)"
   ]
  },
  {
   "cell_type": "markdown",
   "metadata": {},
   "source": [
    "## Filter records\n",
    "\n",
    "The remaining commands in this tutorial R. The next two lines of code are required to be able to use `R magic` and run `R` code in this Jupyter notebook."
   ]
  },
  {
   "cell_type": "code",
   "execution_count": 6,
   "metadata": {
    "execution": {
     "iopub.execute_input": "2023-02-09T16:16:06.194555Z",
     "iopub.status.busy": "2023-02-09T16:16:06.194213Z",
     "iopub.status.idle": "2023-02-09T16:16:07.270403Z",
     "shell.execute_reply": "2023-02-09T16:16:07.269659Z"
    }
   },
   "outputs": [],
   "source": [
    "# R for Python\n",
    "import rpy2.rinterface\n",
    "%load_ext rpy2.ipython"
   ]
  },
  {
   "cell_type": "code",
   "execution_count": 7,
   "metadata": {
    "ExecuteTime": {
     "end_time": "2022-05-13T20:28:54.753936Z",
     "start_time": "2022-05-13T20:28:54.384Z"
    },
    "execution": {
     "iopub.execute_input": "2023-02-09T16:16:07.273681Z",
     "iopub.status.busy": "2023-02-09T16:16:07.273330Z",
     "iopub.status.idle": "2023-02-09T16:16:15.828741Z",
     "shell.execute_reply": "2023-02-09T16:16:15.828005Z"
    },
    "scrolled": true
   },
   "outputs": [
    {
     "name": "stderr",
     "output_type": "stream",
     "text": [
      "R[write to console]: Loading required package: ggplot2\n",
      "\n",
      "R[write to console]: As of v1.0.0 the AIRR Rearrangement schema is now the default file format.\n",
      "A description of the standard is available at https://docs.airr-community.org.\n",
      "The legacy Change-O format is supported through arguments to each function\n",
      "that allow the input column names to be explicitly defined.\n",
      "\n",
      "R[write to console]: data.table 1.14.6 using 2 threads (see ?getDTthreads).  Latest news: r-datatable.com\n",
      "\n",
      "R[write to console]: \n",
      "Attaching package: ‘dowser’\n",
      "\n",
      "\n",
      "R[write to console]: The following object is masked from ‘package:alakazam’:\n",
      "\n",
      "    ExampleDbChangeo\n",
      "\n",
      "\n",
      "R[write to console]: \n",
      "Attaching package: ‘dplyr’\n",
      "\n",
      "\n",
      "R[write to console]: The following objects are masked from ‘package:data.table’:\n",
      "\n",
      "    between, first, last\n",
      "\n",
      "\n",
      "R[write to console]: The following objects are masked from ‘package:stats’:\n",
      "\n",
      "    filter, lag\n",
      "\n",
      "\n",
      "R[write to console]: The following objects are masked from ‘package:base’:\n",
      "\n",
      "    intersect, setdiff, setequal, union\n",
      "\n",
      "\n",
      "R[write to console]: As of v1.0.0 the AIRR Rearrangement schema is now the default file format.\n",
      "A description of the standard is available at https://docs.airr-community.org.\n",
      "The legacy Change-O format is supported through arguments to each function\n",
      "that allow the input column names to be explicitly defined.\n",
      "\n",
      "R[write to console]: \n",
      "Attaching package: ‘scoper’\n",
      "\n",
      "\n",
      "R[write to console]: The following object is masked from ‘package:alakazam’:\n",
      "\n",
      "    ExampleDb\n",
      "\n",
      "\n",
      "R[write to console]: As of v1.0.0 the AIRR Rearrangement schema is now the default file format.\n",
      "A description of the standard is available at https://docs.airr-community.org.\n",
      "The legacy Change-O format is supported through arguments to each function\n",
      "that allow the input column names to be explicitly defined.\n",
      "\n"
     ]
    }
   ],
   "source": [
    "%%R\n",
    "# load libraries\n",
    "library(alakazam)\n",
    "library(data.table)\n",
    "library(dowser)\n",
    "library(dplyr)\n",
    "library(ggplot2)\n",
    "library(scoper)\n",
    "library(shazam)"
   ]
  },
  {
   "cell_type": "markdown",
   "metadata": {},
   "source": [
    "### Removing non-productive sequences\n",
    "\n",
    "You may wish to subset your data to only productive sequences:"
   ]
  },
  {
   "cell_type": "code",
   "execution_count": 8,
   "metadata": {
    "ExecuteTime": {
     "end_time": "2022-05-13T20:42:49.984613Z",
     "start_time": "2022-05-13T20:42:49.539Z"
    },
    "execution": {
     "iopub.execute_input": "2023-02-09T16:16:15.832269Z",
     "iopub.status.busy": "2023-02-09T16:16:15.831589Z",
     "iopub.status.idle": "2023-02-09T16:16:17.197598Z",
     "shell.execute_reply": "2023-02-09T16:16:17.196839Z"
    }
   },
   "outputs": [
    {
     "name": "stdout",
     "output_type": "stream",
     "text": [
      "There are 20164 rows in the data.\n",
      "# A tibble: 5 × 57\n",
      "  sequenc…¹ seque…² rev_c…³ produ…⁴ v_call d_call j_call seque…⁵ germl…⁶ junct…⁷\n",
      "  <chr>     <chr>   <lgl>   <lgl>   <chr>  <chr>  <chr>  <chr>   <chr>   <chr>  \n",
      "1 AACTGGTA… GGGAGC… FALSE   TRUE    IGLV3… <NA>   IGLJ2… TCTTCT… TCTTCT… TGTAAC…\n",
      "2 CAGCCGAT… GGGGAG… FALSE   TRUE    IGHV3… IGHD3… IGHJ6… GAGGTG… GAGGTG… TGTGCC…\n",
      "3 AAACCTGT… TGGGGG… FALSE   TRUE    IGHV5… IGHD3… IGHJ6… GAAGTG… GAAGTG… TGTGCG…\n",
      "4 ACGGCCAG… TGGGAC… FALSE   TRUE    IGHV4… IGHD3… IGHJ4… CAGGTG… CAGGTG… TGTGCG…\n",
      "5 GAGCAGAC… GGGACC… FALSE   TRUE    IGHV1… IGHD4… IGHJ4… CAGGTC… CAGGTC… TGTGCG…\n",
      "# … with 47 more variables: junction_aa <chr>, v_cigar <chr>, d_cigar <chr>,\n",
      "#   j_cigar <chr>, stop_codon <lgl>, vj_in_frame <lgl>, locus <chr>,\n",
      "#   c_call <chr>, junction_length <dbl>, np1_length <dbl>, np2_length <dbl>,\n",
      "#   v_sequence_start <dbl>, v_sequence_end <dbl>, v_germline_start <dbl>,\n",
      "#   v_germline_end <dbl>, d_sequence_start <dbl>, d_sequence_end <dbl>,\n",
      "#   d_germline_start <dbl>, d_germline_end <dbl>, j_sequence_start <dbl>,\n",
      "#   j_sequence_end <dbl>, j_germline_start <dbl>, j_germline_end <dbl>, …\n",
      "# ℹ Use `colnames()` to see all variable names\n"
     ]
    }
   ],
   "source": [
    "%%R\n",
    "# read in the data\n",
    "data <- readChangeoDb('results/filtered_contig_igblast_db-pass.tsv')\n",
    "data <- data %>% filter(productive)\n",
    "\n",
    "cat(paste(\"There are\", nrow(data), \"rows in the data.\\n\"))\n",
    "data %>% slice_sample(n = 5) # random examples"
   ]
  },
  {
   "cell_type": "markdown",
   "metadata": {},
   "source": [
    "### Cells with multiple heavy chains\n",
    "\n",
    "If your single cell data contains cells with multiple heavy chains, you need to handle it before calling clones (B cells that descend from a common naive B cell ancestor).\n",
    "\n",
    "A simple solution is just to remove cells with multiple heavy chains from the single cell data:"
   ]
  },
  {
   "cell_type": "code",
   "execution_count": 9,
   "metadata": {
    "ExecuteTime": {
     "end_time": "2022-05-13T20:30:17.440605Z",
     "start_time": "2022-05-13T20:30:06.096Z"
    },
    "execution": {
     "iopub.execute_input": "2023-02-09T16:16:17.201259Z",
     "iopub.status.busy": "2023-02-09T16:16:17.200977Z",
     "iopub.status.idle": "2023-02-09T16:16:17.339456Z",
     "shell.execute_reply": "2023-02-09T16:16:17.338831Z"
    }
   },
   "outputs": [
    {
     "name": "stdout",
     "output_type": "stream",
     "text": [
      "There are 18393 rows in the data after filtering out cells with multiple heavy chains.\n"
     ]
    }
   ],
   "source": [
    "%%R\n",
    "# remove cells with multiple heavy chain\n",
    "multi_heavy <- table(filter(data, locus == \"IGH\")$cell_id)\n",
    "multi_heavy_cells <- names(multi_heavy)[multi_heavy > 1]\n",
    "\n",
    "data <- filter(data, !cell_id %in% multi_heavy_cells)\n",
    "cat(paste(\"There are\", nrow(data), \"rows in the data after filtering out cells with multiple heavy chains.\\n\"))"
   ]
  },
  {
   "cell_type": "markdown",
   "metadata": {},
   "source": [
    "### Remove cells without heavy chains\n",
    "\n",
    "Since most of the following analyses are based on heavy chains, we remove cells with only light chains:"
   ]
  },
  {
   "cell_type": "code",
   "execution_count": 10,
   "metadata": {
    "ExecuteTime": {
     "end_time": "2022-05-13T20:30:51.074452Z",
     "start_time": "2022-05-13T20:30:50.497Z"
    },
    "execution": {
     "iopub.execute_input": "2023-02-09T16:16:17.342790Z",
     "iopub.status.busy": "2023-02-09T16:16:17.342295Z",
     "iopub.status.idle": "2023-02-09T16:16:17.814480Z",
     "shell.execute_reply": "2023-02-09T16:16:17.813732Z"
    }
   },
   "outputs": [
    {
     "name": "stdout",
     "output_type": "stream",
     "text": [
      "There are 18166 rows in the data after filtering out cells without heavy chains."
     ]
    }
   ],
   "source": [
    "%%R\n",
    "# split cells by heavy and light chains\n",
    "heavy_cells <- filter(data, locus == \"IGH\")$cell_id\n",
    "light_cells <- filter(data, locus == \"IGK\" | locus == \"IGL\")$cell_id\n",
    "no_heavy_cells <- light_cells[which(!light_cells %in% heavy_cells)]\n",
    "\n",
    "data <- filter(data, !cell_id %in% no_heavy_cells)\n",
    "cat(paste(\"There are\", nrow(data), \"rows in the data after filtering out cells without heavy chains.\"))"
   ]
  },
  {
   "cell_type": "markdown",
   "metadata": {},
   "source": [
    "## Cloning thresholds"
   ]
  },
  {
   "cell_type": "markdown",
   "metadata": {},
   "source": [
    "### Find the distance threshold for cloning manually\n",
    "\n",
    "Hierarchical clustering is a widely used distance-based method for identify clonally related sequences. An implementation of the hierarchical clustering approach is provided via the `hierachicalClones` function in the [SCOPer](https://scoper.readthedocs.io/en/stable/) R package.\n",
    "\n",
    "It is important to determine an appropriate threshold for trimming the hierarchical clustering into B cell clones before using this method. The ideal threshold for separating clonal groups is the value that separates the two modes of the nearest-neighbor distance distribution. The nearest-neighbor distance distribution can be generated by using the `distToNearest` function in the [shazam](https://shazam.readthedocs.io/en/stable/) R package."
   ]
  },
  {
   "cell_type": "code",
   "execution_count": 11,
   "metadata": {
    "ExecuteTime": {
     "end_time": "2022-05-13T20:36:17.232304Z",
     "start_time": "2022-05-13T20:35:45.032Z"
    },
    "execution": {
     "iopub.execute_input": "2023-02-09T16:16:17.817485Z",
     "iopub.status.busy": "2023-02-09T16:16:17.817244Z",
     "iopub.status.idle": "2023-02-09T16:16:24.875807Z",
     "shell.execute_reply": "2023-02-09T16:16:24.875017Z"
    }
   },
   "outputs": [
    {
     "data": {
      "image/png": "[encoded data removed]"
     },
     "metadata": {},
     "output_type": "display_data"
    }
   ],
   "source": [
    "%%R\n",
    "dist_nearest <- distToNearest(filter(data, locus == \"IGH\"), nproc = 1)\n",
    "\n",
    "# generate Hamming distance histogram\n",
    "p1 <- ggplot(subset(dist_nearest, !is.na(dist_nearest)),\n",
    "             aes(x = dist_nearest)) + \n",
    "        theme_bw() + \n",
    "        xlab(\"Hamming distance\") + ylab(\"Count\") +\n",
    "        scale_x_continuous(breaks = seq(0, 1, 0.1)) +\n",
    "        geom_histogram(color = \"white\", binwidth = 0.02) + \n",
    "        theme(axis.title = element_text(size = 18))\n",
    "plot(p1)"
   ]
  },
  {
   "cell_type": "markdown",
   "metadata": {},
   "source": [
    "The resulting distribution is often bimodal, with the first mode representing sequences with clonal relatives in the dataset and the second mode representing singletons. We can inspect the plot of nearest-neighbor distance distribution generated above to manually select a threshold to separates the two modes of the nearest-neighbor distance distribution. \n",
    "\n",
    "For further details regarding inferring an appropriate threshold for the hierarchical clustering method, see the [Distance to Nearest Neighbor vignette](https://shazam.readthedocs.io/en/stable/vignettes/DistToNearest-Vignette/) in the shazam package."
   ]
  },
  {
   "cell_type": "markdown",
   "metadata": {},
   "source": [
    "### Find the distance threshold for cloning automatically\n",
    "\n",
    "The threshold itself can be also found using the automatic `findThreshold` function. There are different ways to find the threshold and details can also be found in the [Distance to Nearest Neighbor vignette](https://shazam.readthedocs.io/en/stable/vignettes/DistToNearest-Vignette/) in the shazam package.\n",
    "\n",
    "A robust way that we recommend is to use the nearest-neighbor distance of inter (between) clones as the background and select the threshold based on the specificity of this background distribution. "
   ]
  },
  {
   "cell_type": "code",
   "execution_count": 12,
   "metadata": {
    "execution": {
     "iopub.execute_input": "2023-02-09T16:16:24.878788Z",
     "iopub.status.busy": "2023-02-09T16:16:24.878451Z",
     "iopub.status.idle": "2023-02-09T16:17:19.282260Z",
     "shell.execute_reply": "2023-02-09T16:17:19.281534Z"
    }
   },
   "outputs": [
    {
     "name": "stdout",
     "output_type": "stream",
     "text": [
      "[1] 0.1305987\n"
     ]
    }
   ],
   "source": [
    "%%R\n",
    "# find threshold for cloning automatically\n",
    "threshold_output <- findThreshold(dist_nearest$dist_nearest, \n",
    "                       method = \"gmm\", model = \"gamma-norm\", \n",
    "                       cutoff = \"user\", spc = 0.995)\n",
    "threshold <- threshold_output@threshold\n",
    "threshold"
   ]
  },
  {
   "cell_type": "code",
   "execution_count": 13,
   "metadata": {
    "execution": {
     "iopub.execute_input": "2023-02-09T16:17:19.285189Z",
     "iopub.status.busy": "2023-02-09T16:17:19.284895Z",
     "iopub.status.idle": "2023-02-09T16:17:19.659074Z",
     "shell.execute_reply": "2023-02-09T16:17:19.658272Z"
    }
   },
   "outputs": [
    {
     "data": {
      "image/png": "[encoded data removed]"
     },
     "metadata": {},
     "output_type": "display_data"
    }
   ],
   "source": [
    "%%R\n",
    "plot(threshold_output, binwidth = 0.02, silent = T) + \n",
    "  theme(axis.title = element_text(size = 18))"
   ]
  },
  {
   "cell_type": "markdown",
   "metadata": {},
   "source": [
    "The nearest-neighbor distance distribution is not always bimodal. In this case, if the data have multiple subjects, we can calculate the nearest neighbor distances across subjects to initialize the Gaussian fit parameters of the nearest-neighbor distance of inter (between) clones distribution. \n",
    "\n",
    "The nearest neighbor distances across subjects can be calculated by specifying the parameter `cross` in the function `distToNearest`. And then when we call function `findThreshold`, Gaussian fit parameters can be initialized by setting parameter `cross = dist_crossSubj$cross_dist_nearest`.\n",
    "\n",
    "In the example below, BCR data from donor 2 together with the BCR data from donor 1, was used to calculate the nearest neighbor distances across subjects:"
   ]
  },
  {
   "cell_type": "code",
   "execution_count": 14,
   "metadata": {
    "ExecuteTime": {
     "end_time": "2022-05-13T20:44:45.591901Z",
     "start_time": "2022-05-13T20:43:14.758Z"
    },
    "execution": {
     "iopub.execute_input": "2023-02-09T16:17:19.662179Z",
     "iopub.status.busy": "2023-02-09T16:17:19.661915Z",
     "iopub.status.idle": "2023-02-09T16:17:20.065257Z",
     "shell.execute_reply": "2023-02-09T16:17:20.064359Z"
    }
   },
   "outputs": [
    {
     "name": "stdout",
     "output_type": "stream",
     "text": [
      "There are 7060 rows in the donor 2 data.\n",
      "# A tibble: 5 × 58\n",
      "  sequenc…¹ seque…² rev_c…³ produ…⁴ v_call d_call j_call seque…⁵ germl…⁶ junct…⁷\n",
      "  <chr>     <chr>   <lgl>   <lgl>   <chr>  <chr>  <chr>  <chr>   <chr>   <chr>  \n",
      "1 GACGCGTT… TGGGGA… FALSE   TRUE    IGHV3… IGHD3… IGHJ4… GAGGTG… GAGGTG… TGTGCG…\n",
      "2 CAGTCCTT… TGGGGG… FALSE   TRUE    IGLV2… <NA>   IGLJ1… CAGTCT… CAGTCT… TGCAGC…\n",
      "3 CCACCTAT… TGGGGA… FALSE   TRUE    IGKV1… <NA>   IGKJ2… GACATC… GACATC… TGTCAA…\n",
      "4 AGTAGTCA… GCTCTC… FALSE   TRUE    IGLV3… <NA>   IGLJ2… TCCTAT… TCCTAT… TGTCAG…\n",
      "5 AGCGTCGC… GAGAGG… FALSE   TRUE    IGHV3… IGHD3… IGHJ4… ..GGTG… GAGGTG… TGTGTG…\n",
      "# … with 48 more variables: junction_aa <chr>, v_cigar <chr>, d_cigar <chr>,\n",
      "#   j_cigar <chr>, stop_codon <lgl>, vj_in_frame <lgl>, locus <chr>,\n",
      "#   c_call <chr>, junction_length <dbl>, np1_length <dbl>, np2_length <dbl>,\n",
      "#   v_sequence_start <dbl>, v_sequence_end <dbl>, v_germline_start <dbl>,\n",
      "#   v_germline_end <dbl>, d_sequence_start <dbl>, d_sequence_end <dbl>,\n",
      "#   d_germline_start <dbl>, d_germline_end <dbl>, j_sequence_start <dbl>,\n",
      "#   j_sequence_end <dbl>, j_germline_start <dbl>, j_germline_end <dbl>, …\n",
      "# ℹ Use `colnames()` to see all variable names\n"
     ]
    }
   ],
   "source": [
    "%%R\n",
    "# read in BCR data from donor 2 \n",
    "data_10x_example <- readChangeoDb('../data/10x_data_2subj/sc5p_v2_hs_B_1k_multi_5gex_b_Multiplex_vdj_b_all_contig_igblast_db-pass.tsv')\n",
    "data_10x_example$subject <- \"Subj2\"\n",
    "\n",
    "cat(paste(\"There are\", nrow(data_10x_example), \"rows in the donor 2 data.\\n\"))\n",
    "\n",
    "# label the donor 1 data\n",
    "data$subject <- \"Subj1\"\n",
    "\n",
    "# combine donors 1 and 2\n",
    "data_both_subjects <- rbind(data, data_10x_example)\n",
    "data_both_subjects %>% slice_sample(n = 5) # random examples"
   ]
  },
  {
   "cell_type": "code",
   "execution_count": 15,
   "metadata": {
    "execution": {
     "iopub.execute_input": "2023-02-09T16:17:20.068898Z",
     "iopub.status.busy": "2023-02-09T16:17:20.068619Z",
     "iopub.status.idle": "2023-02-09T16:18:22.627753Z",
     "shell.execute_reply": "2023-02-09T16:18:22.627055Z"
    }
   },
   "outputs": [
    {
     "name": "stdout",
     "output_type": "stream",
     "text": [
      "[1] 0.1305897\n"
     ]
    }
   ],
   "source": [
    "%%R\n",
    "# calculate cross subjects distribution of distance to nearest\n",
    "dist_crossSubj <- distToNearest(filter(data_both_subjects, locus == \"IGH\"), \n",
    "                                nproc = 1, cross = \"subject\")\n",
    "\n",
    "# find threshold for cloning automatically and initialize the Gaussian fit parameters of the nearest-neighbor \n",
    "# distance of inter (between) clones using cross subjects distribution of distance to nearest\n",
    "threshold_output <- findThreshold(dist_nearest$dist_nearest, \n",
    "                                  method = \"gmm\", model = \"gamma-norm\", \n",
    "                                  cross = dist_crossSubj$cross_dist_nearest,\n",
    "                                  cutoff = \"user\", spc = 0.995)\n",
    "threshold <- threshold_output@threshold\n",
    "threshold"
   ]
  },
  {
   "cell_type": "code",
   "execution_count": 16,
   "metadata": {
    "execution": {
     "iopub.execute_input": "2023-02-09T16:18:22.631045Z",
     "iopub.status.busy": "2023-02-09T16:18:22.630757Z",
     "iopub.status.idle": "2023-02-09T16:18:22.871672Z",
     "shell.execute_reply": "2023-02-09T16:18:22.870891Z"
    }
   },
   "outputs": [
    {
     "data": {
      "image/png": "[encoded data removed]"
     },
     "metadata": {},
     "output_type": "display_data"
    }
   ],
   "source": [
    "%%R\n",
    "plot(threshold_output, binwidth = 0.02, \n",
    "     cross = dist_crossSubj$cross_dist_nearest, silent = T) + \n",
    "  theme(axis.title = element_text(size = 18))"
   ]
  },
  {
   "cell_type": "markdown",
   "metadata": {},
   "source": [
    "In the plot above, the top plot is the nearest-neighbor distance distribution within Subj1, and the bottom plot is the nearest neighbor distances across Subj1 and Subj2."
   ]
  },
  {
   "cell_type": "markdown",
   "metadata": {},
   "source": [
    "## Define clonal groups\n",
    "\n",
    "After we decide the threshold for calling clones, the `hierachicalClones` function in SCOPer package can be used to call clones using single cell mode:"
   ]
  },
  {
   "cell_type": "code",
   "execution_count": 17,
   "metadata": {
    "execution": {
     "iopub.execute_input": "2023-02-09T16:18:22.875255Z",
     "iopub.status.busy": "2023-02-09T16:18:22.874721Z",
     "iopub.status.idle": "2023-02-09T16:21:31.049919Z",
     "shell.execute_reply": "2023-02-09T16:21:31.049140Z"
    }
   },
   "outputs": [
    {
     "name": "stderr",
     "output_type": "stream",
     "text": [
      "R[write to console]: Running defineClonesScoper in single cell mode\n",
      "\n"
     ]
    }
   ],
   "source": [
    "%%R\n",
    "# call clones using hierarchicalClones \n",
    "results <- hierarchicalClones(data, cell_id = 'cell_id', \n",
    "                              threshold = threshold, only_heavy = FALSE, \n",
    "                              split_light = TRUE, summarize_clones = FALSE)"
   ]
  },
  {
   "cell_type": "markdown",
   "metadata": {},
   "source": [
    "`HierarchicalClones` clusters B receptor sequences based on junction region sequence similarity within partitions that share the same V gene, J gene, and junction length, thus allowing for ambiguous V or J gene annotations. By setting it up the `cell_id` parameter, `HierarchicalClones` will run in single-cell mode with paired-chain sequences. With `only_heavy = FALSE` and `split_light = TRUE`, grouping should be done by using IGH plus IGK/IGL sequences and inferred clones should be split by the light/short chain (IGK and IGL) following heavy/long chain clustering.\n",
    "\n",
    "After calling clones, a clonal abundance distribution can be displayed:"
   ]
  },
  {
   "cell_type": "code",
   "execution_count": 18,
   "metadata": {
    "execution": {
     "iopub.execute_input": "2023-02-09T16:21:31.053537Z",
     "iopub.status.busy": "2023-02-09T16:21:31.052875Z",
     "iopub.status.idle": "2023-02-09T16:21:31.923061Z",
     "shell.execute_reply": "2023-02-09T16:21:31.922203Z"
    }
   },
   "outputs": [
    {
     "data": {
      "image/png": "[encoded data removed]"
     },
     "metadata": {},
     "output_type": "display_data"
    }
   ],
   "source": [
    "%%R\n",
    "# calculate and plot the rank-abundance curve\n",
    "plot(estimateAbundance(results), colors = \"steelblue\", silent = T) + \n",
    "  theme(axis.title = element_text(size = 18))"
   ]
  },
  {
   "cell_type": "markdown",
   "metadata": {},
   "source": [
    "## Create Germlines\n",
    "\n",
    "Before B cell lineage trees can be built, it is necessary to construct the unmutated germline sequence for each B cell clone. Typically the IGH D segment is masked because the junction region of heavy chains often cannot be reliably reconstructed. Note that occasionally errors are thrown for some clones - this is typical and usually results in those clones being excluded.\n",
    "\n",
    "In the example below, we read in the IMGT germline references from our Docker container. If you're using a local installation, you can download the most up-to-date reference genome by cloning the Immcantation repository and running the script:\n",
    "\n",
    "```bash\n",
    "git clone https://bitbucket.org/kleinstein/immcantation.git\n",
    "./immcantation/scripts/fetch_imgtdb.sh # will create directories where it is run\n",
    "```\n",
    "\n",
    "And passing `\"human/vdj/\"` to the `readIMGT` function."
   ]
  },
  {
   "cell_type": "code",
   "execution_count": 19,
   "metadata": {
    "execution": {
     "iopub.execute_input": "2023-02-09T16:21:31.926229Z",
     "iopub.status.busy": "2023-02-09T16:21:31.925976Z",
     "iopub.status.idle": "2023-02-09T16:23:06.034133Z",
     "shell.execute_reply": "2023-02-09T16:23:06.033415Z"
    }
   },
   "outputs": [
    {
     "name": "stdout",
     "output_type": "stream",
     "text": [
      "[1] \"Read in 1152 from 17 fasta files\"\n"
     ]
    }
   ],
   "source": [
    "%%R\n",
    "\n",
    "# run createGermlines using IMGT files in Docker container.\n",
    "references <- readIMGT(dir = \"/usr/local/share/germlines/imgt/human/vdj\")\n",
    "\n",
    "results <- createGermlines(results, references)\n",
    "h <- filter(results, locus==\"IGH\")"
   ]
  },
  {
   "cell_type": "markdown",
   "metadata": {},
   "source": [
    "## Calculate SHM frequency in the V gene\n",
    "\n",
    "Basic mutational load calculations can be performed by the function `observedMutations` in the [SHazaM](https://shazam.readthedocs.io/en/stable/) R package:"
   ]
  },
  {
   "cell_type": "code",
   "execution_count": 20,
   "metadata": {
    "execution": {
     "iopub.execute_input": "2023-02-09T16:23:06.037891Z",
     "iopub.status.busy": "2023-02-09T16:23:06.037179Z",
     "iopub.status.idle": "2023-02-09T16:23:21.936192Z",
     "shell.execute_reply": "2023-02-09T16:23:21.935413Z"
    }
   },
   "outputs": [],
   "source": [
    "%%R\n",
    "# calculate SHM frequency in the V gene\n",
    "data_h <- observedMutations(h, \n",
    "                            sequenceColumn = \"sequence_alignment\",\n",
    "                            germlineColumn = \"germline_alignment_d_mask\",\n",
    "                            regionDefinition = IMGT_V,\n",
    "                            frequency = TRUE,\n",
    "                            combine = TRUE, \n",
    "                            nproc = 1)"
   ]
  },
  {
   "cell_type": "markdown",
   "metadata": {},
   "source": [
    "The plot below shows the distribution of median mutation frequency of clones:"
   ]
  },
  {
   "cell_type": "code",
   "execution_count": 21,
   "metadata": {
    "execution": {
     "iopub.execute_input": "2023-02-09T16:23:21.939511Z",
     "iopub.status.busy": "2023-02-09T16:23:21.939251Z",
     "iopub.status.idle": "2023-02-09T16:23:22.152294Z",
     "shell.execute_reply": "2023-02-09T16:23:22.151660Z"
    }
   },
   "outputs": [
    {
     "data": {
      "image/png": "[encoded data removed]"
     },
     "metadata": {},
     "output_type": "display_data"
    }
   ],
   "source": [
    "%%R\n",
    "# calculate the median mutation frequency of a clone\n",
    "mut_freq_clone <- data_h %>% \n",
    "                  group_by(clone_id) %>% \n",
    "                  summarise(median_mut_freq = mean(mu_freq))\n",
    "\n",
    "ggplot(mut_freq_clone, aes(median_mut_freq)) + \n",
    "    geom_histogram(, binwidth = 0.005) + theme_bw() +\n",
    "    theme(axis.title = element_text(size = 18))"
   ]
  },
  {
   "cell_type": "markdown",
   "metadata": {},
   "source": [
    "## Format clones for tree building in Dowser\n",
    "\n",
    "Before we can build lineage trees, our data must be formatted into a tibble of airrClone objects. \n",
    "\n",
    "* If we want to visualize information in a column on the tree, we must specify that column in the `traits` column.\n",
    "  * To specify multiple traits, input a vector into this column. \n",
    "* If we want our clones tibble to have a column showing the subject each clone was obtained from, we can specify the `subject` column in the `columns` option. \n",
    "* By default, identical sequences will be collapsed unless they differ by the values in the `traits` column.\n",
    "* `minseq` will remove all clones with fewer than the specified number of sequences."
   ]
  },
  {
   "cell_type": "code",
   "execution_count": 22,
   "metadata": {
    "execution": {
     "iopub.execute_input": "2023-02-09T16:23:22.155269Z",
     "iopub.status.busy": "2023-02-09T16:23:22.155013Z",
     "iopub.status.idle": "2023-02-09T16:23:22.992866Z",
     "shell.execute_reply": "2023-02-09T16:23:22.991423Z"
    }
   },
   "outputs": [
    {
     "name": "stdout",
     "output_type": "stream",
     "text": [
      "# A tibble: 15 × 5\n",
      "   clone_id data       locus  seqs subject\n",
      "   <chr>    <list>     <chr> <int> <chr>  \n",
      " 1 6580     <airrClon> IGH       5 Subj1  \n",
      " 2 2388     <airrClon> IGH       4 Subj1  \n",
      " 3 146      <airrClon> IGH       3 Subj1  \n",
      " 4 1901     <airrClon> IGH       3 Subj1  \n",
      " 5 2166     <airrClon> IGH       3 Subj1  \n",
      " 6 2601     <airrClon> IGH       3 Subj1  \n",
      " 7 3857     <airrClon> IGH       3 Subj1  \n",
      " 8 4500     <airrClon> IGH       3 Subj1  \n",
      " 9 4881     <airrClon> IGH       3 Subj1  \n",
      "10 4978     <airrClon> IGH       3 Subj1  \n",
      "11 5870     <airrClon> IGH       3 Subj1  \n",
      "12 6381     <airrClon> IGH       3 Subj1  \n",
      "13 7342     <airrClon> IGH       3 Subj1  \n",
      "14 7877     <airrClon> IGH       3 Subj1  \n",
      "15 8179     <airrClon> IGH       3 Subj1  \n"
     ]
    }
   ],
   "source": [
    "%%R\n",
    "clones <- formatClones(data_h, \n",
    "                       traits = \"c_call\", columns = \"subject\", \n",
    "                       minseq = 3)\n",
    "print(clones)"
   ]
  },
  {
   "cell_type": "markdown",
   "metadata": {},
   "source": [
    "### Build trees using maximum likelihood\n",
    "\n",
    "Dowser offers multiple ways to build lineage trees, including maximum parsimony, maximum likelihood, and B cell specific models such as IgPhyML.\n",
    "\n",
    "Here, we build trees using the likelihood maximization functions from the `phangorn` package in R. The tree objects themselves are saved as R `phylo` objects in the `trees` column."
   ]
  },
  {
   "cell_type": "code",
   "execution_count": 23,
   "metadata": {
    "execution": {
     "iopub.execute_input": "2023-02-09T16:23:23.000422Z",
     "iopub.status.busy": "2023-02-09T16:23:22.999955Z",
     "iopub.status.idle": "2023-02-09T16:23:29.197657Z",
     "shell.execute_reply": "2023-02-09T16:23:29.196784Z"
    }
   },
   "outputs": [
    {
     "name": "stdout",
     "output_type": "stream",
     "text": [
      "# A tibble: 15 × 6\n",
      "   clone_id data       locus  seqs subject trees  \n",
      "   <chr>    <list>     <chr> <int> <chr>   <list> \n",
      " 1 6580     <airrClon> IGH       5 Subj1   <phylo>\n",
      " 2 2388     <airrClon> IGH       4 Subj1   <phylo>\n",
      " 3 146      <airrClon> IGH       3 Subj1   <phylo>\n",
      " 4 1901     <airrClon> IGH       3 Subj1   <phylo>\n",
      " 5 2166     <airrClon> IGH       3 Subj1   <phylo>\n",
      " 6 2601     <airrClon> IGH       3 Subj1   <phylo>\n",
      " 7 3857     <airrClon> IGH       3 Subj1   <phylo>\n",
      " 8 4500     <airrClon> IGH       3 Subj1   <phylo>\n",
      " 9 4881     <airrClon> IGH       3 Subj1   <phylo>\n",
      "10 4978     <airrClon> IGH       3 Subj1   <phylo>\n",
      "11 5870     <airrClon> IGH       3 Subj1   <phylo>\n",
      "12 6381     <airrClon> IGH       3 Subj1   <phylo>\n",
      "13 7342     <airrClon> IGH       3 Subj1   <phylo>\n",
      "14 7877     <airrClon> IGH       3 Subj1   <phylo>\n",
      "15 8179     <airrClon> IGH       3 Subj1   <phylo>\n"
     ]
    }
   ],
   "source": [
    "%%R\n",
    "trees <- getTrees(clones, build = \"pml\", nproc = 1)\n",
    "print(trees)"
   ]
  },
  {
   "cell_type": "markdown",
   "metadata": {},
   "source": [
    "### Build trees using IgPhyML\n",
    "\n",
    "To build lineage trees using the B cell specific models in IgPhyML, you must specify the location of the compiled IgPhyML executable in your system. \n",
    "\n",
    "* Here, we use its location in the Docker image.\n",
    "* The format of the output is the same regardless of the method used to build the tree.\n",
    "* With IgPhyML, however, a column of `parameters` is also returned, which gives the parameter values of the HLP19 model."
   ]
  },
  {
   "cell_type": "code",
   "execution_count": 24,
   "metadata": {
    "execution": {
     "iopub.execute_input": "2023-02-09T16:23:29.203037Z",
     "iopub.status.busy": "2023-02-09T16:23:29.202739Z",
     "iopub.status.idle": "2023-02-09T16:25:39.414660Z",
     "shell.execute_reply": "2023-02-09T16:25:39.413958Z"
    }
   },
   "outputs": [
    {
     "name": "stdout",
     "output_type": "stream",
     "text": [
      "# A tibble: 15 × 7\n",
      "   clone_id data       locus  seqs subject parameters        trees       \n",
      "   <chr>    <list>     <chr> <int> <chr>   <named list>      <named list>\n",
      " 1 6580     <airrClon> IGH       5 Subj1   <named list [13]> <phylo>     \n",
      " 2 2388     <airrClon> IGH       4 Subj1   <named list [13]> <phylo>     \n",
      " 3 146      <airrClon> IGH       3 Subj1   <named list [13]> <phylo>     \n",
      " 4 1901     <airrClon> IGH       3 Subj1   <named list [13]> <phylo>     \n",
      " 5 2166     <airrClon> IGH       3 Subj1   <named list [13]> <phylo>     \n",
      " 6 2601     <airrClon> IGH       3 Subj1   <named list [13]> <phylo>     \n",
      " 7 3857     <airrClon> IGH       3 Subj1   <named list [13]> <phylo>     \n",
      " 8 4500     <airrClon> IGH       3 Subj1   <named list [13]> <phylo>     \n",
      " 9 4881     <airrClon> IGH       3 Subj1   <named list [13]> <phylo>     \n",
      "10 4978     <airrClon> IGH       3 Subj1   <named list [13]> <phylo>     \n",
      "11 5870     <airrClon> IGH       3 Subj1   <named list [13]> <phylo>     \n",
      "12 6381     <airrClon> IGH       3 Subj1   <named list [13]> <phylo>     \n",
      "13 7342     <airrClon> IGH       3 Subj1   <named list [13]> <phylo>     \n",
      "14 7877     <airrClon> IGH       3 Subj1   <named list [13]> <phylo>     \n",
      "15 8179     <airrClon> IGH       3 Subj1   <named list [13]> <phylo>     \n"
     ]
    }
   ],
   "source": [
    "%%R\n",
    "trees <- getTrees(clones, \n",
    "                  build = \"igphyml\", nproc = 1, exec = \"/usr/local/share/igphyml/src/igphyml\")\n",
    "print(trees)"
   ]
  },
  {
   "cell_type": "markdown",
   "metadata": {},
   "source": [
    "### Visualize trees with constant region on tips\n",
    "\n",
    "Regardless of how you build trees, they are visualized in the same manner with the `plotTrees` function. This will return a list of `ggplot` objects in the same order as the input object. Here, we color the tips by the `c_call` value because we specified that column in the `formatClones` step."
   ]
  },
  {
   "cell_type": "code",
   "execution_count": 25,
   "metadata": {
    "execution": {
     "iopub.execute_input": "2023-02-09T16:25:39.418746Z",
     "iopub.status.busy": "2023-02-09T16:25:39.418457Z",
     "iopub.status.idle": "2023-02-09T16:25:43.268487Z",
     "shell.execute_reply": "2023-02-09T16:25:43.267690Z"
    }
   },
   "outputs": [
    {
     "name": "stdout",
     "output_type": "stream",
     "text": [
      "png \n",
      "  2 \n"
     ]
    }
   ],
   "source": [
    "%%R\n",
    "p <- plotTrees(trees, tips = \"c_call\", tipsize = 4)\n",
    "\n",
    "# plot first tree\n",
    "p[[1]]\n",
    "\n",
    "# save all trees to a pdf\n",
    "treesToPDF(p, file = \"results/alltrees.pdf\")"
   ]
  },
  {
   "cell_type": "markdown",
   "metadata": {},
   "source": [
    "### Reconstruct intermediate sequences\n",
    "\n",
    "Sequences of intermediate nodes are automatically reconstructed during the tree build process. To retrieve them, first plot the node numbers for each node. The function `collapseNodes` can help clean up the tree plots. \n",
    "\n",
    "Then, use the `getNodeSeq` function to retrieve the sequence at the desired node."
   ]
  },
  {
   "cell_type": "code",
   "execution_count": 26,
   "metadata": {
    "execution": {
     "iopub.execute_input": "2023-02-09T16:25:43.272003Z",
     "iopub.status.busy": "2023-02-09T16:25:43.271703Z",
     "iopub.status.idle": "2023-02-09T16:25:44.584949Z",
     "shell.execute_reply": "2023-02-09T16:25:44.584252Z"
    }
   },
   "outputs": [
    {
     "data": {
      "image/png": "[encoded data removed]"
     },
     "metadata": {},
     "output_type": "display_data"
    }
   ],
   "source": [
    "%%R\n",
    "trees <- collapseNodes(trees)\n",
    "\n",
    "# plot trees with node ID numbers\n",
    "p <- plotTrees(trees, tips = \"c_call\", tipsize = 4, \n",
    "               node_nums = TRUE, labelsize = 7)\n",
    "p[[1]]"
   ]
  },
  {
   "cell_type": "code",
   "execution_count": 27,
   "metadata": {
    "execution": {
     "iopub.execute_input": "2023-02-09T16:25:44.587876Z",
     "iopub.status.busy": "2023-02-09T16:25:44.587538Z",
     "iopub.status.idle": "2023-02-09T16:25:44.611874Z",
     "shell.execute_reply": "2023-02-09T16:25:44.611078Z"
    }
   },
   "outputs": [
    {
     "name": "stdout",
     "output_type": "stream",
     "text": [
      "                                                                                                                                                                                                                                                                                                                                                                                                     IGH \n",
      "\"CAGGTGCAGCTGGTGCAATCTGGGTCT...GAGTTGAAGAAGCCTGGGGCCTCAGTGAAGGTTTCCTGCAAGACTTCTGGATACACCTTC............ASTGACTATGGTGTGAACTGGGTGCGACAGGCCCCTGGACAAGGGCTTGAGTGGATGGGATGGATCAACGCCTAC......ACCGGGAACCCAACGTATGCCCAGGGCTTCACA...GGACGGTTTGTCTTCTCCTTGGACACCTCTGTCCGCACGGCATATCTGCAGATCAGCAGCCTGAAGGCTGAGGACACTGCCGTGTATTACTGTGCGATTATCCATGATRGTAGTACYTGGAGTCCTTTTGACTACTGGGGCCAGGGAGCCCTGGTCACCGTCTCCTCAGNN\" \n"
     ]
    }
   ],
   "source": [
    "%%R\n",
    "# get the sequence at node 8\n",
    "first_clone_id <- trees[[\"clone_id\"]][1]\n",
    "sequence <- getNodeSeq(trees, clone = first_clone_id, node = 8)\n",
    "print(sequence)"
   ]
  },
  {
   "cell_type": "markdown",
   "metadata": {},
   "source": [
    "### Analyzing B cell migration, differentiation, and evolution over time\n",
    "\n",
    "In addition to the functions for building and visualizing trees, Dowser also implements new techniques for analyzing B cell migration and differentiation, as well as for detecting new B cell evolution over time. These are more advanced topics detailed on the [Dowser site](https://dowser.readthedocs.io).\n",
    "\n",
    "If you have data from different **tissues, B cell subtypes, and/or isotypes** and want to use lineage trees to study the pattern of those traits along lineage trees, check out the [discrete trait vignette](https://dowser.readthedocs.io/en/latest/vignettes/Discrete-Trait-Vignette/).\n",
    "\n",
    "If you have data from **multiple timepoints** from the same subject and want to determine if B cell lineages are evolving over the sampled interval, check out the [measurable evolution vignette](https://dowser.readthedocs.io/en/latest/vignettes/Measurable-Evolution/).\n",
    "\n",
    "For more advanced tree **visualization**, check out the [plotting trees vignette](https://dowser.readthedocs.io/en/latest/vignettes/Plotting-Trees-Vignette/)."
   ]
  }
 ],
 "metadata": {
  "kernelspec": {
   "display_name": "Python 3 (ipykernel)",
   "language": "python",
   "name": "python3"
  },
  "language_info": {
   "codemirror_mode": {
    "name": "ipython",
    "version": 3
   },
   "file_extension": ".py",
   "mimetype": "text/x-python",
   "name": "python",
   "nbconvert_exporter": "python",
   "pygments_lexer": "ipython3",
   "version": "3.11.0"
  },
  "toc": {
   "base_numbering": 1,
   "nav_menu": {},
   "number_sections": false,
   "sideBar": true,
   "skip_h1_title": false,
   "title_cell": "Table of Contents",
   "title_sidebar": "Contents",
   "toc_cell": false,
   "toc_position": {
    "height": "calc(100% - 180px)",
    "left": "10px",
    "top": "150px",
    "width": "367px"
   },
   "toc_section_display": true,
   "toc_window_display": true
  },
  "varInspector": {
   "cols": {
    "lenName": 16,
    "lenType": 16,
    "lenVar": 40
   },
   "kernels_config": {
    "python": {
     "delete_cmd_postfix": "",
     "delete_cmd_prefix": "del ",
     "library": "var_list.py",
     "varRefreshCmd": "print(var_dic_list())"
    },
    "r": {
     "delete_cmd_postfix": ") ",
     "delete_cmd_prefix": "rm(",
     "library": "var_list.r",
     "varRefreshCmd": "cat(var_dic_list()) "
    }
   },
   "position": {
    "height": "379.844px",
    "left": "1202px",
    "right": "20px",
    "top": "120px",
    "width": "620px"
   },
   "types_to_exclude": [
    "module",
    "function",
    "builtin_function_or_method",
    "instance",
    "_Feature"
   ],
   "window_display": false
  }
 },
 "nbformat": 4,
 "nbformat_minor": 4
}
