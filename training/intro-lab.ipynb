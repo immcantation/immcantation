{
 "cells": [
  {
   "cell_type": "markdown",
   "metadata": {
    "cell_style": "center",
    "slideshow": {
     "slide_type": "slide"
    }
   },
   "source": [
    "# Introduction to B cell repertoire analysis using the Immcantation framework\n",
    "\n",
    "![](assets/cover.png)\n",
    "\n",
    "The field of high-throughput adaptive immune receptor repertoire sequencing (AIRR-seq) has experienced significant growth in recent years, but this growth has come with considerable complexity and variety in experimental design. These complexities, combined with the high germline and somatic diversity of immunoglobulin repertoires, present analytical challenges requiring specialized methodologies.\n",
    "\n",
    "**This tutorial covers:**\n",
    "- V(D)J gene annotation and novel polymorphism detection\n",
    "- Inference of B cell clonal relationships\n",
    "- Diversity analysis\n",
    "- Mutational load profiling\n",
    "- Modeling of somatic hypermutation (SHM) targeting\n",
    "- Quantification of selection pressure\n",
    "\n",
    "General workflow:  \n",
    "![Workflow](assets/workflow_h_cmd.png)\n"
   ]
  },
  {
   "cell_type": "markdown",
   "metadata": {
    "cell_style": "center",
    "slideshow": {
     "slide_type": "slide"
    }
   },
   "source": [
    "## Resources\n",
    "\n",
    "- You can email [immcantation@googlegroups.com](mailto:immcantation@googlegroups.com) with any questions or issues.\n",
    "- Documentation: http://immcantation.org\n",
    "- Source code and bug reports: https://bitbucket.org/kleinstein/\n",
    "- Docker/Singularity container for this lab: https://hub.docker.com/r/immcantation/lab\n",
    "- Slides and example data: https://goo.gl/FpW3Sc"
   ]
  },
  {
   "cell_type": "markdown",
   "metadata": {},
   "source": [
    "## How to use the notebook\n",
    "\n",
    "Jupyter Notebook documentation: https://jupyter-notebook.readthedocs.io/en/stable/\n",
    "\n",
    "**Ctrl+Enter** will run the code in the selected cell and **Shift+Enter** will run the code and move to the following cell."
   ]
  },
  {
   "cell_type": "markdown",
   "metadata": {
    "slideshow": {
     "slide_type": "slide"
    }
   },
   "source": [
    "## Inside this container\n",
    "\n",
    "This container comes with software, scripts, reference V(D)J germline genes and example data that is ready to use. The commands `versions report` and `builds report` show the versions and dates respectively of the tools and data."
   ]
  },
  {
   "cell_type": "markdown",
   "metadata": {},
   "source": [
    "### Software versions\n",
    "Use this command to list the software versions"
   ]
  },
  {
   "cell_type": "code",
   "execution_count": 1,
   "metadata": {
    "cell_style": "center",
    "execution": {
     "iopub.execute_input": "2021-09-07T20:48:58.935921Z",
     "iopub.status.busy": "2021-09-07T20:48:58.935174Z",
     "iopub.status.idle": "2021-09-07T20:49:05.384273Z",
     "shell.execute_reply": "2021-09-07T20:49:05.383734Z"
    },
    "scrolled": true,
    "slideshow": {
     "slide_type": "-"
    }
   },
   "outputs": [
    {
     "name": "stdout",
     "output_type": "stream",
     "text": [
      "immcantation: devel\n",
      "date: 2021.07.28\n",
      "\n",
      "presto: 0.6.2.999\n",
      "changeo: 1.1.0.999\n",
      "alakazam: 1.1.0.999\n",
      "shazam: 1.1.0\n",
      "tigger: 1.0.0.999\n",
      "scoper: 1.1.0.999\n",
      "dowser: 0.1.0\n",
      "enchantr: 0.0.0\n",
      "prestor: 0.0.5\n",
      "rabhit: 0.1.5\n",
      "rdi: 1.0.0\n",
      "igphyml: 1.1.3\n",
      "\n",
      "airr-py: 1.3.1\n",
      "airr-r: 1.3.0\n",
      "blast: 2.9.0\n",
      "cd-hit: 4.8.1\n",
      "igblast: 1.17.1\n",
      "muscle: 3.8.425\n",
      "phylip: 3.697\n",
      "vsearch: 2.13.6\n"
     ]
    }
   ],
   "source": [
    "%%bash\n",
    "versions report"
   ]
  },
  {
   "cell_type": "markdown",
   "metadata": {
    "cell_style": "center",
    "slideshow": {
     "slide_type": "subslide"
    }
   },
   "source": [
    "### Build versions\n",
    "Use this command to list the date and changesets used during the image build."
   ]
  },
  {
   "cell_type": "code",
   "execution_count": 2,
   "metadata": {
    "cell_style": "center",
    "execution": {
     "iopub.execute_input": "2021-09-07T20:49:05.389569Z",
     "iopub.status.busy": "2021-09-07T20:49:05.388228Z",
     "iopub.status.idle": "2021-09-07T20:49:05.446113Z",
     "shell.execute_reply": "2021-09-07T20:49:05.446661Z"
    },
    "slideshow": {
     "slide_type": "-"
    }
   },
   "outputs": [
    {
     "name": "stdout",
     "output_type": "stream",
     "text": [
      "date: 2021-09-06 07:01:32 UTC\n",
      "immcantation: 4.2.0-13-gd3f693c2cae4+\n",
      "presto: 0.6.2-11-gce9f41dd98c5\n",
      "changeo: 1.1.0-9-gd1cd56a3ace4\n",
      "alakazam: 1.1.0-28-g78ffc479c0c3+\n",
      "shazam: 1.1.0\n",
      "tigger: 6c31d6a59167\n",
      "rdi: d27b9067cab6+\n",
      "scoper: 1.1.0-31-g1caf95e23c8d+\n",
      "prestor: eb02b1e36424+\n"
     ]
    }
   ],
   "source": [
    "%%bash\n",
    "builds report"
   ]
  },
  {
   "cell_type": "markdown",
   "metadata": {
    "cell_style": "center",
    "slideshow": {
     "slide_type": "subslide"
    }
   },
   "source": [
    "### Example data used in the tutorial\n",
    "\n",
    "`../data/input.fasta`: Processed B cell receptor reads from one healthy donor (PGP1) 3 weeks after flu vaccination (*Laserson et al. (2014)*)\n",
    "- As part of the processing, each sequence has been annotated with the isotype.\n",
    "- This step is not a part of the tutorial, but you can learn how to do it [here](https://presto.readthedocs.io/en/latest/examples/primers.html#assigning-isotype-annotations-from-the-constant-region-sequence)."
   ]
  },
  {
   "cell_type": "code",
   "execution_count": 3,
   "metadata": {
    "execution": {
     "iopub.execute_input": "2021-09-07T20:49:05.452158Z",
     "iopub.status.busy": "2021-09-07T20:49:05.450357Z",
     "iopub.status.idle": "2021-09-07T20:49:05.458083Z",
     "shell.execute_reply": "2021-09-07T20:49:05.457675Z"
    }
   },
   "outputs": [
    {
     "name": "stdout",
     "output_type": "stream",
     "text": [
      ">seq1|ISOTYPE=IGHM\n",
      "nnnnnnnnnnnnnnnnnnnnnnnagtgtcaggtgcagctggtggagctggggagcgtggt\n",
      "ccagcctgggaggccctgagtctctcctgtgcagcctctggattcaccttcagtctctat\n",
      "gctatgcactgggtccgccaggctccaggcaaggggctggagtgggtggcagttatatca\n",
      "tatcatgtaagcagtaaatactacgcagactccgtgaagggccgattcaccatctccaga\n",
      "gacaattccaagaacacgctgtatctgcaaatgaacagcctgagagctgaggacacggct\n",
      "gtgtattactgtgcgagagggccctatagtactggttattactacgagcttgactactgg\n",
      "ggccagggaacgctcggtcacccgtctcctcacgggtagtgcatccgccccaaccc\n",
      ">seq2|ISOTYPE=IGHM\n",
      "nnnnnnnnnnnnnnnnnntgtcccaggtgcagctgcaggagtcgggcccaggactggtga\n"
     ]
    }
   ],
   "source": [
    "%%bash\n",
    "head ../data/input.fasta"
   ]
  },
  {
   "cell_type": "markdown",
   "metadata": {
    "cell_style": "center",
    "slideshow": {
     "slide_type": "subslide"
    }
   },
   "source": [
    "### Reference germlines\n",
    "\n",
    "The container has human and mouse reference V(D)J germline genes from IMGT and the corresponding IgBLAST databases for these germline repertoires."
   ]
  },
  {
   "cell_type": "code",
   "execution_count": 4,
   "metadata": {
    "execution": {
     "iopub.execute_input": "2021-09-07T20:49:05.462377Z",
     "iopub.status.busy": "2021-09-07T20:49:05.461229Z",
     "iopub.status.idle": "2021-09-07T20:49:05.468079Z",
     "shell.execute_reply": "2021-09-07T20:49:05.468508Z"
    },
    "slideshow": {
     "slide_type": "-"
    }
   },
   "outputs": [
    {
     "name": "stdout",
     "output_type": "stream",
     "text": [
      "IMGT.yaml\n",
      "human\n",
      "mouse\n",
      "rabbit\n",
      "rat\n",
      "rhesus_monkey\n"
     ]
    }
   ],
   "source": [
    "%%bash\n",
    "ls /usr/local/share/germlines/imgt"
   ]
  },
  {
   "cell_type": "code",
   "execution_count": 5,
   "metadata": {
    "execution": {
     "iopub.execute_input": "2021-09-07T20:49:05.473493Z",
     "iopub.status.busy": "2021-09-07T20:49:05.471918Z",
     "iopub.status.idle": "2021-09-07T20:49:05.479915Z",
     "shell.execute_reply": "2021-09-07T20:49:05.479329Z"
    },
    "slideshow": {
     "slide_type": "-"
    }
   },
   "outputs": [
    {
     "name": "stdout",
     "output_type": "stream",
     "text": [
      "database\n",
      "fasta\n",
      "internal_data\n",
      "optional_file\n"
     ]
    }
   ],
   "source": [
    "%%bash\n",
    "ls /usr/local/share/igblast"
   ]
  },
  {
   "cell_type": "markdown",
   "metadata": {
    "slideshow": {
     "slide_type": "slide"
    }
   },
   "source": [
    "# V(D)J gene annotation\n",
    "\n",
    "The first step in the analysis of processed reads (`input.fasta`) is to annotate each read with its germline V(D)J gene alleles and to identify relevant sequence structure such as the CDR3 sequence. Immcantation provides tools to read the output of many popular V(D)J assignment tools, including [IMGT/HighV-QUEST](http://www.imgt.org/HighV-QUEST) and [IgBLAST](https://www.ncbi.nlm.nih.gov/igblast/). \n",
    "\n",
    "Here, we will use IgBLAST. Change-O provides a wrapper script (`AssignGenes.py`) to run IgBLAST using the reference V(D)J germline sequences in the container."
   ]
  },
  {
   "cell_type": "markdown",
   "metadata": {
    "cell_style": "center",
    "slideshow": {
     "slide_type": "subslide"
    }
   },
   "source": [
    "##  A test with 200 sequences\n",
    "\n",
    "It is often useful to prototype analysis pipelines using a small subset of sequences. For a quick test of Change-O's V(D)J assignment tool, use `SplitSeq.py` to extract 200 sequences from `input.fasta`, then assign the V(D)J genes with `AssignGenes.py`."
   ]
  },
  {
   "cell_type": "code",
   "execution_count": 6,
   "metadata": {
    "cell_style": "center",
    "execution": {
     "iopub.execute_input": "2021-09-07T20:49:05.484385Z",
     "iopub.status.busy": "2021-09-07T20:49:05.483875Z",
     "iopub.status.idle": "2021-09-07T20:49:07.085757Z",
     "shell.execute_reply": "2021-09-07T20:49:07.085276Z"
    },
    "slideshow": {
     "slide_type": "-"
    }
   },
   "outputs": [
    {
     "name": "stdout",
     "output_type": "stream",
     "text": [
      "     START> SplitSeq\n",
      "   COMMAND> sample\n",
      "      FILE> input.fasta\n",
      "MAX_COUNTS> 200\n",
      "     FIELD> None\n",
      "    VALUES> None\n",
      "\n",
      "PROGRESS> 20:49:06 |Done                     | 0.0 min\n",
      "\n",
      "PROGRESS> 20:49:07 |Done                     | 0.0 min\n",
      "\n",
      "MAX_COUNT> 200\n",
      "  SAMPLED> 200\n",
      "   OUTPUT> input_sample1-n200.fasta\n",
      "\n",
      "END> SplitSeq\n",
      "\n"
     ]
    }
   ],
   "source": [
    "%%bash\n",
    "# reference germlines in /usr/local/share/igblast\n",
    "mkdir -p results/igblast\n",
    "SplitSeq.py sample -n 200 --outdir results --fasta -s ../data/input.fasta\n"
   ]
  },
  {
   "cell_type": "markdown",
   "metadata": {
    "slideshow": {
     "slide_type": "subslide"
    }
   },
   "source": [
    "`AssignGenes.py` performs V(D)J assignment with IgBLAST.\n",
    "- It requires the input sequences (`-s`) and a reference germlines database (`-b`). In this case, we use the germline database already available in the container.\n",
    "- The organism is specified with `--organism` and the type of receptor with `--loci` (`ig` for the B cell receptor).\n",
    "- Use `--format blast` to specify that the results should be in the `fmt7` format.\n",
    "- Improved computational speed can be achieved by specifying the number of processors with `--nproc`. "
   ]
  },
  {
   "cell_type": "code",
   "execution_count": 7,
   "metadata": {
    "execution": {
     "iopub.execute_input": "2021-09-07T20:49:07.090499Z",
     "iopub.status.busy": "2021-09-07T20:49:07.088943Z",
     "iopub.status.idle": "2021-09-07T20:49:09.156187Z",
     "shell.execute_reply": "2021-09-07T20:49:09.155701Z"
    },
    "slideshow": {
     "slide_type": "-"
    }
   },
   "outputs": [
    {
     "name": "stdout",
     "output_type": "stream",
     "text": [
      "   START> AssignGenes\n",
      " COMMAND> igblast\n",
      " VERSION> 1.17.1\n",
      "    FILE> input_sample1-n200.fasta\n",
      "ORGANISM> human\n",
      "    LOCI> ig\n",
      "   NPROC> 8\n",
      "\n",
      "PROGRESS> 20:49:09 |Done                     | 0.0 min\n",
      "\n",
      "  PASS> 200\n",
      "OUTPUT> input_sample1-n200_igblast.fmt7\n",
      "   END> AssignGenes\n",
      "\n"
     ]
    }
   ],
   "source": [
    "%%bash\n",
    "AssignGenes.py igblast -s results/input_sample1-n200.fasta \\\n",
    "-b /usr/local/share/igblast --organism human --loci ig \\\n",
    "--format blast --outdir results/igblast --nproc 8"
   ]
  },
  {
   "cell_type": "markdown",
   "metadata": {
    "slideshow": {
     "slide_type": "subslide"
    }
   },
   "source": [
    "## V(D)J assignment using all the data"
   ]
  },
  {
   "cell_type": "markdown",
   "metadata": {
    "slideshow": {
     "slide_type": "-"
    }
   },
   "source": [
    "To run the command on all of the data, modify it to change the input file (`-s`) to the full data set. *Please note that this may take some time to finish running.*"
   ]
  },
  {
   "cell_type": "code",
   "execution_count": 8,
   "metadata": {
    "execution": {
     "iopub.execute_input": "2021-09-07T20:49:09.160367Z",
     "iopub.status.busy": "2021-09-07T20:49:09.159900Z",
     "iopub.status.idle": "2021-09-07T21:01:08.751592Z",
     "shell.execute_reply": "2021-09-07T21:01:08.751989Z"
    },
    "slideshow": {
     "slide_type": "-"
    }
   },
   "outputs": [
    {
     "name": "stdout",
     "output_type": "stream",
     "text": [
      "   START> AssignGenes\n",
      " COMMAND> igblast\n",
      " VERSION> 1.17.1\n",
      "    FILE> input.fasta\n",
      "ORGANISM> human\n",
      "    LOCI> ig\n",
      "   NPROC> 8\n",
      "\n",
      "PROGRESS> 21:01:08 |Done                     | 12.0 min\n",
      "\n",
      "  PASS> 91010\n",
      "OUTPUT> input_igblast.fmt7\n",
      "   END> AssignGenes\n",
      "\n"
     ]
    }
   ],
   "source": [
    "%%bash\n",
    "AssignGenes.py igblast -s ../data/input.fasta \\\n",
    "-b /usr/local/share/igblast --organism human --loci ig \\\n",
    "--format blast --outdir results/igblast --nproc 8"
   ]
  },
  {
   "cell_type": "markdown",
   "metadata": {
    "slideshow": {
     "slide_type": "slide"
    }
   },
   "source": [
    "# Data standardization using Change-O\n",
    "*Gupta NT, Vander Heiden JA, Uduman M, Gadala-Maria D, Yaari G, Kleinstein SH. Change-O: a toolkit for analyzing large-scale B cell immunoglobulin repertoire sequencing data. Bioinformatics 2015; doi: [10.1093/bioinformatics/btv359](10.1093/bioinformatics/btv359)*\n",
    "\n",
    "Once the V(D)J annotation is finished, the IgBLAST results are parsed into a [standardized format](https://changeo.readthedocs.io/en/stable/standard.html) suitable for downstream analysis. All tools in the Immcantation framework use this format, which allows for interoperability and provides flexibility when designing complex workflows.\n",
    "\n",
    "In this example analysis, the `fmt7` results from IgBLAST are converted into the [AIRR](https://docs.airr-community.org/en/latest/datarep/rearrangements.html) format, a tabulated text file with one sequence per row. Columns provide the annotation for each sequence using standard column names as described here: https://docs.airr-community.org/en/latest/datarep/rearrangements.html."
   ]
  },
  {
   "cell_type": "markdown",
   "metadata": {},
   "source": [
    "## Generate a standardized database file\n",
    "The command line tool `MakeDb.py igblast` requires the original input sequence fasta file (`-s`) that was passed to the V(D)J annotation tool, as well as the V(D)J annotation results (`-i`). The argument `--format airr` specifies that the results should be converted into the AIRR format. The path to the reference germlines is provided by `-r`."
   ]
  },
  {
   "cell_type": "code",
   "execution_count": 9,
   "metadata": {
    "execution": {
     "iopub.execute_input": "2021-09-07T21:01:08.758309Z",
     "iopub.status.busy": "2021-09-07T21:01:08.757679Z",
     "iopub.status.idle": "2021-09-07T21:02:30.067896Z",
     "shell.execute_reply": "2021-09-07T21:02:30.067469Z"
    },
    "slideshow": {
     "slide_type": "-"
    }
   },
   "outputs": [
    {
     "name": "stdout",
     "output_type": "stream",
     "text": [
      "         START> MakeDB\n",
      "       COMMAND> igblast\n",
      "  ALIGNER_FILE> input_igblast.fmt7\n",
      "      SEQ_FILE> input.fasta\n",
      "       ASIS_ID> False\n",
      "    ASIS_CALLS> False\n",
      "       PARTIAL> False\n",
      "      EXTENDED> False\n",
      "INFER_JUNCTION> False\n",
      "\n",
      "PROGRESS> 21:01:10 |Done                | 0.0 min\n",
      "\n",
      "PROGRESS> 21:02:29 |####################| 100% (91,010) 1.3 min\n",
      "\n",
      "OUTPUT> data_db-pass.tsv\n",
      "  PASS> 87509\n",
      "  FAIL> 3501\n",
      "   END> MakeDb\n",
      "\n"
     ]
    },
    {
     "name": "stderr",
     "output_type": "stream",
     "text": [
      "WARNING> Duplicated germline allele names excluded from references:\n",
      "M21626|TRAV14/DV4*01|Homo_sapiens|F|V-REGION|226..515|290 nt|1| | | | |290+36=326| | |\n",
      "AE000659|TRAV14/DV4*02|Homo_sapiens|F|V-REGION|179711..180000|290 nt|1| | | | |290+36=326| | |\n",
      "M21624|TRAV14/DV4*03|Homo_sapiens|(F)|V-REGION|131..412|282 nt|1| | | | |282+36=318| | |\n",
      "L09758|TRAV14/DV4*04|Homo_sapiens|[F]|V-REGION|1..271|271 nt|1| | || |271+39=310|partial in 5' and in 3' | |\n",
      "AE000660|TRAV23/DV6*01|Homo_sapiens|F|V-REGION|90991..91270|280 nt|1| | || |280+42=322| | |\n",
      "M17660|TRAV23/DV6*02|Homo_sapiens|(F)|V-REGION|85..364|280 nt|1| | || |280+42=322| | |\n",
      "M97704|TRAV23/DV6*03|Homo_sapiens|(F)|V-REGION|145..424|280 nt|1| | || |280+42=322| | |\n",
      "Y10411|TRAV23/DV6*04|Homo_sapiens|[F]|V-REGION|1..267|267 nt|1| | | | |267+45=312|partial in 5' and in 3' | |\n",
      "IMGT000024|TRAV23/DV6*05|Homo_sapiens|F|V-REGION|474779..475058|280 nt|1| | | | |280+42=322| | |\n",
      "AE000660|TRAV29/DV5*01|Homo_sapiens|F|V-REGION|167519..167798|280 nt|1| | | | |280+42=322| | |\n",
      "S81645|TRAV29/DV5*02|Homo_sapiens|F|V-REGION|174..452|279 nt|1| | | | |279+42=321| | |\n",
      "IMGT000024|TRAV29/DV5*04|Homo_sapiens|F|V-REGION|551688..551967|280 nt|1| | | | |280+42=322| | |\n",
      "AE000660|TRAV36/DV7*01|Homo_sapiens|F|V-REGION|230905..231181|277 nt|1| | | | |277+45=322| | |\n",
      "X61070|TRAV36/DV7*02|Homo_sapiens|(F)|V-REGION|7..280|274 nt|1| | | | |274+45=319| | |\n",
      "X58767|TRAV36/DV7*03|Homo_sapiens|(F)|V-REGION|109..378|270 nt|1| | || |270+45=315|partial in 3'| |\n",
      "Z46643|TRAV36/DV7*04|Homo_sapiens|(F)|V-REGION|87..357|271 nt|1| | | | |271+45=316| | |\n",
      "IMGT000024|TRAV36/DV7*05|Homo_sapiens|F|V-REGION|615075..615351|277 nt|1| | | | |277+45=322| | |\n",
      "AE000661|TRAV38-2/DV8*01|Homo_sapiens|F|V-REGION|34309..34597|289 nt|1| | | | |289+36=325| | |\n",
      "\n"
     ]
    }
   ],
   "source": [
    "%%bash\n",
    "mkdir -p results/changeo\n",
    "MakeDb.py igblast \\\n",
    "-s ../data/input.fasta -i results/igblast/input_igblast.fmt7 \\\n",
    "--format airr \\\n",
    "-r /usr/local/share/germlines/imgt/human/vdj/ --outdir results/changeo \\\n",
    "--outname data"
   ]
  },
  {
   "cell_type": "markdown",
   "metadata": {
    "slideshow": {
     "slide_type": "subslide"
    }
   },
   "source": [
    "## Subset the data to include productive heavy chain sequences\n",
    "\n",
    "We next filter the data from the previous step to include **only productive** sequences from the heavy chain. The determination of whether a sequence is productive (or not) is provided by the V(D)J annotation software.\n",
    "\n",
    "`ParseDb.py select` finds the rows in the file `-d` for which the column `productive` (specified with `-f`) contains the values `T` or `TRUE` (specified by `-u`). The prefix `data_p` will be used in the name of the output file (specified by `--outname`)."
   ]
  },
  {
   "cell_type": "code",
   "execution_count": 10,
   "metadata": {
    "execution": {
     "iopub.execute_input": "2021-09-07T21:02:30.072649Z",
     "iopub.status.busy": "2021-09-07T21:02:30.071044Z",
     "iopub.status.idle": "2021-09-07T21:02:35.615729Z",
     "shell.execute_reply": "2021-09-07T21:02:35.616098Z"
    },
    "slideshow": {
     "slide_type": "-"
    }
   },
   "outputs": [
    {
     "name": "stdout",
     "output_type": "stream",
     "text": [
      "  START> ParseDb\n",
      "COMMAND> select\n",
      "   FILE> data_db-pass.tsv\n",
      " FIELDS> productive\n",
      " VALUES> T\n",
      "  REGEX> False\n",
      "\n",
      "PROGRESS> 21:02:35 |####################| 100% (87,509) 0.1 min\n",
      "\n",
      "   OUTPUT> data_p_parse-select.tsv\n",
      "  RECORDS> 87509\n",
      " SELECTED> 64896\n",
      "DISCARDED> 22613\n",
      "      END> ParseDb\n",
      "\n"
     ]
    }
   ],
   "source": [
    "%%bash\n",
    "ParseDb.py select -d results/changeo/data_db-pass.tsv \\\n",
    "-f productive -u T --outname data_p"
   ]
  },
  {
   "cell_type": "markdown",
   "metadata": {
    "slideshow": {
     "slide_type": "subslide"
    }
   },
   "source": [
    "Next, we filter the data to include **only heavy chain** sequences. \n",
    "\n",
    "`ParseDb.py select` finds the rows in the file `-d` from the previous step for which the column `v_call` (specified with `-f`) contains (pattern matching specified by `--regex`) the word `IGHV` (specified by `-u`). The prefix `data_ph` (standing for productive and heavy) will be used in the name of the output file (specified by `--outname`) to indicate that this file contains productive (p) heavy (h) chain sequence data."
   ]
  },
  {
   "cell_type": "code",
   "execution_count": 11,
   "metadata": {
    "execution": {
     "iopub.execute_input": "2021-09-07T21:02:35.619764Z",
     "iopub.status.busy": "2021-09-07T21:02:35.619298Z",
     "iopub.status.idle": "2021-09-07T21:02:40.454210Z",
     "shell.execute_reply": "2021-09-07T21:02:40.453740Z"
    },
    "slideshow": {
     "slide_type": "-"
    }
   },
   "outputs": [
    {
     "name": "stdout",
     "output_type": "stream",
     "text": [
      "  START> ParseDb\n",
      "COMMAND> select\n",
      "   FILE> data_p_parse-select.tsv\n",
      " FIELDS> v_call\n",
      " VALUES> IGHV\n",
      "  REGEX> True\n",
      "\n",
      "PROGRESS> 21:02:40 |####################| 100% (64,896) 0.1 min\n",
      "\n",
      "   OUTPUT> data_ph_parse-select.tsv\n",
      "  RECORDS> 64896\n",
      " SELECTED> 64896\n",
      "DISCARDED> 0\n",
      "      END> ParseDb\n",
      "\n"
     ]
    }
   ],
   "source": [
    "%%bash\n",
    "ParseDb.py select -d results/changeo/data_p_parse-select.tsv \\\n",
    "-f v_call -u IGHV --regex --outname data_ph"
   ]
  },
  {
   "cell_type": "markdown",
   "metadata": {
    "slideshow": {
     "slide_type": "slide"
    }
   },
   "source": [
    "# Set up the notebook to run R code\n",
    "The following steps in the tutorial will use several R packages in the Immcantation framework. The next two lines of code are required to be able to use `R magic` and run `R` code in this Jupyter notebook."
   ]
  },
  {
   "cell_type": "code",
   "execution_count": 12,
   "metadata": {
    "execution": {
     "iopub.execute_input": "2021-09-07T21:02:40.459451Z",
     "iopub.status.busy": "2021-09-07T21:02:40.458741Z",
     "iopub.status.idle": "2021-09-07T21:02:41.165741Z",
     "shell.execute_reply": "2021-09-07T21:02:41.166127Z"
    },
    "slideshow": {
     "slide_type": "-"
    }
   },
   "outputs": [],
   "source": [
    "# R for Python\n",
    "import rpy2.rinterface\n",
    "%load_ext rpy2.ipython"
   ]
  },
  {
   "cell_type": "markdown",
   "metadata": {
    "slideshow": {
     "slide_type": "slide"
    }
   },
   "source": [
    "# Genotyping and discovery of novel V gene alleles with TIgGER\n",
    "\n",
    "*Gadala-Maria D, Yaari G, Uduman M, Kleinstein S (2015). “Automated analysis of high-throughput B cell sequencing data reveals a high frequency of novel immunoglobulin V gene segment alleles.” Proceedings of the National Academy of Sciency of the United States of America, E862-70.*\n",
    "\n",
    "*Gadala-Maria D, et al. (2019). “Identification of subject-specific immunoglobulin alleles from expressed repertoire sequencing data.” Frontiers in Immunology.*\n",
    "\n",
    "V(D)J assignment is a key step in analyzing repertoires and is done by matching the sequences against a database of known V(D)J alleles. However, current databases are incomplete and this process will fail for sequences that utilize previously undetected alleles. Some assignments may also occur to genes which are not carried by the individual. The TIgGER R package infers subject-specific V genotypes (including novel alleles), then uses the results to improve the V gene annotations. "
   ]
  },
  {
   "cell_type": "markdown",
   "metadata": {},
   "source": [
    "## Load libraries and read in the data\n",
    "After loading the libraries needed, the process is started by using `readChangeoDb` to read the tabulated data generated in the previous step."
   ]
  },
  {
   "cell_type": "code",
   "execution_count": 13,
   "metadata": {
    "execution": {
     "iopub.execute_input": "2021-09-07T21:02:41.170705Z",
     "iopub.status.busy": "2021-09-07T21:02:41.170213Z",
     "iopub.status.idle": "2021-09-07T21:02:47.167306Z",
     "shell.execute_reply": "2021-09-07T21:02:47.160455Z"
    },
    "slideshow": {
     "slide_type": "-"
    },
    "tags": []
   },
   "outputs": [
    {
     "name": "stdout",
     "output_type": "stream",
     "text": [
      " [1] \"sequence_id\"        \"sequence\"           \"rev_comp\"          \n",
      " [4] \"productive\"         \"v_call\"             \"d_call\"            \n",
      " [7] \"j_call\"             \"sequence_alignment\" \"germline_alignment\"\n",
      "[10] \"junction\"           \"junction_aa\"        \"v_cigar\"           \n",
      "[13] \"d_cigar\"            \"j_cigar\"            \"stop_codon\"        \n",
      "[16] \"vj_in_frame\"        \"locus\"              \"junction_length\"   \n",
      "[19] \"np1_length\"         \"np2_length\"         \"v_sequence_start\"  \n",
      "[22] \"v_sequence_end\"     \"v_germline_start\"   \"v_germline_end\"    \n",
      "[25] \"d_sequence_start\"   \"d_sequence_end\"     \"d_germline_start\"  \n",
      "[28] \"d_germline_end\"     \"j_sequence_start\"   \"j_sequence_end\"    \n",
      "[31] \"j_germline_start\"   \"j_germline_end\"     \"isotype\"           \n"
     ]
    }
   ],
   "source": [
    "%%R\n",
    "\n",
    "suppressPackageStartupMessages(library(airr))\n",
    "suppressPackageStartupMessages(library(alakazam))\n",
    "suppressPackageStartupMessages(library(dplyr))\n",
    "suppressPackageStartupMessages(library(ggplot2))\n",
    "suppressPackageStartupMessages(library(tigger))\n",
    "\n",
    "dir.create(file.path(\"results\",\"tigger\"))\n",
    "db <- read_rearrangement(file.path(\"results\",\"changeo\",\"data_ph_parse-select.tsv\"))\n",
    "colnames(db) # show the column names in the database"
   ]
  },
  {
   "cell_type": "markdown",
   "metadata": {
    "slideshow": {
     "slide_type": "slide"
    }
   },
   "source": [
    "`readIgFasta` loads the reference V germline genes that were used in the V(D)J assignment (in this case the sequences in the Immcantation container)."
   ]
  },
  {
   "cell_type": "code",
   "execution_count": 14,
   "metadata": {
    "execution": {
     "iopub.execute_input": "2021-09-07T21:02:47.170774Z",
     "iopub.status.busy": "2021-09-07T21:02:47.170306Z",
     "iopub.status.idle": "2021-09-07T21:02:47.225155Z",
     "shell.execute_reply": "2021-09-07T21:02:47.224727Z"
    },
    "slideshow": {
     "slide_type": "-"
    }
   },
   "outputs": [
    {
     "name": "stdout",
     "output_type": "stream",
     "text": [
      "                                                                                                                                                                                                                                                                                                                       IGHV1-18*01 \n",
      "\"CAGGTTCAGCTGGTGCAGTCTGGAGCT...GAGGTGAAGAAGCCTGGGGCCTCAGTGAAGGTCTCCTGCAAGGCTTCTGGTTACACCTTT............ACCAGCTATGGTATCAGCTGGGTGCGACAGGCCCCTGGACAAGGGCTTGAGTGGATGGGATGGATCAGCGCTTAC......AATGGTAACACAAACTATGCACAGAAGCTCCAG...GGCAGAGTCACCATGACCACAGACACATCCACGAGCACAGCCTACATGGAGCTGAGGAGCCTGAGATCTGACGACACGGCCGTGTATTACTGTGCGAGAGA\" \n"
     ]
    }
   ],
   "source": [
    "%%R\n",
    "ighv <- readIgFasta(file.path(\"\",\"usr\",\"local\",\"share\",\"germlines\",\"imgt\",\"human\",\"vdj\",\"imgt_human_IGHV.fasta\"))\n",
    "ighv[1] # show the first germline"
   ]
  },
  {
   "cell_type": "markdown",
   "metadata": {
    "slideshow": {
     "slide_type": "subslide"
    }
   },
   "source": [
    "## Identify potentially novel V gene alleles\n",
    "\n",
    "For each V gene allele, `findNovelAlleles` analyzes the sequences that were assigned the allele and evaluates the apparent mutation frequency at each position as a function of sequence-wide mutation counts. Positions that contain polymorphisms (rather than somatic hypermutations) will exhibit a high apparent mutation frequency even when the sequence-wide mutation count is low. \n",
    "\n",
    "In this example, TIgGER finds one novel V gene allele."
   ]
  },
  {
   "cell_type": "code",
   "execution_count": 15,
   "metadata": {
    "execution": {
     "iopub.execute_input": "2021-09-07T21:02:47.228533Z",
     "iopub.status.busy": "2021-09-07T21:02:47.228093Z",
     "iopub.status.idle": "2021-09-07T21:04:01.631165Z",
     "shell.execute_reply": "2021-09-07T21:04:01.630618Z"
    },
    "slideshow": {
     "slide_type": "-"
    }
   },
   "outputs": [],
   "source": [
    "%%R\n",
    "nv <- findNovelAlleles(db, germline_db = ighv, nproc = 8) # find novel alleles"
   ]
  },
  {
   "cell_type": "code",
   "execution_count": 16,
   "metadata": {
    "execution": {
     "iopub.execute_input": "2021-09-07T21:04:01.635490Z",
     "iopub.status.busy": "2021-09-07T21:04:01.635002Z",
     "iopub.status.idle": "2021-09-07T21:04:01.715912Z",
     "shell.execute_reply": "2021-09-07T21:04:01.702946Z"
    },
    "slideshow": {
     "slide_type": "-"
    }
   },
   "outputs": [
    {
     "name": "stdout",
     "output_type": "stream",
     "text": [
      "  germline_call                note polymorphism_call nt_substitutions\n",
      "1   IGHV3-20*01 Novel allele found! IGHV3-20*01_C307T           307C>T\n",
      "2   IGHV3-20*03 Novel allele found!  IGHV3-20*03_T68G            68T>G\n",
      "                                                                                                                                                                                                                                                                                                                                                                                                                                                                                                                                                                                            novel_imgt\n",
      "1                                                                                                                                                                                                                                                                     GAGGTGCAGCTGGTGGAGTCTGGGGGA...GGTGTGGTACGGCCTGGGGGGTCCCTGAGACTCTCCTGTGCAGCCTCTGGATTCACCTTT............GATGATTATGGCATGAGCTGGGTCCGCCAAGCTCCAGGGAAGGGGCTGGAGTGGGTCTCTGGTATTAATTGGAAT......GGTGGTAGCACAGGTTATGCAGACTCTGTGAAG...GGCCGATTCACCATCTCCAGAGACAACGCCAAGAACTCCCTGTATCTGCAAATGAACAGTCTGAGAGCCGAGGACACGGCCTTGTATTACTGTGCGAGAGA\n",
      "2 GAGGTGCAGCTGGTGGAGTCTGGGGGA...GGTGTGGTACGGCCTGGGGGGTCCCTGAGACTCTCCTGTGCAGCCTCTGGATTCACCTTT............GATGATTATGGCATGAGCTGGGTCCGCCAAGCTCCAGGGAAGGGGCTGGAGTGGGTCTCTGGTATTAATTGGAAT......GGTGGTAGCACAGGTTATGCAGACTCTGTGAAG...GGCCGATTCACCATCTCCAGAGACAACGCCAAGAACTCCCTGTATCTGCAAATGAACAGTCTGAGAGCCGAGGACACGGCCTTGTATTACTGTGCGAGAGACTCTCCTGTGCAGCCTCTGGATTCACCTTT............GATGATTATGGCATGAGCTGGGTCCGCCAAGCTCCAGGGAAGGGGCTGGAGTGGGTCTCTGGTATTAATTGGAAT......GGTGGTAGCACAGGTTATGCAGACTCTGTGAAG...GGCCGATTCACCATCTCCAGAGACAACGCCAAGAACTCCCTGTATCTGCAAATGAACAGTCTGAGAGCCGAGGACACGGCCTTGTATTACTGTGCGAGAGA\n",
      "  novel_imgt_count novel_imgt_unique_j novel_imgt_unique_cdr3\n",
      "1              161                   6                    145\n",
      "2              161                   6                    145\n",
      "  perfect_match_count perfect_match_freq germline_call_count germline_call_freq\n",
      "1                 144          0.4784053                 301              0.005\n",
      "2                 167          0.5901060                 283              0.004\n",
      "  mut_min mut_max mut_pass_count\n",
      "1       1      10            202\n",
      "2       1      10            222\n",
      "                                                                                                                                                                                                                                                                                                                                                                                                                                                                                                                                                                                         germline_imgt\n",
      "1                                                                                                                                                                                                                                                                     GAGGTGCAGCTGGTGGAGTCTGGGGGA...GGTGTGGTACGGCCTGGGGGGTCCCTGAGACTCTCCTGTGCAGCCTCTGGATTCACCTTT............GATGATTATGGCATGAGCTGGGTCCGCCAAGCTCCAGGGAAGGGGCTGGAGTGGGTCTCTGGTATTAATTGGAAT......GGTGGTAGCACAGGTTATGCAGACTCTGTGAAG...GGCCGATTCACCATCTCCAGAGACAACGCCAAGAACTCCCTGTATCTGCAAATGAACAGTCTGAGAGCCGAGGACACGGCCTTGTATCACTGTGCGAGAGA\n",
      "2 GAGGTGCAGCTGGTGGAGTCTGGGGGA...GGTGTGGTACGGCCTGGGGGGTCCCTGAGACTCTCCTTTGCAGCCTCTGGATTCACCTTT............GATGATTATGGCATGAGCTGGGTCCGCCAAGCTCCAGGGAAGGGGCTGGAGTGGGTCTCTGGTATTAATTGGAAT......GGTGGTAGCACAGGTTATGCAGACTCTGTGAAG...GGCCGATTCACCATCTCCAGAGACAACGCCAAGAACTCCCTGTATCTGCAAATGAACAGTCTGAGAGCCGAGGACACGGCCTTGTATTACTGTGCGAGAGACTCTCCTGTGCAGCCTCTGGATTCACCTTT............GATGATTATGGCATGAGCTGGGTCCGCCAAGCTCCAGGGAAGGGGCTGGAGTGGGTCTCTGGTATTAATTGGAAT......GGTGGTAGCACAGGTTATGCAGACTCTGTGAAG...GGCCGATTCACCATCTCCAGAGACAACGCCAAGAACTCCCTGTATCTGCAAATGAACAGTCTGAGAGCCGAGGACACGGCCTTGTATTACTGTGCGAGAGA\n",
      "  germline_imgt_count pos_min pos_max y_intercept y_intercept_pass snp_pass\n",
      "1                  44       1     312       0.125                1      196\n",
      "2                   0       1     312       0.125                1      222\n",
      "  unmutated_count unmutated_freq unmutated_snp_j_gene_length_count\n",
      "1             144      0.4784053                                52\n",
      "2             167      0.5901060                                54\n",
      "  snp_min_seqs_j_max_pass alpha min_seqs j_max min_frac\n",
      "1                       1  0.05       50  0.15     0.75\n",
      "2                       1  0.05       50  0.15     0.75\n"
     ]
    }
   ],
   "source": [
    "%%R\n",
    "selectNovel(nv) # show novel alleles"
   ]
  },
  {
   "cell_type": "markdown",
   "metadata": {
    "slideshow": {
     "slide_type": "subslide"
    }
   },
   "source": [
    "The function `plotNovel` helps visualize the supporting evidence for calling the novel V gene allele. The mutation frequency of the position that is predicted to contain a polymorphism is highlighted in red. In this case, the position contains a high number of apparent mutations for all sequence-wide mutation counts (top panel). \n",
    "\n",
    "By default, `findNovelAlleles` uses several additional filters to avoid false positive allele calls. For example, to avoid calling novel alleles resulting from clonally-related sequences, TIgGER requires that sequences perfectly matching the potential novel allele be found in sequences with a diverse set of J genes and a range of junction lengths. This can be observed in the bottom panel."
   ]
  },
  {
   "cell_type": "code",
   "execution_count": 17,
   "metadata": {
    "execution": {
     "iopub.execute_input": "2021-09-07T21:04:01.719198Z",
     "iopub.status.busy": "2021-09-07T21:04:01.718783Z",
     "iopub.status.idle": "2021-09-07T21:04:03.628837Z",
     "shell.execute_reply": "2021-09-07T21:04:03.629203Z"
    },
    "slideshow": {
     "slide_type": "-"
    }
   },
   "outputs": [
    {
     "data": {
      "image/png": "[encoded data removed]"
     },
     "metadata": {},
     "output_type": "display_data"
    }
   ],
   "source": [
    "%%R\n",
    "plotNovel(db, selectNovel(nv)[1,]) # visualize the novel allele(s)"
   ]
  },
  {
   "cell_type": "markdown",
   "metadata": {
    "slideshow": {
     "slide_type": "subslide"
    }
   },
   "source": [
    "## Genotyping, including novel V gene alleles\n",
    "\n",
    "The next step is to infer the subject’s genotype and use this to improve the V gene calls. \n",
    "\n",
    "`inferGenotype` uses a frequency-based method to determine the genotype. For each V gene, it finds the minimum set of alleles that can explain a specified fraction of each gene’s calls. The most commonly observed allele of each gene is included in the genotype first, then the next most common allele is added until the desired fraction of sequence annotations can be explained. \n",
    "\n",
    "Immcantation also includes other methods for inferring subject-specific genotypes (`inferGenotypeBayesian`)."
   ]
  },
  {
   "cell_type": "code",
   "execution_count": 18,
   "metadata": {
    "execution": {
     "iopub.execute_input": "2021-09-07T21:04:03.632513Z",
     "iopub.status.busy": "2021-09-07T21:04:03.632083Z",
     "iopub.status.idle": "2021-09-07T21:04:15.924910Z",
     "shell.execute_reply": "2021-09-07T21:04:15.923962Z"
    },
    "slideshow": {
     "slide_type": "-"
    }
   },
   "outputs": [
    {
     "name": "stdout",
     "output_type": "stream",
     "text": [
      "      gene alleles counts total note\n",
      "1  IGHV2-5   02,01  58,48   106     \n",
      "2 IGHV3-49   04,05  77,39   116     \n",
      "3 IGHV3-11   01,04  85,53   138     \n"
     ]
    }
   ],
   "source": [
    "%%R\n",
    "gt <- inferGenotype(db, germline_db = ighv, novel = nv)\n",
    "\n",
    "# save genotype inf .fasta format to be used later with CreateGermlines.py\n",
    "gtseq <- genotypeFasta(gt, ighv, nv)\n",
    "writeFasta(gtseq, file.path(\"results\",\"tigger\",\"v_genotype.fasta\"))\n",
    "\n",
    "gt %>% arrange(total) %>% slice(1:3) # show the first 3 rows"
   ]
  },
  {
   "cell_type": "markdown",
   "metadata": {
    "slideshow": {
     "slide_type": "subslide"
    }
   },
   "source": [
    "The individual's genotype can be visualized with `plotGenotype`. Each row is a gene, with colored cells indicating each of the alleles for that gene that are included in the inferred genotype."
   ]
  },
  {
   "cell_type": "code",
   "execution_count": 19,
   "metadata": {
    "execution": {
     "iopub.execute_input": "2021-09-07T21:04:15.928431Z",
     "iopub.status.busy": "2021-09-07T21:04:15.927994Z",
     "iopub.status.idle": "2021-09-07T21:04:16.236229Z",
     "shell.execute_reply": "2021-09-07T21:04:16.235525Z"
    },
    "slideshow": {
     "slide_type": "-"
    }
   },
   "outputs": [
    {
     "data": {
      "image/png": "[encoded data removed]"
     },
     "metadata": {},
     "output_type": "display_data"
    }
   ],
   "source": [
    "%%R\n",
    "plotGenotype(gt) # genotyping including novel V gene alleles"
   ]
  },
  {
   "cell_type": "markdown",
   "metadata": {
    "slideshow": {
     "slide_type": "subslide"
    }
   },
   "source": [
    "## Reassign V gene allele annotations\n",
    "\n",
    "Some of the V gene calls may use genes that are not part of the subject-specific genotype inferred by TIgGER. These gene calls can be corrected with `reassignAlleles`. Mistaken allele calls can arise, for example, from sequences which by chance have been mutated to look like another allele. `reassignAlleles` saves the corrected calls in a new column, `v_call_genotyped`. \n",
    "\n",
    "With `write_airr` the updated data is saved as a tabulated file for use in the following steps."
   ]
  },
  {
   "cell_type": "code",
   "execution_count": 20,
   "metadata": {
    "execution": {
     "iopub.execute_input": "2021-09-07T21:04:16.240250Z",
     "iopub.status.busy": "2021-09-07T21:04:16.239785Z",
     "iopub.status.idle": "2021-09-07T21:04:22.261844Z",
     "shell.execute_reply": "2021-09-07T21:04:22.262215Z"
    },
    "slideshow": {
     "slide_type": "-"
    }
   },
   "outputs": [
    {
     "name": "stdout",
     "output_type": "stream",
     "text": [
      "# A tibble: 3 × 2\n",
      "  v_call                    v_call_genotyped \n",
      "  <chr>                     <chr>            \n",
      "1 IGHV3-30*09,IGHV3-30-3*01 IGHV3-30*18      \n",
      "2 IGHV3-30*18,IGHV3-30-5*01 IGHV3-30*18      \n",
      "3 IGHV3-20*01,IGHV3-20*03   IGHV3-20*01_C307T\n"
     ]
    }
   ],
   "source": [
    "%%R\n",
    "db <- reassignAlleles(db, gtseq)\n",
    "\n",
    "# show some of the corrected gene calls\n",
    "db %>% filter(v_call != v_call_genotyped) %>% sample_n(3) %>% select(v_call, v_call_genotyped)"
   ]
  },
  {
   "cell_type": "code",
   "execution_count": 21,
   "metadata": {
    "execution": {
     "iopub.execute_input": "2021-09-07T21:04:22.266557Z",
     "iopub.status.busy": "2021-09-07T21:04:22.266005Z",
     "iopub.status.idle": "2021-09-07T21:04:23.251534Z",
     "shell.execute_reply": "2021-09-07T21:04:23.251063Z"
    },
    "slideshow": {
     "slide_type": "-"
    }
   },
   "outputs": [],
   "source": [
    "%%R\n",
    "write_airr(db, file.path(\"results\",\"tigger\",\"data_ph_genotyped.tsv\"))"
   ]
  },
  {
   "cell_type": "markdown",
   "metadata": {
    "cell_style": "center",
    "slideshow": {
     "slide_type": "slide"
    }
   },
   "source": [
    "# Clonal diversity analysis\n",
    "\n",
    "**Goal:** Partition (cluster) sequences into clonally related lineages. Each lineage is a group of sequences that came from the same original naive cell.\n",
    "\n",
    "Summary of the key steps:\n",
    "- *Determine clonal clustering threshold:* sequences which are under this cut-off are clonally related.\n",
    "- *Assign clonal groups:* add an annotation (`clone_id`) that can be used to identify a group of sequences that came from the same original naive cell.\n",
    "- *Reconstruct germline sequences:* figure out the germline sequence of the common ancestor, before mutations are introduced during clonal expansion and SMH.\n",
    "- *Analize clonal diversity:* number and size of clones? any expanded clones?\n",
    "\n",
    "\n",
    "![](assets/clonalexpansion.png)"
   ]
  },
  {
   "cell_type": "markdown",
   "metadata": {
    "cell_style": "center",
    "slideshow": {
     "slide_type": "subslide"
    }
   },
   "source": [
    "## Clonal assignment using the CDR3 as a fingerprint\n",
    "\n",
    "*Gupta et al. (2017)*\n",
    "\n",
    "*Nouri and Steven H Kleinstein (2018b)*\n",
    "\n",
    "Clonal relationships can be inferred from sequencing data. Hierarchical clustering is a widely used method for identify clonally related sequences. This method requires a measure of distance between pairs of sequences and a choice of linkage to define the distance between groups of sequences. Since the result will be a tree, a threshold to cut the hierarchy into discrete clonal groups is also needed. \n",
    "\n",
    "The figure below on the left shows a tree and the chosen threshold (red dotted line). Sequences which have a distance under this threshold are considered to be part of the same clone (i.e., clonally-related) whereas sequences which have distance above this threshold are considered to be part of independent clones (i.e., not clonally related). \n",
    "\n",
    "`shazam` provides methods to calculate the distance between sequences and find an appropriate distance threshold for each dataset (`distToNearest` and `findThreshold`). The threshold can be determined by analyzing the distance to the nearest distribution. This is the set of distances between each sequence and its closest non-identical neighbour. \n",
    "\n",
    "The figure below on the right shows the distance-to-nearest distribution for a repertoire. Typically, the distribution is bimodal. The first mode (on the left) represents sequences that have at least one clonal relative in the dataset, while the second mode (on the right) is representative of the sequences that do not have any clonal relatives in the data (sometimes called \"singletons\"). A reasonable threshold will separate these two modes of the distribution. In this case, it is easy to manually determine a threshold as a value intermediate between the two modes. However, `findThreshold` can be used to automatically find the threshold."
   ]
  },
  {
   "cell_type": "markdown",
   "metadata": {
    "slideshow": {
     "slide_type": "-"
    }
   },
   "source": [
    "<img src=\"assets/hclust.png\" width=\"35%\" align=\"left\"><img src=\"assets/distNearest.png\" width=\"30%\" align=\"left\">"
   ]
  },
  {
   "cell_type": "markdown",
   "metadata": {
    "slideshow": {
     "slide_type": "subslide"
    }
   },
   "source": [
    "## Setting the clonal distance threshold with SHazaM\n",
    "\n",
    "*Gupta et al. (2015)*\n",
    "\n",
    "We first split sequences into groups that share the same V and J gene assignments and that have the same junction (or equivalently CDR3) length. This is based on the assumption that members of a clone will share all of these properties. `distToNearest` performs this grouping step, then counts the number of mismatches in the junction region between all pairs of sequences in eaach group and returns the smallest non-zero value for each sequence. At the end of this step, a new column (`dist_nearest`) which contains the distances to the closest non-identical sequence in each group will be added to `db`.\n",
    "\n",
    "`findThreshold` uses the distribution of distances calculated in the previous step to determine an appropriate threshold for the dataset. This can be done using either a `density` or `mixture` based method. The function `plot` can be used to visualize the distance-to-nearest distribution and the threshold."
   ]
  },
  {
   "cell_type": "code",
   "execution_count": 22,
   "metadata": {
    "execution": {
     "iopub.execute_input": "2021-09-07T21:04:23.255165Z",
     "iopub.status.busy": "2021-09-07T21:04:23.254594Z",
     "iopub.status.idle": "2021-09-07T21:05:06.198233Z",
     "shell.execute_reply": "2021-09-07T21:05:06.198806Z"
    },
    "slideshow": {
     "slide_type": "-"
    }
   },
   "outputs": [
    {
     "name": "stdout",
     "output_type": "stream",
     "text": [
      "[1] 0.12\n"
     ]
    }
   ],
   "source": [
    "%%R -o thr\n",
    "\n",
    "# get the distance to nearest neighbors\n",
    "suppressPackageStartupMessages(library(shazam))\n",
    "db <- distToNearest(db, model = \"ham\", normalize = \"len\", vCallColumn = \"v_call_genotyped\", nproc = 4)\n",
    "\n",
    "# determine the threshold\n",
    "threshold <- findThreshold(db$dist_nearest, method = \"density\")\n",
    "thr <- round(threshold@threshold, 2)\n",
    "thr"
   ]
  },
  {
   "cell_type": "code",
   "execution_count": 23,
   "metadata": {
    "execution": {
     "iopub.execute_input": "2021-09-07T21:05:06.203416Z",
     "iopub.status.busy": "2021-09-07T21:05:06.202939Z",
     "iopub.status.idle": "2021-09-07T21:05:06.337753Z",
     "shell.execute_reply": "2021-09-07T21:05:06.337298Z"
    },
    "slideshow": {
     "slide_type": "subslide"
    },
    "tags": []
   },
   "outputs": [
    {
     "data": {
      "image/png": "[encoded data removed]"
     },
     "metadata": {},
     "output_type": "display_data"
    }
   ],
   "source": [
    "%%R\n",
    "plot(threshold) # plot the distribution"
   ]
  },
  {
   "cell_type": "markdown",
   "metadata": {
    "slideshow": {
     "slide_type": "subslide"
    }
   },
   "source": [
    "### Advanced method: Spectral-based clonal clustering (SCOPer)\n",
    "\n",
    "*Nouri and Steven H Kleinstein (2018a)*\n",
    "\n",
    "In some datasets, the distance-to-nearest distribution may not be bimodal and `findThreshold` may fail to determine the distance threshold. In these cases, spectral clustering with an adaptive threshold to determine the local sequence neighborhood may be used. This can be done with functions from the [SCOPer R package](https://scoper.readthedocs.io/)."
   ]
  },
  {
   "cell_type": "markdown",
   "metadata": {
    "slideshow": {
     "slide_type": "subslide"
    }
   },
   "source": [
    "## Change-O: Clonal assignment\n",
    "\n",
    "Once a threshold is decided, the command line tool `DefineClones.py` from Change-O performs the clonal assignment. There are some arguments that need to be specified:\n",
    "- `--model`: the distance metric used in `distToNearest`\n",
    "- `--norm`: type of normalization used in `distToNearest`\n",
    "- `--dist`: the cut-off from `findThreshold`\n",
    "\n",
    "At the end of this step, the output file will have an additional column (`clone_id`) that provides an identifier for each sequence to indicate which clone it belongs to (i.e., sequences that have the same identifier are clonally-related). *Note that these identifiers are only unique to the dataset used to carry out the clonal assignments.*"
   ]
  },
  {
   "cell_type": "code",
   "execution_count": 24,
   "metadata": {
    "execution": {
     "iopub.execute_input": "2021-09-07T21:05:06.343173Z",
     "iopub.status.busy": "2021-09-07T21:05:06.340442Z",
     "iopub.status.idle": "2021-09-07T21:08:56.749119Z",
     "shell.execute_reply": "2021-09-07T21:08:56.748486Z"
    },
    "slideshow": {
     "slide_type": "-"
    }
   },
   "outputs": [
    {
     "name": "stdout",
     "output_type": "stream",
     "text": [
      "       START> DefineClones\r\n",
      "        FILE> data_ph_genotyped.tsv\r\n",
      "   SEQ_FIELD> junction\r\n",
      "     V_FIELD> v_call_genotyped\r\n",
      "     J_FIELD> j_call\r\n",
      " MAX_MISSING> 0\r\n",
      "GROUP_FIELDS> None\r\n",
      "      ACTION> set\r\n",
      "        MODE> gene\r\n",
      "    DISTANCE> 0.12\r\n",
      "     LINKAGE> single\r\n",
      "       MODEL> ham\r\n",
      "        NORM> len\r\n",
      "         SYM> avg\r\n",
      "       NPROC> 8\r\n",
      "\r\n",
      "PROGRESS> [Grouping sequences] 21:05:44 (64896) 0.5 min\r\n",
      "\r\n",
      "PROGRESS> [Assigning clones] 21:08:56 |####################| 100% (64,896) 3.7 min\r\n",
      "\r\n",
      " OUTPUT> data_ph_genotyped_clone-pass.tsv\r\n",
      " CLONES> 34470\r\n",
      "RECORDS> 64896\r\n",
      "   PASS> 64845\r\n",
      "   FAIL> 51\r\n",
      "    END> DefineClones\r\n",
      "\r\n"
     ]
    }
   ],
   "source": [
    "# assign clonal groups\n",
    "! DefineClones.py -d results/tigger/data_ph_genotyped.tsv --vf v_call_genotyped \\\n",
    "--model ham --norm len --dist {thr[0]} --format airr --nproc 8 \\\n",
    "--outname data_ph_genotyped --outdir results/changeo/"
   ]
  },
  {
   "cell_type": "markdown",
   "metadata": {
    "slideshow": {
     "slide_type": "subslide"
    }
   },
   "source": [
    "## Change-O: add full length germline sequences\n",
    "\n",
    "The next step is to identify the V(D)J germline sequences from which each of the observed sequences is derived. These germlines will be used in downstream analysis to infer somatic mutations and reconstruct lineages. `CreatGermlines.py` takes the alignment information in the Change-O file (`-d`) as well as the reference database used by the alignment software (`-r`) and generates a germline sequence for each individual observed sequence. \n",
    "\n",
    "If the argument `--cloned` is used, the function assigns the same germline to all sequences belonging to the same clone. `-g` is used to specify the type of germlines to be reconstructed. In this example, `-g dmask` is used to mask the D region, meaning that all nucleotides in the  N/P and D-segments are replaced with N's. This is often done because the germline base calls from this region are unreliable for B cell receptor alignments. \n",
    "\n",
    "At the end of this step, the data file will have the germline sequence in the `germline_alignment_d_mask` column."
   ]
  },
  {
   "cell_type": "code",
   "execution_count": 25,
   "metadata": {
    "execution": {
     "iopub.execute_input": "2021-09-07T21:08:56.767631Z",
     "iopub.status.busy": "2021-09-07T21:08:56.767147Z",
     "iopub.status.idle": "2021-09-07T21:09:38.093655Z",
     "shell.execute_reply": "2021-09-07T21:09:38.093117Z"
    },
    "slideshow": {
     "slide_type": "-"
    }
   },
   "outputs": [
    {
     "name": "stdout",
     "output_type": "stream",
     "text": [
      "      START> CreateGermlines\n",
      "       FILE> data_ph_genotyped_clone-pass.tsv\n",
      " GERM_TYPES> dmask\n",
      "  SEQ_FIELD> sequence_alignment\n",
      "    V_FIELD> v_call_genotyped\n",
      "    D_FIELD> d_call\n",
      "    J_FIELD> j_call\n",
      "     CLONED> True\n",
      "CLONE_FIELD> clone_id\n",
      "\n",
      "PROGRESS> 21:09:17 |Done                | 0.2 min\n",
      "\n",
      "PROGRESS> 21:09:37 |####################| 100% (64,845) 0.3 min\n",
      "\n",
      " OUTPUT> data_ph_genotyped_germ-pass.tsv\n",
      "RECORDS> 64845\n",
      "   PASS> 64841\n",
      "   FAIL> 4\n",
      "    END> CreateGermlines\n",
      "\n"
     ]
    }
   ],
   "source": [
    "%%bash\n",
    "CreateGermlines.py -d results/changeo/data_ph_genotyped_clone-pass.tsv \\\n",
    "-r /usr/local/share/germlines/imgt/human/vdj/*IGH[DJ].fasta results/tigger/v_genotype.fasta \\\n",
    "-g dmask --cloned --vf v_call_genotyped \\\n",
    "--format airr --outname data_ph_genotyped"
   ]
  },
  {
   "cell_type": "markdown",
   "metadata": {
    "slideshow": {
     "slide_type": "subslide"
    }
   },
   "source": [
    "## Alakazam: Analysis of clonal diversity\n",
    "\n",
    "*Gupta et al. (2015)*\n",
    "\n",
    "Once the database is annotated with clonal relationships (`clone_id`), the R package `alakazam` is used to analyze clonal diversity and abundance."
   ]
  },
  {
   "cell_type": "markdown",
   "metadata": {
    "slideshow": {
     "slide_type": "-"
    }
   },
   "source": [
    "### Load data and subset to IGHM, IGHG and IGHA\n",
    "\n",
    "The tab-delimited file is loaded with the function `read_rearrangement`. In this example, the analysis will focus separately on sequences with different isotypes. \n",
    "- The isotype for each sequences (IGHM, IGHG or IGHA) is in the `isotype` column.  \n",
    "- The function `subset` is used to keep only those sequences as part of the analysis."
   ]
  },
  {
   "cell_type": "code",
   "execution_count": 26,
   "metadata": {
    "execution": {
     "iopub.execute_input": "2021-09-07T21:09:38.097975Z",
     "iopub.status.busy": "2021-09-07T21:09:38.097506Z",
     "iopub.status.idle": "2021-09-07T21:09:38.462228Z",
     "shell.execute_reply": "2021-09-07T21:09:38.461723Z"
    },
    "slideshow": {
     "slide_type": "-"
    }
   },
   "outputs": [],
   "source": [
    "%%R\n",
    "# update names in alakazam’s default colors (IG_COLORS)\n",
    "names(IG_COLORS) <- c( \"IGHA\", \"IGHD\", \"IGHE\", \"IGHG\", \"IGHM\",\"IGHK\", \"IGHL\")\n",
    "\n",
    "# read in the file that passed cloning and germline creation\n",
    "db <- read_rearrangement(file.path(\"results\", \"changeo\", \"data_ph_genotyped_germ-pass.tsv\"))\n",
    "\n",
    "# subset data to IgA, IgG and IgM\n",
    "db <- subset(db, isotype %in% c(\"IGHA\", \"IGHG\", \"IGHM\"))"
   ]
  },
  {
   "cell_type": "markdown",
   "metadata": {
    "slideshow": {
     "slide_type": "subslide"
    }
   },
   "source": [
    "### Clonal abundance\n",
    "\n",
    "Clonal abundance is the size of each clone (as a fraction of the entire repertoire). `estimateAbundance` estimates the clonal abundance distribution along with confidence intervals on these clone sizes using bootstrapping. \n",
    "\n",
    "In this example, the abundance is analyzed by isotype (`group = \"isotype\"`). In the figure below, the y-axis shows the clone abundance (i.e., the size as a percent of the repertoire) and the x-axis is a rank of each clone, where the rank is sorted by size from larger (rank 1, left) to smaller (right). The shaded areas are confidence intervals. "
   ]
  },
  {
   "cell_type": "code",
   "execution_count": 27,
   "metadata": {
    "execution": {
     "iopub.execute_input": "2021-09-07T21:09:38.466603Z",
     "iopub.status.busy": "2021-09-07T21:09:38.466122Z",
     "iopub.status.idle": "2021-09-07T21:09:44.882530Z",
     "shell.execute_reply": "2021-09-07T21:09:44.881875Z"
    },
    "slideshow": {
     "slide_type": "-"
    }
   },
   "outputs": [
    {
     "data": {
      "image/png": "[encoded data removed]"
     },
     "metadata": {},
     "output_type": "display_data"
    }
   ],
   "source": [
    "%%R\n",
    "# calculate the rank-abundance curve\n",
    "a <- estimateAbundance(db, group = \"isotype\")\n",
    "plot(a, colors = IG_COLORS)"
   ]
  },
  {
   "cell_type": "markdown",
   "metadata": {
    "slideshow": {
     "slide_type": "subslide"
    }
   },
   "source": [
    "### Clonal diversity\n",
    "\n",
    "The clonal abundance distribution can be characterized using diversity statistics. Diversity scores (`D`) are calculated using the generalized diversity index (Hill numbers), which covers many different measures of diversity in a single function with a single varying parameter, the diversity order `q`.\n",
    "\n",
    "The function `alphaDiversity` resamples the sequences and calculates diversity scores (`D`) over a interval of diversity orders (`q`). The diversity (`D`) is shown on the y-axis and the x-axis is the parameter `q`. \n",
    "- `q = 0` corresponds to Species Richness\n",
    "- `q = 1` corresponds to Shannon Entropy\n",
    "- `q = 2` corresponds to Simpson Index\n",
    "\n",
    "Inspection of this figure is useful to determine whether any difference in diversity between two repertoires depends on the statistic used or if it is a universal property. For example, you can see that the blue curve is changing when you change `q`, whereas the  diversity of the green and red curves doesn't change significantly along values of `q`. "
   ]
  },
  {
   "cell_type": "code",
   "execution_count": 28,
   "metadata": {
    "execution": {
     "iopub.execute_input": "2021-09-07T21:09:44.887108Z",
     "iopub.status.busy": "2021-09-07T21:09:44.886635Z",
     "iopub.status.idle": "2021-09-07T21:09:54.285150Z",
     "shell.execute_reply": "2021-09-07T21:09:54.284742Z"
    },
    "slideshow": {
     "slide_type": "-"
    }
   },
   "outputs": [
    {
     "name": "stdout",
     "output_type": "stream",
     "text": [
      "|======================================================|100% ~0 s remaining     "
     ]
    },
    {
     "data": {
      "image/png": "[encoded data removed]"
     },
     "metadata": {},
     "output_type": "display_data"
    }
   ],
   "source": [
    "%%R\n",
    "# generate the Hill diversity curve\n",
    "d <- alphaDiversity(db, group = \"isotype\")\n",
    "p <- plot(d, silent = T)\n",
    "p + geom_vline(xintercept = c(0,1,2), color = \"grey50\", linetype = \"dashed\") + \n",
    "    geom_text(data = data.frame(q = c(0,1,2), y = round(max(p$data$d_upper)/2), \n",
    "              label = c(\"Richness\", \"Shannon\", \"Simpson\")), \n",
    "              aes(x = q, y = y,label = label), size = 3, angle = 90, vjust = -0.4, inherit.aes  =  F, color = \"grey50\")"
   ]
  },
  {
   "cell_type": "markdown",
   "metadata": {
    "slideshow": {
     "slide_type": "slide"
    }
   },
   "source": [
    "# Alakazam: Physicochemical properties of the CDR3\n",
    "\n",
    "CDR3 is the most variable region of the antibody sequence and its physicochemical properties are key contributors to antigen specificity. The function `aminoAcidProperties` in the `alakazam` R package can calculate several amino acid sequence physicochemical properties such as length, hydrophobicity (GRAVY index), bulkiness, polarity and net charge, among others. To obtain the CDR3, the junction sequence (specified by `seq = \"junction\"`), which is available in the form of a nucleotide sequence (`nt = T`), is trimmed to remove the first and last codon/amino acids before calculating the properties.\n",
    "\n",
    "The figure below, generated with standard `ggplot` commands, shows the distribution of the CDR3 amino acid length by isotype."
   ]
  },
  {
   "cell_type": "code",
   "execution_count": 29,
   "metadata": {
    "execution": {
     "iopub.execute_input": "2021-09-07T21:09:54.289050Z",
     "iopub.status.busy": "2021-09-07T21:09:54.288560Z",
     "iopub.status.idle": "2021-09-07T21:10:04.117475Z",
     "shell.execute_reply": "2021-09-07T21:10:04.116785Z"
    },
    "slideshow": {
     "slide_type": "-"
    }
   },
   "outputs": [
    {
     "data": {
      "image/png": "[encoded data removed]"
     },
     "metadata": {},
     "output_type": "display_data"
    }
   ],
   "source": [
    "%%R\n",
    "# calculate CDR3 amino acid properties\n",
    "db <- aminoAcidProperties(db, seq = \"junction\", nt = T, trim = T, label = \"cdr3\")\n",
    "# Plot\n",
    "ggplot(db, aes(x = isotype, y = cdr3_aa_length)) + theme_bw() +\n",
    "  ggtitle(\"CDR3 length\") + xlab(\"Isotype\") + ylab(\"Amino acids\") +\n",
    "  scale_fill_manual(name = \"Isotype\", values = IG_COLORS) +\n",
    "  geom_boxplot(aes(fill = isotype))"
   ]
  },
  {
   "cell_type": "markdown",
   "metadata": {
    "slideshow": {
     "slide_type": "slide"
    }
   },
   "source": [
    "# Alakazam: family, gene and allele usage\n",
    "\n",
    "The study of biases in gene usage is also of interest. The function `countGenes` from the `alakazam` R packages can determine the count and relative abundance of V, D and J at the level of alleles, genes, or families.\n",
    "\n",
    "## V family usage by isotype\n",
    "\n",
    "Here, `countGenes` counts V gene family usage (`mode = \"family\"`) by isotype (`groups = \"isotype\"`) using the V gene allele calls in the column `v_call_genotyped`. `--clone` specifies each clone will be considered only once, with the most common gene within the clone being used."
   ]
  },
  {
   "cell_type": "code",
   "execution_count": 30,
   "metadata": {
    "execution": {
     "iopub.execute_input": "2021-09-07T21:10:04.121420Z",
     "iopub.status.busy": "2021-09-07T21:10:04.120939Z",
     "iopub.status.idle": "2021-09-07T21:10:05.370496Z",
     "shell.execute_reply": "2021-09-07T21:10:05.370904Z"
    },
    "slideshow": {
     "slide_type": "-"
    }
   },
   "outputs": [
    {
     "name": "stdout",
     "output_type": "stream",
     "text": [
      "# A tibble: 3 × 2\n",
      "  isotype total\n",
      "  <chr>   <dbl>\n",
      "1 IGHA        1\n",
      "2 IGHG        1\n",
      "3 IGHM        1\n"
     ]
    }
   ],
   "source": [
    "%%R\n",
    "# V family usage by isotype\n",
    "# \"clone\" specifies to consider one gene per clone_id,\n",
    "# the most common gene within each clone\n",
    "usage_fam_iso <- countGenes(db, gene = \"v_call_genotyped\", groups = \"isotype\", clone = \"clone_id\", mode = \"family\")\n",
    "# groups = \"isotype\", then usage by isotype sums 1\n",
    "usage_fam_iso %>% group_by(isotype) %>% summarize(total = sum(clone_freq))"
   ]
  },
  {
   "cell_type": "code",
   "execution_count": 31,
   "metadata": {
    "execution": {
     "iopub.execute_input": "2021-09-07T21:10:05.374322Z",
     "iopub.status.busy": "2021-09-07T21:10:05.373897Z",
     "iopub.status.idle": "2021-09-07T21:10:05.691442Z",
     "shell.execute_reply": "2021-09-07T21:10:05.690769Z"
    },
    "slideshow": {
     "slide_type": "-"
    }
   },
   "outputs": [
    {
     "data": {
      "image/png": "[encoded data removed]"
     },
     "metadata": {},
     "output_type": "display_data"
    }
   ],
   "source": [
    "%%R\n",
    "ggplot(usage_fam_iso, aes(x = isotype, y = clone_freq)) + \n",
    "geom_point(aes(color = isotype), size = 4) +\n",
    "scale_fill_manual(name = \"Isotype\", values = IG_COLORS) + \n",
    "facet_wrap(~gene, nrow = 1) +\n",
    "theme_bw() + ggtitle(\"V Family usage by isotype\") +\n",
    "ylab(\"Percent of repertoire\") + xlab(\"Isotype\")\n"
   ]
  },
  {
   "cell_type": "markdown",
   "metadata": {
    "slideshow": {
     "slide_type": "slide"
    }
   },
   "source": [
    "# Alakazam: lineage reconstruction\n",
    "\n",
    "Hoehn et al. (2019)\n",
    "\n",
    "B cell repertoires often consist of hundreds to thousands of separate clones. A clonal lineage recapitulates the ancestor-descendant relationships between clonally-related B cells and uncovering these relationships can provide insights into affinity maturation. The R package `alakazam` uses PHYLIP to reconstruct lineages following a maximum parsimony technique. PHYLIP is already installed in the Immcantation container.\n",
    "\n",
    "Before performing lineage reconstruction, some preprocessing in needed. The code below shows an example of such preprocessing done for one of the largest clones in the example dataset. The function `makeChangeoClone` takes as input a data.frame with information for a clone (`db_clone`). `text_fields = \"isotype\"` specifies that annotation in the column `isotype` should be merged during duplicate removal. For example, if two duplicate sequences (defined by identical nucleotide composition) are found, and one is annotated as IGHM and the second one is an IGHG, then they will be \"collapsed\" into a single sequence that will have the `isotype` value \"IGHM,IGHG\". The preprocessing done by `makeChangeoClone` also includes masking gap positions and masking ragged ends."
   ]
  },
  {
   "cell_type": "code",
   "execution_count": 32,
   "metadata": {
    "execution": {
     "iopub.execute_input": "2021-09-07T21:10:05.696357Z",
     "iopub.status.busy": "2021-09-07T21:10:05.695898Z",
     "iopub.status.idle": "2021-09-07T21:10:06.160326Z",
     "shell.execute_reply": "2021-09-07T21:10:06.159867Z"
    },
    "slideshow": {
     "slide_type": "-"
    }
   },
   "outputs": [],
   "source": [
    "%%R\n",
    "# Select one clone, the 2nd largest, just as an example\n",
    "largest_clone <- countClones(db) %>% slice(2) %>% select(clone_id) %>% as.character()\n",
    "# Subset db, get db with data for largest_clone\n",
    "db_clone <- subset(db, clone_id == largest_clone)\n",
    "# Build tree from a single clone\n",
    "x <- makeChangeoClone(db_clone, v_call = \"v_call_genotyped\", text_fields = \"isotype\")"
   ]
  },
  {
   "cell_type": "markdown",
   "metadata": {
    "slideshow": {
     "slide_type": "slide"
    }
   },
   "source": [
    "Lineage reconstruction is done with `buildPhylipLineage`. This function uses the `dnapars` tool from PHYLIP, which in the container is located at `/usr/local/bin/dnapars`, to build the lineage, and returns an `igraph` object. This object can be quickly visualized with the command `plot`. It is possible to use `igraph` or other tools to resize nodes (e.g., by the underlying sequence count) or add colors (e.g., to indicate tissue location of B cell subsets) to help answer specific biological questions."
   ]
  },
  {
   "cell_type": "code",
   "execution_count": 33,
   "metadata": {
    "execution": {
     "iopub.execute_input": "2021-09-07T21:10:06.164657Z",
     "iopub.status.busy": "2021-09-07T21:10:06.164147Z",
     "iopub.status.idle": "2021-09-07T21:10:06.304548Z",
     "shell.execute_reply": "2021-09-07T21:10:06.304019Z"
    },
    "slideshow": {
     "slide_type": "-"
    }
   },
   "outputs": [
    {
     "data": {
      "image/png": "[encoded data removed]"
     },
     "metadata": {},
     "output_type": "display_data"
    }
   ],
   "source": [
    "%%R\n",
    "# Lineage reconstruction\n",
    "g <- buildPhylipLineage(x, phylip_exec = \"/usr/local/bin/dnapars\")\n",
    "suppressPackageStartupMessages(library(igraph))\n",
    "plot(g)"
   ]
  },
  {
   "cell_type": "markdown",
   "metadata": {
    "slideshow": {
     "slide_type": "subslide"
    }
   },
   "source": [
    "# Alakazam: lineage topology analysis\n",
    "\n",
    "`alakazam` has several functions to analyze the reconstructed lineage. `getMRCA` retrieves the first non-root node of a lineage tree, which is the Most Recent Common Ancestor (MRCA) for all the sequences in the clone. `getpathlength` calculates all the path lengths (in terms of the number of point mutations) from the tree root to all individual sequences. `summarizeSubtrees` calculates summary statistics for each node of a tree (node name, name of the parent node, number of edges leading from the node, total number of nodes within the subtree rooted at the node...). `tableEdges` creates a table of the total number of connections (edges) for each unique pair of annotations within a tree over all nodes."
   ]
  },
  {
   "cell_type": "code",
   "execution_count": 34,
   "metadata": {
    "execution": {
     "iopub.execute_input": "2021-09-07T21:10:06.308792Z",
     "iopub.status.busy": "2021-09-07T21:10:06.308075Z",
     "iopub.status.idle": "2021-09-07T21:10:06.337900Z",
     "shell.execute_reply": "2021-09-07T21:10:06.336978Z"
    },
    "slideshow": {
     "slide_type": "-"
    }
   },
   "outputs": [
    {
     "name": "stdout",
     "output_type": "stream",
     "text": [
      "               name\n",
      "Inferred1 Inferred1\n",
      "                                                                                                                                                                                                                                                                                                                                                                                                                    sequence\n",
      "Inferred1 GAGGTGCAGCTGGTGGACTCTGGGGGANNNGGCTTGGTCCAGCCTGGGGGGTCCCTGAGTCTCTCCTGTGAAGCCTCTGGATTCACCTTTNNNNNNNNNNNNAGTAACTATTGGATGACCTGGGTCCGCCAGGCTCCAGGGAAGAGGCTGGAGTTGGTGGCCAACATAAGGCATGATNNNNNNGGAAGTGAGACAAACTATGTGGACTCTGTGAAGNNNGGCCGATTCACCATCTCCAGAGACAACGCCAAGAACTCACTATATTTGCAAATGAACAGCCTTAGAGCCGAGGACACGGCAGTATATTATTGTGCGAAGCATAGAACTAGCCGCTATACATCGGGACATAATTACGSATACATGGACCTCTGGGGCAAAGGGACCACGGTCATCGTCTCCTCA\n",
      "          isotype collapse_count     label steps distance\n",
      "Inferred1    <NA>             NA Inferred1     1       22\n"
     ]
    }
   ],
   "source": [
    "%%R\n",
    "# Retrieve the most ancestral sequence\n",
    "getMRCA(g, root=\"Germline\")"
   ]
  },
  {
   "cell_type": "code",
   "execution_count": 35,
   "metadata": {
    "execution": {
     "iopub.execute_input": "2021-09-07T21:10:06.341274Z",
     "iopub.status.busy": "2021-09-07T21:10:06.340844Z",
     "iopub.status.idle": "2021-09-07T21:10:06.390856Z",
     "shell.execute_reply": "2021-09-07T21:10:06.390383Z"
    },
    "slideshow": {
     "slide_type": "-"
    }
   },
   "outputs": [
    {
     "name": "stdout",
     "output_type": "stream",
     "text": [
      "Selecting by distance\n",
      "      name steps distance\n",
      "1 seq53666     4       51\n",
      "2 seq62203     4       43\n"
     ]
    }
   ],
   "source": [
    "%%R\n",
    "# Calculate distance from germline\n",
    "getPathLengths(g, root=\"Germline\") %>% top_n(2)"
   ]
  },
  {
   "cell_type": "code",
   "execution_count": 36,
   "metadata": {
    "execution": {
     "iopub.execute_input": "2021-09-07T21:10:06.394340Z",
     "iopub.status.busy": "2021-09-07T21:10:06.393898Z",
     "iopub.status.idle": "2021-09-07T21:10:06.433453Z",
     "shell.execute_reply": "2021-09-07T21:10:06.429425Z"
    },
    "slideshow": {
     "slide_type": "-"
    }
   },
   "outputs": [
    {
     "name": "stdout",
     "output_type": "stream",
     "text": [
      "Selecting by pathlength_norm\n",
      "       name isotype   parent outdegree size depth pathlength outdegree_norm\n",
      "1 Inferred1    <NA> Germline         2   25     6         29           0.08\n",
      "2  Germline    <NA>     <NA>         1   26     7         51           0.04\n",
      "  size_norm depth_norm pathlength_norm\n",
      "1 0.9615385  0.8571429       0.5686275\n",
      "2 1.0000000  1.0000000       1.0000000\n"
     ]
    }
   ],
   "source": [
    "%%R\n",
    "# Calculate subtree properties\n",
    "summarizeSubtrees(g, fields=\"isotype\") %>% top_n(2)"
   ]
  },
  {
   "cell_type": "code",
   "execution_count": 37,
   "metadata": {
    "execution": {
     "iopub.execute_input": "2021-09-07T21:10:06.437272Z",
     "iopub.status.busy": "2021-09-07T21:10:06.436612Z",
     "iopub.status.idle": "2021-09-07T21:10:06.459555Z",
     "shell.execute_reply": "2021-09-07T21:10:06.459969Z"
    },
    "slideshow": {
     "slide_type": "-"
    }
   },
   "outputs": [
    {
     "name": "stdout",
     "output_type": "stream",
     "text": [
      "# A tibble: 3 × 3\n",
      "# Groups:   parent [2]\n",
      "  parent    child     count\n",
      "  <chr>     <chr>     <int>\n",
      "1 IGHA,IGHG IGHG         12\n",
      "2 IGHG      IGHA,IGHG     1\n",
      "3 IGHG      IGHG          3\n"
     ]
    }
   ],
   "source": [
    "%%R\n",
    "# Tabulate isotype edge relationships\n",
    "tableEdges(g, \"isotype\", exclude=c(\"Germline\", NA))"
   ]
  },
  {
   "cell_type": "markdown",
   "metadata": {
    "cell_style": "center",
    "slideshow": {
     "slide_type": "slide"
    }
   },
   "source": [
    "# SHazaM: mutational load\n",
    "\n",
    "B cell repertoires differ in the number of mutations introduced during somatic hypermutation (SHM). The `shazam` R package provides a wide array of methods focused on the analysis of SHM, including the reconstruction of SHM targeting models and quantification of selection pressure.\n",
    "\n",
    "Having identified the germline sequence (`germline_alignment_d_mask`) in previous steps, we first identify the set of somatic hypermutations by comparing the observed sequence (`sequence_alignment`) to the germline sequence. `observedMutations` is next used to quantify the mutational load of each sequence using either absolute counts (`frequency=F`) or as a frequency (the number of mutations divided by the number of informative positions (`frequency=T`). Each mutation can be defined as either a replacement mutation (R, or non-synonymous mutation, which changes the amino acid sequence) or a silent mutation (S, or synonymous mutation, which does not change the amino acid sequence). R and S mutations can be counted together (`conmbine=T`) or independently (`combine=F`). Counting can be limited to mutations occurring within a particular region of the sequence (for example, to focus on the V region `regionDefinition=IMGT_V`) or use the whole sequence (`regionDefinition=NULL`).\n",
    "\n",
    "Standard `ggplot` commands can be used to generate boxplots to visualize the distribution of mutation counts across sequences, which are found in the column `mu_count` that `observedMutations` added to `db`."
   ]
  },
  {
   "cell_type": "code",
   "execution_count": 38,
   "metadata": {
    "execution": {
     "iopub.execute_input": "2021-09-07T21:10:06.464070Z",
     "iopub.status.busy": "2021-09-07T21:10:06.463392Z",
     "iopub.status.idle": "2021-09-07T21:11:10.198461Z",
     "shell.execute_reply": "2021-09-07T21:11:10.197934Z"
    },
    "slideshow": {
     "slide_type": "-"
    }
   },
   "outputs": [
    {
     "data": {
      "image/png": "[encoded data removed]"
     },
     "metadata": {},
     "output_type": "display_data"
    }
   ],
   "source": [
    "%%R\n",
    "# Calculate total mutation count, R and S combined\n",
    "db <- observedMutations(db,\n",
    "            sequenceColumn=\"sequence_alignment\", \n",
    "            germlineColumn=\"germline_alignment_d_mask\",\n",
    "            regionDefinition=NULL, frequency=F, combine = T, nproc=4)\n",
    "ggplot(db, aes(x=isotype, y=mu_count, fill=isotype)) +\n",
    "geom_boxplot() +\n",
    "scale_fill_manual(name=\"Isotype\",values=IG_COLORS) +\n",
    "xlab(\"Isotype\") + ylab(\"Mutation count\") + theme_bw()"
   ]
  },
  {
   "cell_type": "markdown",
   "metadata": {
    "cell_style": "center",
    "slideshow": {
     "slide_type": "slide"
    }
   },
   "source": [
    "# SHazaM: models of SHM targeting biases\n",
    "Yaari et al. (2013)\n",
    "\n",
    "SHM is a stochastic process, but does not occur uniformly across the V(D)J sequence. Some nucleotide motifs (i.e., hot-spots) are targeted more frequently than others (i.e., cold-spots). These intrinsic biases are modeled using 5-mer nucleotide motifs. For each 5-mer (e.g., ATCTA), a SHM mutability model provides the relative likelihood for the center base (e.g., the C in ATCTA) to be mutated. As associated substitution model provides the relative probabilities of the center base in a 5-mer mutating to each of the other 3 bases. There are several pre-built SHM targeting models included in `shazam` which have been constructed based on experimental datasets. These include models for human and mouse, and for both light and heavy chains. In addition, `shazam` provides the `createTargetingModel` method to generate new SHM targeting models from user-supplied sequencing data.\n",
    "![](assets/5mer.png)\n",
    "The resulting model can be visualized as a hedgehog plot with `plotMutability`. In this visualization, 5-mers that belong to classically-defined SHM hot-spot motifs (e.g., WRC) are shown in red and green, cold-spot motifs in blue, and other motifs (i.e., neutral) in grey. The bars radiating outward are the relative mutabilities of each 5-mer. The middle circle is the central nucleotide being targeted for SHM, here shown by a green circle on the left plot (nucleotide A) and an orange circle on the right plot (nucleotide C). Moving from the center of the circle outward covers the 5-mer nucleotide motif (5' to 3'). As expected, higher relative mutation rates are observed at hot-spot motifs."
   ]
  },
  {
   "cell_type": "code",
   "execution_count": 39,
   "metadata": {
    "execution": {
     "iopub.execute_input": "2021-09-07T21:11:10.202123Z",
     "iopub.status.busy": "2021-09-07T21:11:10.201506Z",
     "iopub.status.idle": "2021-09-07T21:27:07.896850Z",
     "shell.execute_reply": "2021-09-07T21:27:07.896353Z"
    },
    "slideshow": {
     "slide_type": "-"
    }
   },
   "outputs": [
    {
     "data": {
      "image/png": "[encoded data removed]"
     },
     "metadata": {},
     "output_type": "display_data"
    }
   ],
   "source": [
    "%%R\n",
    "# Build and plot SHM targeting model\n",
    "m <- createTargetingModel(db, vCallColumn=\"v_call_genotyped\")\n",
    "# nucleotides: center nucleotide characters to plot\n",
    "plotMutability(m, nucleotides=c(\"A\",\"C\"), size=1.2)"
   ]
  },
  {
   "cell_type": "markdown",
   "metadata": {
    "cell_style": "center",
    "slideshow": {
     "slide_type": "slide"
    }
   },
   "source": [
    "# SHazaM: quantification of selection pressure\n",
    "\n",
    "Yaari et al. (2012)\n",
    "\n",
    "During T-cell dependent adaptive immune responses, B cells undergo cycles of SHM and affinity-dependent selection that leads to the accumulatation of mutations that improve their ability to bind antigens. The ability to estimate selection pressure from sequence data is of interest to understand the events driving physiological and pathological immune responses. `shazam` incorporates the Bayesian estimation of Antigen-driven SELectIoN (BASELINe) framework, to detect and quantify selection pressure, based on the analysis of somatic hypermutation patterns. Briefly, `calcBaseline` analyzes the observed frequency of replacement and silent mutations normalized by their expectated frequency based on a targeting model, and generates a probability density function (PDF) for the selection strength ($\\sum$). This PDF can be used to statistically test for the occurrence of selection, as well as compare selection strength across conditions. An increased frequency of R mutations ($\\sum>0$) suggests positive selection, and a decreased frequency of R mutations ($\\sum<0$) points towards negative selection .\n",
    "<br><br>\n",
    "<div style=\"float:left; margin-right:2em\">\n",
    "    \n",
    "$\\sum \\equiv log  \\frac{\\pi/(1-\\pi)}{\\hat{\\pi}/(1-\\hat{\\pi})}$ \n",
    "</div>\n",
    "<div>\n",
    "positive Σ: Replacement frequency higher than expected\n",
    "\n",
    "negative Σ: Replacement frequency lower than expected\n",
    "</div>"
   ]
  },
  {
   "cell_type": "markdown",
   "metadata": {
    "cell_style": "center",
    "slideshow": {
     "slide_type": "slide"
    }
   },
   "source": [
    "The somatic hypermutations that are observed in clonally-related sequences are not independent events. In order to generate a set of independent SHM events, selection pressure analysis starts by collapsing each clone to one representative sequence (with its associated germline) using the function `collapseClones`. Next `calcBaseline` takes each representative sequences and calculates the selection pressure. The analysis can be focused on a particular region, the V region (`regionDefinition=IMGT_V`) in the example below. Because selection pressure may act differently across the BCR, we may also be interested to evaluate the selection strength for different regions such as the Complementary Determining Regions (CDR) or Framework Regions (FWR) separately. Selection strength can also be calculated separately for different isotopes or subjects. This can be done with `groupbaseline`, which convolves the PDFs from individual sequences into a single PDF representing the group of sequences (e.g., all IgG sequences). \n",
    "\n",
    "\n",
    "These PDF can be visualized with `plot`. FWR are critical to maintenance the overall structure of the BCR and typically have a lower observed selection strength, because mutations that alter the amino acid sequence are often negatively selected. CDRs are the areas of the BCR that generally bind to the antigen and may be subject to increased selection strength, although this can depend on the point in affinity maturation when the sequence is observed. In the example, negative selection is observed in the FWR, and almost no selection is observed in the CDR. In both CDR and FWR, sequences annotated with IGHM isotype show more positive selection strength than sequences annotated with IGHG and IGHA."
   ]
  },
  {
   "cell_type": "code",
   "execution_count": 40,
   "metadata": {
    "execution": {
     "iopub.execute_input": "2021-09-07T21:27:07.900311Z",
     "iopub.status.busy": "2021-09-07T21:27:07.899882Z",
     "iopub.status.idle": "2021-09-07T21:31:35.066468Z",
     "shell.execute_reply": "2021-09-07T21:31:35.065928Z"
    },
    "slideshow": {
     "slide_type": "-"
    }
   },
   "outputs": [
    {
     "name": "stderr",
     "output_type": "stream",
     "text": [
      "R[write to console]: calcBaseline will calculate observed and expected mutations for clonal_sequence using clonal_germline as a reference.\n",
      "\n"
     ]
    },
    {
     "name": "stdout",
     "output_type": "stream",
     "text": [
      "Calculating BASELINe probability density functions...\n",
      "Grouping BASELINe probability density functions...\n",
      "Calculating BASELINe statistics...\n"
     ]
    },
    {
     "data": {
      "image/png": "[encoded data removed]"
     },
     "metadata": {},
     "output_type": "display_data"
    }
   ],
   "source": [
    "%%R\n",
    "# Calculate clonal consensus and selection using the BASELINe method\n",
    "z <- collapseClones(db)\n",
    "b <- calcBaseline(z, regionDefinition=IMGT_V)\n",
    "# Combine selection scores for all clones in each group\n",
    "g <- groupBaseline(b, groupBy=\"isotype\")\n",
    "# Plot probability densities for the selection pressure\n",
    "plot(g, \"isotype\", sigmaLimits=c(-1, 1), silent=F)"
   ]
  },
  {
   "cell_type": "markdown",
   "metadata": {
    "cell_style": "center",
    "slideshow": {
     "slide_type": "slide"
    }
   },
   "source": [
    "# SHazaM: Built in mutation models\n",
    "\n",
    "`shazam` comes with serveral pre-built targeting models, mutation models and sequence region definitions. They can be used to change the default behaviour of many functions. For example, mutations are usually defined as R when they introduce any change in the amino acid sequence (`NULL`). However, for some analyses, it may be useful to consider some amino acid substitutions to be equivalent (i.e., treated as silent mutations). For example, it is possible to define replacement mutations as only those that introduce a change in the amino acid side chain charge (`CHARGE_MUTATIONS`).\n",
    "\n",
    "Empirical SHM Targeting Models\n",
    "\n",
    "- HH_S5F: Human heavy chain 5-mer model\n",
    "\n",
    "- HKL_S5F: Human light chain 5-mer model\n",
    "\n",
    "- MK_RS5NF: Mouse light chain 5-mer model\n",
    "\n",
    "Mutation Definitions\n",
    "\n",
    "- NULL: Any mutation that results in an amino acid substitution is considered a replacement (R) mutation.\n",
    "\n",
    "- CHARGE_MUTATIONS:  Only mutations that alter side chain charge are replacements.\n",
    "\n",
    "- HYDOPATHY_MUTATIONS: Only mutations that alter hydrophobicity class are replacements.\n",
    "\n",
    "- POLARITY_MUTATIONS: Only mutations that alter polarity are replacements.\n",
    "\n",
    "- VOLUME_MUTATIONS: Only mutations that alter volume class are replacements.\n",
    "\n",
    "Sequence Region Definitions\n",
    "\n",
    "- NULL:  Full sequence\n",
    "\n",
    "- IMGT_V:  V segment broken into combined CDRs and FWRs\n",
    "\n",
    "- IMGT_V_BY_REGIONS: V segment broken into individual CDRs and FWRs\n"
   ]
  },
  {
   "cell_type": "markdown",
   "metadata": {
    "cell_style": "center",
    "slideshow": {
     "slide_type": "slide"
    }
   },
   "source": [
    "# References\n",
    "\n",
    "Gadala-Maria,D. et al. (2019) Identification of subject-specific\n",
    "immunoglobulin alleles from expressed repertoire sequencing data. Frontiers\n",
    "in Immunology, 10, 129.\n",
    "\n",
    "Gadala-Maria,D. et al. (2015) Automated analysis of high-throughput b-cell\n",
    "sequencing data reveals a high frequency of novel immunoglobulin v gene\n",
    "segment alleles. Proceedings of the National Academy of Sciences,\n",
    "201417683.\n",
    "\n",
    "Gupta,N.T. et al. (2017) Hierarchical clustering can identify b cell clones\n",
    "with high confidence in ig repertoire sequencing data. The Journal of\n",
    "Immunology, 1601850.\n",
    "\n",
    "Gupta,N.T. et al. (2015) Change-o: A toolkit for analyzing large-scale b cell\n",
    "immunoglobulin repertoire sequencing data. Bioinformatics, 31, 3356–3358.\n",
    "\n",
    "Hoehn, K. B. et al. (2019) Repertoire-wide phylogenetic models of B cell molecular evolution reveal evolutionary signatures of aging and vaccination. PNAS 201906020.\n",
    "\n",
    "Laserson,U. et al. (2014) High-resolution antibody dynamics of\n",
    "vaccine-induced immune responses. Proc. Natl. Acad. Sci. U.S.A., 111,\n",
    "4928–4933.\n",
    "\n",
    "Nouri,N. and Kleinstein,S.H. (2018a) A spectral clustering-based method\n",
    "for identifying clones from high-throughput b cell repertoire sequencing data.\n",
    "Bioinformatics, 34, i341–i349.\n",
    "\n",
    "Nouri,N. and Kleinstein,S.H. (2018b) Optimized threshold inference for\n",
    "partitioning of clones from high-throughput b cell repertoire sequencing\n",
    "data. Frontiers in immunology, 9.\n",
    "\n",
    "Stern,J.N. et al. (2014) B cells populating the multiple sclerosis brain\n",
    "mature in the draining cervical lymph nodes. Science translational medicine,\n",
    "6, 248ra107–248ra107.\n",
    "\n",
    "Vander Heiden,J.A. et al. (2017) Dysregulation of b cell repertoire\n",
    "formation in myasthenia gravis patients revealed through deep sequencing.\n",
    "The Journal of Immunology, 1601415.\n",
    "\n",
    "Yaari,G. et al. (2012) Quantifying selection in high-throughput\n",
    "immunoglobulin sequencing data sets. Nucleic acids research, 40,\n",
    "e134–e134.\n",
    "\n",
    "Yaari,G. et al. (2013) Models of somatic hypermutation targeting and\n",
    "substitution based on synonymous mutations from high-throughput\n",
    "immunoglobulin sequencing data. Frontiers in immunology, 4, 358.\n"
   ]
  }
 ],
 "metadata": {
  "celltoolbar": "Slideshow",
  "kernelspec": {
   "display_name": "Python 3",
   "language": "python",
   "name": "python3"
  },
  "language_info": {
   "codemirror_mode": {
    "name": "ipython",
    "version": 3
   },
   "file_extension": ".py",
   "mimetype": "text/x-python",
   "name": "python",
   "nbconvert_exporter": "python",
   "pygments_lexer": "ipython3",
   "version": "3.9.5"
  }
 },
 "nbformat": 4,
 "nbformat_minor": 4
}
